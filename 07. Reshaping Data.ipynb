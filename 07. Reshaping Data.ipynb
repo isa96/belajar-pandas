{
  "nbformat": 4,
  "nbformat_minor": 0,
  "metadata": {
    "colab": {
      "name": "07. Reshaping Data.ipynb",
      "provenance": [],
      "collapsed_sections": [
        "dI9IAMvGMzzw"
      ]
    },
    "kernelspec": {
      "name": "python3",
      "display_name": "Python 3"
    }
  },
  "cells": [
    {
      "cell_type": "markdown",
      "metadata": {
        "id": "4t2yHAu9Dq9w"
      },
      "source": [
        "<a href=\"https://colab.research.google.com/github/nurimammasri/Wooky-Pandas/blob/master/07.%20Reshaping%20Data.ipynb\" target=\"_parent\"><img src=\"https://colab.research.google.com/assets/colab-badge.svg\" alt=\"Open In Colab\"/></a>"
      ]
    },
    {
      "cell_type": "markdown",
      "metadata": {
        "id": "L1czhkYtBwgr"
      },
      "source": [
        "# **Introduction**\n",
        "Dalam beberapa kasus kita perlu melakukan reshaping terhadap data untuk mengubah data yang ‘tidy’ menjadi data yang lebih relevan dan lebih optimal untuk di jadikan bahan analisis.\n",
        "\n",
        "Ada beberapa teknik reshaping data di pandas, beberapa diantaranya yang akan dijelaskan dalam artikel ini adalah Pivoting dan Melting.\n"
      ]
    },
    {
      "cell_type": "markdown",
      "metadata": {
        "id": "E16wdxcpCBBm"
      },
      "source": [
        "# **Pivoting (Rows -> Columns)**\n",
        "![reshaping_data_pivot.png](https://raw.githubusercontent.com/nurimammasri/Wooky-Pandas/master/Images/reshaping_data_pivot.png)\n",
        "\n",
        "[Pandas Dokumentation](https://pandas.pydata.org/docs/user_guide/reshaping.html#reshaping-by-pivoting-dataframe-objects)"
      ]
    },
    {
      "cell_type": "markdown",
      "metadata": {
        "id": "mhLiv8DpCXmJ"
      },
      "source": [
        "Pivoting adalah suatu pengubahan bentuk data dengan memutar data yang terletak di baris menjadi di column. coba perhatikan gambar di atas.\n",
        "\n",
        "Kita juga dapat mengatakan pivoting tabel adalah melakukan perubahan pada bentuk data dari yang tadinya panjang menjadi lebar.\n",
        "\n",
        "Ada beberapa metode untuk melakukan pivoting di pandas, yaitu `pivot() dan pivot_table()`, namun metode yang bagus adalah pivot_table(), oleh karena itu di artikel ini akan di tunjukan contoh melakukan perubahan bentuk data dengan metode pivot.\n"
      ]
    },
    {
      "cell_type": "markdown",
      "metadata": {
        "id": "ej6acEE5DxOS"
      },
      "source": [
        "## **Menggunakan .pivot()**\n",
        "\n",
        "`df.pivot(index=None, columns=None, values=None)` -> 'DataFrame'\n",
        "\n",
        "Parameters\n",
        "\n",
        "..............\n",
        "\n",
        "\n",
        "*   `index` : str or object, optional\n",
        "\n",
        "Column to use to make new frame's index. If None, uses existing index.\n",
        "\n",
        "*   `columns` : str or object\n",
        "\n",
        "Column to use to make new frame's columns. not duplicate value on pivoting.\n",
        "\n",
        "*   `values` : str, object or a list of the previous, optional\n",
        "\n",
        "Column(s) to use for populating new frame's values. If not specified, all remaining columns will be used and the result will have hierarchically indexed columns.\n",
        "    "
      ]
    },
    {
      "cell_type": "code",
      "metadata": {
        "id": "VUu5Hsnkl8HZ"
      },
      "source": [
        "import pandas as pd\n",
        "df = pd.DataFrame()"
      ],
      "execution_count": null,
      "outputs": []
    },
    {
      "cell_type": "code",
      "metadata": {
        "id": "j_EtEOrRDV2A"
      },
      "source": [
        "df.pivot?"
      ],
      "execution_count": null,
      "outputs": []
    },
    {
      "cell_type": "markdown",
      "metadata": {
        "id": "1fEDmJkhFsht"
      },
      "source": [
        "**Type Syntex Pivoting**\n",
        "\n",
        "wajib parameter 'index' and 'columns'\n",
        "> df.pivot(index=' ', columns=' ')\n",
        "\n",
        "catatan : maka nilai value adalah selain dari nilai index dan column\n",
        "\n",
        "> df.pivot(index=' ', columns=' ', value=[ , , ])\n",
        "\n",
        "> df.pivot(index=' ', columns=' ')[ , , ]\n",
        "\n",
        "catatan : [ , , ] boleh memilih banyak values\n",
        "\n",
        "Untuk simplicity, kita akan menggunakan data buatan. misalkan kita mempunyai data seperti yang ada pada gambar diatas\n"
      ]
    },
    {
      "cell_type": "code",
      "metadata": {
        "id": "_EyyJv2ncjyR",
        "colab": {
          "base_uri": "https://localhost:8080/"
        },
        "outputId": "3e971ff7-e267-4cb1-fd54-cd2eea8147fe"
      },
      "source": [
        "import pandas as pd\n",
        "data = {\n",
        "    'foo' : ['one']*3 + ['two']*3,\n",
        "    'bar' : ['A', 'B', 'C', 'A', 'B', 'C'],\n",
        "    'baz' : [1, 2, 3, 4, 5, 6],\n",
        "    'zoo' : ['x', 'y', 'z', 'q', 'w', 't']\n",
        "}\n",
        "df = pd.DataFrame(data)\n",
        "print(df)"
      ],
      "execution_count": null,
      "outputs": [
        {
          "output_type": "stream",
          "text": [
            "   foo bar  baz zoo\n",
            "0  one   A    1   x\n",
            "1  one   B    2   y\n",
            "2  one   C    3   z\n",
            "3  two   A    4   q\n",
            "4  two   B    5   w\n",
            "5  two   C    6   t\n"
          ],
          "name": "stdout"
        }
      ]
    },
    {
      "cell_type": "code",
      "metadata": {
        "id": "t1jtXBvrIMPX",
        "colab": {
          "base_uri": "https://localhost:8080/",
          "height": 166
        },
        "outputId": "d82f8ff5-0a57-4cd8-8069-7ce59ff31e2b"
      },
      "source": [
        "df.pivot(index='foo', columns='bar')"
      ],
      "execution_count": null,
      "outputs": [
        {
          "output_type": "execute_result",
          "data": {
            "text/html": [
              "<div>\n",
              "<style scoped>\n",
              "    .dataframe tbody tr th:only-of-type {\n",
              "        vertical-align: middle;\n",
              "    }\n",
              "\n",
              "    .dataframe tbody tr th {\n",
              "        vertical-align: top;\n",
              "    }\n",
              "\n",
              "    .dataframe thead tr th {\n",
              "        text-align: left;\n",
              "    }\n",
              "\n",
              "    .dataframe thead tr:last-of-type th {\n",
              "        text-align: right;\n",
              "    }\n",
              "</style>\n",
              "<table border=\"1\" class=\"dataframe\">\n",
              "  <thead>\n",
              "    <tr>\n",
              "      <th></th>\n",
              "      <th colspan=\"3\" halign=\"left\">baz</th>\n",
              "      <th colspan=\"3\" halign=\"left\">zoo</th>\n",
              "    </tr>\n",
              "    <tr>\n",
              "      <th>bar</th>\n",
              "      <th>A</th>\n",
              "      <th>B</th>\n",
              "      <th>C</th>\n",
              "      <th>A</th>\n",
              "      <th>B</th>\n",
              "      <th>C</th>\n",
              "    </tr>\n",
              "    <tr>\n",
              "      <th>foo</th>\n",
              "      <th></th>\n",
              "      <th></th>\n",
              "      <th></th>\n",
              "      <th></th>\n",
              "      <th></th>\n",
              "      <th></th>\n",
              "    </tr>\n",
              "  </thead>\n",
              "  <tbody>\n",
              "    <tr>\n",
              "      <th>one</th>\n",
              "      <td>1</td>\n",
              "      <td>2</td>\n",
              "      <td>3</td>\n",
              "      <td>x</td>\n",
              "      <td>y</td>\n",
              "      <td>z</td>\n",
              "    </tr>\n",
              "    <tr>\n",
              "      <th>two</th>\n",
              "      <td>4</td>\n",
              "      <td>5</td>\n",
              "      <td>6</td>\n",
              "      <td>q</td>\n",
              "      <td>w</td>\n",
              "      <td>t</td>\n",
              "    </tr>\n",
              "  </tbody>\n",
              "</table>\n",
              "</div>"
            ],
            "text/plain": [
              "    baz       zoo      \n",
              "bar   A  B  C   A  B  C\n",
              "foo                    \n",
              "one   1  2  3   x  y  z\n",
              "two   4  5  6   q  w  t"
            ]
          },
          "metadata": {
            "tags": []
          },
          "execution_count": 113
        }
      ]
    },
    {
      "cell_type": "code",
      "metadata": {
        "id": "GkSLHs0jKsua",
        "colab": {
          "base_uri": "https://localhost:8080/",
          "height": 183
        },
        "outputId": "e909ea97-fc55-4e02-fad7-78be738c5317"
      },
      "source": [
        "pivoted = df.pivot(index='foo', columns='bar')\n",
        "print(type(pivoted))\n",
        "pivoted"
      ],
      "execution_count": null,
      "outputs": [
        {
          "output_type": "stream",
          "text": [
            "<class 'pandas.core.frame.DataFrame'>\n"
          ],
          "name": "stdout"
        },
        {
          "output_type": "execute_result",
          "data": {
            "text/html": [
              "<div>\n",
              "<style scoped>\n",
              "    .dataframe tbody tr th:only-of-type {\n",
              "        vertical-align: middle;\n",
              "    }\n",
              "\n",
              "    .dataframe tbody tr th {\n",
              "        vertical-align: top;\n",
              "    }\n",
              "\n",
              "    .dataframe thead tr th {\n",
              "        text-align: left;\n",
              "    }\n",
              "\n",
              "    .dataframe thead tr:last-of-type th {\n",
              "        text-align: right;\n",
              "    }\n",
              "</style>\n",
              "<table border=\"1\" class=\"dataframe\">\n",
              "  <thead>\n",
              "    <tr>\n",
              "      <th></th>\n",
              "      <th colspan=\"3\" halign=\"left\">baz</th>\n",
              "      <th colspan=\"3\" halign=\"left\">zoo</th>\n",
              "    </tr>\n",
              "    <tr>\n",
              "      <th>bar</th>\n",
              "      <th>A</th>\n",
              "      <th>B</th>\n",
              "      <th>C</th>\n",
              "      <th>A</th>\n",
              "      <th>B</th>\n",
              "      <th>C</th>\n",
              "    </tr>\n",
              "    <tr>\n",
              "      <th>foo</th>\n",
              "      <th></th>\n",
              "      <th></th>\n",
              "      <th></th>\n",
              "      <th></th>\n",
              "      <th></th>\n",
              "      <th></th>\n",
              "    </tr>\n",
              "  </thead>\n",
              "  <tbody>\n",
              "    <tr>\n",
              "      <th>one</th>\n",
              "      <td>1</td>\n",
              "      <td>2</td>\n",
              "      <td>3</td>\n",
              "      <td>x</td>\n",
              "      <td>y</td>\n",
              "      <td>z</td>\n",
              "    </tr>\n",
              "    <tr>\n",
              "      <th>two</th>\n",
              "      <td>4</td>\n",
              "      <td>5</td>\n",
              "      <td>6</td>\n",
              "      <td>q</td>\n",
              "      <td>w</td>\n",
              "      <td>t</td>\n",
              "    </tr>\n",
              "  </tbody>\n",
              "</table>\n",
              "</div>"
            ],
            "text/plain": [
              "    baz       zoo      \n",
              "bar   A  B  C   A  B  C\n",
              "foo                    \n",
              "one   1  2  3   x  y  z\n",
              "two   4  5  6   q  w  t"
            ]
          },
          "metadata": {
            "tags": []
          },
          "execution_count": 114
        }
      ]
    },
    {
      "cell_type": "code",
      "metadata": {
        "id": "nyQwQgiZUPIU",
        "colab": {
          "base_uri": "https://localhost:8080/",
          "height": 136
        },
        "outputId": "a76cc075-221d-4483-c6eb-64dd22e86ddb"
      },
      "source": [
        "pivoted['zoo']"
      ],
      "execution_count": null,
      "outputs": [
        {
          "output_type": "execute_result",
          "data": {
            "text/html": [
              "<div>\n",
              "<style scoped>\n",
              "    .dataframe tbody tr th:only-of-type {\n",
              "        vertical-align: middle;\n",
              "    }\n",
              "\n",
              "    .dataframe tbody tr th {\n",
              "        vertical-align: top;\n",
              "    }\n",
              "\n",
              "    .dataframe thead th {\n",
              "        text-align: right;\n",
              "    }\n",
              "</style>\n",
              "<table border=\"1\" class=\"dataframe\">\n",
              "  <thead>\n",
              "    <tr style=\"text-align: right;\">\n",
              "      <th>bar</th>\n",
              "      <th>A</th>\n",
              "      <th>B</th>\n",
              "      <th>C</th>\n",
              "    </tr>\n",
              "    <tr>\n",
              "      <th>foo</th>\n",
              "      <th></th>\n",
              "      <th></th>\n",
              "      <th></th>\n",
              "    </tr>\n",
              "  </thead>\n",
              "  <tbody>\n",
              "    <tr>\n",
              "      <th>one</th>\n",
              "      <td>x</td>\n",
              "      <td>y</td>\n",
              "      <td>z</td>\n",
              "    </tr>\n",
              "    <tr>\n",
              "      <th>two</th>\n",
              "      <td>q</td>\n",
              "      <td>w</td>\n",
              "      <td>t</td>\n",
              "    </tr>\n",
              "  </tbody>\n",
              "</table>\n",
              "</div>"
            ],
            "text/plain": [
              "bar  A  B  C\n",
              "foo         \n",
              "one  x  y  z\n",
              "two  q  w  t"
            ]
          },
          "metadata": {
            "tags": []
          },
          "execution_count": 115
        }
      ]
    },
    {
      "cell_type": "code",
      "metadata": {
        "id": "hYXdoaJ1DhTq",
        "colab": {
          "base_uri": "https://localhost:8080/",
          "height": 136
        },
        "outputId": "5a5d971d-3d88-45d5-f2d3-eae6babaca2c"
      },
      "source": [
        "df.pivot(index='foo', columns='bar', values='baz')"
      ],
      "execution_count": null,
      "outputs": [
        {
          "output_type": "execute_result",
          "data": {
            "text/html": [
              "<div>\n",
              "<style scoped>\n",
              "    .dataframe tbody tr th:only-of-type {\n",
              "        vertical-align: middle;\n",
              "    }\n",
              "\n",
              "    .dataframe tbody tr th {\n",
              "        vertical-align: top;\n",
              "    }\n",
              "\n",
              "    .dataframe thead th {\n",
              "        text-align: right;\n",
              "    }\n",
              "</style>\n",
              "<table border=\"1\" class=\"dataframe\">\n",
              "  <thead>\n",
              "    <tr style=\"text-align: right;\">\n",
              "      <th>bar</th>\n",
              "      <th>A</th>\n",
              "      <th>B</th>\n",
              "      <th>C</th>\n",
              "    </tr>\n",
              "    <tr>\n",
              "      <th>foo</th>\n",
              "      <th></th>\n",
              "      <th></th>\n",
              "      <th></th>\n",
              "    </tr>\n",
              "  </thead>\n",
              "  <tbody>\n",
              "    <tr>\n",
              "      <th>one</th>\n",
              "      <td>1</td>\n",
              "      <td>2</td>\n",
              "      <td>3</td>\n",
              "    </tr>\n",
              "    <tr>\n",
              "      <th>two</th>\n",
              "      <td>4</td>\n",
              "      <td>5</td>\n",
              "      <td>6</td>\n",
              "    </tr>\n",
              "  </tbody>\n",
              "</table>\n",
              "</div>"
            ],
            "text/plain": [
              "bar  A  B  C\n",
              "foo         \n",
              "one  1  2  3\n",
              "two  4  5  6"
            ]
          },
          "metadata": {
            "tags": []
          },
          "execution_count": 116
        }
      ]
    },
    {
      "cell_type": "code",
      "metadata": {
        "id": "rRcJLmk_F4-S",
        "colab": {
          "base_uri": "https://localhost:8080/",
          "height": 136
        },
        "outputId": "3eb98c7c-7788-4b28-93ec-3374cfcfb178"
      },
      "source": [
        "df.pivot(index='foo', columns='bar')['baz']"
      ],
      "execution_count": null,
      "outputs": [
        {
          "output_type": "execute_result",
          "data": {
            "text/html": [
              "<div>\n",
              "<style scoped>\n",
              "    .dataframe tbody tr th:only-of-type {\n",
              "        vertical-align: middle;\n",
              "    }\n",
              "\n",
              "    .dataframe tbody tr th {\n",
              "        vertical-align: top;\n",
              "    }\n",
              "\n",
              "    .dataframe thead th {\n",
              "        text-align: right;\n",
              "    }\n",
              "</style>\n",
              "<table border=\"1\" class=\"dataframe\">\n",
              "  <thead>\n",
              "    <tr style=\"text-align: right;\">\n",
              "      <th>bar</th>\n",
              "      <th>A</th>\n",
              "      <th>B</th>\n",
              "      <th>C</th>\n",
              "    </tr>\n",
              "    <tr>\n",
              "      <th>foo</th>\n",
              "      <th></th>\n",
              "      <th></th>\n",
              "      <th></th>\n",
              "    </tr>\n",
              "  </thead>\n",
              "  <tbody>\n",
              "    <tr>\n",
              "      <th>one</th>\n",
              "      <td>1</td>\n",
              "      <td>2</td>\n",
              "      <td>3</td>\n",
              "    </tr>\n",
              "    <tr>\n",
              "      <th>two</th>\n",
              "      <td>4</td>\n",
              "      <td>5</td>\n",
              "      <td>6</td>\n",
              "    </tr>\n",
              "  </tbody>\n",
              "</table>\n",
              "</div>"
            ],
            "text/plain": [
              "bar  A  B  C\n",
              "foo         \n",
              "one  1  2  3\n",
              "two  4  5  6"
            ]
          },
          "metadata": {
            "tags": []
          },
          "execution_count": 117
        }
      ]
    },
    {
      "cell_type": "code",
      "metadata": {
        "id": "f9F_Ye-9GHyC",
        "colab": {
          "base_uri": "https://localhost:8080/",
          "height": 166
        },
        "outputId": "b0aac0d2-394b-4b23-9be1-7a89f5510c97"
      },
      "source": [
        "df.pivot(index='foo', columns='bar', values=['baz', 'zoo'])"
      ],
      "execution_count": null,
      "outputs": [
        {
          "output_type": "execute_result",
          "data": {
            "text/html": [
              "<div>\n",
              "<style scoped>\n",
              "    .dataframe tbody tr th:only-of-type {\n",
              "        vertical-align: middle;\n",
              "    }\n",
              "\n",
              "    .dataframe tbody tr th {\n",
              "        vertical-align: top;\n",
              "    }\n",
              "\n",
              "    .dataframe thead tr th {\n",
              "        text-align: left;\n",
              "    }\n",
              "\n",
              "    .dataframe thead tr:last-of-type th {\n",
              "        text-align: right;\n",
              "    }\n",
              "</style>\n",
              "<table border=\"1\" class=\"dataframe\">\n",
              "  <thead>\n",
              "    <tr>\n",
              "      <th></th>\n",
              "      <th colspan=\"3\" halign=\"left\">baz</th>\n",
              "      <th colspan=\"3\" halign=\"left\">zoo</th>\n",
              "    </tr>\n",
              "    <tr>\n",
              "      <th>bar</th>\n",
              "      <th>A</th>\n",
              "      <th>B</th>\n",
              "      <th>C</th>\n",
              "      <th>A</th>\n",
              "      <th>B</th>\n",
              "      <th>C</th>\n",
              "    </tr>\n",
              "    <tr>\n",
              "      <th>foo</th>\n",
              "      <th></th>\n",
              "      <th></th>\n",
              "      <th></th>\n",
              "      <th></th>\n",
              "      <th></th>\n",
              "      <th></th>\n",
              "    </tr>\n",
              "  </thead>\n",
              "  <tbody>\n",
              "    <tr>\n",
              "      <th>one</th>\n",
              "      <td>1</td>\n",
              "      <td>2</td>\n",
              "      <td>3</td>\n",
              "      <td>x</td>\n",
              "      <td>y</td>\n",
              "      <td>z</td>\n",
              "    </tr>\n",
              "    <tr>\n",
              "      <th>two</th>\n",
              "      <td>4</td>\n",
              "      <td>5</td>\n",
              "      <td>6</td>\n",
              "      <td>q</td>\n",
              "      <td>w</td>\n",
              "      <td>t</td>\n",
              "    </tr>\n",
              "  </tbody>\n",
              "</table>\n",
              "</div>"
            ],
            "text/plain": [
              "    baz       zoo      \n",
              "bar   A  B  C   A  B  C\n",
              "foo                    \n",
              "one   1  2  3   x  y  z\n",
              "two   4  5  6   q  w  t"
            ]
          },
          "metadata": {
            "tags": []
          },
          "execution_count": 118
        }
      ]
    },
    {
      "cell_type": "code",
      "metadata": {
        "id": "lMsTDP_z5r72",
        "colab": {
          "base_uri": "https://localhost:8080/",
          "height": 225
        },
        "outputId": "472722c2-20e3-4314-cd58-1a2019d243f3"
      },
      "source": [
        "import pandas as pd\n",
        "penjualan = {\n",
        "    'toko':['Bandung', 'Garut', 'Jakarta', 'Bandung', 'Garut', 'Jakarta'],\n",
        "    'Barang':['Telur', 'Telur', 'Telur', 'Minyak', 'Minyak', 'Minyak'],\n",
        "    'Hasil':[200000, 300000, 150000, 100000, 120000, 400000]\n",
        "}\n",
        "\n",
        "df = pd.DataFrame(penjualan)\n",
        "df"
      ],
      "execution_count": null,
      "outputs": [
        {
          "output_type": "execute_result",
          "data": {
            "text/html": [
              "<div>\n",
              "<style scoped>\n",
              "    .dataframe tbody tr th:only-of-type {\n",
              "        vertical-align: middle;\n",
              "    }\n",
              "\n",
              "    .dataframe tbody tr th {\n",
              "        vertical-align: top;\n",
              "    }\n",
              "\n",
              "    .dataframe thead th {\n",
              "        text-align: right;\n",
              "    }\n",
              "</style>\n",
              "<table border=\"1\" class=\"dataframe\">\n",
              "  <thead>\n",
              "    <tr style=\"text-align: right;\">\n",
              "      <th></th>\n",
              "      <th>toko</th>\n",
              "      <th>Barang</th>\n",
              "      <th>Hasil</th>\n",
              "    </tr>\n",
              "  </thead>\n",
              "  <tbody>\n",
              "    <tr>\n",
              "      <th>0</th>\n",
              "      <td>Bandung</td>\n",
              "      <td>Telur</td>\n",
              "      <td>200000</td>\n",
              "    </tr>\n",
              "    <tr>\n",
              "      <th>1</th>\n",
              "      <td>Garut</td>\n",
              "      <td>Telur</td>\n",
              "      <td>300000</td>\n",
              "    </tr>\n",
              "    <tr>\n",
              "      <th>2</th>\n",
              "      <td>Jakarta</td>\n",
              "      <td>Telur</td>\n",
              "      <td>150000</td>\n",
              "    </tr>\n",
              "    <tr>\n",
              "      <th>3</th>\n",
              "      <td>Bandung</td>\n",
              "      <td>Minyak</td>\n",
              "      <td>100000</td>\n",
              "    </tr>\n",
              "    <tr>\n",
              "      <th>4</th>\n",
              "      <td>Garut</td>\n",
              "      <td>Minyak</td>\n",
              "      <td>120000</td>\n",
              "    </tr>\n",
              "    <tr>\n",
              "      <th>5</th>\n",
              "      <td>Jakarta</td>\n",
              "      <td>Minyak</td>\n",
              "      <td>400000</td>\n",
              "    </tr>\n",
              "  </tbody>\n",
              "</table>\n",
              "</div>"
            ],
            "text/plain": [
              "      toko  Barang   Hasil\n",
              "0  Bandung   Telur  200000\n",
              "1    Garut   Telur  300000\n",
              "2  Jakarta   Telur  150000\n",
              "3  Bandung  Minyak  100000\n",
              "4    Garut  Minyak  120000\n",
              "5  Jakarta  Minyak  400000"
            ]
          },
          "metadata": {
            "tags": []
          },
          "execution_count": 119
        }
      ]
    },
    {
      "cell_type": "code",
      "metadata": {
        "id": "TaizFGRB6O_3",
        "colab": {
          "base_uri": "https://localhost:8080/",
          "height": 195
        },
        "outputId": "70838986-e3ca-41d3-abaa-fbfbbb06215d"
      },
      "source": [
        "df.pivot(index='toko', columns='Barang', values=['Hasil'])"
      ],
      "execution_count": null,
      "outputs": [
        {
          "output_type": "execute_result",
          "data": {
            "text/html": [
              "<div>\n",
              "<style scoped>\n",
              "    .dataframe tbody tr th:only-of-type {\n",
              "        vertical-align: middle;\n",
              "    }\n",
              "\n",
              "    .dataframe tbody tr th {\n",
              "        vertical-align: top;\n",
              "    }\n",
              "\n",
              "    .dataframe thead tr th {\n",
              "        text-align: left;\n",
              "    }\n",
              "\n",
              "    .dataframe thead tr:last-of-type th {\n",
              "        text-align: right;\n",
              "    }\n",
              "</style>\n",
              "<table border=\"1\" class=\"dataframe\">\n",
              "  <thead>\n",
              "    <tr>\n",
              "      <th></th>\n",
              "      <th colspan=\"2\" halign=\"left\">Hasil</th>\n",
              "    </tr>\n",
              "    <tr>\n",
              "      <th>Barang</th>\n",
              "      <th>Minyak</th>\n",
              "      <th>Telur</th>\n",
              "    </tr>\n",
              "    <tr>\n",
              "      <th>toko</th>\n",
              "      <th></th>\n",
              "      <th></th>\n",
              "    </tr>\n",
              "  </thead>\n",
              "  <tbody>\n",
              "    <tr>\n",
              "      <th>Bandung</th>\n",
              "      <td>100000</td>\n",
              "      <td>200000</td>\n",
              "    </tr>\n",
              "    <tr>\n",
              "      <th>Garut</th>\n",
              "      <td>120000</td>\n",
              "      <td>300000</td>\n",
              "    </tr>\n",
              "    <tr>\n",
              "      <th>Jakarta</th>\n",
              "      <td>400000</td>\n",
              "      <td>150000</td>\n",
              "    </tr>\n",
              "  </tbody>\n",
              "</table>\n",
              "</div>"
            ],
            "text/plain": [
              "          Hasil        \n",
              "Barang   Minyak   Telur\n",
              "toko                   \n",
              "Bandung  100000  200000\n",
              "Garut    120000  300000\n",
              "Jakarta  400000  150000"
            ]
          },
          "metadata": {
            "tags": []
          },
          "execution_count": 120
        }
      ]
    },
    {
      "cell_type": "code",
      "metadata": {
        "id": "YcoGp3LDHUmm",
        "colab": {
          "base_uri": "https://localhost:8080/",
          "height": 166
        },
        "outputId": "5effc060-c7c1-4e0b-ee9f-53e2af908119"
      },
      "source": [
        "# A ValueError is raised if there are any duplicates.\n",
        "df_duplicate = pd.DataFrame({\"foo\": ['one', 'one', 'two', 'two'],\n",
        "                   \"bar\": ['A', 'A', 'B', 'C'],\n",
        "                   \"baz\": [1, 2, 3, 4]})\n",
        "df_duplicate"
      ],
      "execution_count": null,
      "outputs": [
        {
          "output_type": "execute_result",
          "data": {
            "text/html": [
              "<div>\n",
              "<style scoped>\n",
              "    .dataframe tbody tr th:only-of-type {\n",
              "        vertical-align: middle;\n",
              "    }\n",
              "\n",
              "    .dataframe tbody tr th {\n",
              "        vertical-align: top;\n",
              "    }\n",
              "\n",
              "    .dataframe thead th {\n",
              "        text-align: right;\n",
              "    }\n",
              "</style>\n",
              "<table border=\"1\" class=\"dataframe\">\n",
              "  <thead>\n",
              "    <tr style=\"text-align: right;\">\n",
              "      <th></th>\n",
              "      <th>foo</th>\n",
              "      <th>bar</th>\n",
              "      <th>baz</th>\n",
              "    </tr>\n",
              "  </thead>\n",
              "  <tbody>\n",
              "    <tr>\n",
              "      <th>0</th>\n",
              "      <td>one</td>\n",
              "      <td>A</td>\n",
              "      <td>1</td>\n",
              "    </tr>\n",
              "    <tr>\n",
              "      <th>1</th>\n",
              "      <td>one</td>\n",
              "      <td>A</td>\n",
              "      <td>2</td>\n",
              "    </tr>\n",
              "    <tr>\n",
              "      <th>2</th>\n",
              "      <td>two</td>\n",
              "      <td>B</td>\n",
              "      <td>3</td>\n",
              "    </tr>\n",
              "    <tr>\n",
              "      <th>3</th>\n",
              "      <td>two</td>\n",
              "      <td>C</td>\n",
              "      <td>4</td>\n",
              "    </tr>\n",
              "  </tbody>\n",
              "</table>\n",
              "</div>"
            ],
            "text/plain": [
              "   foo bar  baz\n",
              "0  one   A    1\n",
              "1  one   A    2\n",
              "2  two   B    3\n",
              "3  two   C    4"
            ]
          },
          "metadata": {
            "tags": []
          },
          "execution_count": 121
        }
      ]
    },
    {
      "cell_type": "code",
      "metadata": {
        "id": "q8hi_Hx9Hia1"
      },
      "source": [
        "# df.pivot(index='foo', columns='bar', values='baz')\n",
        "# Index contains duplicate entries, cannot reshape"
      ],
      "execution_count": null,
      "outputs": []
    },
    {
      "cell_type": "markdown",
      "metadata": {
        "id": "FA2xKvsrL9No"
      },
      "source": [
        "pivot() will error with a ValueError: Index contains duplicate entries, cannot reshape if the index/column pair is not unique. In this case, consider using `pivot_table()` which is `a generalization of pivot that can handle duplicate values for one index/column pair`.\n",
        "\n"
      ]
    },
    {
      "cell_type": "markdown",
      "metadata": {
        "id": "cTXYydPmDj_D"
      },
      "source": [
        "## **Menggunakan .pivot_table()**\n",
        "\n",
        "`pd.pivot_table(data, values=None, index=None, columns=None, aggfunc='mean', fill_value=None, margins=False, dropna=True, margins_name='All', observed=False)` -> 'DataFrame'\n",
        "\n",
        "Parameters\n",
        "\n",
        "...............\n",
        "\n",
        "\n",
        "* **`data`**: a DataFrame object.\n",
        "\n",
        "* **`values`**: a column or a list of columns to aggregate.\n",
        "\n",
        "* **`index`**: a column, Grouper, array which has the same length as data, or list of them. Keys to group by on the pivot table index. If an array is passed, it is being used as the same manner as column values.\n",
        "\n",
        "* **`columns`**: a column, Grouper, array which has the same length as data, or list of them. Keys to group by on the pivot table column. If an array is passed, it is being used as the same manner as column values.\n",
        "\n",
        "* **`aggfunc`**: function to use for aggregation, defaulting to numpy.mean.\n",
        "\n",
        "* **`fill_value`** : scalar, default None\n",
        "\n",
        "    Value to replace missing values with.\n",
        "\n",
        "* **`margins`** : bool, default False\n",
        "\n",
        "    Add all row / columns (e.g. for subtotal / grand totals).\n",
        "\n",
        "* **`dropna`** : bool, default True\n",
        "\n",
        "    Do not include columns whose entries are all NaN.\n",
        "\n",
        "* **`margins_name`** : str, default 'All'\n",
        "\n",
        "    Name of the row / column that will contain the totals when margins is True.\n",
        "\n",
        "* **`observed`** : bool, default False\n",
        "\n",
        "    This only applies if any of the groupers are Categoricals.\n",
        "\n",
        "    If True: only show observed values for categorical groupers.\n",
        "\n",
        "    If False: show all values for categorical groupers.\n",
        "\n",
        ".....................\n",
        "\n",
        "Kemudian kita akan melakukan pivoting tabel seperti yang ada di gambar, maka ada beberapa argument paling penting di dalam method pivot_tabel yang perlu kita perhatikan, diantaranya :\n",
        "\n",
        "1. values : Argumen ini mendefiniskan column mana dari dataframe yang asli yang akan di jadikan values yang ingin kita lihat di dalam hasil pivoting tabel kita.\n",
        "2. columns : Data dari column mana yang akan dijadikan column baru di dalam hasil pivoting dataframe kita.\n",
        "3. index : Data dari column mana yang akan dijadikan index di dalam hasil pivoting dataframe kita.\n",
        "    "
      ]
    },
    {
      "cell_type": "code",
      "metadata": {
        "id": "VUHRZlrqDVLD"
      },
      "source": [
        "pd.pivot_table?"
      ],
      "execution_count": null,
      "outputs": []
    },
    {
      "cell_type": "code",
      "metadata": {
        "id": "b-hjjUtDRH01",
        "colab": {
          "base_uri": "https://localhost:8080/",
          "height": 225
        },
        "outputId": "b2d9cf80-bb6c-4c0e-ccf1-a97476083269"
      },
      "source": [
        "import pandas as pd\n",
        "penjualan = {\n",
        "    'toko':['Bandung', 'Garut', 'Jakarta', 'Bandung', 'Garut', 'Jakarta'],\n",
        "    'Barang':['Telur', 'Telur', 'Telur', 'Minyak', 'Minyak', 'Minyak'],\n",
        "    'Hasil':[200000, 300000, 150000, 100000, 120000, 400000]\n",
        "}\n",
        "\n",
        "df = pd.DataFrame(penjualan)\n",
        "df"
      ],
      "execution_count": null,
      "outputs": [
        {
          "output_type": "execute_result",
          "data": {
            "text/html": [
              "<div>\n",
              "<style scoped>\n",
              "    .dataframe tbody tr th:only-of-type {\n",
              "        vertical-align: middle;\n",
              "    }\n",
              "\n",
              "    .dataframe tbody tr th {\n",
              "        vertical-align: top;\n",
              "    }\n",
              "\n",
              "    .dataframe thead th {\n",
              "        text-align: right;\n",
              "    }\n",
              "</style>\n",
              "<table border=\"1\" class=\"dataframe\">\n",
              "  <thead>\n",
              "    <tr style=\"text-align: right;\">\n",
              "      <th></th>\n",
              "      <th>toko</th>\n",
              "      <th>Barang</th>\n",
              "      <th>Hasil</th>\n",
              "    </tr>\n",
              "  </thead>\n",
              "  <tbody>\n",
              "    <tr>\n",
              "      <th>0</th>\n",
              "      <td>Bandung</td>\n",
              "      <td>Telur</td>\n",
              "      <td>200000</td>\n",
              "    </tr>\n",
              "    <tr>\n",
              "      <th>1</th>\n",
              "      <td>Garut</td>\n",
              "      <td>Telur</td>\n",
              "      <td>300000</td>\n",
              "    </tr>\n",
              "    <tr>\n",
              "      <th>2</th>\n",
              "      <td>Jakarta</td>\n",
              "      <td>Telur</td>\n",
              "      <td>150000</td>\n",
              "    </tr>\n",
              "    <tr>\n",
              "      <th>3</th>\n",
              "      <td>Bandung</td>\n",
              "      <td>Minyak</td>\n",
              "      <td>100000</td>\n",
              "    </tr>\n",
              "    <tr>\n",
              "      <th>4</th>\n",
              "      <td>Garut</td>\n",
              "      <td>Minyak</td>\n",
              "      <td>120000</td>\n",
              "    </tr>\n",
              "    <tr>\n",
              "      <th>5</th>\n",
              "      <td>Jakarta</td>\n",
              "      <td>Minyak</td>\n",
              "      <td>400000</td>\n",
              "    </tr>\n",
              "  </tbody>\n",
              "</table>\n",
              "</div>"
            ],
            "text/plain": [
              "      toko  Barang   Hasil\n",
              "0  Bandung   Telur  200000\n",
              "1    Garut   Telur  300000\n",
              "2  Jakarta   Telur  150000\n",
              "3  Bandung  Minyak  100000\n",
              "4    Garut  Minyak  120000\n",
              "5  Jakarta  Minyak  400000"
            ]
          },
          "metadata": {
            "tags": []
          },
          "execution_count": 124
        }
      ]
    },
    {
      "cell_type": "code",
      "metadata": {
        "id": "AY_IQTmyRJD8",
        "colab": {
          "base_uri": "https://localhost:8080/",
          "height": 166
        },
        "outputId": "390ed8b3-ebba-41f1-8a33-3d9d087b6333"
      },
      "source": [
        "df.pivot_table(index='toko', columns='Barang', values='Hasil')"
      ],
      "execution_count": null,
      "outputs": [
        {
          "output_type": "execute_result",
          "data": {
            "text/html": [
              "<div>\n",
              "<style scoped>\n",
              "    .dataframe tbody tr th:only-of-type {\n",
              "        vertical-align: middle;\n",
              "    }\n",
              "\n",
              "    .dataframe tbody tr th {\n",
              "        vertical-align: top;\n",
              "    }\n",
              "\n",
              "    .dataframe thead th {\n",
              "        text-align: right;\n",
              "    }\n",
              "</style>\n",
              "<table border=\"1\" class=\"dataframe\">\n",
              "  <thead>\n",
              "    <tr style=\"text-align: right;\">\n",
              "      <th>Barang</th>\n",
              "      <th>Minyak</th>\n",
              "      <th>Telur</th>\n",
              "    </tr>\n",
              "    <tr>\n",
              "      <th>toko</th>\n",
              "      <th></th>\n",
              "      <th></th>\n",
              "    </tr>\n",
              "  </thead>\n",
              "  <tbody>\n",
              "    <tr>\n",
              "      <th>Bandung</th>\n",
              "      <td>100000</td>\n",
              "      <td>200000</td>\n",
              "    </tr>\n",
              "    <tr>\n",
              "      <th>Garut</th>\n",
              "      <td>120000</td>\n",
              "      <td>300000</td>\n",
              "    </tr>\n",
              "    <tr>\n",
              "      <th>Jakarta</th>\n",
              "      <td>400000</td>\n",
              "      <td>150000</td>\n",
              "    </tr>\n",
              "  </tbody>\n",
              "</table>\n",
              "</div>"
            ],
            "text/plain": [
              "Barang   Minyak   Telur\n",
              "toko                   \n",
              "Bandung  100000  200000\n",
              "Garut    120000  300000\n",
              "Jakarta  400000  150000"
            ]
          },
          "metadata": {
            "tags": []
          },
          "execution_count": 125
        }
      ]
    },
    {
      "cell_type": "code",
      "metadata": {
        "id": "zy1FczK0RbCg",
        "colab": {
          "base_uri": "https://localhost:8080/",
          "height": 225
        },
        "outputId": "7071d04d-0546-459e-8345-6f40aea1718f"
      },
      "source": [
        "import pandas as pd\n",
        "penjualan2 = {\n",
        "    'toko':['Bandung', 'Garut', 'Jakarta', 'Bandung', 'Garut', 'Jakarta'],\n",
        "    'Barang':['Telur', 'Telur', 'Telur', 'Minyak', 'Minyak', 'Minyak'],\n",
        "    'Hasil':[240000, 320000, 200000, 300000, 150000, 200000]\n",
        "}\n",
        "\n",
        "df2 = pd.DataFrame(penjualan2)\n",
        "df2"
      ],
      "execution_count": null,
      "outputs": [
        {
          "output_type": "execute_result",
          "data": {
            "text/html": [
              "<div>\n",
              "<style scoped>\n",
              "    .dataframe tbody tr th:only-of-type {\n",
              "        vertical-align: middle;\n",
              "    }\n",
              "\n",
              "    .dataframe tbody tr th {\n",
              "        vertical-align: top;\n",
              "    }\n",
              "\n",
              "    .dataframe thead th {\n",
              "        text-align: right;\n",
              "    }\n",
              "</style>\n",
              "<table border=\"1\" class=\"dataframe\">\n",
              "  <thead>\n",
              "    <tr style=\"text-align: right;\">\n",
              "      <th></th>\n",
              "      <th>toko</th>\n",
              "      <th>Barang</th>\n",
              "      <th>Hasil</th>\n",
              "    </tr>\n",
              "  </thead>\n",
              "  <tbody>\n",
              "    <tr>\n",
              "      <th>0</th>\n",
              "      <td>Bandung</td>\n",
              "      <td>Telur</td>\n",
              "      <td>240000</td>\n",
              "    </tr>\n",
              "    <tr>\n",
              "      <th>1</th>\n",
              "      <td>Garut</td>\n",
              "      <td>Telur</td>\n",
              "      <td>320000</td>\n",
              "    </tr>\n",
              "    <tr>\n",
              "      <th>2</th>\n",
              "      <td>Jakarta</td>\n",
              "      <td>Telur</td>\n",
              "      <td>200000</td>\n",
              "    </tr>\n",
              "    <tr>\n",
              "      <th>3</th>\n",
              "      <td>Bandung</td>\n",
              "      <td>Minyak</td>\n",
              "      <td>300000</td>\n",
              "    </tr>\n",
              "    <tr>\n",
              "      <th>4</th>\n",
              "      <td>Garut</td>\n",
              "      <td>Minyak</td>\n",
              "      <td>150000</td>\n",
              "    </tr>\n",
              "    <tr>\n",
              "      <th>5</th>\n",
              "      <td>Jakarta</td>\n",
              "      <td>Minyak</td>\n",
              "      <td>200000</td>\n",
              "    </tr>\n",
              "  </tbody>\n",
              "</table>\n",
              "</div>"
            ],
            "text/plain": [
              "      toko  Barang   Hasil\n",
              "0  Bandung   Telur  240000\n",
              "1    Garut   Telur  320000\n",
              "2  Jakarta   Telur  200000\n",
              "3  Bandung  Minyak  300000\n",
              "4    Garut  Minyak  150000\n",
              "5  Jakarta  Minyak  200000"
            ]
          },
          "metadata": {
            "tags": []
          },
          "execution_count": 126
        }
      ]
    },
    {
      "cell_type": "code",
      "metadata": {
        "id": "OEb8V9iLRnbt",
        "colab": {
          "base_uri": "https://localhost:8080/",
          "height": 402
        },
        "outputId": "bc5158ef-aec6-44ac-88de-bce6caa8ff9f"
      },
      "source": [
        "df_gabung = df.append(df2, ignore_index=True) # make duplicate\n",
        "df_gabung"
      ],
      "execution_count": null,
      "outputs": [
        {
          "output_type": "execute_result",
          "data": {
            "text/html": [
              "<div>\n",
              "<style scoped>\n",
              "    .dataframe tbody tr th:only-of-type {\n",
              "        vertical-align: middle;\n",
              "    }\n",
              "\n",
              "    .dataframe tbody tr th {\n",
              "        vertical-align: top;\n",
              "    }\n",
              "\n",
              "    .dataframe thead th {\n",
              "        text-align: right;\n",
              "    }\n",
              "</style>\n",
              "<table border=\"1\" class=\"dataframe\">\n",
              "  <thead>\n",
              "    <tr style=\"text-align: right;\">\n",
              "      <th></th>\n",
              "      <th>toko</th>\n",
              "      <th>Barang</th>\n",
              "      <th>Hasil</th>\n",
              "    </tr>\n",
              "  </thead>\n",
              "  <tbody>\n",
              "    <tr>\n",
              "      <th>0</th>\n",
              "      <td>Bandung</td>\n",
              "      <td>Telur</td>\n",
              "      <td>200000</td>\n",
              "    </tr>\n",
              "    <tr>\n",
              "      <th>1</th>\n",
              "      <td>Garut</td>\n",
              "      <td>Telur</td>\n",
              "      <td>300000</td>\n",
              "    </tr>\n",
              "    <tr>\n",
              "      <th>2</th>\n",
              "      <td>Jakarta</td>\n",
              "      <td>Telur</td>\n",
              "      <td>150000</td>\n",
              "    </tr>\n",
              "    <tr>\n",
              "      <th>3</th>\n",
              "      <td>Bandung</td>\n",
              "      <td>Minyak</td>\n",
              "      <td>100000</td>\n",
              "    </tr>\n",
              "    <tr>\n",
              "      <th>4</th>\n",
              "      <td>Garut</td>\n",
              "      <td>Minyak</td>\n",
              "      <td>120000</td>\n",
              "    </tr>\n",
              "    <tr>\n",
              "      <th>5</th>\n",
              "      <td>Jakarta</td>\n",
              "      <td>Minyak</td>\n",
              "      <td>400000</td>\n",
              "    </tr>\n",
              "    <tr>\n",
              "      <th>6</th>\n",
              "      <td>Bandung</td>\n",
              "      <td>Telur</td>\n",
              "      <td>240000</td>\n",
              "    </tr>\n",
              "    <tr>\n",
              "      <th>7</th>\n",
              "      <td>Garut</td>\n",
              "      <td>Telur</td>\n",
              "      <td>320000</td>\n",
              "    </tr>\n",
              "    <tr>\n",
              "      <th>8</th>\n",
              "      <td>Jakarta</td>\n",
              "      <td>Telur</td>\n",
              "      <td>200000</td>\n",
              "    </tr>\n",
              "    <tr>\n",
              "      <th>9</th>\n",
              "      <td>Bandung</td>\n",
              "      <td>Minyak</td>\n",
              "      <td>300000</td>\n",
              "    </tr>\n",
              "    <tr>\n",
              "      <th>10</th>\n",
              "      <td>Garut</td>\n",
              "      <td>Minyak</td>\n",
              "      <td>150000</td>\n",
              "    </tr>\n",
              "    <tr>\n",
              "      <th>11</th>\n",
              "      <td>Jakarta</td>\n",
              "      <td>Minyak</td>\n",
              "      <td>200000</td>\n",
              "    </tr>\n",
              "  </tbody>\n",
              "</table>\n",
              "</div>"
            ],
            "text/plain": [
              "       toko  Barang   Hasil\n",
              "0   Bandung   Telur  200000\n",
              "1     Garut   Telur  300000\n",
              "2   Jakarta   Telur  150000\n",
              "3   Bandung  Minyak  100000\n",
              "4     Garut  Minyak  120000\n",
              "5   Jakarta  Minyak  400000\n",
              "6   Bandung   Telur  240000\n",
              "7     Garut   Telur  320000\n",
              "8   Jakarta   Telur  200000\n",
              "9   Bandung  Minyak  300000\n",
              "10    Garut  Minyak  150000\n",
              "11  Jakarta  Minyak  200000"
            ]
          },
          "metadata": {
            "tags": []
          },
          "execution_count": 127
        }
      ]
    },
    {
      "cell_type": "code",
      "metadata": {
        "id": "PvPm_MTvR_oS",
        "colab": {
          "base_uri": "https://localhost:8080/",
          "height": 166
        },
        "outputId": "2e084292-f645-41e9-c7ed-a9c4283d3238"
      },
      "source": [
        "# maka akan meng-aggregate data duplicate dengan default np.mean\n",
        "df_gabung.pivot_table(index='toko', columns='Barang', values='Hasil') "
      ],
      "execution_count": null,
      "outputs": [
        {
          "output_type": "execute_result",
          "data": {
            "text/html": [
              "<div>\n",
              "<style scoped>\n",
              "    .dataframe tbody tr th:only-of-type {\n",
              "        vertical-align: middle;\n",
              "    }\n",
              "\n",
              "    .dataframe tbody tr th {\n",
              "        vertical-align: top;\n",
              "    }\n",
              "\n",
              "    .dataframe thead th {\n",
              "        text-align: right;\n",
              "    }\n",
              "</style>\n",
              "<table border=\"1\" class=\"dataframe\">\n",
              "  <thead>\n",
              "    <tr style=\"text-align: right;\">\n",
              "      <th>Barang</th>\n",
              "      <th>Minyak</th>\n",
              "      <th>Telur</th>\n",
              "    </tr>\n",
              "    <tr>\n",
              "      <th>toko</th>\n",
              "      <th></th>\n",
              "      <th></th>\n",
              "    </tr>\n",
              "  </thead>\n",
              "  <tbody>\n",
              "    <tr>\n",
              "      <th>Bandung</th>\n",
              "      <td>200000</td>\n",
              "      <td>220000</td>\n",
              "    </tr>\n",
              "    <tr>\n",
              "      <th>Garut</th>\n",
              "      <td>135000</td>\n",
              "      <td>310000</td>\n",
              "    </tr>\n",
              "    <tr>\n",
              "      <th>Jakarta</th>\n",
              "      <td>300000</td>\n",
              "      <td>175000</td>\n",
              "    </tr>\n",
              "  </tbody>\n",
              "</table>\n",
              "</div>"
            ],
            "text/plain": [
              "Barang   Minyak   Telur\n",
              "toko                   \n",
              "Bandung  200000  220000\n",
              "Garut    135000  310000\n",
              "Jakarta  300000  175000"
            ]
          },
          "metadata": {
            "tags": []
          },
          "execution_count": 128
        }
      ]
    },
    {
      "cell_type": "code",
      "metadata": {
        "id": "WprPqPIaTWHJ",
        "colab": {
          "base_uri": "https://localhost:8080/",
          "height": 166
        },
        "outputId": "13e080c6-1b01-4c9a-e41d-80dfbcd187c1"
      },
      "source": [
        "# maka akan meng-aggregate data duplicate dengan sum\n",
        "df_gabung.pivot_table(index='toko', columns='Barang', values='Hasil', aggfunc='sum') "
      ],
      "execution_count": null,
      "outputs": [
        {
          "output_type": "execute_result",
          "data": {
            "text/html": [
              "<div>\n",
              "<style scoped>\n",
              "    .dataframe tbody tr th:only-of-type {\n",
              "        vertical-align: middle;\n",
              "    }\n",
              "\n",
              "    .dataframe tbody tr th {\n",
              "        vertical-align: top;\n",
              "    }\n",
              "\n",
              "    .dataframe thead th {\n",
              "        text-align: right;\n",
              "    }\n",
              "</style>\n",
              "<table border=\"1\" class=\"dataframe\">\n",
              "  <thead>\n",
              "    <tr style=\"text-align: right;\">\n",
              "      <th>Barang</th>\n",
              "      <th>Minyak</th>\n",
              "      <th>Telur</th>\n",
              "    </tr>\n",
              "    <tr>\n",
              "      <th>toko</th>\n",
              "      <th></th>\n",
              "      <th></th>\n",
              "    </tr>\n",
              "  </thead>\n",
              "  <tbody>\n",
              "    <tr>\n",
              "      <th>Bandung</th>\n",
              "      <td>400000</td>\n",
              "      <td>440000</td>\n",
              "    </tr>\n",
              "    <tr>\n",
              "      <th>Garut</th>\n",
              "      <td>270000</td>\n",
              "      <td>620000</td>\n",
              "    </tr>\n",
              "    <tr>\n",
              "      <th>Jakarta</th>\n",
              "      <td>600000</td>\n",
              "      <td>350000</td>\n",
              "    </tr>\n",
              "  </tbody>\n",
              "</table>\n",
              "</div>"
            ],
            "text/plain": [
              "Barang   Minyak   Telur\n",
              "toko                   \n",
              "Bandung  400000  440000\n",
              "Garut    270000  620000\n",
              "Jakarta  600000  350000"
            ]
          },
          "metadata": {
            "tags": []
          },
          "execution_count": 129
        }
      ]
    },
    {
      "cell_type": "code",
      "metadata": {
        "id": "2N2AGkZTXwnP",
        "colab": {
          "base_uri": "https://localhost:8080/",
          "height": 314
        },
        "outputId": "d2dcd99f-0c2b-45d6-8e2d-4c83afe9f653"
      },
      "source": [
        "df = pd.DataFrame({\"A\": [\"foo\", \"foo\", \"foo\", \"foo\", \"foo\", \n",
        "                         \"bar\", \"bar\", \"bar\", \"bar\"],\n",
        "                    \"B\": [\"one\", \"one\", \"one\", \"two\", \"two\",\n",
        "                          \"one\", \"one\", \"two\", \"two\"],\n",
        "                    \"C\": [\"small\", \"large\", \"large\", \"small\",\n",
        "                          \"small\", \"large\", \"small\", \"small\",\n",
        "                          \"large\"],\n",
        "                    \"D\": [1, 2, 2, 3, 3, 4, 5, 6, 7],\n",
        "                    \"E\": [2, 4, 5, 5, 6, 6, 8, 9, 9]})\n",
        "df"
      ],
      "execution_count": null,
      "outputs": [
        {
          "output_type": "execute_result",
          "data": {
            "text/html": [
              "<div>\n",
              "<style scoped>\n",
              "    .dataframe tbody tr th:only-of-type {\n",
              "        vertical-align: middle;\n",
              "    }\n",
              "\n",
              "    .dataframe tbody tr th {\n",
              "        vertical-align: top;\n",
              "    }\n",
              "\n",
              "    .dataframe thead th {\n",
              "        text-align: right;\n",
              "    }\n",
              "</style>\n",
              "<table border=\"1\" class=\"dataframe\">\n",
              "  <thead>\n",
              "    <tr style=\"text-align: right;\">\n",
              "      <th></th>\n",
              "      <th>A</th>\n",
              "      <th>B</th>\n",
              "      <th>C</th>\n",
              "      <th>D</th>\n",
              "      <th>E</th>\n",
              "    </tr>\n",
              "  </thead>\n",
              "  <tbody>\n",
              "    <tr>\n",
              "      <th>0</th>\n",
              "      <td>foo</td>\n",
              "      <td>one</td>\n",
              "      <td>small</td>\n",
              "      <td>1</td>\n",
              "      <td>2</td>\n",
              "    </tr>\n",
              "    <tr>\n",
              "      <th>1</th>\n",
              "      <td>foo</td>\n",
              "      <td>one</td>\n",
              "      <td>large</td>\n",
              "      <td>2</td>\n",
              "      <td>4</td>\n",
              "    </tr>\n",
              "    <tr>\n",
              "      <th>2</th>\n",
              "      <td>foo</td>\n",
              "      <td>one</td>\n",
              "      <td>large</td>\n",
              "      <td>2</td>\n",
              "      <td>5</td>\n",
              "    </tr>\n",
              "    <tr>\n",
              "      <th>3</th>\n",
              "      <td>foo</td>\n",
              "      <td>two</td>\n",
              "      <td>small</td>\n",
              "      <td>3</td>\n",
              "      <td>5</td>\n",
              "    </tr>\n",
              "    <tr>\n",
              "      <th>4</th>\n",
              "      <td>foo</td>\n",
              "      <td>two</td>\n",
              "      <td>small</td>\n",
              "      <td>3</td>\n",
              "      <td>6</td>\n",
              "    </tr>\n",
              "    <tr>\n",
              "      <th>5</th>\n",
              "      <td>bar</td>\n",
              "      <td>one</td>\n",
              "      <td>large</td>\n",
              "      <td>4</td>\n",
              "      <td>6</td>\n",
              "    </tr>\n",
              "    <tr>\n",
              "      <th>6</th>\n",
              "      <td>bar</td>\n",
              "      <td>one</td>\n",
              "      <td>small</td>\n",
              "      <td>5</td>\n",
              "      <td>8</td>\n",
              "    </tr>\n",
              "    <tr>\n",
              "      <th>7</th>\n",
              "      <td>bar</td>\n",
              "      <td>two</td>\n",
              "      <td>small</td>\n",
              "      <td>6</td>\n",
              "      <td>9</td>\n",
              "    </tr>\n",
              "    <tr>\n",
              "      <th>8</th>\n",
              "      <td>bar</td>\n",
              "      <td>two</td>\n",
              "      <td>large</td>\n",
              "      <td>7</td>\n",
              "      <td>9</td>\n",
              "    </tr>\n",
              "  </tbody>\n",
              "</table>\n",
              "</div>"
            ],
            "text/plain": [
              "     A    B      C  D  E\n",
              "0  foo  one  small  1  2\n",
              "1  foo  one  large  2  4\n",
              "2  foo  one  large  2  5\n",
              "3  foo  two  small  3  5\n",
              "4  foo  two  small  3  6\n",
              "5  bar  one  large  4  6\n",
              "6  bar  one  small  5  8\n",
              "7  bar  two  small  6  9\n",
              "8  bar  two  large  7  9"
            ]
          },
          "metadata": {
            "tags": []
          },
          "execution_count": 130
        }
      ]
    },
    {
      "cell_type": "code",
      "metadata": {
        "id": "UrOEELOfZ1-h",
        "colab": {
          "base_uri": "https://localhost:8080/",
          "height": 195
        },
        "outputId": "aa3a46a4-3cfe-40e0-a2a3-6c8fac5b2dd9"
      },
      "source": [
        "# This first example aggregates values by taking the sum.\n",
        "import numpy as np\n",
        "table = pd.pivot_table(df, values='D', index=['A', 'B'], columns=['C'], aggfunc=np.sum)\n",
        "table"
      ],
      "execution_count": null,
      "outputs": [
        {
          "output_type": "execute_result",
          "data": {
            "text/html": [
              "<div>\n",
              "<style scoped>\n",
              "    .dataframe tbody tr th:only-of-type {\n",
              "        vertical-align: middle;\n",
              "    }\n",
              "\n",
              "    .dataframe tbody tr th {\n",
              "        vertical-align: top;\n",
              "    }\n",
              "\n",
              "    .dataframe thead th {\n",
              "        text-align: right;\n",
              "    }\n",
              "</style>\n",
              "<table border=\"1\" class=\"dataframe\">\n",
              "  <thead>\n",
              "    <tr style=\"text-align: right;\">\n",
              "      <th></th>\n",
              "      <th>C</th>\n",
              "      <th>large</th>\n",
              "      <th>small</th>\n",
              "    </tr>\n",
              "    <tr>\n",
              "      <th>A</th>\n",
              "      <th>B</th>\n",
              "      <th></th>\n",
              "      <th></th>\n",
              "    </tr>\n",
              "  </thead>\n",
              "  <tbody>\n",
              "    <tr>\n",
              "      <th rowspan=\"2\" valign=\"top\">bar</th>\n",
              "      <th>one</th>\n",
              "      <td>4.0</td>\n",
              "      <td>5.0</td>\n",
              "    </tr>\n",
              "    <tr>\n",
              "      <th>two</th>\n",
              "      <td>7.0</td>\n",
              "      <td>6.0</td>\n",
              "    </tr>\n",
              "    <tr>\n",
              "      <th rowspan=\"2\" valign=\"top\">foo</th>\n",
              "      <th>one</th>\n",
              "      <td>4.0</td>\n",
              "      <td>1.0</td>\n",
              "    </tr>\n",
              "    <tr>\n",
              "      <th>two</th>\n",
              "      <td>NaN</td>\n",
              "      <td>6.0</td>\n",
              "    </tr>\n",
              "  </tbody>\n",
              "</table>\n",
              "</div>"
            ],
            "text/plain": [
              "C        large  small\n",
              "A   B                \n",
              "bar one    4.0    5.0\n",
              "    two    7.0    6.0\n",
              "foo one    4.0    1.0\n",
              "    two    NaN    6.0"
            ]
          },
          "metadata": {
            "tags": []
          },
          "execution_count": 131
        }
      ]
    },
    {
      "cell_type": "code",
      "metadata": {
        "id": "iBih7X5mhC4N",
        "colab": {
          "base_uri": "https://localhost:8080/",
          "height": 195
        },
        "outputId": "b47e5243-fdc7-45f6-fba0-2ec3437dc732"
      },
      "source": [
        "table = pd.pivot_table(df, values='D', index=['A', 'B'], columns=['C'], aggfunc=np.sum, fill_value=0)\n",
        "table"
      ],
      "execution_count": null,
      "outputs": [
        {
          "output_type": "execute_result",
          "data": {
            "text/html": [
              "<div>\n",
              "<style scoped>\n",
              "    .dataframe tbody tr th:only-of-type {\n",
              "        vertical-align: middle;\n",
              "    }\n",
              "\n",
              "    .dataframe tbody tr th {\n",
              "        vertical-align: top;\n",
              "    }\n",
              "\n",
              "    .dataframe thead th {\n",
              "        text-align: right;\n",
              "    }\n",
              "</style>\n",
              "<table border=\"1\" class=\"dataframe\">\n",
              "  <thead>\n",
              "    <tr style=\"text-align: right;\">\n",
              "      <th></th>\n",
              "      <th>C</th>\n",
              "      <th>large</th>\n",
              "      <th>small</th>\n",
              "    </tr>\n",
              "    <tr>\n",
              "      <th>A</th>\n",
              "      <th>B</th>\n",
              "      <th></th>\n",
              "      <th></th>\n",
              "    </tr>\n",
              "  </thead>\n",
              "  <tbody>\n",
              "    <tr>\n",
              "      <th rowspan=\"2\" valign=\"top\">bar</th>\n",
              "      <th>one</th>\n",
              "      <td>4</td>\n",
              "      <td>5</td>\n",
              "    </tr>\n",
              "    <tr>\n",
              "      <th>two</th>\n",
              "      <td>7</td>\n",
              "      <td>6</td>\n",
              "    </tr>\n",
              "    <tr>\n",
              "      <th rowspan=\"2\" valign=\"top\">foo</th>\n",
              "      <th>one</th>\n",
              "      <td>4</td>\n",
              "      <td>1</td>\n",
              "    </tr>\n",
              "    <tr>\n",
              "      <th>two</th>\n",
              "      <td>0</td>\n",
              "      <td>6</td>\n",
              "    </tr>\n",
              "  </tbody>\n",
              "</table>\n",
              "</div>"
            ],
            "text/plain": [
              "C        large  small\n",
              "A   B                \n",
              "bar one      4      5\n",
              "    two      7      6\n",
              "foo one      4      1\n",
              "    two      0      6"
            ]
          },
          "metadata": {
            "tags": []
          },
          "execution_count": 132
        }
      ]
    },
    {
      "cell_type": "code",
      "metadata": {
        "id": "crQ07ImJiN4z",
        "colab": {
          "base_uri": "https://localhost:8080/",
          "height": 195
        },
        "outputId": "9b6d85c3-675a-4a1d-b5d3-45856e070fae"
      },
      "source": [
        "# aggregates by taking the mean across multiple columns.\n",
        "table = pd.pivot_table(df, values=['D', 'E'], index=['A', 'C'], aggfunc={'D': np.mean, 'E': np.mean})\n",
        "table"
      ],
      "execution_count": null,
      "outputs": [
        {
          "output_type": "execute_result",
          "data": {
            "text/html": [
              "<div>\n",
              "<style scoped>\n",
              "    .dataframe tbody tr th:only-of-type {\n",
              "        vertical-align: middle;\n",
              "    }\n",
              "\n",
              "    .dataframe tbody tr th {\n",
              "        vertical-align: top;\n",
              "    }\n",
              "\n",
              "    .dataframe thead th {\n",
              "        text-align: right;\n",
              "    }\n",
              "</style>\n",
              "<table border=\"1\" class=\"dataframe\">\n",
              "  <thead>\n",
              "    <tr style=\"text-align: right;\">\n",
              "      <th></th>\n",
              "      <th></th>\n",
              "      <th>D</th>\n",
              "      <th>E</th>\n",
              "    </tr>\n",
              "    <tr>\n",
              "      <th>A</th>\n",
              "      <th>C</th>\n",
              "      <th></th>\n",
              "      <th></th>\n",
              "    </tr>\n",
              "  </thead>\n",
              "  <tbody>\n",
              "    <tr>\n",
              "      <th rowspan=\"2\" valign=\"top\">bar</th>\n",
              "      <th>large</th>\n",
              "      <td>5.500000</td>\n",
              "      <td>7.500000</td>\n",
              "    </tr>\n",
              "    <tr>\n",
              "      <th>small</th>\n",
              "      <td>5.500000</td>\n",
              "      <td>8.500000</td>\n",
              "    </tr>\n",
              "    <tr>\n",
              "      <th rowspan=\"2\" valign=\"top\">foo</th>\n",
              "      <th>large</th>\n",
              "      <td>2.000000</td>\n",
              "      <td>4.500000</td>\n",
              "    </tr>\n",
              "    <tr>\n",
              "      <th>small</th>\n",
              "      <td>2.333333</td>\n",
              "      <td>4.333333</td>\n",
              "    </tr>\n",
              "  </tbody>\n",
              "</table>\n",
              "</div>"
            ],
            "text/plain": [
              "                  D         E\n",
              "A   C                        \n",
              "bar large  5.500000  7.500000\n",
              "    small  5.500000  8.500000\n",
              "foo large  2.000000  4.500000\n",
              "    small  2.333333  4.333333"
            ]
          },
          "metadata": {
            "tags": []
          },
          "execution_count": 133
        }
      ]
    },
    {
      "cell_type": "code",
      "metadata": {
        "id": "FC8urUeMicLY",
        "colab": {
          "base_uri": "https://localhost:8080/",
          "height": 225
        },
        "outputId": "02e97de2-2325-4c24-c261-37dba3c44802"
      },
      "source": [
        "# We can also calculate multiple types of aggregations for any given value column.\n",
        "table = pd.pivot_table(df, values=['D', 'E'], index=['A', 'C'], aggfunc={'D': np.mean, 'E': [min, max, np.mean]})\n",
        "table"
      ],
      "execution_count": null,
      "outputs": [
        {
          "output_type": "execute_result",
          "data": {
            "text/html": [
              "<div>\n",
              "<style scoped>\n",
              "    .dataframe tbody tr th:only-of-type {\n",
              "        vertical-align: middle;\n",
              "    }\n",
              "\n",
              "    .dataframe tbody tr th {\n",
              "        vertical-align: top;\n",
              "    }\n",
              "\n",
              "    .dataframe thead tr th {\n",
              "        text-align: left;\n",
              "    }\n",
              "\n",
              "    .dataframe thead tr:last-of-type th {\n",
              "        text-align: right;\n",
              "    }\n",
              "</style>\n",
              "<table border=\"1\" class=\"dataframe\">\n",
              "  <thead>\n",
              "    <tr>\n",
              "      <th></th>\n",
              "      <th></th>\n",
              "      <th>D</th>\n",
              "      <th colspan=\"3\" halign=\"left\">E</th>\n",
              "    </tr>\n",
              "    <tr>\n",
              "      <th></th>\n",
              "      <th></th>\n",
              "      <th>mean</th>\n",
              "      <th>max</th>\n",
              "      <th>mean</th>\n",
              "      <th>min</th>\n",
              "    </tr>\n",
              "    <tr>\n",
              "      <th>A</th>\n",
              "      <th>C</th>\n",
              "      <th></th>\n",
              "      <th></th>\n",
              "      <th></th>\n",
              "      <th></th>\n",
              "    </tr>\n",
              "  </thead>\n",
              "  <tbody>\n",
              "    <tr>\n",
              "      <th rowspan=\"2\" valign=\"top\">bar</th>\n",
              "      <th>large</th>\n",
              "      <td>5.500000</td>\n",
              "      <td>9.0</td>\n",
              "      <td>7.500000</td>\n",
              "      <td>6.0</td>\n",
              "    </tr>\n",
              "    <tr>\n",
              "      <th>small</th>\n",
              "      <td>5.500000</td>\n",
              "      <td>9.0</td>\n",
              "      <td>8.500000</td>\n",
              "      <td>8.0</td>\n",
              "    </tr>\n",
              "    <tr>\n",
              "      <th rowspan=\"2\" valign=\"top\">foo</th>\n",
              "      <th>large</th>\n",
              "      <td>2.000000</td>\n",
              "      <td>5.0</td>\n",
              "      <td>4.500000</td>\n",
              "      <td>4.0</td>\n",
              "    </tr>\n",
              "    <tr>\n",
              "      <th>small</th>\n",
              "      <td>2.333333</td>\n",
              "      <td>6.0</td>\n",
              "      <td>4.333333</td>\n",
              "      <td>2.0</td>\n",
              "    </tr>\n",
              "  </tbody>\n",
              "</table>\n",
              "</div>"
            ],
            "text/plain": [
              "                  D    E               \n",
              "               mean  max      mean  min\n",
              "A   C                                  \n",
              "bar large  5.500000  9.0  7.500000  6.0\n",
              "    small  5.500000  9.0  8.500000  8.0\n",
              "foo large  2.000000  5.0  4.500000  4.0\n",
              "    small  2.333333  6.0  4.333333  2.0"
            ]
          },
          "metadata": {
            "tags": []
          },
          "execution_count": 134
        }
      ]
    },
    {
      "cell_type": "code",
      "metadata": {
        "id": "xuhfc_9_8eZy",
        "colab": {
          "base_uri": "https://localhost:8080/",
          "height": 402
        },
        "outputId": "3fdaf522-8350-4c2a-8b0f-a678050a066a"
      },
      "source": [
        "import pandas as pd\n",
        "import random\n",
        "\n",
        "data = {\n",
        "    'Tipe Ujian' : ['UTS1', 'UAS1', 'UTS2', 'UAS2']*3,\n",
        "    'Mata Pelajaran' : ['Fisika']*4 + ['Matematika']*4+['Statistika']*4,\n",
        "    'Rata2 Waktu Belajar (menit)' : [random.choice(range(200, 800)) for i in range(12)],\n",
        "    'Rata2 Nilai Ujian' : [random.choice(range(40, 100)) for i in range(12)] \n",
        "}\n",
        "df = pd.DataFrame(data)\n",
        "df"
      ],
      "execution_count": null,
      "outputs": [
        {
          "output_type": "execute_result",
          "data": {
            "text/html": [
              "<div>\n",
              "<style scoped>\n",
              "    .dataframe tbody tr th:only-of-type {\n",
              "        vertical-align: middle;\n",
              "    }\n",
              "\n",
              "    .dataframe tbody tr th {\n",
              "        vertical-align: top;\n",
              "    }\n",
              "\n",
              "    .dataframe thead th {\n",
              "        text-align: right;\n",
              "    }\n",
              "</style>\n",
              "<table border=\"1\" class=\"dataframe\">\n",
              "  <thead>\n",
              "    <tr style=\"text-align: right;\">\n",
              "      <th></th>\n",
              "      <th>Tipe Ujian</th>\n",
              "      <th>Mata Pelajaran</th>\n",
              "      <th>Rata2 Waktu Belajar (menit)</th>\n",
              "      <th>Rata2 Nilai Ujian</th>\n",
              "    </tr>\n",
              "  </thead>\n",
              "  <tbody>\n",
              "    <tr>\n",
              "      <th>0</th>\n",
              "      <td>UTS1</td>\n",
              "      <td>Fisika</td>\n",
              "      <td>590</td>\n",
              "      <td>96</td>\n",
              "    </tr>\n",
              "    <tr>\n",
              "      <th>1</th>\n",
              "      <td>UAS1</td>\n",
              "      <td>Fisika</td>\n",
              "      <td>423</td>\n",
              "      <td>59</td>\n",
              "    </tr>\n",
              "    <tr>\n",
              "      <th>2</th>\n",
              "      <td>UTS2</td>\n",
              "      <td>Fisika</td>\n",
              "      <td>577</td>\n",
              "      <td>67</td>\n",
              "    </tr>\n",
              "    <tr>\n",
              "      <th>3</th>\n",
              "      <td>UAS2</td>\n",
              "      <td>Fisika</td>\n",
              "      <td>760</td>\n",
              "      <td>95</td>\n",
              "    </tr>\n",
              "    <tr>\n",
              "      <th>4</th>\n",
              "      <td>UTS1</td>\n",
              "      <td>Matematika</td>\n",
              "      <td>458</td>\n",
              "      <td>50</td>\n",
              "    </tr>\n",
              "    <tr>\n",
              "      <th>5</th>\n",
              "      <td>UAS1</td>\n",
              "      <td>Matematika</td>\n",
              "      <td>346</td>\n",
              "      <td>48</td>\n",
              "    </tr>\n",
              "    <tr>\n",
              "      <th>6</th>\n",
              "      <td>UTS2</td>\n",
              "      <td>Matematika</td>\n",
              "      <td>498</td>\n",
              "      <td>56</td>\n",
              "    </tr>\n",
              "    <tr>\n",
              "      <th>7</th>\n",
              "      <td>UAS2</td>\n",
              "      <td>Matematika</td>\n",
              "      <td>697</td>\n",
              "      <td>45</td>\n",
              "    </tr>\n",
              "    <tr>\n",
              "      <th>8</th>\n",
              "      <td>UTS1</td>\n",
              "      <td>Statistika</td>\n",
              "      <td>534</td>\n",
              "      <td>64</td>\n",
              "    </tr>\n",
              "    <tr>\n",
              "      <th>9</th>\n",
              "      <td>UAS1</td>\n",
              "      <td>Statistika</td>\n",
              "      <td>737</td>\n",
              "      <td>83</td>\n",
              "    </tr>\n",
              "    <tr>\n",
              "      <th>10</th>\n",
              "      <td>UTS2</td>\n",
              "      <td>Statistika</td>\n",
              "      <td>718</td>\n",
              "      <td>59</td>\n",
              "    </tr>\n",
              "    <tr>\n",
              "      <th>11</th>\n",
              "      <td>UAS2</td>\n",
              "      <td>Statistika</td>\n",
              "      <td>257</td>\n",
              "      <td>52</td>\n",
              "    </tr>\n",
              "  </tbody>\n",
              "</table>\n",
              "</div>"
            ],
            "text/plain": [
              "   Tipe Ujian Mata Pelajaran  Rata2 Waktu Belajar (menit)  Rata2 Nilai Ujian\n",
              "0        UTS1         Fisika                          590                 96\n",
              "1        UAS1         Fisika                          423                 59\n",
              "2        UTS2         Fisika                          577                 67\n",
              "3        UAS2         Fisika                          760                 95\n",
              "4        UTS1     Matematika                          458                 50\n",
              "5        UAS1     Matematika                          346                 48\n",
              "6        UTS2     Matematika                          498                 56\n",
              "7        UAS2     Matematika                          697                 45\n",
              "8        UTS1     Statistika                          534                 64\n",
              "9        UAS1     Statistika                          737                 83\n",
              "10       UTS2     Statistika                          718                 59\n",
              "11       UAS2     Statistika                          257                 52"
            ]
          },
          "metadata": {
            "tags": []
          },
          "execution_count": 135
        }
      ]
    },
    {
      "cell_type": "code",
      "metadata": {
        "id": "ubpOb3_58f9m",
        "colab": {
          "base_uri": "https://localhost:8080/",
          "height": 225
        },
        "outputId": "22c537a0-022d-41f4-c017-2a32d218de36"
      },
      "source": [
        "# code here\n",
        "df.pivot_table(index = 'Tipe Ujian', columns='Mata Pelajaran', values=['Rata2 Nilai Ujian', 'Rata2 Waktu Belajar (menit)'] )\n"
      ],
      "execution_count": null,
      "outputs": [
        {
          "output_type": "execute_result",
          "data": {
            "text/html": [
              "<div>\n",
              "<style scoped>\n",
              "    .dataframe tbody tr th:only-of-type {\n",
              "        vertical-align: middle;\n",
              "    }\n",
              "\n",
              "    .dataframe tbody tr th {\n",
              "        vertical-align: top;\n",
              "    }\n",
              "\n",
              "    .dataframe thead tr th {\n",
              "        text-align: left;\n",
              "    }\n",
              "\n",
              "    .dataframe thead tr:last-of-type th {\n",
              "        text-align: right;\n",
              "    }\n",
              "</style>\n",
              "<table border=\"1\" class=\"dataframe\">\n",
              "  <thead>\n",
              "    <tr>\n",
              "      <th></th>\n",
              "      <th colspan=\"3\" halign=\"left\">Rata2 Nilai Ujian</th>\n",
              "      <th colspan=\"3\" halign=\"left\">Rata2 Waktu Belajar (menit)</th>\n",
              "    </tr>\n",
              "    <tr>\n",
              "      <th>Mata Pelajaran</th>\n",
              "      <th>Fisika</th>\n",
              "      <th>Matematika</th>\n",
              "      <th>Statistika</th>\n",
              "      <th>Fisika</th>\n",
              "      <th>Matematika</th>\n",
              "      <th>Statistika</th>\n",
              "    </tr>\n",
              "    <tr>\n",
              "      <th>Tipe Ujian</th>\n",
              "      <th></th>\n",
              "      <th></th>\n",
              "      <th></th>\n",
              "      <th></th>\n",
              "      <th></th>\n",
              "      <th></th>\n",
              "    </tr>\n",
              "  </thead>\n",
              "  <tbody>\n",
              "    <tr>\n",
              "      <th>UAS1</th>\n",
              "      <td>59</td>\n",
              "      <td>48</td>\n",
              "      <td>83</td>\n",
              "      <td>423</td>\n",
              "      <td>346</td>\n",
              "      <td>737</td>\n",
              "    </tr>\n",
              "    <tr>\n",
              "      <th>UAS2</th>\n",
              "      <td>95</td>\n",
              "      <td>45</td>\n",
              "      <td>52</td>\n",
              "      <td>760</td>\n",
              "      <td>697</td>\n",
              "      <td>257</td>\n",
              "    </tr>\n",
              "    <tr>\n",
              "      <th>UTS1</th>\n",
              "      <td>96</td>\n",
              "      <td>50</td>\n",
              "      <td>64</td>\n",
              "      <td>590</td>\n",
              "      <td>458</td>\n",
              "      <td>534</td>\n",
              "    </tr>\n",
              "    <tr>\n",
              "      <th>UTS2</th>\n",
              "      <td>67</td>\n",
              "      <td>56</td>\n",
              "      <td>59</td>\n",
              "      <td>577</td>\n",
              "      <td>498</td>\n",
              "      <td>718</td>\n",
              "    </tr>\n",
              "  </tbody>\n",
              "</table>\n",
              "</div>"
            ],
            "text/plain": [
              "               Rata2 Nilai Ujian             ... Rata2 Waktu Belajar (menit)           \n",
              "Mata Pelajaran            Fisika Matematika  ...                  Matematika Statistika\n",
              "Tipe Ujian                                   ...                                       \n",
              "UAS1                          59         48  ...                         346        737\n",
              "UAS2                          95         45  ...                         697        257\n",
              "UTS1                          96         50  ...                         458        534\n",
              "UTS2                          67         56  ...                         498        718\n",
              "\n",
              "[4 rows x 6 columns]"
            ]
          },
          "metadata": {
            "tags": []
          },
          "execution_count": 136
        }
      ]
    },
    {
      "cell_type": "code",
      "metadata": {
        "id": "dl3Y0LKL8y94",
        "colab": {
          "base_uri": "https://localhost:8080/",
          "height": 254
        },
        "outputId": "074d3dee-d5bd-4fc6-ad85-c9d111dd8d75"
      },
      "source": [
        "import pandas as pd\n",
        "\n",
        "data = {\n",
        "    'Tipe Ujian' : ['UTS1', 'UAS1']*3,\n",
        "    'Mata Pelajaran' :['Statistika', 'Fisika', 'Fisika', 'Statistika', 'Fisika', 'Statistika'],\n",
        "    'Jumlah Peserta' : [14, 17, 12, 16, 14, 13]\n",
        "}\n",
        "df = pd.DataFrame(data).set_index('Tipe Ujian')\n",
        "df"
      ],
      "execution_count": null,
      "outputs": [
        {
          "output_type": "execute_result",
          "data": {
            "text/html": [
              "<div>\n",
              "<style scoped>\n",
              "    .dataframe tbody tr th:only-of-type {\n",
              "        vertical-align: middle;\n",
              "    }\n",
              "\n",
              "    .dataframe tbody tr th {\n",
              "        vertical-align: top;\n",
              "    }\n",
              "\n",
              "    .dataframe thead th {\n",
              "        text-align: right;\n",
              "    }\n",
              "</style>\n",
              "<table border=\"1\" class=\"dataframe\">\n",
              "  <thead>\n",
              "    <tr style=\"text-align: right;\">\n",
              "      <th></th>\n",
              "      <th>Mata Pelajaran</th>\n",
              "      <th>Jumlah Peserta</th>\n",
              "    </tr>\n",
              "    <tr>\n",
              "      <th>Tipe Ujian</th>\n",
              "      <th></th>\n",
              "      <th></th>\n",
              "    </tr>\n",
              "  </thead>\n",
              "  <tbody>\n",
              "    <tr>\n",
              "      <th>UTS1</th>\n",
              "      <td>Statistika</td>\n",
              "      <td>14</td>\n",
              "    </tr>\n",
              "    <tr>\n",
              "      <th>UAS1</th>\n",
              "      <td>Fisika</td>\n",
              "      <td>17</td>\n",
              "    </tr>\n",
              "    <tr>\n",
              "      <th>UTS1</th>\n",
              "      <td>Fisika</td>\n",
              "      <td>12</td>\n",
              "    </tr>\n",
              "    <tr>\n",
              "      <th>UAS1</th>\n",
              "      <td>Statistika</td>\n",
              "      <td>16</td>\n",
              "    </tr>\n",
              "    <tr>\n",
              "      <th>UTS1</th>\n",
              "      <td>Fisika</td>\n",
              "      <td>14</td>\n",
              "    </tr>\n",
              "    <tr>\n",
              "      <th>UAS1</th>\n",
              "      <td>Statistika</td>\n",
              "      <td>13</td>\n",
              "    </tr>\n",
              "  </tbody>\n",
              "</table>\n",
              "</div>"
            ],
            "text/plain": [
              "           Mata Pelajaran  Jumlah Peserta\n",
              "Tipe Ujian                               \n",
              "UTS1           Statistika              14\n",
              "UAS1               Fisika              17\n",
              "UTS1               Fisika              12\n",
              "UAS1           Statistika              16\n",
              "UTS1               Fisika              14\n",
              "UAS1           Statistika              13"
            ]
          },
          "metadata": {
            "tags": []
          },
          "execution_count": 137
        }
      ]
    },
    {
      "cell_type": "code",
      "metadata": {
        "id": "plDbhet980d4",
        "colab": {
          "base_uri": "https://localhost:8080/",
          "height": 136
        },
        "outputId": "5644ee7a-14ef-41a0-aa47-043bdaa7ad03"
      },
      "source": [
        "df.pivot_table(index='Tipe Ujian', columns='Mata Pelajaran', values='Jumlah Peserta', aggfunc='sum')"
      ],
      "execution_count": null,
      "outputs": [
        {
          "output_type": "execute_result",
          "data": {
            "text/html": [
              "<div>\n",
              "<style scoped>\n",
              "    .dataframe tbody tr th:only-of-type {\n",
              "        vertical-align: middle;\n",
              "    }\n",
              "\n",
              "    .dataframe tbody tr th {\n",
              "        vertical-align: top;\n",
              "    }\n",
              "\n",
              "    .dataframe thead th {\n",
              "        text-align: right;\n",
              "    }\n",
              "</style>\n",
              "<table border=\"1\" class=\"dataframe\">\n",
              "  <thead>\n",
              "    <tr style=\"text-align: right;\">\n",
              "      <th>Mata Pelajaran</th>\n",
              "      <th>Fisika</th>\n",
              "      <th>Statistika</th>\n",
              "    </tr>\n",
              "    <tr>\n",
              "      <th>Tipe Ujian</th>\n",
              "      <th></th>\n",
              "      <th></th>\n",
              "    </tr>\n",
              "  </thead>\n",
              "  <tbody>\n",
              "    <tr>\n",
              "      <th>UAS1</th>\n",
              "      <td>17</td>\n",
              "      <td>29</td>\n",
              "    </tr>\n",
              "    <tr>\n",
              "      <th>UTS1</th>\n",
              "      <td>26</td>\n",
              "      <td>14</td>\n",
              "    </tr>\n",
              "  </tbody>\n",
              "</table>\n",
              "</div>"
            ],
            "text/plain": [
              "Mata Pelajaran  Fisika  Statistika\n",
              "Tipe Ujian                        \n",
              "UAS1                17          29\n",
              "UTS1                26          14"
            ]
          },
          "metadata": {
            "tags": []
          },
          "execution_count": 138
        }
      ]
    },
    {
      "cell_type": "markdown",
      "metadata": {
        "id": "xg6e09tMXRXV"
      },
      "source": [
        "# **Melt (Columns -> Rows) (Unpivoting)**\n",
        "\n",
        "![reshaping_data_melt.png](https://raw.githubusercontent.com/nurimammasri/Wooky-Pandas/master/Images/reshaping_data_melt.png)\n",
        "\n",
        "`Melting` adalah `unpivoting`, melting mengubah suatu data dengan memutar dari yang tadinya berada di posisi column menjadi di posisi row.\n",
        "\n",
        "`Melting` mengubah data yang tadinya lebar menjadi panjang.\n",
        "\n",
        "`Melting` berguna ketika ada suatu kasus dimana terdapat satu atau lebih column yang merupakan identifier variable, dan columnn lain adalah measure variabel. Identifier variabel adalah suatu entitias yang melakukan identifikasi terhadap suatu variabel yang sedang di ukur.\n",
        "\n",
        "Apabila kita memiliki suatu besaran yang nilainya selalu berubah, kemudian kita ingin mengamati perubahan itu, berarti kita sedang memperlakukan besaran itu sebagai measure variabel. dan kita perlu sesuatu yang mereferensikan perubahan tersebut. hal itu di sebut identifier variable.\n",
        "\n",
        "contohnya nyatanya adalah apabila kita mengamati perubahan suhu setiap waktu. maka perubahan suhu adalah variabel yang di ukur, dan waktu adalah identifier variabel.\n",
        "\n",
        "Dalam menggunakan `method melt`, ada beberapa argument yang penting untuk di perhatikan, diantaranya adalah :\n",
        "\n",
        "\n",
        "\n",
        "*   `id_vars` : columns mana yang akan dijadikan identifier variabel\n",
        "\n",
        "*   `value_vars` : columns yang akan menjadi value setelah kita melakukan ‘unpivot’ terhadap variabel, jika tidak di definisikan maka semua column selain id_vars akan dijadikan value_vars\n",
        "\n",
        "* `var_name` = untuk bagian nama columns value variable\n",
        "\n",
        "* `value_name` = untuk bagian nama columns value 'value'\n",
        "\n",
        "---\n",
        "\n",
        "`pd.melt(df, id_vars=None, value_vars=None, var_name=None, value_name='value', col_level=None)`\n",
        "\n",
        "Parameters\n",
        "\n",
        "---\n",
        "\n",
        "*   `id_vars` : tuple, list, or ndarray, optional\n",
        "\n",
        "    Column(s) to use as identifier variables.\n",
        "\n",
        "*   `value_vars` : tuple, list, or ndarray, optional\n",
        "\n",
        "    Column(s) to unpivot. If not specified, uses all columns that are not set as `id_vars`.\n",
        "\n",
        "*   `var_name` : scalar\n",
        "\n",
        "    Name to use for the 'variable' column. If None it uses ``frame.columns.name`` or 'variable'.\n",
        "\n",
        "*   `value_name` : scalar, default 'value'\n",
        "\n",
        "    Name to use for the 'value' column.\n",
        "\n",
        "*   `col_level` : int or str, optional\n",
        "\n",
        "    If columns are a MultiIndex then use this level to melt.\n",
        "    \n",
        "\n"
      ]
    },
    {
      "cell_type": "code",
      "metadata": {
        "id": "AMt5pF7MX68E"
      },
      "source": [
        "# pd.melt?"
      ],
      "execution_count": null,
      "outputs": []
    },
    {
      "cell_type": "code",
      "metadata": {
        "id": "rZxjk7rqWRV0",
        "colab": {
          "base_uri": "https://localhost:8080/",
          "height": 136
        },
        "outputId": "7fb19f16-682e-4d9c-fc8a-5bb3e60fb143"
      },
      "source": [
        "# Membuat datafame sederhana\n",
        "  \n",
        "# importing pandas as pd \n",
        "import pandas as pd \n",
        "  \n",
        "# membuat dataframe\n",
        "df = pd.DataFrame({'Name': {0: 'John', 1: 'Bob', 2: 'Shiela'}, \n",
        "                   'Course': {0: 'Masters', 1: 'Graduate', 2: 'Graduate'}, \n",
        "                   'Age': {0: 27, 1: 23, 2: 21}}) \n",
        "df "
      ],
      "execution_count": null,
      "outputs": [
        {
          "output_type": "execute_result",
          "data": {
            "text/html": [
              "<div>\n",
              "<style scoped>\n",
              "    .dataframe tbody tr th:only-of-type {\n",
              "        vertical-align: middle;\n",
              "    }\n",
              "\n",
              "    .dataframe tbody tr th {\n",
              "        vertical-align: top;\n",
              "    }\n",
              "\n",
              "    .dataframe thead th {\n",
              "        text-align: right;\n",
              "    }\n",
              "</style>\n",
              "<table border=\"1\" class=\"dataframe\">\n",
              "  <thead>\n",
              "    <tr style=\"text-align: right;\">\n",
              "      <th></th>\n",
              "      <th>Name</th>\n",
              "      <th>Course</th>\n",
              "      <th>Age</th>\n",
              "    </tr>\n",
              "  </thead>\n",
              "  <tbody>\n",
              "    <tr>\n",
              "      <th>0</th>\n",
              "      <td>John</td>\n",
              "      <td>Masters</td>\n",
              "      <td>27</td>\n",
              "    </tr>\n",
              "    <tr>\n",
              "      <th>1</th>\n",
              "      <td>Bob</td>\n",
              "      <td>Graduate</td>\n",
              "      <td>23</td>\n",
              "    </tr>\n",
              "    <tr>\n",
              "      <th>2</th>\n",
              "      <td>Shiela</td>\n",
              "      <td>Graduate</td>\n",
              "      <td>21</td>\n",
              "    </tr>\n",
              "  </tbody>\n",
              "</table>\n",
              "</div>"
            ],
            "text/plain": [
              "     Name    Course  Age\n",
              "0    John   Masters   27\n",
              "1     Bob  Graduate   23\n",
              "2  Shiela  Graduate   21"
            ]
          },
          "metadata": {
            "tags": []
          },
          "execution_count": 140
        }
      ]
    },
    {
      "cell_type": "code",
      "metadata": {
        "id": "A2pnisCaXva9",
        "colab": {
          "base_uri": "https://localhost:8080/",
          "height": 225
        },
        "outputId": "a76054b3-33af-4939-f17f-346bc5730c73"
      },
      "source": [
        "# Unpivot table \n",
        "pd.melt(df, id_vars =['Name'], value_vars =['Course', 'Age']) "
      ],
      "execution_count": null,
      "outputs": [
        {
          "output_type": "execute_result",
          "data": {
            "text/html": [
              "<div>\n",
              "<style scoped>\n",
              "    .dataframe tbody tr th:only-of-type {\n",
              "        vertical-align: middle;\n",
              "    }\n",
              "\n",
              "    .dataframe tbody tr th {\n",
              "        vertical-align: top;\n",
              "    }\n",
              "\n",
              "    .dataframe thead th {\n",
              "        text-align: right;\n",
              "    }\n",
              "</style>\n",
              "<table border=\"1\" class=\"dataframe\">\n",
              "  <thead>\n",
              "    <tr style=\"text-align: right;\">\n",
              "      <th></th>\n",
              "      <th>Name</th>\n",
              "      <th>variable</th>\n",
              "      <th>value</th>\n",
              "    </tr>\n",
              "  </thead>\n",
              "  <tbody>\n",
              "    <tr>\n",
              "      <th>0</th>\n",
              "      <td>John</td>\n",
              "      <td>Course</td>\n",
              "      <td>Masters</td>\n",
              "    </tr>\n",
              "    <tr>\n",
              "      <th>1</th>\n",
              "      <td>Bob</td>\n",
              "      <td>Course</td>\n",
              "      <td>Graduate</td>\n",
              "    </tr>\n",
              "    <tr>\n",
              "      <th>2</th>\n",
              "      <td>Shiela</td>\n",
              "      <td>Course</td>\n",
              "      <td>Graduate</td>\n",
              "    </tr>\n",
              "    <tr>\n",
              "      <th>3</th>\n",
              "      <td>John</td>\n",
              "      <td>Age</td>\n",
              "      <td>27</td>\n",
              "    </tr>\n",
              "    <tr>\n",
              "      <th>4</th>\n",
              "      <td>Bob</td>\n",
              "      <td>Age</td>\n",
              "      <td>23</td>\n",
              "    </tr>\n",
              "    <tr>\n",
              "      <th>5</th>\n",
              "      <td>Shiela</td>\n",
              "      <td>Age</td>\n",
              "      <td>21</td>\n",
              "    </tr>\n",
              "  </tbody>\n",
              "</table>\n",
              "</div>"
            ],
            "text/plain": [
              "     Name variable     value\n",
              "0    John   Course   Masters\n",
              "1     Bob   Course  Graduate\n",
              "2  Shiela   Course  Graduate\n",
              "3    John      Age        27\n",
              "4     Bob      Age        23\n",
              "5  Shiela      Age        21"
            ]
          },
          "metadata": {
            "tags": []
          },
          "execution_count": 141
        }
      ]
    },
    {
      "cell_type": "code",
      "metadata": {
        "id": "PMxpEBldWMd3",
        "colab": {
          "base_uri": "https://localhost:8080/",
          "height": 225
        },
        "outputId": "8f8dc12e-bf57-4973-b839-fe483ee71a34"
      },
      "source": [
        "import pandas as pd\n",
        "penjualan = {\n",
        "    'toko':['Bandung', 'Garut', 'Jakarta', 'Bandung', 'Garut', 'Jakarta'],\n",
        "    'Barang':['Telur', 'Telur', 'Telur', 'Minyak', 'Minyak', 'Minyak'],\n",
        "    'Hasil':[200000, 300000, 150000, 100000, 120000, 400000]\n",
        "}\n",
        "\n",
        "df = pd.DataFrame(penjualan)\n",
        "df"
      ],
      "execution_count": null,
      "outputs": [
        {
          "output_type": "execute_result",
          "data": {
            "text/html": [
              "<div>\n",
              "<style scoped>\n",
              "    .dataframe tbody tr th:only-of-type {\n",
              "        vertical-align: middle;\n",
              "    }\n",
              "\n",
              "    .dataframe tbody tr th {\n",
              "        vertical-align: top;\n",
              "    }\n",
              "\n",
              "    .dataframe thead th {\n",
              "        text-align: right;\n",
              "    }\n",
              "</style>\n",
              "<table border=\"1\" class=\"dataframe\">\n",
              "  <thead>\n",
              "    <tr style=\"text-align: right;\">\n",
              "      <th></th>\n",
              "      <th>toko</th>\n",
              "      <th>Barang</th>\n",
              "      <th>Hasil</th>\n",
              "    </tr>\n",
              "  </thead>\n",
              "  <tbody>\n",
              "    <tr>\n",
              "      <th>0</th>\n",
              "      <td>Bandung</td>\n",
              "      <td>Telur</td>\n",
              "      <td>200000</td>\n",
              "    </tr>\n",
              "    <tr>\n",
              "      <th>1</th>\n",
              "      <td>Garut</td>\n",
              "      <td>Telur</td>\n",
              "      <td>300000</td>\n",
              "    </tr>\n",
              "    <tr>\n",
              "      <th>2</th>\n",
              "      <td>Jakarta</td>\n",
              "      <td>Telur</td>\n",
              "      <td>150000</td>\n",
              "    </tr>\n",
              "    <tr>\n",
              "      <th>3</th>\n",
              "      <td>Bandung</td>\n",
              "      <td>Minyak</td>\n",
              "      <td>100000</td>\n",
              "    </tr>\n",
              "    <tr>\n",
              "      <th>4</th>\n",
              "      <td>Garut</td>\n",
              "      <td>Minyak</td>\n",
              "      <td>120000</td>\n",
              "    </tr>\n",
              "    <tr>\n",
              "      <th>5</th>\n",
              "      <td>Jakarta</td>\n",
              "      <td>Minyak</td>\n",
              "      <td>400000</td>\n",
              "    </tr>\n",
              "  </tbody>\n",
              "</table>\n",
              "</div>"
            ],
            "text/plain": [
              "      toko  Barang   Hasil\n",
              "0  Bandung   Telur  200000\n",
              "1    Garut   Telur  300000\n",
              "2  Jakarta   Telur  150000\n",
              "3  Bandung  Minyak  100000\n",
              "4    Garut  Minyak  120000\n",
              "5  Jakarta  Minyak  400000"
            ]
          },
          "metadata": {
            "tags": []
          },
          "execution_count": 142
        }
      ]
    },
    {
      "cell_type": "code",
      "metadata": {
        "id": "p3cQCue0XkFI",
        "colab": {
          "base_uri": "https://localhost:8080/",
          "height": 225
        },
        "outputId": "0c46e123-5de1-452c-9b41-a6521e5c05d4"
      },
      "source": [
        "df.melt(id_vars=['toko', 'Barang'], value_vars='Hasil')"
      ],
      "execution_count": null,
      "outputs": [
        {
          "output_type": "execute_result",
          "data": {
            "text/html": [
              "<div>\n",
              "<style scoped>\n",
              "    .dataframe tbody tr th:only-of-type {\n",
              "        vertical-align: middle;\n",
              "    }\n",
              "\n",
              "    .dataframe tbody tr th {\n",
              "        vertical-align: top;\n",
              "    }\n",
              "\n",
              "    .dataframe thead th {\n",
              "        text-align: right;\n",
              "    }\n",
              "</style>\n",
              "<table border=\"1\" class=\"dataframe\">\n",
              "  <thead>\n",
              "    <tr style=\"text-align: right;\">\n",
              "      <th></th>\n",
              "      <th>toko</th>\n",
              "      <th>Barang</th>\n",
              "      <th>variable</th>\n",
              "      <th>value</th>\n",
              "    </tr>\n",
              "  </thead>\n",
              "  <tbody>\n",
              "    <tr>\n",
              "      <th>0</th>\n",
              "      <td>Bandung</td>\n",
              "      <td>Telur</td>\n",
              "      <td>Hasil</td>\n",
              "      <td>200000</td>\n",
              "    </tr>\n",
              "    <tr>\n",
              "      <th>1</th>\n",
              "      <td>Garut</td>\n",
              "      <td>Telur</td>\n",
              "      <td>Hasil</td>\n",
              "      <td>300000</td>\n",
              "    </tr>\n",
              "    <tr>\n",
              "      <th>2</th>\n",
              "      <td>Jakarta</td>\n",
              "      <td>Telur</td>\n",
              "      <td>Hasil</td>\n",
              "      <td>150000</td>\n",
              "    </tr>\n",
              "    <tr>\n",
              "      <th>3</th>\n",
              "      <td>Bandung</td>\n",
              "      <td>Minyak</td>\n",
              "      <td>Hasil</td>\n",
              "      <td>100000</td>\n",
              "    </tr>\n",
              "    <tr>\n",
              "      <th>4</th>\n",
              "      <td>Garut</td>\n",
              "      <td>Minyak</td>\n",
              "      <td>Hasil</td>\n",
              "      <td>120000</td>\n",
              "    </tr>\n",
              "    <tr>\n",
              "      <th>5</th>\n",
              "      <td>Jakarta</td>\n",
              "      <td>Minyak</td>\n",
              "      <td>Hasil</td>\n",
              "      <td>400000</td>\n",
              "    </tr>\n",
              "  </tbody>\n",
              "</table>\n",
              "</div>"
            ],
            "text/plain": [
              "      toko  Barang variable   value\n",
              "0  Bandung   Telur    Hasil  200000\n",
              "1    Garut   Telur    Hasil  300000\n",
              "2  Jakarta   Telur    Hasil  150000\n",
              "3  Bandung  Minyak    Hasil  100000\n",
              "4    Garut  Minyak    Hasil  120000\n",
              "5  Jakarta  Minyak    Hasil  400000"
            ]
          },
          "metadata": {
            "tags": []
          },
          "execution_count": 143
        }
      ]
    },
    {
      "cell_type": "code",
      "metadata": {
        "id": "dfqYGHL5YN_8",
        "colab": {
          "base_uri": "https://localhost:8080/",
          "height": 225
        },
        "outputId": "228516e9-0dfb-4f41-e630-a0a865c2916d"
      },
      "source": [
        "df.melt(id_vars=['toko', 'Barang'], value_vars='Hasil', var_name='Keterangan', value_name='Harga')"
      ],
      "execution_count": null,
      "outputs": [
        {
          "output_type": "execute_result",
          "data": {
            "text/html": [
              "<div>\n",
              "<style scoped>\n",
              "    .dataframe tbody tr th:only-of-type {\n",
              "        vertical-align: middle;\n",
              "    }\n",
              "\n",
              "    .dataframe tbody tr th {\n",
              "        vertical-align: top;\n",
              "    }\n",
              "\n",
              "    .dataframe thead th {\n",
              "        text-align: right;\n",
              "    }\n",
              "</style>\n",
              "<table border=\"1\" class=\"dataframe\">\n",
              "  <thead>\n",
              "    <tr style=\"text-align: right;\">\n",
              "      <th></th>\n",
              "      <th>toko</th>\n",
              "      <th>Barang</th>\n",
              "      <th>Keterangan</th>\n",
              "      <th>Harga</th>\n",
              "    </tr>\n",
              "  </thead>\n",
              "  <tbody>\n",
              "    <tr>\n",
              "      <th>0</th>\n",
              "      <td>Bandung</td>\n",
              "      <td>Telur</td>\n",
              "      <td>Hasil</td>\n",
              "      <td>200000</td>\n",
              "    </tr>\n",
              "    <tr>\n",
              "      <th>1</th>\n",
              "      <td>Garut</td>\n",
              "      <td>Telur</td>\n",
              "      <td>Hasil</td>\n",
              "      <td>300000</td>\n",
              "    </tr>\n",
              "    <tr>\n",
              "      <th>2</th>\n",
              "      <td>Jakarta</td>\n",
              "      <td>Telur</td>\n",
              "      <td>Hasil</td>\n",
              "      <td>150000</td>\n",
              "    </tr>\n",
              "    <tr>\n",
              "      <th>3</th>\n",
              "      <td>Bandung</td>\n",
              "      <td>Minyak</td>\n",
              "      <td>Hasil</td>\n",
              "      <td>100000</td>\n",
              "    </tr>\n",
              "    <tr>\n",
              "      <th>4</th>\n",
              "      <td>Garut</td>\n",
              "      <td>Minyak</td>\n",
              "      <td>Hasil</td>\n",
              "      <td>120000</td>\n",
              "    </tr>\n",
              "    <tr>\n",
              "      <th>5</th>\n",
              "      <td>Jakarta</td>\n",
              "      <td>Minyak</td>\n",
              "      <td>Hasil</td>\n",
              "      <td>400000</td>\n",
              "    </tr>\n",
              "  </tbody>\n",
              "</table>\n",
              "</div>"
            ],
            "text/plain": [
              "      toko  Barang Keterangan   Harga\n",
              "0  Bandung   Telur      Hasil  200000\n",
              "1    Garut   Telur      Hasil  300000\n",
              "2  Jakarta   Telur      Hasil  150000\n",
              "3  Bandung  Minyak      Hasil  100000\n",
              "4    Garut  Minyak      Hasil  120000\n",
              "5  Jakarta  Minyak      Hasil  400000"
            ]
          },
          "metadata": {
            "tags": []
          },
          "execution_count": 144
        }
      ]
    },
    {
      "cell_type": "code",
      "metadata": {
        "id": "kQI_eIAMWR0U",
        "colab": {
          "base_uri": "https://localhost:8080/",
          "height": 166
        },
        "outputId": "405e2034-43b3-476d-fb30-18f58dd9c90b"
      },
      "source": [
        "current_df = df.pivot_table(index='toko', columns='Barang', values='Hasil')\n",
        "current_df"
      ],
      "execution_count": null,
      "outputs": [
        {
          "output_type": "execute_result",
          "data": {
            "text/html": [
              "<div>\n",
              "<style scoped>\n",
              "    .dataframe tbody tr th:only-of-type {\n",
              "        vertical-align: middle;\n",
              "    }\n",
              "\n",
              "    .dataframe tbody tr th {\n",
              "        vertical-align: top;\n",
              "    }\n",
              "\n",
              "    .dataframe thead th {\n",
              "        text-align: right;\n",
              "    }\n",
              "</style>\n",
              "<table border=\"1\" class=\"dataframe\">\n",
              "  <thead>\n",
              "    <tr style=\"text-align: right;\">\n",
              "      <th>Barang</th>\n",
              "      <th>Minyak</th>\n",
              "      <th>Telur</th>\n",
              "    </tr>\n",
              "    <tr>\n",
              "      <th>toko</th>\n",
              "      <th></th>\n",
              "      <th></th>\n",
              "    </tr>\n",
              "  </thead>\n",
              "  <tbody>\n",
              "    <tr>\n",
              "      <th>Bandung</th>\n",
              "      <td>100000</td>\n",
              "      <td>200000</td>\n",
              "    </tr>\n",
              "    <tr>\n",
              "      <th>Garut</th>\n",
              "      <td>120000</td>\n",
              "      <td>300000</td>\n",
              "    </tr>\n",
              "    <tr>\n",
              "      <th>Jakarta</th>\n",
              "      <td>400000</td>\n",
              "      <td>150000</td>\n",
              "    </tr>\n",
              "  </tbody>\n",
              "</table>\n",
              "</div>"
            ],
            "text/plain": [
              "Barang   Minyak   Telur\n",
              "toko                   \n",
              "Bandung  100000  200000\n",
              "Garut    120000  300000\n",
              "Jakarta  400000  150000"
            ]
          },
          "metadata": {
            "tags": []
          },
          "execution_count": 145
        }
      ]
    },
    {
      "cell_type": "code",
      "metadata": {
        "id": "LBA2noCdWTVF",
        "colab": {
          "base_uri": "https://localhost:8080/",
          "height": 225
        },
        "outputId": "3fcdfa2e-0e99-4e54-ba39-b0479c9b9662"
      },
      "source": [
        "current_df.melt()"
      ],
      "execution_count": null,
      "outputs": [
        {
          "output_type": "execute_result",
          "data": {
            "text/html": [
              "<div>\n",
              "<style scoped>\n",
              "    .dataframe tbody tr th:only-of-type {\n",
              "        vertical-align: middle;\n",
              "    }\n",
              "\n",
              "    .dataframe tbody tr th {\n",
              "        vertical-align: top;\n",
              "    }\n",
              "\n",
              "    .dataframe thead th {\n",
              "        text-align: right;\n",
              "    }\n",
              "</style>\n",
              "<table border=\"1\" class=\"dataframe\">\n",
              "  <thead>\n",
              "    <tr style=\"text-align: right;\">\n",
              "      <th></th>\n",
              "      <th>Barang</th>\n",
              "      <th>value</th>\n",
              "    </tr>\n",
              "  </thead>\n",
              "  <tbody>\n",
              "    <tr>\n",
              "      <th>0</th>\n",
              "      <td>Minyak</td>\n",
              "      <td>100000</td>\n",
              "    </tr>\n",
              "    <tr>\n",
              "      <th>1</th>\n",
              "      <td>Minyak</td>\n",
              "      <td>120000</td>\n",
              "    </tr>\n",
              "    <tr>\n",
              "      <th>2</th>\n",
              "      <td>Minyak</td>\n",
              "      <td>400000</td>\n",
              "    </tr>\n",
              "    <tr>\n",
              "      <th>3</th>\n",
              "      <td>Telur</td>\n",
              "      <td>200000</td>\n",
              "    </tr>\n",
              "    <tr>\n",
              "      <th>4</th>\n",
              "      <td>Telur</td>\n",
              "      <td>300000</td>\n",
              "    </tr>\n",
              "    <tr>\n",
              "      <th>5</th>\n",
              "      <td>Telur</td>\n",
              "      <td>150000</td>\n",
              "    </tr>\n",
              "  </tbody>\n",
              "</table>\n",
              "</div>"
            ],
            "text/plain": [
              "   Barang   value\n",
              "0  Minyak  100000\n",
              "1  Minyak  120000\n",
              "2  Minyak  400000\n",
              "3   Telur  200000\n",
              "4   Telur  300000\n",
              "5   Telur  150000"
            ]
          },
          "metadata": {
            "tags": []
          },
          "execution_count": 146
        }
      ]
    },
    {
      "cell_type": "code",
      "metadata": {
        "id": "x1LGW_N4vy6C",
        "colab": {
          "base_uri": "https://localhost:8080/",
          "height": 136
        },
        "outputId": "2bd3501b-9b6d-4462-c3b5-dbacbaafdff4"
      },
      "source": [
        "df = pd.DataFrame({'A': {0: 'a', 1: 'b', 2: 'c'},\n",
        "                    'B': {0: 1, 1: 3, 2: 5},\n",
        "                    'C': {0: 2, 1: 4, 2: 6}})\n",
        "df"
      ],
      "execution_count": null,
      "outputs": [
        {
          "output_type": "execute_result",
          "data": {
            "text/html": [
              "<div>\n",
              "<style scoped>\n",
              "    .dataframe tbody tr th:only-of-type {\n",
              "        vertical-align: middle;\n",
              "    }\n",
              "\n",
              "    .dataframe tbody tr th {\n",
              "        vertical-align: top;\n",
              "    }\n",
              "\n",
              "    .dataframe thead th {\n",
              "        text-align: right;\n",
              "    }\n",
              "</style>\n",
              "<table border=\"1\" class=\"dataframe\">\n",
              "  <thead>\n",
              "    <tr style=\"text-align: right;\">\n",
              "      <th></th>\n",
              "      <th>A</th>\n",
              "      <th>B</th>\n",
              "      <th>C</th>\n",
              "    </tr>\n",
              "  </thead>\n",
              "  <tbody>\n",
              "    <tr>\n",
              "      <th>0</th>\n",
              "      <td>a</td>\n",
              "      <td>1</td>\n",
              "      <td>2</td>\n",
              "    </tr>\n",
              "    <tr>\n",
              "      <th>1</th>\n",
              "      <td>b</td>\n",
              "      <td>3</td>\n",
              "      <td>4</td>\n",
              "    </tr>\n",
              "    <tr>\n",
              "      <th>2</th>\n",
              "      <td>c</td>\n",
              "      <td>5</td>\n",
              "      <td>6</td>\n",
              "    </tr>\n",
              "  </tbody>\n",
              "</table>\n",
              "</div>"
            ],
            "text/plain": [
              "   A  B  C\n",
              "0  a  1  2\n",
              "1  b  3  4\n",
              "2  c  5  6"
            ]
          },
          "metadata": {
            "tags": []
          },
          "execution_count": 147
        }
      ]
    },
    {
      "cell_type": "code",
      "metadata": {
        "id": "PKm2yCXuwHGx",
        "colab": {
          "base_uri": "https://localhost:8080/",
          "height": 136
        },
        "outputId": "f0d82ac9-7291-4ea6-febf-1906ad96deda"
      },
      "source": [
        "pd.melt(df, id_vars=['A'], value_vars=['B'])"
      ],
      "execution_count": null,
      "outputs": [
        {
          "output_type": "execute_result",
          "data": {
            "text/html": [
              "<div>\n",
              "<style scoped>\n",
              "    .dataframe tbody tr th:only-of-type {\n",
              "        vertical-align: middle;\n",
              "    }\n",
              "\n",
              "    .dataframe tbody tr th {\n",
              "        vertical-align: top;\n",
              "    }\n",
              "\n",
              "    .dataframe thead th {\n",
              "        text-align: right;\n",
              "    }\n",
              "</style>\n",
              "<table border=\"1\" class=\"dataframe\">\n",
              "  <thead>\n",
              "    <tr style=\"text-align: right;\">\n",
              "      <th></th>\n",
              "      <th>A</th>\n",
              "      <th>variable</th>\n",
              "      <th>value</th>\n",
              "    </tr>\n",
              "  </thead>\n",
              "  <tbody>\n",
              "    <tr>\n",
              "      <th>0</th>\n",
              "      <td>a</td>\n",
              "      <td>B</td>\n",
              "      <td>1</td>\n",
              "    </tr>\n",
              "    <tr>\n",
              "      <th>1</th>\n",
              "      <td>b</td>\n",
              "      <td>B</td>\n",
              "      <td>3</td>\n",
              "    </tr>\n",
              "    <tr>\n",
              "      <th>2</th>\n",
              "      <td>c</td>\n",
              "      <td>B</td>\n",
              "      <td>5</td>\n",
              "    </tr>\n",
              "  </tbody>\n",
              "</table>\n",
              "</div>"
            ],
            "text/plain": [
              "   A variable  value\n",
              "0  a        B      1\n",
              "1  b        B      3\n",
              "2  c        B      5"
            ]
          },
          "metadata": {
            "tags": []
          },
          "execution_count": 148
        }
      ]
    },
    {
      "cell_type": "code",
      "metadata": {
        "id": "W1A0av5rwLHC",
        "colab": {
          "base_uri": "https://localhost:8080/",
          "height": 225
        },
        "outputId": "c8c30039-fc91-4f67-8008-70f721d8005e"
      },
      "source": [
        "pd.melt(df, id_vars=['A'], value_vars=['B', 'C'])"
      ],
      "execution_count": null,
      "outputs": [
        {
          "output_type": "execute_result",
          "data": {
            "text/html": [
              "<div>\n",
              "<style scoped>\n",
              "    .dataframe tbody tr th:only-of-type {\n",
              "        vertical-align: middle;\n",
              "    }\n",
              "\n",
              "    .dataframe tbody tr th {\n",
              "        vertical-align: top;\n",
              "    }\n",
              "\n",
              "    .dataframe thead th {\n",
              "        text-align: right;\n",
              "    }\n",
              "</style>\n",
              "<table border=\"1\" class=\"dataframe\">\n",
              "  <thead>\n",
              "    <tr style=\"text-align: right;\">\n",
              "      <th></th>\n",
              "      <th>A</th>\n",
              "      <th>variable</th>\n",
              "      <th>value</th>\n",
              "    </tr>\n",
              "  </thead>\n",
              "  <tbody>\n",
              "    <tr>\n",
              "      <th>0</th>\n",
              "      <td>a</td>\n",
              "      <td>B</td>\n",
              "      <td>1</td>\n",
              "    </tr>\n",
              "    <tr>\n",
              "      <th>1</th>\n",
              "      <td>b</td>\n",
              "      <td>B</td>\n",
              "      <td>3</td>\n",
              "    </tr>\n",
              "    <tr>\n",
              "      <th>2</th>\n",
              "      <td>c</td>\n",
              "      <td>B</td>\n",
              "      <td>5</td>\n",
              "    </tr>\n",
              "    <tr>\n",
              "      <th>3</th>\n",
              "      <td>a</td>\n",
              "      <td>C</td>\n",
              "      <td>2</td>\n",
              "    </tr>\n",
              "    <tr>\n",
              "      <th>4</th>\n",
              "      <td>b</td>\n",
              "      <td>C</td>\n",
              "      <td>4</td>\n",
              "    </tr>\n",
              "    <tr>\n",
              "      <th>5</th>\n",
              "      <td>c</td>\n",
              "      <td>C</td>\n",
              "      <td>6</td>\n",
              "    </tr>\n",
              "  </tbody>\n",
              "</table>\n",
              "</div>"
            ],
            "text/plain": [
              "   A variable  value\n",
              "0  a        B      1\n",
              "1  b        B      3\n",
              "2  c        B      5\n",
              "3  a        C      2\n",
              "4  b        C      4\n",
              "5  c        C      6"
            ]
          },
          "metadata": {
            "tags": []
          },
          "execution_count": 149
        }
      ]
    },
    {
      "cell_type": "code",
      "metadata": {
        "id": "B0b6sUeAwQBj",
        "colab": {
          "base_uri": "https://localhost:8080/",
          "height": 136
        },
        "outputId": "6e866625-fd73-49f8-b604-13759619864a"
      },
      "source": [
        "# The names of 'variable' and 'value' columns can be customized:\n",
        "pd.melt(df, id_vars=['A'], value_vars=['B'], var_name='myVarname', value_name='myValname')"
      ],
      "execution_count": null,
      "outputs": [
        {
          "output_type": "execute_result",
          "data": {
            "text/html": [
              "<div>\n",
              "<style scoped>\n",
              "    .dataframe tbody tr th:only-of-type {\n",
              "        vertical-align: middle;\n",
              "    }\n",
              "\n",
              "    .dataframe tbody tr th {\n",
              "        vertical-align: top;\n",
              "    }\n",
              "\n",
              "    .dataframe thead th {\n",
              "        text-align: right;\n",
              "    }\n",
              "</style>\n",
              "<table border=\"1\" class=\"dataframe\">\n",
              "  <thead>\n",
              "    <tr style=\"text-align: right;\">\n",
              "      <th></th>\n",
              "      <th>A</th>\n",
              "      <th>myVarname</th>\n",
              "      <th>myValname</th>\n",
              "    </tr>\n",
              "  </thead>\n",
              "  <tbody>\n",
              "    <tr>\n",
              "      <th>0</th>\n",
              "      <td>a</td>\n",
              "      <td>B</td>\n",
              "      <td>1</td>\n",
              "    </tr>\n",
              "    <tr>\n",
              "      <th>1</th>\n",
              "      <td>b</td>\n",
              "      <td>B</td>\n",
              "      <td>3</td>\n",
              "    </tr>\n",
              "    <tr>\n",
              "      <th>2</th>\n",
              "      <td>c</td>\n",
              "      <td>B</td>\n",
              "      <td>5</td>\n",
              "    </tr>\n",
              "  </tbody>\n",
              "</table>\n",
              "</div>"
            ],
            "text/plain": [
              "   A myVarname  myValname\n",
              "0  a         B          1\n",
              "1  b         B          3\n",
              "2  c         B          5"
            ]
          },
          "metadata": {
            "tags": []
          },
          "execution_count": 150
        }
      ]
    },
    {
      "cell_type": "code",
      "metadata": {
        "id": "0fGIjBkuwWD8",
        "colab": {
          "base_uri": "https://localhost:8080/",
          "height": 166
        },
        "outputId": "061dd6c4-7a9e-439f-d898-335911880db2"
      },
      "source": [
        "# If you have multi-index columns:\n",
        "df.columns = [list('ABC'), list('DEF')]\n",
        "df"
      ],
      "execution_count": null,
      "outputs": [
        {
          "output_type": "execute_result",
          "data": {
            "text/html": [
              "<div>\n",
              "<style scoped>\n",
              "    .dataframe tbody tr th:only-of-type {\n",
              "        vertical-align: middle;\n",
              "    }\n",
              "\n",
              "    .dataframe tbody tr th {\n",
              "        vertical-align: top;\n",
              "    }\n",
              "\n",
              "    .dataframe thead tr th {\n",
              "        text-align: left;\n",
              "    }\n",
              "</style>\n",
              "<table border=\"1\" class=\"dataframe\">\n",
              "  <thead>\n",
              "    <tr>\n",
              "      <th></th>\n",
              "      <th>A</th>\n",
              "      <th>B</th>\n",
              "      <th>C</th>\n",
              "    </tr>\n",
              "    <tr>\n",
              "      <th></th>\n",
              "      <th>D</th>\n",
              "      <th>E</th>\n",
              "      <th>F</th>\n",
              "    </tr>\n",
              "  </thead>\n",
              "  <tbody>\n",
              "    <tr>\n",
              "      <th>0</th>\n",
              "      <td>a</td>\n",
              "      <td>1</td>\n",
              "      <td>2</td>\n",
              "    </tr>\n",
              "    <tr>\n",
              "      <th>1</th>\n",
              "      <td>b</td>\n",
              "      <td>3</td>\n",
              "      <td>4</td>\n",
              "    </tr>\n",
              "    <tr>\n",
              "      <th>2</th>\n",
              "      <td>c</td>\n",
              "      <td>5</td>\n",
              "      <td>6</td>\n",
              "    </tr>\n",
              "  </tbody>\n",
              "</table>\n",
              "</div>"
            ],
            "text/plain": [
              "   A  B  C\n",
              "   D  E  F\n",
              "0  a  1  2\n",
              "1  b  3  4\n",
              "2  c  5  6"
            ]
          },
          "metadata": {
            "tags": []
          },
          "execution_count": 151
        }
      ]
    },
    {
      "cell_type": "code",
      "metadata": {
        "id": "-eUcwguswdud",
        "colab": {
          "base_uri": "https://localhost:8080/",
          "height": 136
        },
        "outputId": "bd874e9b-bb21-40d8-c17f-15ff5b075ae0"
      },
      "source": [
        "pd.melt(df, col_level=0, id_vars=['A'], value_vars=['B'])"
      ],
      "execution_count": null,
      "outputs": [
        {
          "output_type": "execute_result",
          "data": {
            "text/html": [
              "<div>\n",
              "<style scoped>\n",
              "    .dataframe tbody tr th:only-of-type {\n",
              "        vertical-align: middle;\n",
              "    }\n",
              "\n",
              "    .dataframe tbody tr th {\n",
              "        vertical-align: top;\n",
              "    }\n",
              "\n",
              "    .dataframe thead th {\n",
              "        text-align: right;\n",
              "    }\n",
              "</style>\n",
              "<table border=\"1\" class=\"dataframe\">\n",
              "  <thead>\n",
              "    <tr style=\"text-align: right;\">\n",
              "      <th></th>\n",
              "      <th>A</th>\n",
              "      <th>variable</th>\n",
              "      <th>value</th>\n",
              "    </tr>\n",
              "  </thead>\n",
              "  <tbody>\n",
              "    <tr>\n",
              "      <th>0</th>\n",
              "      <td>a</td>\n",
              "      <td>B</td>\n",
              "      <td>1</td>\n",
              "    </tr>\n",
              "    <tr>\n",
              "      <th>1</th>\n",
              "      <td>b</td>\n",
              "      <td>B</td>\n",
              "      <td>3</td>\n",
              "    </tr>\n",
              "    <tr>\n",
              "      <th>2</th>\n",
              "      <td>c</td>\n",
              "      <td>B</td>\n",
              "      <td>5</td>\n",
              "    </tr>\n",
              "  </tbody>\n",
              "</table>\n",
              "</div>"
            ],
            "text/plain": [
              "   A variable  value\n",
              "0  a        B      1\n",
              "1  b        B      3\n",
              "2  c        B      5"
            ]
          },
          "metadata": {
            "tags": []
          },
          "execution_count": 152
        }
      ]
    },
    {
      "cell_type": "code",
      "metadata": {
        "id": "ti6pzomvwf61",
        "colab": {
          "base_uri": "https://localhost:8080/",
          "height": 136
        },
        "outputId": "e4e0a43a-9b11-4def-d1f5-113a2274cd4a"
      },
      "source": [
        "pd.melt(df, id_vars=[('A', 'D')], value_vars=[('B', 'E')])"
      ],
      "execution_count": null,
      "outputs": [
        {
          "output_type": "execute_result",
          "data": {
            "text/html": [
              "<div>\n",
              "<style scoped>\n",
              "    .dataframe tbody tr th:only-of-type {\n",
              "        vertical-align: middle;\n",
              "    }\n",
              "\n",
              "    .dataframe tbody tr th {\n",
              "        vertical-align: top;\n",
              "    }\n",
              "\n",
              "    .dataframe thead th {\n",
              "        text-align: right;\n",
              "    }\n",
              "</style>\n",
              "<table border=\"1\" class=\"dataframe\">\n",
              "  <thead>\n",
              "    <tr style=\"text-align: right;\">\n",
              "      <th></th>\n",
              "      <th>(A, D)</th>\n",
              "      <th>variable_0</th>\n",
              "      <th>variable_1</th>\n",
              "      <th>value</th>\n",
              "    </tr>\n",
              "  </thead>\n",
              "  <tbody>\n",
              "    <tr>\n",
              "      <th>0</th>\n",
              "      <td>a</td>\n",
              "      <td>B</td>\n",
              "      <td>E</td>\n",
              "      <td>1</td>\n",
              "    </tr>\n",
              "    <tr>\n",
              "      <th>1</th>\n",
              "      <td>b</td>\n",
              "      <td>B</td>\n",
              "      <td>E</td>\n",
              "      <td>3</td>\n",
              "    </tr>\n",
              "    <tr>\n",
              "      <th>2</th>\n",
              "      <td>c</td>\n",
              "      <td>B</td>\n",
              "      <td>E</td>\n",
              "      <td>5</td>\n",
              "    </tr>\n",
              "  </tbody>\n",
              "</table>\n",
              "</div>"
            ],
            "text/plain": [
              "  (A, D) variable_0 variable_1  value\n",
              "0      a          B          E      1\n",
              "1      b          B          E      3\n",
              "2      c          B          E      5"
            ]
          },
          "metadata": {
            "tags": []
          },
          "execution_count": 153
        }
      ]
    },
    {
      "cell_type": "code",
      "metadata": {
        "id": "gw178rIA8oZi",
        "colab": {
          "base_uri": "https://localhost:8080/",
          "height": 136
        },
        "outputId": "a7029e53-3fc5-4ef9-cd14-7dea09b9604f"
      },
      "source": [
        "import pandas as pd\n",
        "\n",
        "data = {\n",
        "    'Hari' : ['Sabtu', 'Minggu'],\n",
        "    'Kebun Binatang' : [271, 399],\n",
        "    'Dufan' : [501, 700],\n",
        "    'Disney' : [1000, 1001],\n",
        "    'Bali' : [900, 803]\n",
        "}\n",
        "df = pd.DataFrame(data).set_index('Hari')\n",
        "df"
      ],
      "execution_count": null,
      "outputs": [
        {
          "output_type": "execute_result",
          "data": {
            "text/html": [
              "<div>\n",
              "<style scoped>\n",
              "    .dataframe tbody tr th:only-of-type {\n",
              "        vertical-align: middle;\n",
              "    }\n",
              "\n",
              "    .dataframe tbody tr th {\n",
              "        vertical-align: top;\n",
              "    }\n",
              "\n",
              "    .dataframe thead th {\n",
              "        text-align: right;\n",
              "    }\n",
              "</style>\n",
              "<table border=\"1\" class=\"dataframe\">\n",
              "  <thead>\n",
              "    <tr style=\"text-align: right;\">\n",
              "      <th></th>\n",
              "      <th>Kebun Binatang</th>\n",
              "      <th>Dufan</th>\n",
              "      <th>Disney</th>\n",
              "      <th>Bali</th>\n",
              "    </tr>\n",
              "    <tr>\n",
              "      <th>Hari</th>\n",
              "      <th></th>\n",
              "      <th></th>\n",
              "      <th></th>\n",
              "      <th></th>\n",
              "    </tr>\n",
              "  </thead>\n",
              "  <tbody>\n",
              "    <tr>\n",
              "      <th>Sabtu</th>\n",
              "      <td>271</td>\n",
              "      <td>501</td>\n",
              "      <td>1000</td>\n",
              "      <td>900</td>\n",
              "    </tr>\n",
              "    <tr>\n",
              "      <th>Minggu</th>\n",
              "      <td>399</td>\n",
              "      <td>700</td>\n",
              "      <td>1001</td>\n",
              "      <td>803</td>\n",
              "    </tr>\n",
              "  </tbody>\n",
              "</table>\n",
              "</div>"
            ],
            "text/plain": [
              "        Kebun Binatang  Dufan  Disney  Bali\n",
              "Hari                                       \n",
              "Sabtu              271    501    1000   900\n",
              "Minggu             399    700    1001   803"
            ]
          },
          "metadata": {
            "tags": []
          },
          "execution_count": 154
        }
      ]
    },
    {
      "cell_type": "code",
      "metadata": {
        "id": "5CJFZGZc8qAv",
        "colab": {
          "base_uri": "https://localhost:8080/",
          "height": 284
        },
        "outputId": "b1b86d06-b036-4b8e-c512-ffdbe7c08d4c"
      },
      "source": [
        "df = pd.melt(df.reset_index(), id_vars ='Hari', value_vars =['Kebun Binatang', 'Dufan', 'Disney', 'Bali'], var_name='Tempat Hiburan', value_name='Pengunjung') \n",
        "df"
      ],
      "execution_count": null,
      "outputs": [
        {
          "output_type": "execute_result",
          "data": {
            "text/html": [
              "<div>\n",
              "<style scoped>\n",
              "    .dataframe tbody tr th:only-of-type {\n",
              "        vertical-align: middle;\n",
              "    }\n",
              "\n",
              "    .dataframe tbody tr th {\n",
              "        vertical-align: top;\n",
              "    }\n",
              "\n",
              "    .dataframe thead th {\n",
              "        text-align: right;\n",
              "    }\n",
              "</style>\n",
              "<table border=\"1\" class=\"dataframe\">\n",
              "  <thead>\n",
              "    <tr style=\"text-align: right;\">\n",
              "      <th></th>\n",
              "      <th>Hari</th>\n",
              "      <th>Tempat Hiburan</th>\n",
              "      <th>Pengunjung</th>\n",
              "    </tr>\n",
              "  </thead>\n",
              "  <tbody>\n",
              "    <tr>\n",
              "      <th>0</th>\n",
              "      <td>Sabtu</td>\n",
              "      <td>Kebun Binatang</td>\n",
              "      <td>271</td>\n",
              "    </tr>\n",
              "    <tr>\n",
              "      <th>1</th>\n",
              "      <td>Minggu</td>\n",
              "      <td>Kebun Binatang</td>\n",
              "      <td>399</td>\n",
              "    </tr>\n",
              "    <tr>\n",
              "      <th>2</th>\n",
              "      <td>Sabtu</td>\n",
              "      <td>Dufan</td>\n",
              "      <td>501</td>\n",
              "    </tr>\n",
              "    <tr>\n",
              "      <th>3</th>\n",
              "      <td>Minggu</td>\n",
              "      <td>Dufan</td>\n",
              "      <td>700</td>\n",
              "    </tr>\n",
              "    <tr>\n",
              "      <th>4</th>\n",
              "      <td>Sabtu</td>\n",
              "      <td>Disney</td>\n",
              "      <td>1000</td>\n",
              "    </tr>\n",
              "    <tr>\n",
              "      <th>5</th>\n",
              "      <td>Minggu</td>\n",
              "      <td>Disney</td>\n",
              "      <td>1001</td>\n",
              "    </tr>\n",
              "    <tr>\n",
              "      <th>6</th>\n",
              "      <td>Sabtu</td>\n",
              "      <td>Bali</td>\n",
              "      <td>900</td>\n",
              "    </tr>\n",
              "    <tr>\n",
              "      <th>7</th>\n",
              "      <td>Minggu</td>\n",
              "      <td>Bali</td>\n",
              "      <td>803</td>\n",
              "    </tr>\n",
              "  </tbody>\n",
              "</table>\n",
              "</div>"
            ],
            "text/plain": [
              "     Hari  Tempat Hiburan  Pengunjung\n",
              "0   Sabtu  Kebun Binatang         271\n",
              "1  Minggu  Kebun Binatang         399\n",
              "2   Sabtu           Dufan         501\n",
              "3  Minggu           Dufan         700\n",
              "4   Sabtu          Disney        1000\n",
              "5  Minggu          Disney        1001\n",
              "6   Sabtu            Bali         900\n",
              "7  Minggu            Bali         803"
            ]
          },
          "metadata": {
            "tags": []
          },
          "execution_count": 155
        }
      ]
    },
    {
      "cell_type": "markdown",
      "metadata": {
        "id": "oHE15xddH6DV"
      },
      "source": [
        "# **Stacking and Unstacking**\n",
        "\n",
        "The concept of stacking comes in handy when we have data with multi indices. Using the stack() function will reshape the dataframe by converting the data into a stacked form. Since we are having multiple indices, that means converting (also called rotating or pivoting) the innermost column index into the innermost row index. Unstacking, as the name implies, does exactly the inverse operation — it will convert the innermost row index back into the innermost column index.\n",
        "\n",
        "Let’s take a look at the diagram below:\n",
        "\n",
        "![reshaping_data_stacking_unstaking.png](https://raw.githubusercontent.com/nurimammasri/Wooky-Pandas/master/Images/reshaping_data_stacking_unstaking.png)\n",
        "\n",
        "As you can see, stacking means rearranging the data vertically (or stacking it on top of each other, hence the name “stacking”), making the shape of the dataframe as a taller and narrower stack (with fewer columns and more rows). And as you probably could figure out, unstacking will do just the opposite, spreading out the data and reshaping it into a shorter but wider dataframe (with fewer rows but more columns).\n",
        "\n",
        "Note that if you stack and unstack the same dataframe, you will get back the original dataframe, but you have a choice to stack on different indices and get a different shape of dataframe.\n",
        "\n",
        "Note that the concepts of multi indexing, hierarchical indexing, pivoting, stacking and unstacking are all related, but let’s start by looking at a sample dataframe, and let’s create a sample dataframe with a typical example we are all familiar with — a grading table."
      ]
    },
    {
      "cell_type": "markdown",
      "metadata": {
        "id": "dI9IAMvGMzzw"
      },
      "source": [
        "## **Hierarchical indexing (MultiIndex)**\n",
        "\n",
        "There are various ways to create multiple indices. One of the simplest ways to create a multi index *Series* or *DataFrame* object is by passing a list of two or more arrays to the constructor:\n"
      ]
    },
    {
      "cell_type": "code",
      "metadata": {
        "id": "RH9bCXbFNAfR",
        "colab": {
          "base_uri": "https://localhost:8080/"
        },
        "outputId": "baac3f5f-d4e6-4dda-f52a-5d75d2433e3e"
      },
      "source": [
        "import numpy as np\n",
        "df = pd.DataFrame(np.random.rand(4,2),\n",
        "                  index = [['a', 'a', 'b', 'b'], [1, 2, 1, 2]],\n",
        "                  columns=['data1', 'data2'])\n",
        "df"
      ],
      "execution_count": null,
      "outputs": [
        {
          "output_type": "execute_result",
          "data": {
            "text/html": [
              "<div>\n",
              "<style scoped>\n",
              "    .dataframe tbody tr th:only-of-type {\n",
              "        vertical-align: middle;\n",
              "    }\n",
              "\n",
              "    .dataframe tbody tr th {\n",
              "        vertical-align: top;\n",
              "    }\n",
              "\n",
              "    .dataframe thead th {\n",
              "        text-align: right;\n",
              "    }\n",
              "</style>\n",
              "<table border=\"1\" class=\"dataframe\">\n",
              "  <thead>\n",
              "    <tr style=\"text-align: right;\">\n",
              "      <th></th>\n",
              "      <th></th>\n",
              "      <th>data1</th>\n",
              "      <th>data2</th>\n",
              "    </tr>\n",
              "  </thead>\n",
              "  <tbody>\n",
              "    <tr>\n",
              "      <th rowspan=\"2\" valign=\"top\">a</th>\n",
              "      <th>1</th>\n",
              "      <td>0.339307</td>\n",
              "      <td>0.008958</td>\n",
              "    </tr>\n",
              "    <tr>\n",
              "      <th>2</th>\n",
              "      <td>0.383114</td>\n",
              "      <td>0.078262</td>\n",
              "    </tr>\n",
              "    <tr>\n",
              "      <th rowspan=\"2\" valign=\"top\">b</th>\n",
              "      <th>1</th>\n",
              "      <td>0.452560</td>\n",
              "      <td>0.705364</td>\n",
              "    </tr>\n",
              "    <tr>\n",
              "      <th>2</th>\n",
              "      <td>0.400631</td>\n",
              "      <td>0.627380</td>\n",
              "    </tr>\n",
              "  </tbody>\n",
              "</table>\n",
              "</div>"
            ],
            "text/plain": [
              "        data1     data2\n",
              "a 1  0.339307  0.008958\n",
              "  2  0.383114  0.078262\n",
              "b 1  0.452560  0.705364\n",
              "  2  0.400631  0.627380"
            ]
          },
          "metadata": {
            "tags": []
          },
          "execution_count": 156
        }
      ]
    },
    {
      "cell_type": "markdown",
      "metadata": {
        "id": "uhGnd60wN7Bu"
      },
      "source": [
        "Other options include passing a dictionary where the keys are spelled out as tuples:"
      ]
    },
    {
      "cell_type": "code",
      "metadata": {
        "id": "Lk5h4DeEOrTC",
        "colab": {
          "base_uri": "https://localhost:8080/"
        },
        "outputId": "04037350-a0c6-4ba9-8cf8-e32fcb59756c"
      },
      "source": [
        "data = {\n",
        "    ('California', 2000):33871648,\n",
        "    ('California', 2010):37253956,\n",
        "    ('Texas', 2000):20851820,\n",
        "    ('Texas', 2010):25142261,\n",
        "    ('New York', 2000):1697657,\n",
        "    ('New York', 2010):1232345\n",
        "}\n",
        "\n",
        "pd.Series(data)"
      ],
      "execution_count": null,
      "outputs": [
        {
          "output_type": "execute_result",
          "data": {
            "text/plain": [
              "California  2000    33871648\n",
              "            2010    37253956\n",
              "Texas       2000    20851820\n",
              "            2010    25142261\n",
              "New York    2000     1697657\n",
              "            2010     1232345\n",
              "dtype: int64"
            ]
          },
          "metadata": {
            "tags": []
          },
          "execution_count": 157
        }
      ]
    },
    {
      "cell_type": "markdown",
      "metadata": {
        "id": "x12y1KQUSSl3"
      },
      "source": [
        "Finally, you can explicitly create a multi index by using the class method constructors available in the `pd.MultiIndex`:\n",
        "\n",
        "The `MultiIndex` object is the hierarchical analogue of the standard `Index` object which typically stores the axis labels in pandas objects. You can think of MultiIndex as an array of tuples where each tuple is unique. A *MultiIndex* can be created from a list of arrays (using `MultiIndex.from_arrays()`), an array of tuples (using `MultiIndex.from_tuples()`), a crossed set of iterables (using `MultiIndex.from_product()`), or a DataFrame (using `MultiIndex.from_frame()`). The *Index* constructor will attempt to return a *MultiIndex* when it is passed a list of tuples. The following examples demonstrate different ways to initialize MultiIndexes."
      ]
    },
    {
      "cell_type": "code",
      "metadata": {
        "id": "EOUoNv2RSQjy",
        "colab": {
          "base_uri": "https://localhost:8080/"
        },
        "outputId": "54d6c8ba-f9eb-459d-cac5-b6fae584175d"
      },
      "source": [
        "index = pd.MultiIndex.from_arrays([['a', 'a', 'b', 'b'], [1, 2, 1, 2]])\n",
        "index"
      ],
      "execution_count": null,
      "outputs": [
        {
          "output_type": "execute_result",
          "data": {
            "text/plain": [
              "MultiIndex([('a', 1),\n",
              "            ('a', 2),\n",
              "            ('b', 1),\n",
              "            ('b', 2)],\n",
              "           )"
            ]
          },
          "metadata": {
            "tags": []
          },
          "execution_count": 158
        }
      ]
    },
    {
      "cell_type": "code",
      "metadata": {
        "id": "RNJyn2mOfQsG",
        "colab": {
          "base_uri": "https://localhost:8080/"
        },
        "outputId": "b2234911-7c48-4147-9bf1-e401ec9a53a7"
      },
      "source": [
        "df = pd.DataFrame(np.random.randn(4, 2), index=index)\n",
        "df"
      ],
      "execution_count": null,
      "outputs": [
        {
          "output_type": "execute_result",
          "data": {
            "text/html": [
              "<div>\n",
              "<style scoped>\n",
              "    .dataframe tbody tr th:only-of-type {\n",
              "        vertical-align: middle;\n",
              "    }\n",
              "\n",
              "    .dataframe tbody tr th {\n",
              "        vertical-align: top;\n",
              "    }\n",
              "\n",
              "    .dataframe thead th {\n",
              "        text-align: right;\n",
              "    }\n",
              "</style>\n",
              "<table border=\"1\" class=\"dataframe\">\n",
              "  <thead>\n",
              "    <tr style=\"text-align: right;\">\n",
              "      <th></th>\n",
              "      <th></th>\n",
              "      <th>0</th>\n",
              "      <th>1</th>\n",
              "    </tr>\n",
              "  </thead>\n",
              "  <tbody>\n",
              "    <tr>\n",
              "      <th rowspan=\"2\" valign=\"top\">a</th>\n",
              "      <th>1</th>\n",
              "      <td>-0.732354</td>\n",
              "      <td>0.038066</td>\n",
              "    </tr>\n",
              "    <tr>\n",
              "      <th>2</th>\n",
              "      <td>0.873256</td>\n",
              "      <td>-0.933658</td>\n",
              "    </tr>\n",
              "    <tr>\n",
              "      <th rowspan=\"2\" valign=\"top\">b</th>\n",
              "      <th>1</th>\n",
              "      <td>-1.143504</td>\n",
              "      <td>-0.655719</td>\n",
              "    </tr>\n",
              "    <tr>\n",
              "      <th>2</th>\n",
              "      <td>1.447273</td>\n",
              "      <td>-0.588022</td>\n",
              "    </tr>\n",
              "  </tbody>\n",
              "</table>\n",
              "</div>"
            ],
            "text/plain": [
              "            0         1\n",
              "a 1 -0.732354  0.038066\n",
              "  2  0.873256 -0.933658\n",
              "b 1 -1.143504 -0.655719\n",
              "  2  1.447273 -0.588022"
            ]
          },
          "metadata": {
            "tags": []
          },
          "execution_count": 159
        }
      ]
    },
    {
      "cell_type": "code",
      "metadata": {
        "id": "s4zRbk2eZtRz",
        "colab": {
          "base_uri": "https://localhost:8080/"
        },
        "outputId": "d8d1f5bf-ed60-4018-b316-4efb467b4e04"
      },
      "source": [
        "arrays = [['bar', 'bar', 'baz', 'baz', 'foo', 'foo', 'qux', 'qux'],\n",
        "          ['one', 'two', 'one', 'two', 'one', 'two', 'one', 'two']]\n",
        "tuples = list(zip(*arrays))\n",
        "tuples"
      ],
      "execution_count": null,
      "outputs": [
        {
          "output_type": "execute_result",
          "data": {
            "text/plain": [
              "[('bar', 'one'),\n",
              " ('bar', 'two'),\n",
              " ('baz', 'one'),\n",
              " ('baz', 'two'),\n",
              " ('foo', 'one'),\n",
              " ('foo', 'two'),\n",
              " ('qux', 'one'),\n",
              " ('qux', 'two')]"
            ]
          },
          "metadata": {
            "tags": []
          },
          "execution_count": 160
        }
      ]
    },
    {
      "cell_type": "code",
      "metadata": {
        "id": "_0qDJP8yaAd8",
        "colab": {
          "base_uri": "https://localhost:8080/"
        },
        "outputId": "45289b86-c16f-450f-a95e-48775b7c0bcd"
      },
      "source": [
        "index = pd.MultiIndex.from_tuples(tuples, names=['first', 'second'])\n",
        "index"
      ],
      "execution_count": null,
      "outputs": [
        {
          "output_type": "execute_result",
          "data": {
            "text/plain": [
              "MultiIndex([('bar', 'one'),\n",
              "            ('bar', 'two'),\n",
              "            ('baz', 'one'),\n",
              "            ('baz', 'two'),\n",
              "            ('foo', 'one'),\n",
              "            ('foo', 'two'),\n",
              "            ('qux', 'one'),\n",
              "            ('qux', 'two')],\n",
              "           names=['first', 'second'])"
            ]
          },
          "metadata": {
            "tags": []
          },
          "execution_count": 161
        }
      ]
    },
    {
      "cell_type": "code",
      "metadata": {
        "id": "B1119hUjaLvh",
        "colab": {
          "base_uri": "https://localhost:8080/"
        },
        "outputId": "caca47f7-d628-40f8-96e7-330fa14321cc"
      },
      "source": [
        "s = pd.Series(np.random.randn(8), index=index)\n",
        "s"
      ],
      "execution_count": null,
      "outputs": [
        {
          "output_type": "execute_result",
          "data": {
            "text/plain": [
              "first  second\n",
              "bar    one       1.483558\n",
              "       two       2.674876\n",
              "baz    one       1.006948\n",
              "       two       1.035198\n",
              "foo    one      -0.239079\n",
              "       two      -0.969865\n",
              "qux    one       1.755031\n",
              "       two      -0.534103\n",
              "dtype: float64"
            ]
          },
          "metadata": {
            "tags": []
          },
          "execution_count": 162
        }
      ]
    },
    {
      "cell_type": "markdown",
      "metadata": {
        "id": "mAf5y-H7dOjA"
      },
      "source": [
        "When you want every pairing of the elements in two iterables, it can be easier to use the `MultiIndex.from_product()` method:"
      ]
    },
    {
      "cell_type": "code",
      "metadata": {
        "id": "BlgIi_y4dSDY",
        "colab": {
          "base_uri": "https://localhost:8080/"
        },
        "outputId": "d23df54d-2d73-4a34-fada-88e75085c4b5"
      },
      "source": [
        "iterables = [['bar', 'baz', 'foo', 'qux'], ['one', 'two']]\n",
        "\n",
        "index = pd.MultiIndex.from_product(iterables, names=['first', 'second'])\n",
        "index"
      ],
      "execution_count": null,
      "outputs": [
        {
          "output_type": "execute_result",
          "data": {
            "text/plain": [
              "MultiIndex([('bar', 'one'),\n",
              "            ('bar', 'two'),\n",
              "            ('baz', 'one'),\n",
              "            ('baz', 'two'),\n",
              "            ('foo', 'one'),\n",
              "            ('foo', 'two'),\n",
              "            ('qux', 'one'),\n",
              "            ('qux', 'two')],\n",
              "           names=['first', 'second'])"
            ]
          },
          "metadata": {
            "tags": []
          },
          "execution_count": 163
        }
      ]
    },
    {
      "cell_type": "code",
      "metadata": {
        "id": "n4PDU11Ne146",
        "colab": {
          "base_uri": "https://localhost:8080/"
        },
        "outputId": "f04d4187-7457-4e5d-a8b4-5554fafc56d9"
      },
      "source": [
        "df = pd.DataFrame(np.random.randn(8, 2), index=index)\n",
        "df"
      ],
      "execution_count": null,
      "outputs": [
        {
          "output_type": "execute_result",
          "data": {
            "text/html": [
              "<div>\n",
              "<style scoped>\n",
              "    .dataframe tbody tr th:only-of-type {\n",
              "        vertical-align: middle;\n",
              "    }\n",
              "\n",
              "    .dataframe tbody tr th {\n",
              "        vertical-align: top;\n",
              "    }\n",
              "\n",
              "    .dataframe thead th {\n",
              "        text-align: right;\n",
              "    }\n",
              "</style>\n",
              "<table border=\"1\" class=\"dataframe\">\n",
              "  <thead>\n",
              "    <tr style=\"text-align: right;\">\n",
              "      <th></th>\n",
              "      <th></th>\n",
              "      <th>0</th>\n",
              "      <th>1</th>\n",
              "    </tr>\n",
              "    <tr>\n",
              "      <th>first</th>\n",
              "      <th>second</th>\n",
              "      <th></th>\n",
              "      <th></th>\n",
              "    </tr>\n",
              "  </thead>\n",
              "  <tbody>\n",
              "    <tr>\n",
              "      <th rowspan=\"2\" valign=\"top\">bar</th>\n",
              "      <th>one</th>\n",
              "      <td>1.975724</td>\n",
              "      <td>0.722985</td>\n",
              "    </tr>\n",
              "    <tr>\n",
              "      <th>two</th>\n",
              "      <td>-0.734944</td>\n",
              "      <td>0.328444</td>\n",
              "    </tr>\n",
              "    <tr>\n",
              "      <th rowspan=\"2\" valign=\"top\">baz</th>\n",
              "      <th>one</th>\n",
              "      <td>-0.007707</td>\n",
              "      <td>-0.000093</td>\n",
              "    </tr>\n",
              "    <tr>\n",
              "      <th>two</th>\n",
              "      <td>0.541377</td>\n",
              "      <td>-1.668374</td>\n",
              "    </tr>\n",
              "    <tr>\n",
              "      <th rowspan=\"2\" valign=\"top\">foo</th>\n",
              "      <th>one</th>\n",
              "      <td>-0.150474</td>\n",
              "      <td>-0.012496</td>\n",
              "    </tr>\n",
              "    <tr>\n",
              "      <th>two</th>\n",
              "      <td>-0.275929</td>\n",
              "      <td>0.993713</td>\n",
              "    </tr>\n",
              "    <tr>\n",
              "      <th rowspan=\"2\" valign=\"top\">qux</th>\n",
              "      <th>one</th>\n",
              "      <td>0.006580</td>\n",
              "      <td>-1.715025</td>\n",
              "    </tr>\n",
              "    <tr>\n",
              "      <th>two</th>\n",
              "      <td>0.212821</td>\n",
              "      <td>-0.755872</td>\n",
              "    </tr>\n",
              "  </tbody>\n",
              "</table>\n",
              "</div>"
            ],
            "text/plain": [
              "                     0         1\n",
              "first second                    \n",
              "bar   one     1.975724  0.722985\n",
              "      two    -0.734944  0.328444\n",
              "baz   one    -0.007707 -0.000093\n",
              "      two     0.541377 -1.668374\n",
              "foo   one    -0.150474 -0.012496\n",
              "      two    -0.275929  0.993713\n",
              "qux   one     0.006580 -1.715025\n",
              "      two     0.212821 -0.755872"
            ]
          },
          "metadata": {
            "tags": []
          },
          "execution_count": 164
        }
      ]
    },
    {
      "cell_type": "markdown",
      "metadata": {
        "id": "19gDoyEueDDs"
      },
      "source": [
        "You can also construct a *MultiIndex* from a *DataFrame* directly, using the method `MultiIndex.from_frame()`. This is a complementary method to `MultiIndex.to_frame()`."
      ]
    },
    {
      "cell_type": "code",
      "metadata": {
        "id": "K8KGrhtodmH7",
        "colab": {
          "base_uri": "https://localhost:8080/"
        },
        "outputId": "e02570b6-449b-4021-a76e-cc78ab1865f7"
      },
      "source": [
        "df = pd.DataFrame([['bar', 'one'], ['bar', 'two'],\n",
        "                    ['foo', 'one'], ['foo', 'two']],\n",
        "                   columns=['first', 'second'])\n",
        "index = pd.MultiIndex.from_frame(df)\n",
        "index"
      ],
      "execution_count": null,
      "outputs": [
        {
          "output_type": "execute_result",
          "data": {
            "text/plain": [
              "MultiIndex([('bar', 'one'),\n",
              "            ('bar', 'two'),\n",
              "            ('foo', 'one'),\n",
              "            ('foo', 'two')],\n",
              "           names=['first', 'second'])"
            ]
          },
          "metadata": {
            "tags": []
          },
          "execution_count": 165
        }
      ]
    },
    {
      "cell_type": "code",
      "metadata": {
        "id": "ysmH1KSrel-K",
        "colab": {
          "base_uri": "https://localhost:8080/"
        },
        "outputId": "a0fb82da-b936-414b-faeb-21b05ded2c10"
      },
      "source": [
        "df = pd.DataFrame(np.random.randn(4, 4), index=index)\n",
        "df"
      ],
      "execution_count": null,
      "outputs": [
        {
          "output_type": "execute_result",
          "data": {
            "text/html": [
              "<div>\n",
              "<style scoped>\n",
              "    .dataframe tbody tr th:only-of-type {\n",
              "        vertical-align: middle;\n",
              "    }\n",
              "\n",
              "    .dataframe tbody tr th {\n",
              "        vertical-align: top;\n",
              "    }\n",
              "\n",
              "    .dataframe thead th {\n",
              "        text-align: right;\n",
              "    }\n",
              "</style>\n",
              "<table border=\"1\" class=\"dataframe\">\n",
              "  <thead>\n",
              "    <tr style=\"text-align: right;\">\n",
              "      <th></th>\n",
              "      <th></th>\n",
              "      <th>0</th>\n",
              "      <th>1</th>\n",
              "      <th>2</th>\n",
              "      <th>3</th>\n",
              "    </tr>\n",
              "    <tr>\n",
              "      <th>first</th>\n",
              "      <th>second</th>\n",
              "      <th></th>\n",
              "      <th></th>\n",
              "      <th></th>\n",
              "      <th></th>\n",
              "    </tr>\n",
              "  </thead>\n",
              "  <tbody>\n",
              "    <tr>\n",
              "      <th rowspan=\"2\" valign=\"top\">bar</th>\n",
              "      <th>one</th>\n",
              "      <td>0.211796</td>\n",
              "      <td>0.573248</td>\n",
              "      <td>-1.063152</td>\n",
              "      <td>-1.473277</td>\n",
              "    </tr>\n",
              "    <tr>\n",
              "      <th>two</th>\n",
              "      <td>1.019813</td>\n",
              "      <td>0.763951</td>\n",
              "      <td>0.828049</td>\n",
              "      <td>0.296384</td>\n",
              "    </tr>\n",
              "    <tr>\n",
              "      <th rowspan=\"2\" valign=\"top\">foo</th>\n",
              "      <th>one</th>\n",
              "      <td>2.375985</td>\n",
              "      <td>-0.288352</td>\n",
              "      <td>0.850953</td>\n",
              "      <td>-0.011315</td>\n",
              "    </tr>\n",
              "    <tr>\n",
              "      <th>two</th>\n",
              "      <td>-0.828464</td>\n",
              "      <td>-1.051536</td>\n",
              "      <td>-1.320166</td>\n",
              "      <td>0.395638</td>\n",
              "    </tr>\n",
              "  </tbody>\n",
              "</table>\n",
              "</div>"
            ],
            "text/plain": [
              "                     0         1         2         3\n",
              "first second                                        \n",
              "bar   one     0.211796  0.573248 -1.063152 -1.473277\n",
              "      two     1.019813  0.763951  0.828049  0.296384\n",
              "foo   one     2.375985 -0.288352  0.850953 -0.011315\n",
              "      two    -0.828464 -1.051536 -1.320166  0.395638"
            ]
          },
          "metadata": {
            "tags": []
          },
          "execution_count": 166
        }
      ]
    },
    {
      "cell_type": "markdown",
      "metadata": {
        "id": "QeDyuStDeXti"
      },
      "source": [
        "As a convenience, you can pass a list of arrays directly into Series or DataFrame to construct a MultiIndex automatically:"
      ]
    },
    {
      "cell_type": "code",
      "metadata": {
        "id": "vjYTLRx8ec4T",
        "colab": {
          "base_uri": "https://localhost:8080/"
        },
        "outputId": "bc617f46-87e0-439f-8e54-faa569027d49"
      },
      "source": [
        "arrays = [np.array(['bar', 'bar', 'baz', 'baz', 'foo', 'foo', 'qux', 'qux']),\n",
        "           np.array(['one', 'two', 'one', 'two', 'one', 'two', 'one', 'two'])]\n",
        " \n",
        "\n",
        "s = pd.Series(np.random.randn(8), index=arrays)\n",
        "s"
      ],
      "execution_count": null,
      "outputs": [
        {
          "output_type": "execute_result",
          "data": {
            "text/plain": [
              "bar  one   -1.036542\n",
              "     two   -0.036752\n",
              "baz  one   -0.432076\n",
              "     two    0.525917\n",
              "foo  one    1.271933\n",
              "     two   -0.275806\n",
              "qux  one   -0.644482\n",
              "     two   -0.065990\n",
              "dtype: float64"
            ]
          },
          "metadata": {
            "tags": []
          },
          "execution_count": 167
        }
      ]
    },
    {
      "cell_type": "code",
      "metadata": {
        "id": "Pr36cXsteiTf",
        "colab": {
          "base_uri": "https://localhost:8080/"
        },
        "outputId": "cc31f46f-f619-47b5-d492-1eda3d616de1"
      },
      "source": [
        "df = pd.DataFrame(np.random.randn(8, 4), index=arrays)\n",
        "df"
      ],
      "execution_count": null,
      "outputs": [
        {
          "output_type": "execute_result",
          "data": {
            "text/html": [
              "<div>\n",
              "<style scoped>\n",
              "    .dataframe tbody tr th:only-of-type {\n",
              "        vertical-align: middle;\n",
              "    }\n",
              "\n",
              "    .dataframe tbody tr th {\n",
              "        vertical-align: top;\n",
              "    }\n",
              "\n",
              "    .dataframe thead th {\n",
              "        text-align: right;\n",
              "    }\n",
              "</style>\n",
              "<table border=\"1\" class=\"dataframe\">\n",
              "  <thead>\n",
              "    <tr style=\"text-align: right;\">\n",
              "      <th></th>\n",
              "      <th></th>\n",
              "      <th>0</th>\n",
              "      <th>1</th>\n",
              "      <th>2</th>\n",
              "      <th>3</th>\n",
              "    </tr>\n",
              "  </thead>\n",
              "  <tbody>\n",
              "    <tr>\n",
              "      <th rowspan=\"2\" valign=\"top\">bar</th>\n",
              "      <th>one</th>\n",
              "      <td>-1.318004</td>\n",
              "      <td>-1.329604</td>\n",
              "      <td>-0.302969</td>\n",
              "      <td>0.948243</td>\n",
              "    </tr>\n",
              "    <tr>\n",
              "      <th>two</th>\n",
              "      <td>0.370336</td>\n",
              "      <td>0.297994</td>\n",
              "      <td>-0.798895</td>\n",
              "      <td>-0.703200</td>\n",
              "    </tr>\n",
              "    <tr>\n",
              "      <th rowspan=\"2\" valign=\"top\">baz</th>\n",
              "      <th>one</th>\n",
              "      <td>0.667374</td>\n",
              "      <td>-0.067366</td>\n",
              "      <td>0.017562</td>\n",
              "      <td>-0.114241</td>\n",
              "    </tr>\n",
              "    <tr>\n",
              "      <th>two</th>\n",
              "      <td>-0.009198</td>\n",
              "      <td>-0.397671</td>\n",
              "      <td>-1.223113</td>\n",
              "      <td>0.619931</td>\n",
              "    </tr>\n",
              "    <tr>\n",
              "      <th rowspan=\"2\" valign=\"top\">foo</th>\n",
              "      <th>one</th>\n",
              "      <td>-0.237062</td>\n",
              "      <td>-0.268478</td>\n",
              "      <td>0.153964</td>\n",
              "      <td>1.561515</td>\n",
              "    </tr>\n",
              "    <tr>\n",
              "      <th>two</th>\n",
              "      <td>-0.960070</td>\n",
              "      <td>0.687975</td>\n",
              "      <td>-2.013206</td>\n",
              "      <td>0.407164</td>\n",
              "    </tr>\n",
              "    <tr>\n",
              "      <th rowspan=\"2\" valign=\"top\">qux</th>\n",
              "      <th>one</th>\n",
              "      <td>1.750827</td>\n",
              "      <td>1.053626</td>\n",
              "      <td>-0.098516</td>\n",
              "      <td>-0.415173</td>\n",
              "    </tr>\n",
              "    <tr>\n",
              "      <th>two</th>\n",
              "      <td>1.198500</td>\n",
              "      <td>-1.944325</td>\n",
              "      <td>-0.049081</td>\n",
              "      <td>-1.381675</td>\n",
              "    </tr>\n",
              "  </tbody>\n",
              "</table>\n",
              "</div>"
            ],
            "text/plain": [
              "                0         1         2         3\n",
              "bar one -1.318004 -1.329604 -0.302969  0.948243\n",
              "    two  0.370336  0.297994 -0.798895 -0.703200\n",
              "baz one  0.667374 -0.067366  0.017562 -0.114241\n",
              "    two -0.009198 -0.397671 -1.223113  0.619931\n",
              "foo one -0.237062 -0.268478  0.153964  1.561515\n",
              "    two -0.960070  0.687975 -2.013206  0.407164\n",
              "qux one  1.750827  1.053626 -0.098516 -0.415173\n",
              "    two  1.198500 -1.944325 -0.049081 -1.381675"
            ]
          },
          "metadata": {
            "tags": []
          },
          "execution_count": 168
        }
      ]
    },
    {
      "cell_type": "code",
      "metadata": {
        "id": "qtwhTIWtVll3",
        "colab": {
          "base_uri": "https://localhost:8080/"
        },
        "outputId": "32193d92-8e44-44f1-ea19-2e22b529e8e7"
      },
      "source": [
        "index = pd.MultiIndex.from_tuples(tuples, names=['first', 'second'])\n",
        "index"
      ],
      "execution_count": null,
      "outputs": [
        {
          "output_type": "execute_result",
          "data": {
            "text/plain": [
              "MultiIndex([('bar', 'one'),\n",
              "            ('bar', 'two'),\n",
              "            ('baz', 'one'),\n",
              "            ('baz', 'two'),\n",
              "            ('foo', 'one'),\n",
              "            ('foo', 'two'),\n",
              "            ('qux', 'one'),\n",
              "            ('qux', 'two')],\n",
              "           names=['first', 'second'])"
            ]
          },
          "metadata": {
            "tags": []
          },
          "execution_count": 169
        }
      ]
    },
    {
      "cell_type": "code",
      "metadata": {
        "id": "rlPFFbXiVApx",
        "colab": {
          "base_uri": "https://localhost:8080/"
        },
        "outputId": "8988ad84-03fe-41db-ebea-6aadd8b85181"
      },
      "source": [
        "index = pd.MultiIndex.from_tuples(tuples, names=['first', 'second'])\n",
        "df = pd.DataFrame(np.random.randn(3, 8), index=['A', 'B', 'C'], columns=index)\n",
        "\n",
        "df"
      ],
      "execution_count": null,
      "outputs": [
        {
          "output_type": "execute_result",
          "data": {
            "text/html": [
              "<div>\n",
              "<style scoped>\n",
              "    .dataframe tbody tr th:only-of-type {\n",
              "        vertical-align: middle;\n",
              "    }\n",
              "\n",
              "    .dataframe tbody tr th {\n",
              "        vertical-align: top;\n",
              "    }\n",
              "\n",
              "    .dataframe thead tr th {\n",
              "        text-align: left;\n",
              "    }\n",
              "</style>\n",
              "<table border=\"1\" class=\"dataframe\">\n",
              "  <thead>\n",
              "    <tr>\n",
              "      <th>first</th>\n",
              "      <th colspan=\"2\" halign=\"left\">bar</th>\n",
              "      <th colspan=\"2\" halign=\"left\">baz</th>\n",
              "      <th colspan=\"2\" halign=\"left\">foo</th>\n",
              "      <th colspan=\"2\" halign=\"left\">qux</th>\n",
              "    </tr>\n",
              "    <tr>\n",
              "      <th>second</th>\n",
              "      <th>one</th>\n",
              "      <th>two</th>\n",
              "      <th>one</th>\n",
              "      <th>two</th>\n",
              "      <th>one</th>\n",
              "      <th>two</th>\n",
              "      <th>one</th>\n",
              "      <th>two</th>\n",
              "    </tr>\n",
              "  </thead>\n",
              "  <tbody>\n",
              "    <tr>\n",
              "      <th>A</th>\n",
              "      <td>-1.767522</td>\n",
              "      <td>-0.318598</td>\n",
              "      <td>-0.600632</td>\n",
              "      <td>-1.528744</td>\n",
              "      <td>1.100868</td>\n",
              "      <td>-0.473681</td>\n",
              "      <td>-0.936163</td>\n",
              "      <td>-3.400967</td>\n",
              "    </tr>\n",
              "    <tr>\n",
              "      <th>B</th>\n",
              "      <td>1.128684</td>\n",
              "      <td>0.162611</td>\n",
              "      <td>1.019764</td>\n",
              "      <td>0.850668</td>\n",
              "      <td>1.273761</td>\n",
              "      <td>-0.442425</td>\n",
              "      <td>-0.073657</td>\n",
              "      <td>2.404676</td>\n",
              "    </tr>\n",
              "    <tr>\n",
              "      <th>C</th>\n",
              "      <td>-0.789728</td>\n",
              "      <td>-1.230953</td>\n",
              "      <td>0.029550</td>\n",
              "      <td>-0.208369</td>\n",
              "      <td>1.324662</td>\n",
              "      <td>-0.702087</td>\n",
              "      <td>-0.837711</td>\n",
              "      <td>-1.163283</td>\n",
              "    </tr>\n",
              "  </tbody>\n",
              "</table>\n",
              "</div>"
            ],
            "text/plain": [
              "first        bar                 baz  ...       foo       qux          \n",
              "second       one       two       one  ...       two       one       two\n",
              "A      -1.767522 -0.318598 -0.600632  ... -0.473681 -0.936163 -3.400967\n",
              "B       1.128684  0.162611  1.019764  ... -0.442425 -0.073657  2.404676\n",
              "C      -0.789728 -1.230953  0.029550  ... -0.702087 -0.837711 -1.163283\n",
              "\n",
              "[3 rows x 8 columns]"
            ]
          },
          "metadata": {
            "tags": []
          },
          "execution_count": 170
        }
      ]
    },
    {
      "cell_type": "code",
      "metadata": {
        "id": "o_Oa5gLiVb_B",
        "colab": {
          "base_uri": "https://localhost:8080/"
        },
        "outputId": "0af932cb-b7f3-4f92-867c-a65dbccca50b"
      },
      "source": [
        "pd.DataFrame(np.random.randn(6, 6), index=index[:6], columns=index[:6])"
      ],
      "execution_count": null,
      "outputs": [
        {
          "output_type": "execute_result",
          "data": {
            "text/html": [
              "<div>\n",
              "<style scoped>\n",
              "    .dataframe tbody tr th:only-of-type {\n",
              "        vertical-align: middle;\n",
              "    }\n",
              "\n",
              "    .dataframe tbody tr th {\n",
              "        vertical-align: top;\n",
              "    }\n",
              "\n",
              "    .dataframe thead tr th {\n",
              "        text-align: left;\n",
              "    }\n",
              "\n",
              "    .dataframe thead tr:last-of-type th {\n",
              "        text-align: right;\n",
              "    }\n",
              "</style>\n",
              "<table border=\"1\" class=\"dataframe\">\n",
              "  <thead>\n",
              "    <tr>\n",
              "      <th></th>\n",
              "      <th>first</th>\n",
              "      <th colspan=\"2\" halign=\"left\">bar</th>\n",
              "      <th colspan=\"2\" halign=\"left\">baz</th>\n",
              "      <th colspan=\"2\" halign=\"left\">foo</th>\n",
              "    </tr>\n",
              "    <tr>\n",
              "      <th></th>\n",
              "      <th>second</th>\n",
              "      <th>one</th>\n",
              "      <th>two</th>\n",
              "      <th>one</th>\n",
              "      <th>two</th>\n",
              "      <th>one</th>\n",
              "      <th>two</th>\n",
              "    </tr>\n",
              "    <tr>\n",
              "      <th>first</th>\n",
              "      <th>second</th>\n",
              "      <th></th>\n",
              "      <th></th>\n",
              "      <th></th>\n",
              "      <th></th>\n",
              "      <th></th>\n",
              "      <th></th>\n",
              "    </tr>\n",
              "  </thead>\n",
              "  <tbody>\n",
              "    <tr>\n",
              "      <th rowspan=\"2\" valign=\"top\">bar</th>\n",
              "      <th>one</th>\n",
              "      <td>0.356678</td>\n",
              "      <td>2.331570</td>\n",
              "      <td>-0.721250</td>\n",
              "      <td>0.171339</td>\n",
              "      <td>0.186590</td>\n",
              "      <td>-1.641386</td>\n",
              "    </tr>\n",
              "    <tr>\n",
              "      <th>two</th>\n",
              "      <td>-1.407982</td>\n",
              "      <td>-1.550184</td>\n",
              "      <td>1.520637</td>\n",
              "      <td>-0.836313</td>\n",
              "      <td>-2.725046</td>\n",
              "      <td>0.642921</td>\n",
              "    </tr>\n",
              "    <tr>\n",
              "      <th rowspan=\"2\" valign=\"top\">baz</th>\n",
              "      <th>one</th>\n",
              "      <td>0.718485</td>\n",
              "      <td>-0.140558</td>\n",
              "      <td>-0.191028</td>\n",
              "      <td>-1.349233</td>\n",
              "      <td>-0.397229</td>\n",
              "      <td>1.950746</td>\n",
              "    </tr>\n",
              "    <tr>\n",
              "      <th>two</th>\n",
              "      <td>0.530054</td>\n",
              "      <td>-0.449418</td>\n",
              "      <td>0.160108</td>\n",
              "      <td>-1.063879</td>\n",
              "      <td>1.373647</td>\n",
              "      <td>-2.156800</td>\n",
              "    </tr>\n",
              "    <tr>\n",
              "      <th rowspan=\"2\" valign=\"top\">foo</th>\n",
              "      <th>one</th>\n",
              "      <td>-0.539747</td>\n",
              "      <td>-1.582283</td>\n",
              "      <td>-1.006312</td>\n",
              "      <td>0.516264</td>\n",
              "      <td>0.015480</td>\n",
              "      <td>0.835465</td>\n",
              "    </tr>\n",
              "    <tr>\n",
              "      <th>two</th>\n",
              "      <td>-1.307809</td>\n",
              "      <td>0.799687</td>\n",
              "      <td>-0.603515</td>\n",
              "      <td>-1.206627</td>\n",
              "      <td>0.565684</td>\n",
              "      <td>-1.099166</td>\n",
              "    </tr>\n",
              "  </tbody>\n",
              "</table>\n",
              "</div>"
            ],
            "text/plain": [
              "first              bar                 baz                 foo          \n",
              "second             one       two       one       two       one       two\n",
              "first second                                                            \n",
              "bar   one     0.356678  2.331570 -0.721250  0.171339  0.186590 -1.641386\n",
              "      two    -1.407982 -1.550184  1.520637 -0.836313 -2.725046  0.642921\n",
              "baz   one     0.718485 -0.140558 -0.191028 -1.349233 -0.397229  1.950746\n",
              "      two     0.530054 -0.449418  0.160108 -1.063879  1.373647 -2.156800\n",
              "foo   one    -0.539747 -1.582283 -1.006312  0.516264  0.015480  0.835465\n",
              "      two    -1.307809  0.799687 -0.603515 -1.206627  0.565684 -1.099166"
            ]
          },
          "metadata": {
            "tags": []
          },
          "execution_count": 171
        }
      ]
    },
    {
      "cell_type": "markdown",
      "metadata": {
        "id": "IJuuClO-V45P"
      },
      "source": [
        "Reconstructing the level labels \n",
        "\n",
        "Defined levels"
      ]
    },
    {
      "cell_type": "code",
      "metadata": {
        "id": "X9j3zUdWV-XQ",
        "colab": {
          "base_uri": "https://localhost:8080/"
        },
        "outputId": "4a68a526-25ee-4784-e59a-8a97ed9a15ec"
      },
      "source": [
        "index.get_level_values(0)"
      ],
      "execution_count": null,
      "outputs": [
        {
          "output_type": "execute_result",
          "data": {
            "text/plain": [
              "Index(['bar', 'bar', 'baz', 'baz', 'foo', 'foo', 'qux', 'qux'], dtype='object', name='first')"
            ]
          },
          "metadata": {
            "tags": []
          },
          "execution_count": 172
        }
      ]
    },
    {
      "cell_type": "code",
      "metadata": {
        "id": "I1oy4glQWDtH",
        "colab": {
          "base_uri": "https://localhost:8080/"
        },
        "outputId": "155ad3c2-cdd7-44ae-9793-38da40daa7f1"
      },
      "source": [
        "index.get_level_values(0)"
      ],
      "execution_count": null,
      "outputs": [
        {
          "output_type": "execute_result",
          "data": {
            "text/plain": [
              "Index(['bar', 'bar', 'baz', 'baz', 'foo', 'foo', 'qux', 'qux'], dtype='object', name='first')"
            ]
          },
          "metadata": {
            "tags": []
          },
          "execution_count": 173
        }
      ]
    },
    {
      "cell_type": "code",
      "metadata": {
        "id": "EpIMHr50W41B",
        "colab": {
          "base_uri": "https://localhost:8080/"
        },
        "outputId": "ed0a3d8d-05bb-4100-c5fd-4eea5ce97fae"
      },
      "source": [
        "df.columns.levels  # original MultiIndex"
      ],
      "execution_count": null,
      "outputs": [
        {
          "output_type": "execute_result",
          "data": {
            "text/plain": [
              "FrozenList([['bar', 'baz', 'foo', 'qux'], ['one', 'two']])"
            ]
          },
          "metadata": {
            "tags": []
          },
          "execution_count": 174
        }
      ]
    },
    {
      "cell_type": "code",
      "metadata": {
        "id": "GjSJLwnJW8fg",
        "colab": {
          "base_uri": "https://localhost:8080/"
        },
        "outputId": "36f773d5-d166-431b-d92c-c2d4a33445aa"
      },
      "source": [
        "\n",
        "df[['foo','qux']].columns.levels  # sliced"
      ],
      "execution_count": null,
      "outputs": [
        {
          "output_type": "execute_result",
          "data": {
            "text/plain": [
              "FrozenList([['bar', 'baz', 'foo', 'qux'], ['one', 'two']])"
            ]
          },
          "metadata": {
            "tags": []
          },
          "execution_count": 175
        }
      ]
    },
    {
      "cell_type": "markdown",
      "metadata": {
        "id": "RqIMha_7Utyz"
      },
      "source": [
        "Basic indexing on axis with MultiIndex"
      ]
    },
    {
      "cell_type": "code",
      "metadata": {
        "id": "YopZSiNfWHh7",
        "colab": {
          "base_uri": "https://localhost:8080/"
        },
        "outputId": "2f221ad5-c6a4-47fa-efdb-7ec0be9aebba"
      },
      "source": [
        "index = pd.MultiIndex.from_tuples(tuples, names=['first', 'second'])\n",
        "df = pd.DataFrame(np.random.randn(3, 8), index=['A', 'B', 'C'], columns=index)\n",
        "\n",
        "df"
      ],
      "execution_count": null,
      "outputs": [
        {
          "output_type": "execute_result",
          "data": {
            "text/html": [
              "<div>\n",
              "<style scoped>\n",
              "    .dataframe tbody tr th:only-of-type {\n",
              "        vertical-align: middle;\n",
              "    }\n",
              "\n",
              "    .dataframe tbody tr th {\n",
              "        vertical-align: top;\n",
              "    }\n",
              "\n",
              "    .dataframe thead tr th {\n",
              "        text-align: left;\n",
              "    }\n",
              "</style>\n",
              "<table border=\"1\" class=\"dataframe\">\n",
              "  <thead>\n",
              "    <tr>\n",
              "      <th>first</th>\n",
              "      <th colspan=\"2\" halign=\"left\">bar</th>\n",
              "      <th colspan=\"2\" halign=\"left\">baz</th>\n",
              "      <th colspan=\"2\" halign=\"left\">foo</th>\n",
              "      <th colspan=\"2\" halign=\"left\">qux</th>\n",
              "    </tr>\n",
              "    <tr>\n",
              "      <th>second</th>\n",
              "      <th>one</th>\n",
              "      <th>two</th>\n",
              "      <th>one</th>\n",
              "      <th>two</th>\n",
              "      <th>one</th>\n",
              "      <th>two</th>\n",
              "      <th>one</th>\n",
              "      <th>two</th>\n",
              "    </tr>\n",
              "  </thead>\n",
              "  <tbody>\n",
              "    <tr>\n",
              "      <th>A</th>\n",
              "      <td>1.671626</td>\n",
              "      <td>1.299115</td>\n",
              "      <td>-1.087275</td>\n",
              "      <td>0.607549</td>\n",
              "      <td>-0.706820</td>\n",
              "      <td>-1.148689</td>\n",
              "      <td>-0.914472</td>\n",
              "      <td>-0.128080</td>\n",
              "    </tr>\n",
              "    <tr>\n",
              "      <th>B</th>\n",
              "      <td>-0.172342</td>\n",
              "      <td>0.330665</td>\n",
              "      <td>2.169377</td>\n",
              "      <td>0.566355</td>\n",
              "      <td>0.222724</td>\n",
              "      <td>1.172491</td>\n",
              "      <td>0.221022</td>\n",
              "      <td>0.200328</td>\n",
              "    </tr>\n",
              "    <tr>\n",
              "      <th>C</th>\n",
              "      <td>-0.866173</td>\n",
              "      <td>1.263172</td>\n",
              "      <td>-0.620292</td>\n",
              "      <td>-0.395760</td>\n",
              "      <td>0.292145</td>\n",
              "      <td>-0.714547</td>\n",
              "      <td>1.839245</td>\n",
              "      <td>-0.639131</td>\n",
              "    </tr>\n",
              "  </tbody>\n",
              "</table>\n",
              "</div>"
            ],
            "text/plain": [
              "first        bar                 baz  ...       foo       qux          \n",
              "second       one       two       one  ...       two       one       two\n",
              "A       1.671626  1.299115 -1.087275  ... -1.148689 -0.914472 -0.128080\n",
              "B      -0.172342  0.330665  2.169377  ...  1.172491  0.221022  0.200328\n",
              "C      -0.866173  1.263172 -0.620292  ... -0.714547  1.839245 -0.639131\n",
              "\n",
              "[3 rows x 8 columns]"
            ]
          },
          "metadata": {
            "tags": []
          },
          "execution_count": 176
        }
      ]
    },
    {
      "cell_type": "code",
      "metadata": {
        "id": "KIRLn4f1UpgY",
        "colab": {
          "base_uri": "https://localhost:8080/"
        },
        "outputId": "19eb27af-c902-4ade-f349-33f7371f98f3"
      },
      "source": [
        "df['bar']"
      ],
      "execution_count": null,
      "outputs": [
        {
          "output_type": "execute_result",
          "data": {
            "text/html": [
              "<div>\n",
              "<style scoped>\n",
              "    .dataframe tbody tr th:only-of-type {\n",
              "        vertical-align: middle;\n",
              "    }\n",
              "\n",
              "    .dataframe tbody tr th {\n",
              "        vertical-align: top;\n",
              "    }\n",
              "\n",
              "    .dataframe thead th {\n",
              "        text-align: right;\n",
              "    }\n",
              "</style>\n",
              "<table border=\"1\" class=\"dataframe\">\n",
              "  <thead>\n",
              "    <tr style=\"text-align: right;\">\n",
              "      <th>second</th>\n",
              "      <th>one</th>\n",
              "      <th>two</th>\n",
              "    </tr>\n",
              "  </thead>\n",
              "  <tbody>\n",
              "    <tr>\n",
              "      <th>A</th>\n",
              "      <td>1.671626</td>\n",
              "      <td>1.299115</td>\n",
              "    </tr>\n",
              "    <tr>\n",
              "      <th>B</th>\n",
              "      <td>-0.172342</td>\n",
              "      <td>0.330665</td>\n",
              "    </tr>\n",
              "    <tr>\n",
              "      <th>C</th>\n",
              "      <td>-0.866173</td>\n",
              "      <td>1.263172</td>\n",
              "    </tr>\n",
              "  </tbody>\n",
              "</table>\n",
              "</div>"
            ],
            "text/plain": [
              "second       one       two\n",
              "A       1.671626  1.299115\n",
              "B      -0.172342  0.330665\n",
              "C      -0.866173  1.263172"
            ]
          },
          "metadata": {
            "tags": []
          },
          "execution_count": 177
        }
      ]
    },
    {
      "cell_type": "code",
      "metadata": {
        "id": "oEQWIM3oWMNj",
        "colab": {
          "base_uri": "https://localhost:8080/"
        },
        "outputId": "a2e27387-5056-4bea-b613-1a0851324069"
      },
      "source": [
        "df['bar', 'one']"
      ],
      "execution_count": null,
      "outputs": [
        {
          "output_type": "execute_result",
          "data": {
            "text/plain": [
              "A    1.671626\n",
              "B   -0.172342\n",
              "C   -0.866173\n",
              "Name: (bar, one), dtype: float64"
            ]
          },
          "metadata": {
            "tags": []
          },
          "execution_count": 178
        }
      ]
    },
    {
      "cell_type": "code",
      "metadata": {
        "id": "vXLdUNm1WPEy",
        "colab": {
          "base_uri": "https://localhost:8080/"
        },
        "outputId": "54d9dfd4-a6b1-47cd-d35e-d442021ee557"
      },
      "source": [
        "df['bar']['one']"
      ],
      "execution_count": null,
      "outputs": [
        {
          "output_type": "execute_result",
          "data": {
            "text/plain": [
              "A    1.671626\n",
              "B   -0.172342\n",
              "C   -0.866173\n",
              "Name: one, dtype: float64"
            ]
          },
          "metadata": {
            "tags": []
          },
          "execution_count": 179
        }
      ]
    },
    {
      "cell_type": "code",
      "metadata": {
        "id": "In_9rgdUXXtj",
        "colab": {
          "base_uri": "https://localhost:8080/"
        },
        "outputId": "465c4a21-0531-4e55-bfce-3e34cb8520b0"
      },
      "source": [
        "# Transfor DataFrame\n",
        "df = df.T \n",
        "df"
      ],
      "execution_count": null,
      "outputs": [
        {
          "output_type": "execute_result",
          "data": {
            "text/html": [
              "<div>\n",
              "<style scoped>\n",
              "    .dataframe tbody tr th:only-of-type {\n",
              "        vertical-align: middle;\n",
              "    }\n",
              "\n",
              "    .dataframe tbody tr th {\n",
              "        vertical-align: top;\n",
              "    }\n",
              "\n",
              "    .dataframe thead th {\n",
              "        text-align: right;\n",
              "    }\n",
              "</style>\n",
              "<table border=\"1\" class=\"dataframe\">\n",
              "  <thead>\n",
              "    <tr style=\"text-align: right;\">\n",
              "      <th></th>\n",
              "      <th></th>\n",
              "      <th>A</th>\n",
              "      <th>B</th>\n",
              "      <th>C</th>\n",
              "    </tr>\n",
              "    <tr>\n",
              "      <th>first</th>\n",
              "      <th>second</th>\n",
              "      <th></th>\n",
              "      <th></th>\n",
              "      <th></th>\n",
              "    </tr>\n",
              "  </thead>\n",
              "  <tbody>\n",
              "    <tr>\n",
              "      <th rowspan=\"2\" valign=\"top\">bar</th>\n",
              "      <th>one</th>\n",
              "      <td>1.671626</td>\n",
              "      <td>-0.172342</td>\n",
              "      <td>-0.866173</td>\n",
              "    </tr>\n",
              "    <tr>\n",
              "      <th>two</th>\n",
              "      <td>1.299115</td>\n",
              "      <td>0.330665</td>\n",
              "      <td>1.263172</td>\n",
              "    </tr>\n",
              "    <tr>\n",
              "      <th rowspan=\"2\" valign=\"top\">baz</th>\n",
              "      <th>one</th>\n",
              "      <td>-1.087275</td>\n",
              "      <td>2.169377</td>\n",
              "      <td>-0.620292</td>\n",
              "    </tr>\n",
              "    <tr>\n",
              "      <th>two</th>\n",
              "      <td>0.607549</td>\n",
              "      <td>0.566355</td>\n",
              "      <td>-0.395760</td>\n",
              "    </tr>\n",
              "    <tr>\n",
              "      <th rowspan=\"2\" valign=\"top\">foo</th>\n",
              "      <th>one</th>\n",
              "      <td>-0.706820</td>\n",
              "      <td>0.222724</td>\n",
              "      <td>0.292145</td>\n",
              "    </tr>\n",
              "    <tr>\n",
              "      <th>two</th>\n",
              "      <td>-1.148689</td>\n",
              "      <td>1.172491</td>\n",
              "      <td>-0.714547</td>\n",
              "    </tr>\n",
              "    <tr>\n",
              "      <th rowspan=\"2\" valign=\"top\">qux</th>\n",
              "      <th>one</th>\n",
              "      <td>-0.914472</td>\n",
              "      <td>0.221022</td>\n",
              "      <td>1.839245</td>\n",
              "    </tr>\n",
              "    <tr>\n",
              "      <th>two</th>\n",
              "      <td>-0.128080</td>\n",
              "      <td>0.200328</td>\n",
              "      <td>-0.639131</td>\n",
              "    </tr>\n",
              "  </tbody>\n",
              "</table>\n",
              "</div>"
            ],
            "text/plain": [
              "                     A         B         C\n",
              "first second                              \n",
              "bar   one     1.671626 -0.172342 -0.866173\n",
              "      two     1.299115  0.330665  1.263172\n",
              "baz   one    -1.087275  2.169377 -0.620292\n",
              "      two     0.607549  0.566355 -0.395760\n",
              "foo   one    -0.706820  0.222724  0.292145\n",
              "      two    -1.148689  1.172491 -0.714547\n",
              "qux   one    -0.914472  0.221022  1.839245\n",
              "      two    -0.128080  0.200328 -0.639131"
            ]
          },
          "metadata": {
            "tags": []
          },
          "execution_count": 180
        }
      ]
    },
    {
      "cell_type": "code",
      "metadata": {
        "id": "otsd9S5GXe41",
        "colab": {
          "base_uri": "https://localhost:8080/"
        },
        "outputId": "b27806ea-fdd3-4b2d-c423-7e3b49d64b73"
      },
      "source": [
        "df.loc['bar', 'two']"
      ],
      "execution_count": null,
      "outputs": [
        {
          "output_type": "execute_result",
          "data": {
            "text/plain": [
              "A    1.299115\n",
              "B    0.330665\n",
              "C    1.263172\n",
              "Name: (bar, two), dtype: float64"
            ]
          },
          "metadata": {
            "tags": []
          },
          "execution_count": 181
        }
      ]
    },
    {
      "cell_type": "code",
      "metadata": {
        "id": "tZal4eXiXSAa",
        "colab": {
          "base_uri": "https://localhost:8080/"
        },
        "outputId": "7d7d0754-d835-4855-928f-4c002b003aaa"
      },
      "source": [
        "df.loc[('bar', 'two')]"
      ],
      "execution_count": null,
      "outputs": [
        {
          "output_type": "execute_result",
          "data": {
            "text/plain": [
              "A    1.299115\n",
              "B    0.330665\n",
              "C    1.263172\n",
              "Name: (bar, two), dtype: float64"
            ]
          },
          "metadata": {
            "tags": []
          },
          "execution_count": 182
        }
      ]
    },
    {
      "cell_type": "code",
      "metadata": {
        "id": "JF-RgV2-XLHf",
        "colab": {
          "base_uri": "https://localhost:8080/"
        },
        "outputId": "02bc8ed2-9436-4694-e562-2f9a0e6bdee5"
      },
      "source": [
        "df.loc[('bar', 'two'), 'A']"
      ],
      "execution_count": null,
      "outputs": [
        {
          "output_type": "execute_result",
          "data": {
            "text/plain": [
              "1.299114839071429"
            ]
          },
          "metadata": {
            "tags": []
          },
          "execution_count": 183
        }
      ]
    },
    {
      "cell_type": "code",
      "metadata": {
        "id": "r4evniDNX5Zy",
        "colab": {
          "base_uri": "https://localhost:8080/"
        },
        "outputId": "0c1c6dfb-dafa-4430-f0da-3f338d0bddf6"
      },
      "source": [
        "df.loc['baz':'foo']"
      ],
      "execution_count": null,
      "outputs": [
        {
          "output_type": "execute_result",
          "data": {
            "text/html": [
              "<div>\n",
              "<style scoped>\n",
              "    .dataframe tbody tr th:only-of-type {\n",
              "        vertical-align: middle;\n",
              "    }\n",
              "\n",
              "    .dataframe tbody tr th {\n",
              "        vertical-align: top;\n",
              "    }\n",
              "\n",
              "    .dataframe thead th {\n",
              "        text-align: right;\n",
              "    }\n",
              "</style>\n",
              "<table border=\"1\" class=\"dataframe\">\n",
              "  <thead>\n",
              "    <tr style=\"text-align: right;\">\n",
              "      <th></th>\n",
              "      <th></th>\n",
              "      <th>A</th>\n",
              "      <th>B</th>\n",
              "      <th>C</th>\n",
              "    </tr>\n",
              "    <tr>\n",
              "      <th>first</th>\n",
              "      <th>second</th>\n",
              "      <th></th>\n",
              "      <th></th>\n",
              "      <th></th>\n",
              "    </tr>\n",
              "  </thead>\n",
              "  <tbody>\n",
              "    <tr>\n",
              "      <th rowspan=\"2\" valign=\"top\">baz</th>\n",
              "      <th>one</th>\n",
              "      <td>-1.087275</td>\n",
              "      <td>2.169377</td>\n",
              "      <td>-0.620292</td>\n",
              "    </tr>\n",
              "    <tr>\n",
              "      <th>two</th>\n",
              "      <td>0.607549</td>\n",
              "      <td>0.566355</td>\n",
              "      <td>-0.395760</td>\n",
              "    </tr>\n",
              "    <tr>\n",
              "      <th rowspan=\"2\" valign=\"top\">foo</th>\n",
              "      <th>one</th>\n",
              "      <td>-0.706820</td>\n",
              "      <td>0.222724</td>\n",
              "      <td>0.292145</td>\n",
              "    </tr>\n",
              "    <tr>\n",
              "      <th>two</th>\n",
              "      <td>-1.148689</td>\n",
              "      <td>1.172491</td>\n",
              "      <td>-0.714547</td>\n",
              "    </tr>\n",
              "  </tbody>\n",
              "</table>\n",
              "</div>"
            ],
            "text/plain": [
              "                     A         B         C\n",
              "first second                              \n",
              "baz   one    -1.087275  2.169377 -0.620292\n",
              "      two     0.607549  0.566355 -0.395760\n",
              "foo   one    -0.706820  0.222724  0.292145\n",
              "      two    -1.148689  1.172491 -0.714547"
            ]
          },
          "metadata": {
            "tags": []
          },
          "execution_count": 184
        }
      ]
    },
    {
      "cell_type": "code",
      "metadata": {
        "id": "DBmSjqwUX8o-",
        "colab": {
          "base_uri": "https://localhost:8080/"
        },
        "outputId": "42d64242-2a39-4d4c-9db8-f29ff7d6af8d"
      },
      "source": [
        "df.loc[('baz', 'two'):('qux', 'one')]"
      ],
      "execution_count": null,
      "outputs": [
        {
          "output_type": "execute_result",
          "data": {
            "text/html": [
              "<div>\n",
              "<style scoped>\n",
              "    .dataframe tbody tr th:only-of-type {\n",
              "        vertical-align: middle;\n",
              "    }\n",
              "\n",
              "    .dataframe tbody tr th {\n",
              "        vertical-align: top;\n",
              "    }\n",
              "\n",
              "    .dataframe thead th {\n",
              "        text-align: right;\n",
              "    }\n",
              "</style>\n",
              "<table border=\"1\" class=\"dataframe\">\n",
              "  <thead>\n",
              "    <tr style=\"text-align: right;\">\n",
              "      <th></th>\n",
              "      <th></th>\n",
              "      <th>A</th>\n",
              "      <th>B</th>\n",
              "      <th>C</th>\n",
              "    </tr>\n",
              "    <tr>\n",
              "      <th>first</th>\n",
              "      <th>second</th>\n",
              "      <th></th>\n",
              "      <th></th>\n",
              "      <th></th>\n",
              "    </tr>\n",
              "  </thead>\n",
              "  <tbody>\n",
              "    <tr>\n",
              "      <th>baz</th>\n",
              "      <th>two</th>\n",
              "      <td>0.607549</td>\n",
              "      <td>0.566355</td>\n",
              "      <td>-0.395760</td>\n",
              "    </tr>\n",
              "    <tr>\n",
              "      <th rowspan=\"2\" valign=\"top\">foo</th>\n",
              "      <th>one</th>\n",
              "      <td>-0.706820</td>\n",
              "      <td>0.222724</td>\n",
              "      <td>0.292145</td>\n",
              "    </tr>\n",
              "    <tr>\n",
              "      <th>two</th>\n",
              "      <td>-1.148689</td>\n",
              "      <td>1.172491</td>\n",
              "      <td>-0.714547</td>\n",
              "    </tr>\n",
              "    <tr>\n",
              "      <th>qux</th>\n",
              "      <th>one</th>\n",
              "      <td>-0.914472</td>\n",
              "      <td>0.221022</td>\n",
              "      <td>1.839245</td>\n",
              "    </tr>\n",
              "  </tbody>\n",
              "</table>\n",
              "</div>"
            ],
            "text/plain": [
              "                     A         B         C\n",
              "first second                              \n",
              "baz   two     0.607549  0.566355 -0.395760\n",
              "foo   one    -0.706820  0.222724  0.292145\n",
              "      two    -1.148689  1.172491 -0.714547\n",
              "qux   one    -0.914472  0.221022  1.839245"
            ]
          },
          "metadata": {
            "tags": []
          },
          "execution_count": 185
        }
      ]
    },
    {
      "cell_type": "code",
      "metadata": {
        "id": "qgOoNAzpYD7H",
        "colab": {
          "base_uri": "https://localhost:8080/"
        },
        "outputId": "e7bada83-b6dd-41da-e041-f27ea8781e61"
      },
      "source": [
        "df.loc[('baz', 'two'):'foo']"
      ],
      "execution_count": null,
      "outputs": [
        {
          "output_type": "execute_result",
          "data": {
            "text/html": [
              "<div>\n",
              "<style scoped>\n",
              "    .dataframe tbody tr th:only-of-type {\n",
              "        vertical-align: middle;\n",
              "    }\n",
              "\n",
              "    .dataframe tbody tr th {\n",
              "        vertical-align: top;\n",
              "    }\n",
              "\n",
              "    .dataframe thead th {\n",
              "        text-align: right;\n",
              "    }\n",
              "</style>\n",
              "<table border=\"1\" class=\"dataframe\">\n",
              "  <thead>\n",
              "    <tr style=\"text-align: right;\">\n",
              "      <th></th>\n",
              "      <th></th>\n",
              "      <th>A</th>\n",
              "      <th>B</th>\n",
              "      <th>C</th>\n",
              "    </tr>\n",
              "    <tr>\n",
              "      <th>first</th>\n",
              "      <th>second</th>\n",
              "      <th></th>\n",
              "      <th></th>\n",
              "      <th></th>\n",
              "    </tr>\n",
              "  </thead>\n",
              "  <tbody>\n",
              "    <tr>\n",
              "      <th>baz</th>\n",
              "      <th>two</th>\n",
              "      <td>0.607549</td>\n",
              "      <td>0.566355</td>\n",
              "      <td>-0.395760</td>\n",
              "    </tr>\n",
              "    <tr>\n",
              "      <th rowspan=\"2\" valign=\"top\">foo</th>\n",
              "      <th>one</th>\n",
              "      <td>-0.706820</td>\n",
              "      <td>0.222724</td>\n",
              "      <td>0.292145</td>\n",
              "    </tr>\n",
              "    <tr>\n",
              "      <th>two</th>\n",
              "      <td>-1.148689</td>\n",
              "      <td>1.172491</td>\n",
              "      <td>-0.714547</td>\n",
              "    </tr>\n",
              "  </tbody>\n",
              "</table>\n",
              "</div>"
            ],
            "text/plain": [
              "                     A         B         C\n",
              "first second                              \n",
              "baz   two     0.607549  0.566355 -0.395760\n",
              "foo   one    -0.706820  0.222724  0.292145\n",
              "      two    -1.148689  1.172491 -0.714547"
            ]
          },
          "metadata": {
            "tags": []
          },
          "execution_count": 186
        }
      ]
    },
    {
      "cell_type": "code",
      "metadata": {
        "id": "IGfOihDVYGVa",
        "colab": {
          "base_uri": "https://localhost:8080/"
        },
        "outputId": "e001eec7-668d-4bc3-8d8a-7516c367ca71"
      },
      "source": [
        "df.loc[[('bar', 'two'), ('qux', 'one')]]"
      ],
      "execution_count": null,
      "outputs": [
        {
          "output_type": "execute_result",
          "data": {
            "text/html": [
              "<div>\n",
              "<style scoped>\n",
              "    .dataframe tbody tr th:only-of-type {\n",
              "        vertical-align: middle;\n",
              "    }\n",
              "\n",
              "    .dataframe tbody tr th {\n",
              "        vertical-align: top;\n",
              "    }\n",
              "\n",
              "    .dataframe thead th {\n",
              "        text-align: right;\n",
              "    }\n",
              "</style>\n",
              "<table border=\"1\" class=\"dataframe\">\n",
              "  <thead>\n",
              "    <tr style=\"text-align: right;\">\n",
              "      <th></th>\n",
              "      <th></th>\n",
              "      <th>A</th>\n",
              "      <th>B</th>\n",
              "      <th>C</th>\n",
              "    </tr>\n",
              "    <tr>\n",
              "      <th>first</th>\n",
              "      <th>second</th>\n",
              "      <th></th>\n",
              "      <th></th>\n",
              "      <th></th>\n",
              "    </tr>\n",
              "  </thead>\n",
              "  <tbody>\n",
              "    <tr>\n",
              "      <th>bar</th>\n",
              "      <th>two</th>\n",
              "      <td>1.299115</td>\n",
              "      <td>0.330665</td>\n",
              "      <td>1.263172</td>\n",
              "    </tr>\n",
              "    <tr>\n",
              "      <th>qux</th>\n",
              "      <th>one</th>\n",
              "      <td>-0.914472</td>\n",
              "      <td>0.221022</td>\n",
              "      <td>1.839245</td>\n",
              "    </tr>\n",
              "  </tbody>\n",
              "</table>\n",
              "</div>"
            ],
            "text/plain": [
              "                     A         B         C\n",
              "first second                              \n",
              "bar   two     1.299115  0.330665  1.263172\n",
              "qux   one    -0.914472  0.221022  1.839245"
            ]
          },
          "metadata": {
            "tags": []
          },
          "execution_count": 187
        }
      ]
    },
    {
      "cell_type": "code",
      "metadata": {
        "id": "Vok1KSrhWVt7",
        "colab": {
          "base_uri": "https://localhost:8080/"
        },
        "outputId": "1a9cc1cc-cbe1-46fd-e66a-0c4e2a65eb2a"
      },
      "source": [
        "arrays = [np.array(['bar', 'bar', 'baz', 'baz', 'foo', 'foo', 'qux', 'qux']),\n",
        "           np.array(['one', 'two', 'one', 'two', 'one', 'two', 'one', 'two'])]\n",
        " \n",
        "\n",
        "s = pd.Series(np.random.randn(8), index=arrays)\n",
        "s"
      ],
      "execution_count": null,
      "outputs": [
        {
          "output_type": "execute_result",
          "data": {
            "text/plain": [
              "bar  one   -0.820154\n",
              "     two   -0.249272\n",
              "baz  one    0.282707\n",
              "     two   -1.681408\n",
              "foo  one   -1.029769\n",
              "     two    0.298228\n",
              "qux  one   -0.413381\n",
              "     two    0.269599\n",
              "dtype: float64"
            ]
          },
          "metadata": {
            "tags": []
          },
          "execution_count": 188
        }
      ]
    },
    {
      "cell_type": "code",
      "metadata": {
        "id": "zgRw3HE2WXWZ",
        "colab": {
          "base_uri": "https://localhost:8080/"
        },
        "outputId": "71676e29-5f9d-4e1e-a7cf-8ccdea661847"
      },
      "source": [
        "s['qux']"
      ],
      "execution_count": null,
      "outputs": [
        {
          "output_type": "execute_result",
          "data": {
            "text/plain": [
              "one   -0.413381\n",
              "two    0.269599\n",
              "dtype: float64"
            ]
          },
          "metadata": {
            "tags": []
          },
          "execution_count": 189
        }
      ]
    },
    {
      "cell_type": "markdown",
      "metadata": {
        "id": "SR5NAMIf_HYv"
      },
      "source": [
        "## Stack (col -> row)\n",
        "\n",
        "![reshaping_data_stack.png](https://raw.githubusercontent.com/nurimammasri/Wooky-Pandas/master/Images/reshaping_data_stack.png)\n",
        "\n",
        "> df.stack(level=-1, dropna=True)\n",
        "\n",
        "Return a reshaped DataFrame or Series having a multi-level\n",
        "index with one or more new inner-most levels compared to the current DataFrame. The new inner-most levels are created by pivoting the columns of the current dataframe:\n",
        "\n",
        "  - if the columns have a single level, the output is a Series;\n",
        "  - if the columns have multiple levels, the new index\n",
        "    level(s) is (are) taken from the prescribed level(s) and\n",
        "    the output is a DataFrame.\n",
        "\n",
        "The new index levels are sorted.\n",
        "\n"
      ]
    },
    {
      "cell_type": "markdown",
      "metadata": {
        "id": "b4qFRyyHMK8p"
      },
      "source": [
        "................................................................................................................................................................................................................................................"
      ]
    },
    {
      "cell_type": "code",
      "metadata": {
        "id": "YxAoZ8MC0Mfl"
      },
      "source": [
        "df.stack?"
      ],
      "execution_count": null,
      "outputs": []
    },
    {
      "cell_type": "markdown",
      "metadata": {
        "id": "e0AbZTnGJyCK"
      },
      "source": [
        "### **Single level columns**"
      ]
    },
    {
      "cell_type": "code",
      "metadata": {
        "id": "geasaZwXEKYE",
        "colab": {
          "base_uri": "https://localhost:8080/",
          "height": 106
        },
        "outputId": "98846597-782a-4fe2-f5df-5cbe381ca265"
      },
      "source": [
        "df_single_level_cols = pd.DataFrame([[0, 1], [2, 3]],index=['cat', 'dog'], columns=['weight', 'height'])\n",
        "df_single_level_cols"
      ],
      "execution_count": null,
      "outputs": [
        {
          "output_type": "execute_result",
          "data": {
            "text/html": [
              "<div>\n",
              "<style scoped>\n",
              "    .dataframe tbody tr th:only-of-type {\n",
              "        vertical-align: middle;\n",
              "    }\n",
              "\n",
              "    .dataframe tbody tr th {\n",
              "        vertical-align: top;\n",
              "    }\n",
              "\n",
              "    .dataframe thead th {\n",
              "        text-align: right;\n",
              "    }\n",
              "</style>\n",
              "<table border=\"1\" class=\"dataframe\">\n",
              "  <thead>\n",
              "    <tr style=\"text-align: right;\">\n",
              "      <th></th>\n",
              "      <th>weight</th>\n",
              "      <th>height</th>\n",
              "    </tr>\n",
              "  </thead>\n",
              "  <tbody>\n",
              "    <tr>\n",
              "      <th>cat</th>\n",
              "      <td>0</td>\n",
              "      <td>1</td>\n",
              "    </tr>\n",
              "    <tr>\n",
              "      <th>dog</th>\n",
              "      <td>2</td>\n",
              "      <td>3</td>\n",
              "    </tr>\n",
              "  </tbody>\n",
              "</table>\n",
              "</div>"
            ],
            "text/plain": [
              "     weight  height\n",
              "cat       0       1\n",
              "dog       2       3"
            ]
          },
          "metadata": {
            "tags": []
          },
          "execution_count": 191
        }
      ]
    },
    {
      "cell_type": "markdown",
      "metadata": {
        "id": "CCqLjO4HMIAA"
      },
      "source": [
        "Stacking a dataframe with a single level column axis returns a Series:"
      ]
    },
    {
      "cell_type": "code",
      "metadata": {
        "id": "a8U9she9MIud",
        "colab": {
          "base_uri": "https://localhost:8080/"
        },
        "outputId": "d949f0f2-e409-4dab-bf21-20090db362f4"
      },
      "source": [
        "df_single_level_cols.stack()"
      ],
      "execution_count": null,
      "outputs": [
        {
          "output_type": "execute_result",
          "data": {
            "text/plain": [
              "cat  weight    0\n",
              "     height    1\n",
              "dog  weight    2\n",
              "     height    3\n",
              "dtype: int64"
            ]
          },
          "metadata": {
            "tags": []
          },
          "execution_count": 192
        }
      ]
    },
    {
      "cell_type": "markdown",
      "metadata": {
        "id": "pk_u-hOMNvbk"
      },
      "source": [
        "### **Multi level columns: simple case**"
      ]
    },
    {
      "cell_type": "code",
      "metadata": {
        "id": "KZLzXM8XN0JJ",
        "colab": {
          "base_uri": "https://localhost:8080/",
          "height": 136
        },
        "outputId": "76ef8ab9-42de-43d1-f56b-4a9168ea03c4"
      },
      "source": [
        "multicol1 = pd.MultiIndex.from_tuples([('weight', 'kg'), ('weight', 'pounds')])\n",
        "df_multi_level_cols1 = pd.DataFrame([[1, 2], [2, 4]], index=['cat', 'dog'], columns=multicol1)\n",
        "df_multi_level_cols1"
      ],
      "execution_count": null,
      "outputs": [
        {
          "output_type": "execute_result",
          "data": {
            "text/html": [
              "<div>\n",
              "<style scoped>\n",
              "    .dataframe tbody tr th:only-of-type {\n",
              "        vertical-align: middle;\n",
              "    }\n",
              "\n",
              "    .dataframe tbody tr th {\n",
              "        vertical-align: top;\n",
              "    }\n",
              "\n",
              "    .dataframe thead tr th {\n",
              "        text-align: left;\n",
              "    }\n",
              "</style>\n",
              "<table border=\"1\" class=\"dataframe\">\n",
              "  <thead>\n",
              "    <tr>\n",
              "      <th></th>\n",
              "      <th colspan=\"2\" halign=\"left\">weight</th>\n",
              "    </tr>\n",
              "    <tr>\n",
              "      <th></th>\n",
              "      <th>kg</th>\n",
              "      <th>pounds</th>\n",
              "    </tr>\n",
              "  </thead>\n",
              "  <tbody>\n",
              "    <tr>\n",
              "      <th>cat</th>\n",
              "      <td>1</td>\n",
              "      <td>2</td>\n",
              "    </tr>\n",
              "    <tr>\n",
              "      <th>dog</th>\n",
              "      <td>2</td>\n",
              "      <td>4</td>\n",
              "    </tr>\n",
              "  </tbody>\n",
              "</table>\n",
              "</div>"
            ],
            "text/plain": [
              "    weight       \n",
              "        kg pounds\n",
              "cat      1      2\n",
              "dog      2      4"
            ]
          },
          "metadata": {
            "tags": []
          },
          "execution_count": 193
        }
      ]
    },
    {
      "cell_type": "markdown",
      "metadata": {
        "id": "7SuMnmNUN7zq"
      },
      "source": [
        "Stacking a dataframe with a multi-level column axis:"
      ]
    },
    {
      "cell_type": "code",
      "metadata": {
        "id": "hv1FzlREN8bF",
        "colab": {
          "base_uri": "https://localhost:8080/",
          "height": 166
        },
        "outputId": "06f4515e-cd87-49fc-b9a0-fee10ca43ff3"
      },
      "source": [
        "df_multi_level_cols1.stack()"
      ],
      "execution_count": null,
      "outputs": [
        {
          "output_type": "execute_result",
          "data": {
            "text/html": [
              "<div>\n",
              "<style scoped>\n",
              "    .dataframe tbody tr th:only-of-type {\n",
              "        vertical-align: middle;\n",
              "    }\n",
              "\n",
              "    .dataframe tbody tr th {\n",
              "        vertical-align: top;\n",
              "    }\n",
              "\n",
              "    .dataframe thead th {\n",
              "        text-align: right;\n",
              "    }\n",
              "</style>\n",
              "<table border=\"1\" class=\"dataframe\">\n",
              "  <thead>\n",
              "    <tr style=\"text-align: right;\">\n",
              "      <th></th>\n",
              "      <th></th>\n",
              "      <th>weight</th>\n",
              "    </tr>\n",
              "  </thead>\n",
              "  <tbody>\n",
              "    <tr>\n",
              "      <th rowspan=\"2\" valign=\"top\">cat</th>\n",
              "      <th>kg</th>\n",
              "      <td>1</td>\n",
              "    </tr>\n",
              "    <tr>\n",
              "      <th>pounds</th>\n",
              "      <td>2</td>\n",
              "    </tr>\n",
              "    <tr>\n",
              "      <th rowspan=\"2\" valign=\"top\">dog</th>\n",
              "      <th>kg</th>\n",
              "      <td>2</td>\n",
              "    </tr>\n",
              "    <tr>\n",
              "      <th>pounds</th>\n",
              "      <td>4</td>\n",
              "    </tr>\n",
              "  </tbody>\n",
              "</table>\n",
              "</div>"
            ],
            "text/plain": [
              "            weight\n",
              "cat kg           1\n",
              "    pounds       2\n",
              "dog kg           2\n",
              "    pounds       4"
            ]
          },
          "metadata": {
            "tags": []
          },
          "execution_count": 194
        }
      ]
    },
    {
      "cell_type": "markdown",
      "metadata": {
        "id": "EaQQLquhOEdA"
      },
      "source": [
        "### **Missing values**"
      ]
    },
    {
      "cell_type": "code",
      "metadata": {
        "id": "FZyPF9zXOG4O",
        "colab": {
          "base_uri": "https://localhost:8080/",
          "height": 136
        },
        "outputId": "fc32aab9-9d0a-4b5e-e738-63c981b030a5"
      },
      "source": [
        "multicol2 = pd.MultiIndex.from_tuples([('weight', 'kg'), ('height', 'm')])\n",
        "df_multi_level_cols2 = pd.DataFrame([[1.0, 2.0], [3.0, 4.0]], index=['cat', 'dog'], columns=multicol2)\n",
        "df_multi_level_cols2"
      ],
      "execution_count": null,
      "outputs": [
        {
          "output_type": "execute_result",
          "data": {
            "text/html": [
              "<div>\n",
              "<style scoped>\n",
              "    .dataframe tbody tr th:only-of-type {\n",
              "        vertical-align: middle;\n",
              "    }\n",
              "\n",
              "    .dataframe tbody tr th {\n",
              "        vertical-align: top;\n",
              "    }\n",
              "\n",
              "    .dataframe thead tr th {\n",
              "        text-align: left;\n",
              "    }\n",
              "</style>\n",
              "<table border=\"1\" class=\"dataframe\">\n",
              "  <thead>\n",
              "    <tr>\n",
              "      <th></th>\n",
              "      <th>weight</th>\n",
              "      <th>height</th>\n",
              "    </tr>\n",
              "    <tr>\n",
              "      <th></th>\n",
              "      <th>kg</th>\n",
              "      <th>m</th>\n",
              "    </tr>\n",
              "  </thead>\n",
              "  <tbody>\n",
              "    <tr>\n",
              "      <th>cat</th>\n",
              "      <td>1.0</td>\n",
              "      <td>2.0</td>\n",
              "    </tr>\n",
              "    <tr>\n",
              "      <th>dog</th>\n",
              "      <td>3.0</td>\n",
              "      <td>4.0</td>\n",
              "    </tr>\n",
              "  </tbody>\n",
              "</table>\n",
              "</div>"
            ],
            "text/plain": [
              "    weight height\n",
              "        kg      m\n",
              "cat    1.0    2.0\n",
              "dog    3.0    4.0"
            ]
          },
          "metadata": {
            "tags": []
          },
          "execution_count": 195
        }
      ]
    },
    {
      "cell_type": "markdown",
      "metadata": {
        "id": "7rQTXzNpOYSG"
      },
      "source": [
        "It is common to have missing values when stacking a dataframe\n",
        "with multi-level columns, as the stacked dataframe typically\n",
        "has more values than the original dataframe. Missing values\n",
        "are filled with NaNs:"
      ]
    },
    {
      "cell_type": "code",
      "metadata": {
        "id": "GRVNFtteOabR",
        "colab": {
          "base_uri": "https://localhost:8080/",
          "height": 166
        },
        "outputId": "416c16fa-2240-4c0a-cf71-d8fdaaad179c"
      },
      "source": [
        "df_multi_level_cols2.stack()"
      ],
      "execution_count": null,
      "outputs": [
        {
          "output_type": "execute_result",
          "data": {
            "text/html": [
              "<div>\n",
              "<style scoped>\n",
              "    .dataframe tbody tr th:only-of-type {\n",
              "        vertical-align: middle;\n",
              "    }\n",
              "\n",
              "    .dataframe tbody tr th {\n",
              "        vertical-align: top;\n",
              "    }\n",
              "\n",
              "    .dataframe thead th {\n",
              "        text-align: right;\n",
              "    }\n",
              "</style>\n",
              "<table border=\"1\" class=\"dataframe\">\n",
              "  <thead>\n",
              "    <tr style=\"text-align: right;\">\n",
              "      <th></th>\n",
              "      <th></th>\n",
              "      <th>height</th>\n",
              "      <th>weight</th>\n",
              "    </tr>\n",
              "  </thead>\n",
              "  <tbody>\n",
              "    <tr>\n",
              "      <th rowspan=\"2\" valign=\"top\">cat</th>\n",
              "      <th>kg</th>\n",
              "      <td>NaN</td>\n",
              "      <td>1.0</td>\n",
              "    </tr>\n",
              "    <tr>\n",
              "      <th>m</th>\n",
              "      <td>2.0</td>\n",
              "      <td>NaN</td>\n",
              "    </tr>\n",
              "    <tr>\n",
              "      <th rowspan=\"2\" valign=\"top\">dog</th>\n",
              "      <th>kg</th>\n",
              "      <td>NaN</td>\n",
              "      <td>3.0</td>\n",
              "    </tr>\n",
              "    <tr>\n",
              "      <th>m</th>\n",
              "      <td>4.0</td>\n",
              "      <td>NaN</td>\n",
              "    </tr>\n",
              "  </tbody>\n",
              "</table>\n",
              "</div>"
            ],
            "text/plain": [
              "        height  weight\n",
              "cat kg     NaN     1.0\n",
              "    m      2.0     NaN\n",
              "dog kg     NaN     3.0\n",
              "    m      4.0     NaN"
            ]
          },
          "metadata": {
            "tags": []
          },
          "execution_count": 196
        }
      ]
    },
    {
      "cell_type": "markdown",
      "metadata": {
        "id": "AHU8mRrCOch_"
      },
      "source": [
        "### **Prescribing the level(s) to be stacked**\n",
        "\n",
        "The first parameter controls which level or levels are stacked:"
      ]
    },
    {
      "cell_type": "code",
      "metadata": {
        "id": "NO1WGGD_OlFu",
        "colab": {
          "base_uri": "https://localhost:8080/",
          "height": 166
        },
        "outputId": "48ae27d6-4efd-4ea7-9a98-67fb55cc83b6"
      },
      "source": [
        "df_multi_level_cols2.stack(0)"
      ],
      "execution_count": null,
      "outputs": [
        {
          "output_type": "execute_result",
          "data": {
            "text/html": [
              "<div>\n",
              "<style scoped>\n",
              "    .dataframe tbody tr th:only-of-type {\n",
              "        vertical-align: middle;\n",
              "    }\n",
              "\n",
              "    .dataframe tbody tr th {\n",
              "        vertical-align: top;\n",
              "    }\n",
              "\n",
              "    .dataframe thead th {\n",
              "        text-align: right;\n",
              "    }\n",
              "</style>\n",
              "<table border=\"1\" class=\"dataframe\">\n",
              "  <thead>\n",
              "    <tr style=\"text-align: right;\">\n",
              "      <th></th>\n",
              "      <th></th>\n",
              "      <th>kg</th>\n",
              "      <th>m</th>\n",
              "    </tr>\n",
              "  </thead>\n",
              "  <tbody>\n",
              "    <tr>\n",
              "      <th rowspan=\"2\" valign=\"top\">cat</th>\n",
              "      <th>height</th>\n",
              "      <td>NaN</td>\n",
              "      <td>2.0</td>\n",
              "    </tr>\n",
              "    <tr>\n",
              "      <th>weight</th>\n",
              "      <td>1.0</td>\n",
              "      <td>NaN</td>\n",
              "    </tr>\n",
              "    <tr>\n",
              "      <th rowspan=\"2\" valign=\"top\">dog</th>\n",
              "      <th>height</th>\n",
              "      <td>NaN</td>\n",
              "      <td>4.0</td>\n",
              "    </tr>\n",
              "    <tr>\n",
              "      <th>weight</th>\n",
              "      <td>3.0</td>\n",
              "      <td>NaN</td>\n",
              "    </tr>\n",
              "  </tbody>\n",
              "</table>\n",
              "</div>"
            ],
            "text/plain": [
              "             kg    m\n",
              "cat height  NaN  2.0\n",
              "    weight  1.0  NaN\n",
              "dog height  NaN  4.0\n",
              "    weight  3.0  NaN"
            ]
          },
          "metadata": {
            "tags": []
          },
          "execution_count": 197
        }
      ]
    },
    {
      "cell_type": "code",
      "metadata": {
        "id": "JWZlCMMfOn8p",
        "colab": {
          "base_uri": "https://localhost:8080/"
        },
        "outputId": "207913ec-f13b-4209-a370-24b130151ec4"
      },
      "source": [
        "df_multi_level_cols2.stack([0, 1])"
      ],
      "execution_count": null,
      "outputs": [
        {
          "output_type": "execute_result",
          "data": {
            "text/plain": [
              "cat  height  m     2.0\n",
              "     weight  kg    1.0\n",
              "dog  height  m     4.0\n",
              "     weight  kg    3.0\n",
              "dtype: float64"
            ]
          },
          "metadata": {
            "tags": []
          },
          "execution_count": 198
        }
      ]
    },
    {
      "cell_type": "markdown",
      "metadata": {
        "id": "uLAFZVPOOpPu"
      },
      "source": [
        "### **Dropping missing values**"
      ]
    },
    {
      "cell_type": "code",
      "metadata": {
        "id": "3jDxRn1QOuSx",
        "colab": {
          "base_uri": "https://localhost:8080/",
          "height": 136
        },
        "outputId": "96563ea2-e28a-4371-9955-42207e9c130e"
      },
      "source": [
        "df_multi_level_cols3 = pd.DataFrame([[None, 1.0], [2.0, 3.0]], index=['cat', 'dog'], columns=multicol2)\n",
        "df_multi_level_cols3"
      ],
      "execution_count": null,
      "outputs": [
        {
          "output_type": "execute_result",
          "data": {
            "text/html": [
              "<div>\n",
              "<style scoped>\n",
              "    .dataframe tbody tr th:only-of-type {\n",
              "        vertical-align: middle;\n",
              "    }\n",
              "\n",
              "    .dataframe tbody tr th {\n",
              "        vertical-align: top;\n",
              "    }\n",
              "\n",
              "    .dataframe thead tr th {\n",
              "        text-align: left;\n",
              "    }\n",
              "</style>\n",
              "<table border=\"1\" class=\"dataframe\">\n",
              "  <thead>\n",
              "    <tr>\n",
              "      <th></th>\n",
              "      <th>weight</th>\n",
              "      <th>height</th>\n",
              "    </tr>\n",
              "    <tr>\n",
              "      <th></th>\n",
              "      <th>kg</th>\n",
              "      <th>m</th>\n",
              "    </tr>\n",
              "  </thead>\n",
              "  <tbody>\n",
              "    <tr>\n",
              "      <th>cat</th>\n",
              "      <td>NaN</td>\n",
              "      <td>1.0</td>\n",
              "    </tr>\n",
              "    <tr>\n",
              "      <th>dog</th>\n",
              "      <td>2.0</td>\n",
              "      <td>3.0</td>\n",
              "    </tr>\n",
              "  </tbody>\n",
              "</table>\n",
              "</div>"
            ],
            "text/plain": [
              "    weight height\n",
              "        kg      m\n",
              "cat    NaN    1.0\n",
              "dog    2.0    3.0"
            ]
          },
          "metadata": {
            "tags": []
          },
          "execution_count": 199
        }
      ]
    },
    {
      "cell_type": "markdown",
      "metadata": {
        "id": "DmzwQdMPO18o"
      },
      "source": [
        "Note that rows where all values are missing are dropped by\n",
        "default but this behaviour can be controlled via the dropna\n",
        "keyword parameter:"
      ]
    },
    {
      "cell_type": "code",
      "metadata": {
        "id": "8C1uWdnbO3q6",
        "colab": {
          "base_uri": "https://localhost:8080/",
          "height": 166
        },
        "outputId": "b5070c6e-7726-47cc-aa9e-6a54e64246e9"
      },
      "source": [
        "df_multi_level_cols3.stack(dropna=False)"
      ],
      "execution_count": null,
      "outputs": [
        {
          "output_type": "execute_result",
          "data": {
            "text/html": [
              "<div>\n",
              "<style scoped>\n",
              "    .dataframe tbody tr th:only-of-type {\n",
              "        vertical-align: middle;\n",
              "    }\n",
              "\n",
              "    .dataframe tbody tr th {\n",
              "        vertical-align: top;\n",
              "    }\n",
              "\n",
              "    .dataframe thead th {\n",
              "        text-align: right;\n",
              "    }\n",
              "</style>\n",
              "<table border=\"1\" class=\"dataframe\">\n",
              "  <thead>\n",
              "    <tr style=\"text-align: right;\">\n",
              "      <th></th>\n",
              "      <th></th>\n",
              "      <th>height</th>\n",
              "      <th>weight</th>\n",
              "    </tr>\n",
              "  </thead>\n",
              "  <tbody>\n",
              "    <tr>\n",
              "      <th rowspan=\"2\" valign=\"top\">cat</th>\n",
              "      <th>kg</th>\n",
              "      <td>NaN</td>\n",
              "      <td>NaN</td>\n",
              "    </tr>\n",
              "    <tr>\n",
              "      <th>m</th>\n",
              "      <td>1.0</td>\n",
              "      <td>NaN</td>\n",
              "    </tr>\n",
              "    <tr>\n",
              "      <th rowspan=\"2\" valign=\"top\">dog</th>\n",
              "      <th>kg</th>\n",
              "      <td>NaN</td>\n",
              "      <td>2.0</td>\n",
              "    </tr>\n",
              "    <tr>\n",
              "      <th>m</th>\n",
              "      <td>3.0</td>\n",
              "      <td>NaN</td>\n",
              "    </tr>\n",
              "  </tbody>\n",
              "</table>\n",
              "</div>"
            ],
            "text/plain": [
              "        height  weight\n",
              "cat kg     NaN     NaN\n",
              "    m      1.0     NaN\n",
              "dog kg     NaN     2.0\n",
              "    m      3.0     NaN"
            ]
          },
          "metadata": {
            "tags": []
          },
          "execution_count": 200
        }
      ]
    },
    {
      "cell_type": "code",
      "metadata": {
        "id": "7Di_sCIlO5JK",
        "colab": {
          "base_uri": "https://localhost:8080/",
          "height": 136
        },
        "outputId": "53292d24-11e7-43f6-816c-7988bcd9279b"
      },
      "source": [
        "df_multi_level_cols3.stack(dropna=True)"
      ],
      "execution_count": null,
      "outputs": [
        {
          "output_type": "execute_result",
          "data": {
            "text/html": [
              "<div>\n",
              "<style scoped>\n",
              "    .dataframe tbody tr th:only-of-type {\n",
              "        vertical-align: middle;\n",
              "    }\n",
              "\n",
              "    .dataframe tbody tr th {\n",
              "        vertical-align: top;\n",
              "    }\n",
              "\n",
              "    .dataframe thead th {\n",
              "        text-align: right;\n",
              "    }\n",
              "</style>\n",
              "<table border=\"1\" class=\"dataframe\">\n",
              "  <thead>\n",
              "    <tr style=\"text-align: right;\">\n",
              "      <th></th>\n",
              "      <th></th>\n",
              "      <th>height</th>\n",
              "      <th>weight</th>\n",
              "    </tr>\n",
              "  </thead>\n",
              "  <tbody>\n",
              "    <tr>\n",
              "      <th>cat</th>\n",
              "      <th>m</th>\n",
              "      <td>1.0</td>\n",
              "      <td>NaN</td>\n",
              "    </tr>\n",
              "    <tr>\n",
              "      <th rowspan=\"2\" valign=\"top\">dog</th>\n",
              "      <th>kg</th>\n",
              "      <td>NaN</td>\n",
              "      <td>2.0</td>\n",
              "    </tr>\n",
              "    <tr>\n",
              "      <th>m</th>\n",
              "      <td>3.0</td>\n",
              "      <td>NaN</td>\n",
              "    </tr>\n",
              "  </tbody>\n",
              "</table>\n",
              "</div>"
            ],
            "text/plain": [
              "        height  weight\n",
              "cat m      1.0     NaN\n",
              "dog kg     NaN     2.0\n",
              "    m      3.0     NaN"
            ]
          },
          "metadata": {
            "tags": []
          },
          "execution_count": 201
        }
      ]
    },
    {
      "cell_type": "code",
      "metadata": {
        "id": "yDoAn-oaTSFx",
        "colab": {
          "base_uri": "https://localhost:8080/",
          "height": 136
        },
        "outputId": "ba5cea97-67e6-41e9-eeef-c3d46e8ad49f"
      },
      "source": [
        "df_multi_level_cols3.stack(dropna=True)"
      ],
      "execution_count": null,
      "outputs": [
        {
          "output_type": "execute_result",
          "data": {
            "text/html": [
              "<div>\n",
              "<style scoped>\n",
              "    .dataframe tbody tr th:only-of-type {\n",
              "        vertical-align: middle;\n",
              "    }\n",
              "\n",
              "    .dataframe tbody tr th {\n",
              "        vertical-align: top;\n",
              "    }\n",
              "\n",
              "    .dataframe thead th {\n",
              "        text-align: right;\n",
              "    }\n",
              "</style>\n",
              "<table border=\"1\" class=\"dataframe\">\n",
              "  <thead>\n",
              "    <tr style=\"text-align: right;\">\n",
              "      <th></th>\n",
              "      <th></th>\n",
              "      <th>height</th>\n",
              "      <th>weight</th>\n",
              "    </tr>\n",
              "  </thead>\n",
              "  <tbody>\n",
              "    <tr>\n",
              "      <th>cat</th>\n",
              "      <th>m</th>\n",
              "      <td>1.0</td>\n",
              "      <td>NaN</td>\n",
              "    </tr>\n",
              "    <tr>\n",
              "      <th rowspan=\"2\" valign=\"top\">dog</th>\n",
              "      <th>kg</th>\n",
              "      <td>NaN</td>\n",
              "      <td>2.0</td>\n",
              "    </tr>\n",
              "    <tr>\n",
              "      <th>m</th>\n",
              "      <td>3.0</td>\n",
              "      <td>NaN</td>\n",
              "    </tr>\n",
              "  </tbody>\n",
              "</table>\n",
              "</div>"
            ],
            "text/plain": [
              "        height  weight\n",
              "cat m      1.0     NaN\n",
              "dog kg     NaN     2.0\n",
              "    m      3.0     NaN"
            ]
          },
          "metadata": {
            "tags": []
          },
          "execution_count": 202
        }
      ]
    },
    {
      "cell_type": "markdown",
      "metadata": {
        "id": "yDTne9WjSi9h"
      },
      "source": [
        "### **Multiple levels**"
      ]
    },
    {
      "cell_type": "code",
      "metadata": {
        "id": "j_HrKdQkSiD6",
        "colab": {
          "base_uri": "https://localhost:8080/",
          "height": 225
        },
        "outputId": "91453a26-9431-4571-d2a5-657ec4f4f589"
      },
      "source": [
        "columns = pd.MultiIndex.from_tuples([\n",
        "    ('A', 'cat', 'long'), ('B', 'cat', 'long'),\n",
        "    ('A', 'dog', 'short'), ('B', 'dog', 'short')],\n",
        "    names=['exp', 'animal', 'hair_length']\n",
        ")\n",
        "\n",
        "df = pd.DataFrame(np.random.randn(4, 4), columns=columns)\n",
        "\n",
        "df"
      ],
      "execution_count": null,
      "outputs": [
        {
          "output_type": "execute_result",
          "data": {
            "text/html": [
              "<div>\n",
              "<style scoped>\n",
              "    .dataframe tbody tr th:only-of-type {\n",
              "        vertical-align: middle;\n",
              "    }\n",
              "\n",
              "    .dataframe tbody tr th {\n",
              "        vertical-align: top;\n",
              "    }\n",
              "\n",
              "    .dataframe thead tr th {\n",
              "        text-align: left;\n",
              "    }\n",
              "</style>\n",
              "<table border=\"1\" class=\"dataframe\">\n",
              "  <thead>\n",
              "    <tr>\n",
              "      <th>exp</th>\n",
              "      <th>A</th>\n",
              "      <th>B</th>\n",
              "      <th>A</th>\n",
              "      <th>B</th>\n",
              "    </tr>\n",
              "    <tr>\n",
              "      <th>animal</th>\n",
              "      <th>cat</th>\n",
              "      <th>cat</th>\n",
              "      <th>dog</th>\n",
              "      <th>dog</th>\n",
              "    </tr>\n",
              "    <tr>\n",
              "      <th>hair_length</th>\n",
              "      <th>long</th>\n",
              "      <th>long</th>\n",
              "      <th>short</th>\n",
              "      <th>short</th>\n",
              "    </tr>\n",
              "  </thead>\n",
              "  <tbody>\n",
              "    <tr>\n",
              "      <th>0</th>\n",
              "      <td>-2.762317</td>\n",
              "      <td>0.018296</td>\n",
              "      <td>0.752598</td>\n",
              "      <td>1.447585</td>\n",
              "    </tr>\n",
              "    <tr>\n",
              "      <th>1</th>\n",
              "      <td>-1.053382</td>\n",
              "      <td>0.381438</td>\n",
              "      <td>0.629799</td>\n",
              "      <td>0.239616</td>\n",
              "    </tr>\n",
              "    <tr>\n",
              "      <th>2</th>\n",
              "      <td>-0.453556</td>\n",
              "      <td>0.906931</td>\n",
              "      <td>0.819277</td>\n",
              "      <td>1.104094</td>\n",
              "    </tr>\n",
              "    <tr>\n",
              "      <th>3</th>\n",
              "      <td>-1.370994</td>\n",
              "      <td>0.740321</td>\n",
              "      <td>0.665091</td>\n",
              "      <td>0.139976</td>\n",
              "    </tr>\n",
              "  </tbody>\n",
              "</table>\n",
              "</div>"
            ],
            "text/plain": [
              "exp                 A         B         A         B\n",
              "animal            cat       cat       dog       dog\n",
              "hair_length      long      long     short     short\n",
              "0           -2.762317  0.018296  0.752598  1.447585\n",
              "1           -1.053382  0.381438  0.629799  0.239616\n",
              "2           -0.453556  0.906931  0.819277  1.104094\n",
              "3           -1.370994  0.740321  0.665091  0.139976"
            ]
          },
          "metadata": {
            "tags": []
          },
          "execution_count": 203
        }
      ]
    },
    {
      "cell_type": "code",
      "metadata": {
        "id": "8D22cDRcSvq3",
        "colab": {
          "base_uri": "https://localhost:8080/",
          "height": 314
        },
        "outputId": "0de4fb72-55d6-4f58-b42f-0bb05eded934"
      },
      "source": [
        "df.stack(level=['animal', 'hair_length'])"
      ],
      "execution_count": null,
      "outputs": [
        {
          "output_type": "execute_result",
          "data": {
            "text/html": [
              "<div>\n",
              "<style scoped>\n",
              "    .dataframe tbody tr th:only-of-type {\n",
              "        vertical-align: middle;\n",
              "    }\n",
              "\n",
              "    .dataframe tbody tr th {\n",
              "        vertical-align: top;\n",
              "    }\n",
              "\n",
              "    .dataframe thead th {\n",
              "        text-align: right;\n",
              "    }\n",
              "</style>\n",
              "<table border=\"1\" class=\"dataframe\">\n",
              "  <thead>\n",
              "    <tr style=\"text-align: right;\">\n",
              "      <th></th>\n",
              "      <th></th>\n",
              "      <th>exp</th>\n",
              "      <th>A</th>\n",
              "      <th>B</th>\n",
              "    </tr>\n",
              "    <tr>\n",
              "      <th></th>\n",
              "      <th>animal</th>\n",
              "      <th>hair_length</th>\n",
              "      <th></th>\n",
              "      <th></th>\n",
              "    </tr>\n",
              "  </thead>\n",
              "  <tbody>\n",
              "    <tr>\n",
              "      <th rowspan=\"2\" valign=\"top\">0</th>\n",
              "      <th>cat</th>\n",
              "      <th>long</th>\n",
              "      <td>-2.762317</td>\n",
              "      <td>0.018296</td>\n",
              "    </tr>\n",
              "    <tr>\n",
              "      <th>dog</th>\n",
              "      <th>short</th>\n",
              "      <td>0.752598</td>\n",
              "      <td>1.447585</td>\n",
              "    </tr>\n",
              "    <tr>\n",
              "      <th rowspan=\"2\" valign=\"top\">1</th>\n",
              "      <th>cat</th>\n",
              "      <th>long</th>\n",
              "      <td>-1.053382</td>\n",
              "      <td>0.381438</td>\n",
              "    </tr>\n",
              "    <tr>\n",
              "      <th>dog</th>\n",
              "      <th>short</th>\n",
              "      <td>0.629799</td>\n",
              "      <td>0.239616</td>\n",
              "    </tr>\n",
              "    <tr>\n",
              "      <th rowspan=\"2\" valign=\"top\">2</th>\n",
              "      <th>cat</th>\n",
              "      <th>long</th>\n",
              "      <td>-0.453556</td>\n",
              "      <td>0.906931</td>\n",
              "    </tr>\n",
              "    <tr>\n",
              "      <th>dog</th>\n",
              "      <th>short</th>\n",
              "      <td>0.819277</td>\n",
              "      <td>1.104094</td>\n",
              "    </tr>\n",
              "    <tr>\n",
              "      <th rowspan=\"2\" valign=\"top\">3</th>\n",
              "      <th>cat</th>\n",
              "      <th>long</th>\n",
              "      <td>-1.370994</td>\n",
              "      <td>0.740321</td>\n",
              "    </tr>\n",
              "    <tr>\n",
              "      <th>dog</th>\n",
              "      <th>short</th>\n",
              "      <td>0.665091</td>\n",
              "      <td>0.139976</td>\n",
              "    </tr>\n",
              "  </tbody>\n",
              "</table>\n",
              "</div>"
            ],
            "text/plain": [
              "exp                          A         B\n",
              "  animal hair_length                    \n",
              "0 cat    long        -2.762317  0.018296\n",
              "  dog    short        0.752598  1.447585\n",
              "1 cat    long        -1.053382  0.381438\n",
              "  dog    short        0.629799  0.239616\n",
              "2 cat    long        -0.453556  0.906931\n",
              "  dog    short        0.819277  1.104094\n",
              "3 cat    long        -1.370994  0.740321\n",
              "  dog    short        0.665091  0.139976"
            ]
          },
          "metadata": {
            "tags": []
          },
          "execution_count": 204
        }
      ]
    },
    {
      "cell_type": "markdown",
      "metadata": {
        "id": "0OMKj-j2S2bx"
      },
      "source": [
        "The list of levels can contain either level names or level numbers (but not a mixture of the two)."
      ]
    },
    {
      "cell_type": "code",
      "metadata": {
        "id": "awPQjHTQS3ja",
        "colab": {
          "base_uri": "https://localhost:8080/",
          "height": 314
        },
        "outputId": "41ba3e09-fe5c-4b0d-bfcb-386a5e939e2d"
      },
      "source": [
        "# df.stack(level=['animal', 'hair_length'])\n",
        "# from above is equivalent to:\n",
        "df.stack(level=[1, 2])"
      ],
      "execution_count": null,
      "outputs": [
        {
          "output_type": "execute_result",
          "data": {
            "text/html": [
              "<div>\n",
              "<style scoped>\n",
              "    .dataframe tbody tr th:only-of-type {\n",
              "        vertical-align: middle;\n",
              "    }\n",
              "\n",
              "    .dataframe tbody tr th {\n",
              "        vertical-align: top;\n",
              "    }\n",
              "\n",
              "    .dataframe thead th {\n",
              "        text-align: right;\n",
              "    }\n",
              "</style>\n",
              "<table border=\"1\" class=\"dataframe\">\n",
              "  <thead>\n",
              "    <tr style=\"text-align: right;\">\n",
              "      <th></th>\n",
              "      <th></th>\n",
              "      <th>exp</th>\n",
              "      <th>A</th>\n",
              "      <th>B</th>\n",
              "    </tr>\n",
              "    <tr>\n",
              "      <th></th>\n",
              "      <th>animal</th>\n",
              "      <th>hair_length</th>\n",
              "      <th></th>\n",
              "      <th></th>\n",
              "    </tr>\n",
              "  </thead>\n",
              "  <tbody>\n",
              "    <tr>\n",
              "      <th rowspan=\"2\" valign=\"top\">0</th>\n",
              "      <th>cat</th>\n",
              "      <th>long</th>\n",
              "      <td>-2.762317</td>\n",
              "      <td>0.018296</td>\n",
              "    </tr>\n",
              "    <tr>\n",
              "      <th>dog</th>\n",
              "      <th>short</th>\n",
              "      <td>0.752598</td>\n",
              "      <td>1.447585</td>\n",
              "    </tr>\n",
              "    <tr>\n",
              "      <th rowspan=\"2\" valign=\"top\">1</th>\n",
              "      <th>cat</th>\n",
              "      <th>long</th>\n",
              "      <td>-1.053382</td>\n",
              "      <td>0.381438</td>\n",
              "    </tr>\n",
              "    <tr>\n",
              "      <th>dog</th>\n",
              "      <th>short</th>\n",
              "      <td>0.629799</td>\n",
              "      <td>0.239616</td>\n",
              "    </tr>\n",
              "    <tr>\n",
              "      <th rowspan=\"2\" valign=\"top\">2</th>\n",
              "      <th>cat</th>\n",
              "      <th>long</th>\n",
              "      <td>-0.453556</td>\n",
              "      <td>0.906931</td>\n",
              "    </tr>\n",
              "    <tr>\n",
              "      <th>dog</th>\n",
              "      <th>short</th>\n",
              "      <td>0.819277</td>\n",
              "      <td>1.104094</td>\n",
              "    </tr>\n",
              "    <tr>\n",
              "      <th rowspan=\"2\" valign=\"top\">3</th>\n",
              "      <th>cat</th>\n",
              "      <th>long</th>\n",
              "      <td>-1.370994</td>\n",
              "      <td>0.740321</td>\n",
              "    </tr>\n",
              "    <tr>\n",
              "      <th>dog</th>\n",
              "      <th>short</th>\n",
              "      <td>0.665091</td>\n",
              "      <td>0.139976</td>\n",
              "    </tr>\n",
              "  </tbody>\n",
              "</table>\n",
              "</div>"
            ],
            "text/plain": [
              "exp                          A         B\n",
              "  animal hair_length                    \n",
              "0 cat    long        -2.762317  0.018296\n",
              "  dog    short        0.752598  1.447585\n",
              "1 cat    long        -1.053382  0.381438\n",
              "  dog    short        0.629799  0.239616\n",
              "2 cat    long        -0.453556  0.906931\n",
              "  dog    short        0.819277  1.104094\n",
              "3 cat    long        -1.370994  0.740321\n",
              "  dog    short        0.665091  0.139976"
            ]
          },
          "metadata": {
            "tags": []
          },
          "execution_count": 205
        }
      ]
    },
    {
      "cell_type": "markdown",
      "metadata": {
        "id": "K_DAXSx5QZCo"
      },
      "source": [
        "## **Unstack** (Row -> Col)\n",
        "\n",
        "![reshaping_data_unstack01.png](https://raw.githubusercontent.com/nurimammasri/Wooky-Pandas/master/Images/reshaping_data_unstack01.png)\n",
        "\n",
        "![reshaping_data_unstack02.png](https://raw.githubusercontent.com/nurimammasri/Wooky-Pandas/master/Images/reshaping_data_unstack02.png)\n",
        "\n",
        "> df.unstack(level=-1, fill_value=None)\n",
        "\n",
        "Returns a DataFrame having a new level of column labels whose inner-most level\n",
        "consists of the pivoted index labels.\n",
        "\n",
        "If the index is not a MultiIndex, the output will be a Series\n",
        "(the analogue of stack when the columns are not a MultiIndex).\n",
        "\n",
        "* level : int, str, or list of these, default -1 (last level)\n",
        "    \n",
        "Level(s) of index to unstack, can pass level name.\n",
        "\n",
        "* fill_value : int, str or dict\n",
        "\n",
        "Replace NaN with this value if the unstack produces missing values."
      ]
    },
    {
      "cell_type": "code",
      "metadata": {
        "id": "Lx66TpQsQuee"
      },
      "source": [
        "df.unstack?"
      ],
      "execution_count": null,
      "outputs": []
    },
    {
      "cell_type": "code",
      "metadata": {
        "id": "kbUBiIqBRqfG",
        "colab": {
          "base_uri": "https://localhost:8080/"
        },
        "outputId": "6d9b5fee-bfa2-4fd5-d578-24a82bfa8fb8"
      },
      "source": [
        "index = pd.MultiIndex.from_tuples([('one', 'a'), ('one', 'b'), ('two', 'a'), ('two', 'b')])\n",
        "s = pd.Series(np.arange(1.0, 5.0), index=index)\n",
        "s"
      ],
      "execution_count": null,
      "outputs": [
        {
          "output_type": "execute_result",
          "data": {
            "text/plain": [
              "one  a    1.0\n",
              "     b    2.0\n",
              "two  a    3.0\n",
              "     b    4.0\n",
              "dtype: float64"
            ]
          },
          "metadata": {
            "tags": []
          },
          "execution_count": 207
        }
      ]
    },
    {
      "cell_type": "code",
      "metadata": {
        "id": "B9KRsaPdR2EC",
        "colab": {
          "base_uri": "https://localhost:8080/",
          "height": 106
        },
        "outputId": "ada61737-c566-4a30-f150-59c4c501a69c"
      },
      "source": [
        "s.unstack(level=-1)"
      ],
      "execution_count": null,
      "outputs": [
        {
          "output_type": "execute_result",
          "data": {
            "text/html": [
              "<div>\n",
              "<style scoped>\n",
              "    .dataframe tbody tr th:only-of-type {\n",
              "        vertical-align: middle;\n",
              "    }\n",
              "\n",
              "    .dataframe tbody tr th {\n",
              "        vertical-align: top;\n",
              "    }\n",
              "\n",
              "    .dataframe thead th {\n",
              "        text-align: right;\n",
              "    }\n",
              "</style>\n",
              "<table border=\"1\" class=\"dataframe\">\n",
              "  <thead>\n",
              "    <tr style=\"text-align: right;\">\n",
              "      <th></th>\n",
              "      <th>a</th>\n",
              "      <th>b</th>\n",
              "    </tr>\n",
              "  </thead>\n",
              "  <tbody>\n",
              "    <tr>\n",
              "      <th>one</th>\n",
              "      <td>1.0</td>\n",
              "      <td>2.0</td>\n",
              "    </tr>\n",
              "    <tr>\n",
              "      <th>two</th>\n",
              "      <td>3.0</td>\n",
              "      <td>4.0</td>\n",
              "    </tr>\n",
              "  </tbody>\n",
              "</table>\n",
              "</div>"
            ],
            "text/plain": [
              "       a    b\n",
              "one  1.0  2.0\n",
              "two  3.0  4.0"
            ]
          },
          "metadata": {
            "tags": []
          },
          "execution_count": 208
        }
      ]
    },
    {
      "cell_type": "code",
      "metadata": {
        "id": "OPuAVg9bR70d",
        "colab": {
          "base_uri": "https://localhost:8080/",
          "height": 106
        },
        "outputId": "ef591400-b1a7-4669-a7e0-972ae0a95de9"
      },
      "source": [
        "s.unstack(level=0)"
      ],
      "execution_count": null,
      "outputs": [
        {
          "output_type": "execute_result",
          "data": {
            "text/html": [
              "<div>\n",
              "<style scoped>\n",
              "    .dataframe tbody tr th:only-of-type {\n",
              "        vertical-align: middle;\n",
              "    }\n",
              "\n",
              "    .dataframe tbody tr th {\n",
              "        vertical-align: top;\n",
              "    }\n",
              "\n",
              "    .dataframe thead th {\n",
              "        text-align: right;\n",
              "    }\n",
              "</style>\n",
              "<table border=\"1\" class=\"dataframe\">\n",
              "  <thead>\n",
              "    <tr style=\"text-align: right;\">\n",
              "      <th></th>\n",
              "      <th>one</th>\n",
              "      <th>two</th>\n",
              "    </tr>\n",
              "  </thead>\n",
              "  <tbody>\n",
              "    <tr>\n",
              "      <th>a</th>\n",
              "      <td>1.0</td>\n",
              "      <td>3.0</td>\n",
              "    </tr>\n",
              "    <tr>\n",
              "      <th>b</th>\n",
              "      <td>2.0</td>\n",
              "      <td>4.0</td>\n",
              "    </tr>\n",
              "  </tbody>\n",
              "</table>\n",
              "</div>"
            ],
            "text/plain": [
              "   one  two\n",
              "a  1.0  3.0\n",
              "b  2.0  4.0"
            ]
          },
          "metadata": {
            "tags": []
          },
          "execution_count": 209
        }
      ]
    },
    {
      "cell_type": "code",
      "metadata": {
        "id": "tmq9-Yu4R9tm",
        "colab": {
          "base_uri": "https://localhost:8080/"
        },
        "outputId": "cd538eb9-a144-48e6-b643-3181336aaf77"
      },
      "source": [
        "df = s.unstack(level=0)\n",
        "df.unstack()"
      ],
      "execution_count": null,
      "outputs": [
        {
          "output_type": "execute_result",
          "data": {
            "text/plain": [
              "one  a    1.0\n",
              "     b    2.0\n",
              "two  a    3.0\n",
              "     b    4.0\n",
              "dtype: float64"
            ]
          },
          "metadata": {
            "tags": []
          },
          "execution_count": 210
        }
      ]
    },
    {
      "cell_type": "markdown",
      "metadata": {
        "id": "fef5AtuKQOH1"
      },
      "source": [
        "## **Addition**"
      ]
    },
    {
      "cell_type": "code",
      "metadata": {
        "id": "2fFkDTRhfoTB"
      },
      "source": [
        " arrays = [['Week 1', 'Week 1', 'Week 2', 'Week 2', 'Week 3', 'Week 3', 'Week 4', 'Week 4'],\n",
        "           ['1. Python', '2. Github', '3. Matplotlib', '4. SQL', '5. Pokemon', '6. OOP', '7. Pandas', '8. Stats']]"
      ],
      "execution_count": null,
      "outputs": []
    },
    {
      "cell_type": "code",
      "metadata": {
        "id": "DEPV-8v3YAIz"
      },
      "source": [
        "ar2 = [['Student A', 'Student A', 'Student B', 'Student B'], ['Labs', 'Prj', 'Labs', 'Prj']]"
      ],
      "execution_count": null,
      "outputs": []
    },
    {
      "cell_type": "code",
      "metadata": {
        "id": "xox2uNWaYN4M",
        "colab": {
          "base_uri": "https://localhost:8080/",
          "height": 195
        },
        "outputId": "67423784-8a68-443d-8d58-bd2781cf776f"
      },
      "source": [
        "data = [[100, 70, 80, 80, 60, 90, 70, 80], [100,70,70,70,60,80,70,80], [100,90,60,70,80,70,70,80], [80,90,70,80,90,80,100,90]]\n",
        "data = np.array(data)\n",
        "df = pd.DataFrame(data, index=ar2, columns=arrays)\n",
        "df"
      ],
      "execution_count": null,
      "outputs": [
        {
          "output_type": "execute_result",
          "data": {
            "text/html": [
              "<div>\n",
              "<style scoped>\n",
              "    .dataframe tbody tr th:only-of-type {\n",
              "        vertical-align: middle;\n",
              "    }\n",
              "\n",
              "    .dataframe tbody tr th {\n",
              "        vertical-align: top;\n",
              "    }\n",
              "\n",
              "    .dataframe thead tr th {\n",
              "        text-align: left;\n",
              "    }\n",
              "</style>\n",
              "<table border=\"1\" class=\"dataframe\">\n",
              "  <thead>\n",
              "    <tr>\n",
              "      <th></th>\n",
              "      <th></th>\n",
              "      <th colspan=\"2\" halign=\"left\">Week 1</th>\n",
              "      <th colspan=\"2\" halign=\"left\">Week 2</th>\n",
              "      <th colspan=\"2\" halign=\"left\">Week 3</th>\n",
              "      <th colspan=\"2\" halign=\"left\">Week 4</th>\n",
              "    </tr>\n",
              "    <tr>\n",
              "      <th></th>\n",
              "      <th></th>\n",
              "      <th>1. Python</th>\n",
              "      <th>2. Github</th>\n",
              "      <th>3. Matplotlib</th>\n",
              "      <th>4. SQL</th>\n",
              "      <th>5. Pokemon</th>\n",
              "      <th>6. OOP</th>\n",
              "      <th>7. Pandas</th>\n",
              "      <th>8. Stats</th>\n",
              "    </tr>\n",
              "  </thead>\n",
              "  <tbody>\n",
              "    <tr>\n",
              "      <th rowspan=\"2\" valign=\"top\">Student A</th>\n",
              "      <th>Labs</th>\n",
              "      <td>100</td>\n",
              "      <td>70</td>\n",
              "      <td>80</td>\n",
              "      <td>80</td>\n",
              "      <td>60</td>\n",
              "      <td>90</td>\n",
              "      <td>70</td>\n",
              "      <td>80</td>\n",
              "    </tr>\n",
              "    <tr>\n",
              "      <th>Prj</th>\n",
              "      <td>100</td>\n",
              "      <td>70</td>\n",
              "      <td>70</td>\n",
              "      <td>70</td>\n",
              "      <td>60</td>\n",
              "      <td>80</td>\n",
              "      <td>70</td>\n",
              "      <td>80</td>\n",
              "    </tr>\n",
              "    <tr>\n",
              "      <th rowspan=\"2\" valign=\"top\">Student B</th>\n",
              "      <th>Labs</th>\n",
              "      <td>100</td>\n",
              "      <td>90</td>\n",
              "      <td>60</td>\n",
              "      <td>70</td>\n",
              "      <td>80</td>\n",
              "      <td>70</td>\n",
              "      <td>70</td>\n",
              "      <td>80</td>\n",
              "    </tr>\n",
              "    <tr>\n",
              "      <th>Prj</th>\n",
              "      <td>80</td>\n",
              "      <td>90</td>\n",
              "      <td>70</td>\n",
              "      <td>80</td>\n",
              "      <td>90</td>\n",
              "      <td>80</td>\n",
              "      <td>100</td>\n",
              "      <td>90</td>\n",
              "    </tr>\n",
              "  </tbody>\n",
              "</table>\n",
              "</div>"
            ],
            "text/plain": [
              "                  Week 1                  Week 2  ... Week 3    Week 4         \n",
              "               1. Python 2. Github 3. Matplotlib  ... 6. OOP 7. Pandas 8. Stats\n",
              "Student A Labs       100        70            80  ...     90        70       80\n",
              "          Prj        100        70            70  ...     80        70       80\n",
              "Student B Labs       100        90            60  ...     70        70       80\n",
              "          Prj         80        90            70  ...     80       100       90\n",
              "\n",
              "[4 rows x 8 columns]"
            ]
          },
          "metadata": {
            "tags": []
          },
          "execution_count": 213
        }
      ]
    },
    {
      "cell_type": "markdown",
      "metadata": {
        "id": "JWM5SYWQdF-n"
      },
      "source": [
        "Before we even run some statistics, let’s think about how we would like to see the data. This view can give us some idea about the overall performance of the class, but as an individual student you might want to quickly see all your grades across every subject and activity since the beginning of the course — so let’s unstack the original dataframe to get the following:"
      ]
    },
    {
      "cell_type": "code",
      "metadata": {
        "id": "spaqaZv6c9jO",
        "colab": {
          "base_uri": "https://localhost:8080/",
          "height": 166
        },
        "outputId": "e4f053bb-a6de-4c17-a5d4-920714de2cf7"
      },
      "source": [
        "df1 = df.unstack()\n",
        "df1"
      ],
      "execution_count": null,
      "outputs": [
        {
          "output_type": "execute_result",
          "data": {
            "text/html": [
              "<div>\n",
              "<style scoped>\n",
              "    .dataframe tbody tr th:only-of-type {\n",
              "        vertical-align: middle;\n",
              "    }\n",
              "\n",
              "    .dataframe tbody tr th {\n",
              "        vertical-align: top;\n",
              "    }\n",
              "\n",
              "    .dataframe thead tr th {\n",
              "        text-align: left;\n",
              "    }\n",
              "</style>\n",
              "<table border=\"1\" class=\"dataframe\">\n",
              "  <thead>\n",
              "    <tr>\n",
              "      <th></th>\n",
              "      <th colspan=\"4\" halign=\"left\">Week 1</th>\n",
              "      <th colspan=\"4\" halign=\"left\">Week 2</th>\n",
              "      <th colspan=\"4\" halign=\"left\">Week 3</th>\n",
              "      <th colspan=\"4\" halign=\"left\">Week 4</th>\n",
              "    </tr>\n",
              "    <tr>\n",
              "      <th></th>\n",
              "      <th colspan=\"2\" halign=\"left\">1. Python</th>\n",
              "      <th colspan=\"2\" halign=\"left\">2. Github</th>\n",
              "      <th colspan=\"2\" halign=\"left\">3. Matplotlib</th>\n",
              "      <th colspan=\"2\" halign=\"left\">4. SQL</th>\n",
              "      <th colspan=\"2\" halign=\"left\">5. Pokemon</th>\n",
              "      <th colspan=\"2\" halign=\"left\">6. OOP</th>\n",
              "      <th colspan=\"2\" halign=\"left\">7. Pandas</th>\n",
              "      <th colspan=\"2\" halign=\"left\">8. Stats</th>\n",
              "    </tr>\n",
              "    <tr>\n",
              "      <th></th>\n",
              "      <th>Labs</th>\n",
              "      <th>Prj</th>\n",
              "      <th>Labs</th>\n",
              "      <th>Prj</th>\n",
              "      <th>Labs</th>\n",
              "      <th>Prj</th>\n",
              "      <th>Labs</th>\n",
              "      <th>Prj</th>\n",
              "      <th>Labs</th>\n",
              "      <th>Prj</th>\n",
              "      <th>Labs</th>\n",
              "      <th>Prj</th>\n",
              "      <th>Labs</th>\n",
              "      <th>Prj</th>\n",
              "      <th>Labs</th>\n",
              "      <th>Prj</th>\n",
              "    </tr>\n",
              "  </thead>\n",
              "  <tbody>\n",
              "    <tr>\n",
              "      <th>Student A</th>\n",
              "      <td>100</td>\n",
              "      <td>100</td>\n",
              "      <td>70</td>\n",
              "      <td>70</td>\n",
              "      <td>80</td>\n",
              "      <td>70</td>\n",
              "      <td>80</td>\n",
              "      <td>70</td>\n",
              "      <td>60</td>\n",
              "      <td>60</td>\n",
              "      <td>90</td>\n",
              "      <td>80</td>\n",
              "      <td>70</td>\n",
              "      <td>70</td>\n",
              "      <td>80</td>\n",
              "      <td>80</td>\n",
              "    </tr>\n",
              "    <tr>\n",
              "      <th>Student B</th>\n",
              "      <td>100</td>\n",
              "      <td>80</td>\n",
              "      <td>90</td>\n",
              "      <td>90</td>\n",
              "      <td>60</td>\n",
              "      <td>70</td>\n",
              "      <td>70</td>\n",
              "      <td>80</td>\n",
              "      <td>80</td>\n",
              "      <td>90</td>\n",
              "      <td>70</td>\n",
              "      <td>80</td>\n",
              "      <td>70</td>\n",
              "      <td>100</td>\n",
              "      <td>80</td>\n",
              "      <td>90</td>\n",
              "    </tr>\n",
              "  </tbody>\n",
              "</table>\n",
              "</div>"
            ],
            "text/plain": [
              "             Week 1                     ...    Week 4                  \n",
              "          1. Python      2. Github      ... 7. Pandas      8. Stats    \n",
              "               Labs  Prj      Labs Prj  ...      Labs  Prj     Labs Prj\n",
              "Student A       100  100        70  70  ...        70   70       80  80\n",
              "Student B       100   80        90  90  ...        70  100       80  90\n",
              "\n",
              "[2 rows x 16 columns]"
            ]
          },
          "metadata": {
            "tags": []
          },
          "execution_count": 214
        }
      ]
    },
    {
      "cell_type": "markdown",
      "metadata": {
        "id": "gUhH_KgKdI0D"
      },
      "source": [
        "Note that we can go back to the original dataframe by running the inverse function, stack():"
      ]
    },
    {
      "cell_type": "code",
      "metadata": {
        "id": "U_yf_oUOdK4h",
        "colab": {
          "base_uri": "https://localhost:8080/",
          "height": 195
        },
        "outputId": "dd79dc06-09d2-4645-f89b-6769a46bbf66"
      },
      "source": [
        "df_orig = df1.stack()\n",
        "df_orig"
      ],
      "execution_count": null,
      "outputs": [
        {
          "output_type": "execute_result",
          "data": {
            "text/html": [
              "<div>\n",
              "<style scoped>\n",
              "    .dataframe tbody tr th:only-of-type {\n",
              "        vertical-align: middle;\n",
              "    }\n",
              "\n",
              "    .dataframe tbody tr th {\n",
              "        vertical-align: top;\n",
              "    }\n",
              "\n",
              "    .dataframe thead tr th {\n",
              "        text-align: left;\n",
              "    }\n",
              "</style>\n",
              "<table border=\"1\" class=\"dataframe\">\n",
              "  <thead>\n",
              "    <tr>\n",
              "      <th></th>\n",
              "      <th></th>\n",
              "      <th colspan=\"2\" halign=\"left\">Week 1</th>\n",
              "      <th colspan=\"2\" halign=\"left\">Week 2</th>\n",
              "      <th colspan=\"2\" halign=\"left\">Week 3</th>\n",
              "      <th colspan=\"2\" halign=\"left\">Week 4</th>\n",
              "    </tr>\n",
              "    <tr>\n",
              "      <th></th>\n",
              "      <th></th>\n",
              "      <th>1. Python</th>\n",
              "      <th>2. Github</th>\n",
              "      <th>3. Matplotlib</th>\n",
              "      <th>4. SQL</th>\n",
              "      <th>5. Pokemon</th>\n",
              "      <th>6. OOP</th>\n",
              "      <th>7. Pandas</th>\n",
              "      <th>8. Stats</th>\n",
              "    </tr>\n",
              "  </thead>\n",
              "  <tbody>\n",
              "    <tr>\n",
              "      <th rowspan=\"2\" valign=\"top\">Student A</th>\n",
              "      <th>Labs</th>\n",
              "      <td>100</td>\n",
              "      <td>70</td>\n",
              "      <td>80</td>\n",
              "      <td>80</td>\n",
              "      <td>60</td>\n",
              "      <td>90</td>\n",
              "      <td>70</td>\n",
              "      <td>80</td>\n",
              "    </tr>\n",
              "    <tr>\n",
              "      <th>Prj</th>\n",
              "      <td>100</td>\n",
              "      <td>70</td>\n",
              "      <td>70</td>\n",
              "      <td>70</td>\n",
              "      <td>60</td>\n",
              "      <td>80</td>\n",
              "      <td>70</td>\n",
              "      <td>80</td>\n",
              "    </tr>\n",
              "    <tr>\n",
              "      <th rowspan=\"2\" valign=\"top\">Student B</th>\n",
              "      <th>Labs</th>\n",
              "      <td>100</td>\n",
              "      <td>90</td>\n",
              "      <td>60</td>\n",
              "      <td>70</td>\n",
              "      <td>80</td>\n",
              "      <td>70</td>\n",
              "      <td>70</td>\n",
              "      <td>80</td>\n",
              "    </tr>\n",
              "    <tr>\n",
              "      <th>Prj</th>\n",
              "      <td>80</td>\n",
              "      <td>90</td>\n",
              "      <td>70</td>\n",
              "      <td>80</td>\n",
              "      <td>90</td>\n",
              "      <td>80</td>\n",
              "      <td>100</td>\n",
              "      <td>90</td>\n",
              "    </tr>\n",
              "  </tbody>\n",
              "</table>\n",
              "</div>"
            ],
            "text/plain": [
              "                  Week 1                  Week 2  ... Week 3    Week 4         \n",
              "               1. Python 2. Github 3. Matplotlib  ... 6. OOP 7. Pandas 8. Stats\n",
              "Student A Labs       100        70            80  ...     90        70       80\n",
              "          Prj        100        70            70  ...     80        70       80\n",
              "Student B Labs       100        90            60  ...     70        70       80\n",
              "          Prj         80        90            70  ...     80       100       90\n",
              "\n",
              "[4 rows x 8 columns]"
            ]
          },
          "metadata": {
            "tags": []
          },
          "execution_count": 215
        }
      ]
    },
    {
      "cell_type": "code",
      "metadata": {
        "id": "M3We8rbbdW5O",
        "colab": {
          "base_uri": "https://localhost:8080/"
        },
        "outputId": "b2f8783d-d2b3-40b5-ee1c-6ed6091c7f01"
      },
      "source": [
        "df2 = df1.unstack()\n",
        "df2"
      ],
      "execution_count": null,
      "outputs": [
        {
          "output_type": "execute_result",
          "data": {
            "text/plain": [
              "Week 1  1. Python      Labs  Student A    100\n",
              "                             Student B    100\n",
              "                       Prj   Student A    100\n",
              "                             Student B     80\n",
              "        2. Github      Labs  Student A     70\n",
              "                             Student B     90\n",
              "                       Prj   Student A     70\n",
              "                             Student B     90\n",
              "Week 2  3. Matplotlib  Labs  Student A     80\n",
              "                             Student B     60\n",
              "                       Prj   Student A     70\n",
              "                             Student B     70\n",
              "        4. SQL         Labs  Student A     80\n",
              "                             Student B     70\n",
              "                       Prj   Student A     70\n",
              "                             Student B     80\n",
              "Week 3  5. Pokemon     Labs  Student A     60\n",
              "                             Student B     80\n",
              "                       Prj   Student A     60\n",
              "                             Student B     90\n",
              "        6. OOP         Labs  Student A     90\n",
              "                             Student B     70\n",
              "                       Prj   Student A     80\n",
              "                             Student B     80\n",
              "Week 4  7. Pandas      Labs  Student A     70\n",
              "                             Student B     70\n",
              "                       Prj   Student A     70\n",
              "                             Student B    100\n",
              "        8. Stats       Labs  Student A     80\n",
              "                             Student B     80\n",
              "                       Prj   Student A     80\n",
              "                             Student B     90\n",
              "dtype: int64"
            ]
          },
          "metadata": {
            "tags": []
          },
          "execution_count": 216
        }
      ]
    },
    {
      "cell_type": "markdown",
      "metadata": {
        "id": "_kdUIiZbgBfX"
      },
      "source": [
        "Here, all the columns indices shifted to the row axis, and we can now see the overall performance of all students across every subject and activity since the beginning of the course.\n",
        "\n",
        "When I tried to stack the last result back, I got a surprise: Series’ object has no attribute ‘stack.’"
      ]
    },
    {
      "cell_type": "code",
      "metadata": {
        "id": "vRf9JG2XgBK_"
      },
      "source": [
        "# df2_stack_back = df2.stack() 'Series' object has no attribute 'stack'"
      ],
      "execution_count": null,
      "outputs": []
    },
    {
      "cell_type": "markdown",
      "metadata": {
        "id": "9qCDqDE9gWvT"
      },
      "source": [
        "The reason is that once we “run out” of row indices, the dataframe becomes a series, and if we try to stack we’ll get an error. But, since it’s a series, we can unstack this series:"
      ]
    },
    {
      "cell_type": "code",
      "metadata": {
        "id": "O8DOYSIUge9q",
        "colab": {
          "base_uri": "https://localhost:8080/",
          "height": 521
        },
        "outputId": "49e3214a-f7f0-47b2-d7de-31207c0a7b20"
      },
      "source": [
        "df3 = df2.unstack()\n",
        "df3"
      ],
      "execution_count": null,
      "outputs": [
        {
          "output_type": "execute_result",
          "data": {
            "text/html": [
              "<div>\n",
              "<style scoped>\n",
              "    .dataframe tbody tr th:only-of-type {\n",
              "        vertical-align: middle;\n",
              "    }\n",
              "\n",
              "    .dataframe tbody tr th {\n",
              "        vertical-align: top;\n",
              "    }\n",
              "\n",
              "    .dataframe thead th {\n",
              "        text-align: right;\n",
              "    }\n",
              "</style>\n",
              "<table border=\"1\" class=\"dataframe\">\n",
              "  <thead>\n",
              "    <tr style=\"text-align: right;\">\n",
              "      <th></th>\n",
              "      <th></th>\n",
              "      <th></th>\n",
              "      <th>Student A</th>\n",
              "      <th>Student B</th>\n",
              "    </tr>\n",
              "  </thead>\n",
              "  <tbody>\n",
              "    <tr>\n",
              "      <th rowspan=\"4\" valign=\"top\">Week 1</th>\n",
              "      <th rowspan=\"2\" valign=\"top\">1. Python</th>\n",
              "      <th>Labs</th>\n",
              "      <td>100</td>\n",
              "      <td>100</td>\n",
              "    </tr>\n",
              "    <tr>\n",
              "      <th>Prj</th>\n",
              "      <td>100</td>\n",
              "      <td>80</td>\n",
              "    </tr>\n",
              "    <tr>\n",
              "      <th rowspan=\"2\" valign=\"top\">2. Github</th>\n",
              "      <th>Labs</th>\n",
              "      <td>70</td>\n",
              "      <td>90</td>\n",
              "    </tr>\n",
              "    <tr>\n",
              "      <th>Prj</th>\n",
              "      <td>70</td>\n",
              "      <td>90</td>\n",
              "    </tr>\n",
              "    <tr>\n",
              "      <th rowspan=\"4\" valign=\"top\">Week 2</th>\n",
              "      <th rowspan=\"2\" valign=\"top\">3. Matplotlib</th>\n",
              "      <th>Labs</th>\n",
              "      <td>80</td>\n",
              "      <td>60</td>\n",
              "    </tr>\n",
              "    <tr>\n",
              "      <th>Prj</th>\n",
              "      <td>70</td>\n",
              "      <td>70</td>\n",
              "    </tr>\n",
              "    <tr>\n",
              "      <th rowspan=\"2\" valign=\"top\">4. SQL</th>\n",
              "      <th>Labs</th>\n",
              "      <td>80</td>\n",
              "      <td>70</td>\n",
              "    </tr>\n",
              "    <tr>\n",
              "      <th>Prj</th>\n",
              "      <td>70</td>\n",
              "      <td>80</td>\n",
              "    </tr>\n",
              "    <tr>\n",
              "      <th rowspan=\"4\" valign=\"top\">Week 3</th>\n",
              "      <th rowspan=\"2\" valign=\"top\">5. Pokemon</th>\n",
              "      <th>Labs</th>\n",
              "      <td>60</td>\n",
              "      <td>80</td>\n",
              "    </tr>\n",
              "    <tr>\n",
              "      <th>Prj</th>\n",
              "      <td>60</td>\n",
              "      <td>90</td>\n",
              "    </tr>\n",
              "    <tr>\n",
              "      <th rowspan=\"2\" valign=\"top\">6. OOP</th>\n",
              "      <th>Labs</th>\n",
              "      <td>90</td>\n",
              "      <td>70</td>\n",
              "    </tr>\n",
              "    <tr>\n",
              "      <th>Prj</th>\n",
              "      <td>80</td>\n",
              "      <td>80</td>\n",
              "    </tr>\n",
              "    <tr>\n",
              "      <th rowspan=\"4\" valign=\"top\">Week 4</th>\n",
              "      <th rowspan=\"2\" valign=\"top\">7. Pandas</th>\n",
              "      <th>Labs</th>\n",
              "      <td>70</td>\n",
              "      <td>70</td>\n",
              "    </tr>\n",
              "    <tr>\n",
              "      <th>Prj</th>\n",
              "      <td>70</td>\n",
              "      <td>100</td>\n",
              "    </tr>\n",
              "    <tr>\n",
              "      <th rowspan=\"2\" valign=\"top\">8. Stats</th>\n",
              "      <th>Labs</th>\n",
              "      <td>80</td>\n",
              "      <td>80</td>\n",
              "    </tr>\n",
              "    <tr>\n",
              "      <th>Prj</th>\n",
              "      <td>80</td>\n",
              "      <td>90</td>\n",
              "    </tr>\n",
              "  </tbody>\n",
              "</table>\n",
              "</div>"
            ],
            "text/plain": [
              "                           Student A  Student B\n",
              "Week 1 1. Python     Labs        100        100\n",
              "                     Prj         100         80\n",
              "       2. Github     Labs         70         90\n",
              "                     Prj          70         90\n",
              "Week 2 3. Matplotlib Labs         80         60\n",
              "                     Prj          70         70\n",
              "       4. SQL        Labs         80         70\n",
              "                     Prj          70         80\n",
              "Week 3 5. Pokemon    Labs         60         80\n",
              "                     Prj          60         90\n",
              "       6. OOP        Labs         90         70\n",
              "                     Prj          80         80\n",
              "Week 4 7. Pandas     Labs         70         70\n",
              "                     Prj          70        100\n",
              "       8. Stats      Labs         80         80\n",
              "                     Prj          80         90"
            ]
          },
          "metadata": {
            "tags": []
          },
          "execution_count": 218
        }
      ]
    }
  ]
}