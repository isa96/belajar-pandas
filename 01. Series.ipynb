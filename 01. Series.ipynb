{
  "nbformat": 4,
  "nbformat_minor": 0,
  "metadata": {
    "colab": {
      "name": "01. Series.ipynb",
      "provenance": [],
      "collapsed_sections": []
    },
    "kernelspec": {
      "name": "python3",
      "display_name": "Python 3"
    }
  },
  "cells": [
    {
      "cell_type": "markdown",
      "metadata": {
        "id": "Z_75VuNUCbtg"
      },
      "source": [
        "<a href=\"https://colab.research.google.com/github/nurimammasri/Wooky-Pandas/blob/master/01.%20Series.ipynb\" target=\"_parent\"><img src=\"https://colab.research.google.com/assets/colab-badge.svg\" alt=\"Open In Colab\"/></a>"
      ]
    },
    {
      "cell_type": "markdown",
      "metadata": {
        "id": "XADB5cewX2Y8"
      },
      "source": [
        "# **Introduction to Pandas**\n",
        "**Pandas** adalah suatu liblary yang open source, menyediakan performance yang sangat baik, struktur data yang mudah digunakan dan alat analisis data untuk Python. Pandas akan menjadi langkah besar kamu dalam perjalanan mempelajari data science.\n",
        "\n",
        "Untuk menggunakan pandas, kamu terlebih dahulu mesti menginstall nya di command prompt dengan mengetikan \n",
        "\n",
        "> ***pip install pandas***\n",
        "\n",
        "> ***pip install --upgrade pandas***\n",
        "\n",
        "atau menggunakan Anaconda Prompt\n",
        "> ***conda install pandas***\n",
        "\n",
        "Dokumentasi Lengkap\n",
        "\n",
        "[*Pandas Dokumentation*](https://pandas.pydata.org/pandas-docs/stable/reference/)\n",
        "\n",
        "[link text](https://www.w3resource.com/pandas/index.php)\n",
        "\n",
        "sanbercode"
      ]
    },
    {
      "cell_type": "markdown",
      "metadata": {
        "id": "t9lTPMc48p87"
      },
      "source": [
        "# **Series**\n",
        "\n",
        "Series dan Dataframe adalah suatu objek tempat kita menyimpan data secara terstruktur. \n",
        "\n",
        "Perbedaan mendasar antara DataFrames dengan Series adalah berada pada struktur nya dan juga attribute dan method-method yang mereka miliki, untuk perbedaan strukturnya adalah sebagai berikut :\n",
        "\n",
        "DataFrame adalah suatu objek 2 dimensi, mirip seperti tabel.\n",
        "\n",
        "1.   Object pandas dengan representasi data 2 Dimensi yakni baris dan kolom.\n",
        "2.   Value mutable (changable)\n",
        "3.   Size mutable\n",
        "\n",
        "Series adalah objek 1 dimensi\n",
        "1.   Object pandas dengan representasi data 1 Dimensi yakni daftar data dgn index.\n",
        "2.   Value mutable (changable)\n",
        "3.   Size immutable\n",
        "\n",
        "\n",
        "Series is a one-dimensional labeled array capable of holding data of any type (integer, string, float, python objects, etc.). The axis labels are collectively called index.\n",
        "\n"
      ]
    },
    {
      "cell_type": "code",
      "metadata": {
        "id": "2JAxdK2MZTLV"
      },
      "source": [
        "pd.Series?"
      ],
      "execution_count": null,
      "outputs": []
    },
    {
      "cell_type": "markdown",
      "metadata": {
        "id": "T99CpGFfM5lq"
      },
      "source": [
        "# **Series Constructor**\n",
        "\n",
        "pandas.Series\n",
        "\n",
        "A pandas Series can be created using the following constructor \n",
        "\n",
        "> **pandas.Series( data, index, dtype, copy)**\n",
        "\n",
        "The parameters of the constructor are as follows\n",
        "\n",
        "*  **data** = data takes various forms like ndarray, list, constants\n",
        "*   **index** = Index values must be unique and hashable, same length as data. Default np.arrange(n) if no index is passed.\n",
        "*   **dtype** = dtype is for data type. If None, data type will be inferred\n",
        "*   **copy** = Copy data. Default False\n",
        "\n"
      ]
    },
    {
      "cell_type": "code",
      "metadata": {
        "id": "4OlyjnkvBRWM",
        "colab": {
          "base_uri": "https://localhost:8080/"
        },
        "outputId": "fd4de65e-3c7e-4848-8615-5212a7a0ad93"
      },
      "source": [
        "# using parameter (data, index, dtype) dengan assignment =\n",
        "import pandas as pd\n",
        "import numpy as np\n",
        "data = np.array([2,4,6,8])\n",
        "s = pd.Series(data)\n",
        "print(s)\n",
        "\n",
        "#ini\n",
        "s.data = [1,2,3,4] #tidak berpengaruh\n",
        "s.index = ['satu', 'dua', 'tiga', 'empat']\n",
        "print(s)"
      ],
      "execution_count": null,
      "outputs": [
        {
          "output_type": "stream",
          "text": [
            "0    2\n",
            "1    4\n",
            "2    6\n",
            "3    8\n",
            "dtype: int64\n",
            "satu     2\n",
            "dua      4\n",
            "tiga     6\n",
            "empat    8\n",
            "dtype: int64\n"
          ],
          "name": "stdout"
        }
      ]
    },
    {
      "cell_type": "markdown",
      "metadata": {
        "id": "Z5QntUIgNAjj"
      },
      "source": [
        "## .index"
      ]
    },
    {
      "cell_type": "code",
      "metadata": {
        "id": "8266AJkwS1oK",
        "colab": {
          "base_uri": "https://localhost:8080/"
        },
        "outputId": "e4812681-edb5-4ed4-edc3-1c53f3f799b5"
      },
      "source": [
        "s.index"
      ],
      "execution_count": null,
      "outputs": [
        {
          "output_type": "execute_result",
          "data": {
            "text/plain": [
              "Index(['satu', 'dua', 'tiga', 'empat'], dtype='object')"
            ]
          },
          "metadata": {
            "tags": []
          },
          "execution_count": 113
        }
      ]
    },
    {
      "cell_type": "markdown",
      "metadata": {
        "id": "UNPhjYECNCYA"
      },
      "source": [
        "## .keys()"
      ]
    },
    {
      "cell_type": "code",
      "metadata": {
        "id": "X1d-o1tIS-Xf",
        "colab": {
          "base_uri": "https://localhost:8080/"
        },
        "outputId": "47b2bc1e-d0fd-47ed-b9ff-aa0a000922c2"
      },
      "source": [
        "s.keys()"
      ],
      "execution_count": null,
      "outputs": [
        {
          "output_type": "execute_result",
          "data": {
            "text/plain": [
              "Index(['satu', 'dua', 'tiga', 'empat'], dtype='object')"
            ]
          },
          "metadata": {
            "tags": []
          },
          "execution_count": 114
        }
      ]
    },
    {
      "cell_type": "markdown",
      "metadata": {
        "id": "zfYbS2yiNE11"
      },
      "source": [
        "## .values"
      ]
    },
    {
      "cell_type": "code",
      "metadata": {
        "id": "tN44VVd7TFWC",
        "colab": {
          "base_uri": "https://localhost:8080/"
        },
        "outputId": "6de87f13-e2ee-47f6-d103-8d94bb0a31df"
      },
      "source": [
        "s.values"
      ],
      "execution_count": null,
      "outputs": [
        {
          "output_type": "execute_result",
          "data": {
            "text/plain": [
              "array([2, 4, 6, 8])"
            ]
          },
          "metadata": {
            "tags": []
          },
          "execution_count": 115
        }
      ]
    },
    {
      "cell_type": "markdown",
      "metadata": {
        "id": "NK673IrHNIH3"
      },
      "source": [
        "## list( .items())"
      ]
    },
    {
      "cell_type": "code",
      "metadata": {
        "id": "txQnp1bsTgBS",
        "colab": {
          "base_uri": "https://localhost:8080/"
        },
        "outputId": "9da53c6f-4dea-4982-b7b7-afceeb721c05"
      },
      "source": [
        "list(s.items())"
      ],
      "execution_count": null,
      "outputs": [
        {
          "output_type": "execute_result",
          "data": {
            "text/plain": [
              "[('satu', 2), ('dua', 4), ('tiga', 6), ('empat', 8)]"
            ]
          },
          "metadata": {
            "tags": []
          },
          "execution_count": 116
        }
      ]
    },
    {
      "cell_type": "code",
      "metadata": {
        "id": "s9Tcjt-bD2IX",
        "colab": {
          "base_uri": "https://localhost:8080/"
        },
        "outputId": "39d7886f-3275-4ba0-cf7e-d1510ed2890c"
      },
      "source": [
        "import pandas as pd\n",
        "import numpy as np\n",
        "data = np.array([2,4,6,8])\n",
        "# using parameter index\n",
        "s1 = pd.Series(data, index = [0,9,8,7])\n",
        "print(s1)\n",
        "# using parameter dtype\n",
        "s2 = pd.Series(data, dtype=float)\n",
        "print(s2)\n",
        "# using parameter index and dtype\n",
        "s3 = pd.Series(data, index = [0,9,8,7], dtype=float)\n",
        "print(s3)\n"
      ],
      "execution_count": null,
      "outputs": [
        {
          "output_type": "stream",
          "text": [
            "0    2\n",
            "9    4\n",
            "8    6\n",
            "7    8\n",
            "dtype: int64\n",
            "0    2.0\n",
            "1    4.0\n",
            "2    6.0\n",
            "3    8.0\n",
            "dtype: float64\n",
            "0    2.0\n",
            "9    4.0\n",
            "8    6.0\n",
            "7    8.0\n",
            "dtype: float64\n"
          ],
          "name": "stdout"
        }
      ]
    },
    {
      "cell_type": "markdown",
      "metadata": {
        "id": "ZO9ewdCU9wl2"
      },
      "source": [
        "# **Create Series**\n",
        "\n",
        "A series can be created using various inputs like −\n",
        "\n",
        "\n",
        "\n",
        "*   Array (LIst and Numpy Array (ndarray))\n",
        "*   Dictionary\n",
        "*   Scalar (Constant)"
      ]
    },
    {
      "cell_type": "markdown",
      "metadata": {
        "id": "8pFhz_LmEklo"
      },
      "source": [
        "## **Create Empty Series**"
      ]
    },
    {
      "cell_type": "code",
      "metadata": {
        "id": "CDmtl8TF8nyL",
        "colab": {
          "base_uri": "https://localhost:8080/"
        },
        "outputId": "7b844bca-9445-4a18-c8af-8fd01dd76542"
      },
      "source": [
        "#import the pandas library and aliasing as pd\n",
        "import pandas as pd\n",
        "s = pd.Series()\n",
        "print(s)"
      ],
      "execution_count": null,
      "outputs": [
        {
          "output_type": "stream",
          "text": [
            "Series([], dtype: float64)\n"
          ],
          "name": "stdout"
        },
        {
          "output_type": "stream",
          "text": [
            "/usr/local/lib/python3.7/dist-packages/ipykernel_launcher.py:3: DeprecationWarning: The default dtype for empty Series will be 'object' instead of 'float64' in a future version. Specify a dtype explicitly to silence this warning.\n",
            "  This is separate from the ipykernel package so we can avoid doing imports until\n"
          ],
          "name": "stderr"
        }
      ]
    },
    {
      "cell_type": "markdown",
      "metadata": {
        "id": "JlHr7yAN-m7l"
      },
      "source": [
        "## **Create Series from List or ndarray**\n",
        "\n",
        "If data is an ndarray, then index passed must be of the same length. If no index is passed, then by default index will be range(n) where n is array length, i.e., [0,1,2,3…. range(len(array))-1].\n",
        "\n"
      ]
    },
    {
      "cell_type": "markdown",
      "metadata": {
        "id": "xBsh3h-Kt1PJ"
      },
      "source": [
        "### Example 1"
      ]
    },
    {
      "cell_type": "code",
      "metadata": {
        "id": "5zkifb5A-nWP",
        "colab": {
          "base_uri": "https://localhost:8080/",
          "height": 123
        },
        "outputId": "e18a2c22-1c8a-4950-e675-6681a2702a3c"
      },
      "source": [
        "#make series default\n",
        "import pandas as pd\n",
        "import numpy as np\n",
        "data = np.array(['a','b','c','d'])\n",
        "s = pd.Series(data)\n",
        "print(s)\n",
        "\n",
        "'''\n",
        "We did not pass any index, so by default, it assigned the indexes ranging from 0 to len(data)-1, i.e., 0 to 3.\n",
        "'''"
      ],
      "execution_count": null,
      "outputs": [
        {
          "output_type": "stream",
          "text": [
            "0    a\n",
            "1    b\n",
            "2    c\n",
            "3    d\n",
            "dtype: object\n"
          ],
          "name": "stdout"
        },
        {
          "output_type": "execute_result",
          "data": {
            "application/vnd.google.colaboratory.intrinsic+json": {
              "type": "string"
            },
            "text/plain": [
              "'\\nWe did not pass any index, so by default, it assigned the indexes ranging from 0 to len(data)-1, i.e., 0 to 3.\\n'"
            ]
          },
          "metadata": {
            "tags": []
          },
          "execution_count": 119
        }
      ]
    },
    {
      "cell_type": "markdown",
      "metadata": {
        "id": "7SGreWao_K2P"
      },
      "source": [
        "### Example 2"
      ]
    },
    {
      "cell_type": "code",
      "metadata": {
        "id": "15qoc0HH_MHU",
        "colab": {
          "base_uri": "https://localhost:8080/"
        },
        "outputId": "cd647ba6-2831-42a0-a55f-b23d8234f45d"
      },
      "source": [
        "#make series with index parameter\n",
        "#cara 1\n",
        "import pandas as pd\n",
        "import numpy as np\n",
        "data = np.array(['a','b','c','d'])\n",
        "s1 = pd.Series(data,index=[100,101,102,103]) #length of index must be same with len(data) or Error (kecuali untuk dict)\n",
        "print('cara 1')\n",
        "print(s1)\n",
        "\n",
        "#cara 2\n",
        "s2 = pd.Series(data)\n",
        "s2.index = ['a', 'b', 'c', 'd']\n",
        "print('\\ncara 2')\n",
        "print(s2)\n"
      ],
      "execution_count": null,
      "outputs": [
        {
          "output_type": "stream",
          "text": [
            "cara 1\n",
            "100    a\n",
            "101    b\n",
            "102    c\n",
            "103    d\n",
            "dtype: object\n",
            "\n",
            "cara 2\n",
            "a    a\n",
            "b    b\n",
            "c    c\n",
            "d    d\n",
            "dtype: object\n"
          ],
          "name": "stdout"
        }
      ]
    },
    {
      "cell_type": "markdown",
      "metadata": {
        "id": "rOlLaSd-_d2C"
      },
      "source": [
        "### Example 3"
      ]
    },
    {
      "cell_type": "code",
      "metadata": {
        "id": "9X_BX3av_eS6",
        "colab": {
          "base_uri": "https://localhost:8080/"
        },
        "outputId": "59ed3506-9b7e-41ac-db2d-c586b956ffaa"
      },
      "source": [
        "#import the pandas library and dtype parameter\n",
        "import pandas as pd\n",
        "import numpy as np\n",
        "data = np.array([1,2,3,4])\n",
        "s1 = pd.Series(data,index=['a', 'b', 'c', 'd'], dtype=float)\n",
        "s2 = pd.Series(data,index=['a', 'b', 'c', 'd'], dtype=object)\n",
        "s3 = pd.Series(data,index=['a', 'b', 'c', 'd'], dtype=bool)\n",
        "print(s1)\n",
        "print(s2)\n",
        "print(s3)"
      ],
      "execution_count": null,
      "outputs": [
        {
          "output_type": "stream",
          "text": [
            "a    1.0\n",
            "b    2.0\n",
            "c    3.0\n",
            "d    4.0\n",
            "dtype: float64\n",
            "a    1\n",
            "b    2\n",
            "c    3\n",
            "d    4\n",
            "dtype: object\n",
            "a    True\n",
            "b    True\n",
            "c    True\n",
            "d    True\n",
            "dtype: bool\n"
          ],
          "name": "stdout"
        }
      ]
    },
    {
      "cell_type": "markdown",
      "metadata": {
        "id": "esihauvj_BmH"
      },
      "source": [
        "## **Create Series from Dictionary**\n",
        "\n",
        "A dict can be passed as input and if no index is specified, then the dictionary keys are taken in a sorted order to construct index. If index is passed, the values in data corresponding to the labels in the index will be pulled out."
      ]
    },
    {
      "cell_type": "markdown",
      "metadata": {
        "id": "I1C-GeN_E-OY"
      },
      "source": [
        "### Example 1\n"
      ]
    },
    {
      "cell_type": "code",
      "metadata": {
        "id": "eEfJxrCP_CH_",
        "colab": {
          "base_uri": "https://localhost:8080/"
        },
        "outputId": "9be95a34-a3ef-4827-d946-f0b972fde0d0"
      },
      "source": [
        "import pandas as pd\n",
        "import numpy as np\n",
        "data = {'a' : 0., 'b' : 1., 'c' : 2.} # key as index\n",
        "s = pd.Series(data)\n",
        "print(s)"
      ],
      "execution_count": null,
      "outputs": [
        {
          "output_type": "stream",
          "text": [
            "a    0.0\n",
            "b    1.0\n",
            "c    2.0\n",
            "dtype: float64\n"
          ],
          "name": "stdout"
        }
      ]
    },
    {
      "cell_type": "markdown",
      "metadata": {
        "id": "b9zc0yyoFB_O"
      },
      "source": [
        "### Example 2\n",
        "\n",
        "\n",
        "Index order is persisted and the missing element is filled with NaN (Not a Number)."
      ]
    },
    {
      "cell_type": "code",
      "metadata": {
        "id": "sdgtXTzyFCz-",
        "colab": {
          "base_uri": "https://localhost:8080/"
        },
        "outputId": "1b5f6fd4-3277-448d-d9e6-65c3aa1958a5"
      },
      "source": [
        "#import the pandas library and aliasing as pd\n",
        "import pandas as pd\n",
        "import numpy as np\n",
        "data = {'a' : 0., 'b' : 1., 'c' : 2.}\n",
        "# pada dict index boleh lebih dari jumlah key, tapi jika keynya tidak ada maka nilainya Nan\n",
        "s = pd.Series(data,index=['b','c','d','a']) \n",
        "print(s)"
      ],
      "execution_count": null,
      "outputs": [
        {
          "output_type": "stream",
          "text": [
            "b    1.0\n",
            "c    2.0\n",
            "d    NaN\n",
            "a    0.0\n",
            "dtype: float64\n"
          ],
          "name": "stdout"
        }
      ]
    },
    {
      "cell_type": "markdown",
      "metadata": {
        "id": "IJQondduFDRk"
      },
      "source": [
        "## **Create Series from Scalar**\n",
        "\n",
        "If data is a scalar value, an index must be provided (for set how muct data, default data is just 1). The value will be repeated to match the length of index"
      ]
    },
    {
      "cell_type": "markdown",
      "metadata": {
        "id": "HC_nKvZ7XUsK"
      },
      "source": [
        "### Example 1"
      ]
    },
    {
      "cell_type": "code",
      "metadata": {
        "id": "yC8UFm8fGc5o",
        "colab": {
          "base_uri": "https://localhost:8080/"
        },
        "outputId": "ff07c5f1-c0f9-4c7d-ca71-7039e0b15d22"
      },
      "source": [
        "#import the pandas library and aliasing as pd\n",
        "import pandas as pd\n",
        "import numpy as np\n",
        "s = pd.Series(6)\n",
        "print(s)"
      ],
      "execution_count": null,
      "outputs": [
        {
          "output_type": "stream",
          "text": [
            "0    6\n",
            "dtype: int64\n"
          ],
          "name": "stdout"
        }
      ]
    },
    {
      "cell_type": "markdown",
      "metadata": {
        "id": "9KPPc1MIXXGK"
      },
      "source": [
        "### Example 2"
      ]
    },
    {
      "cell_type": "code",
      "metadata": {
        "id": "CwYh-3cBFEQ2",
        "colab": {
          "base_uri": "https://localhost:8080/"
        },
        "outputId": "92fd6549-1146-47d7-f1e5-9b9777bb8c59"
      },
      "source": [
        "#import the pandas library and aliasing as pd\n",
        "import pandas as pd\n",
        "import numpy as np\n",
        "s = pd.Series(5, index=[0, 1, 2, 3])\n",
        "print(s)"
      ],
      "execution_count": null,
      "outputs": [
        {
          "output_type": "stream",
          "text": [
            "0    5\n",
            "1    5\n",
            "2    5\n",
            "3    5\n",
            "dtype: int64\n"
          ],
          "name": "stdout"
        }
      ]
    },
    {
      "cell_type": "markdown",
      "metadata": {
        "id": "7TCNHTnaGs38"
      },
      "source": [
        "# Series vs List | Dictionary\n",
        "\n",
        "Perbedaan antara Series dan List ataupun Dictionary adalah :\n",
        "Series merepresentasikan suatu nilai atau list dalam bentuk seperti table yang mana kita dalam menginisialisasikan nama kolomnya. sedangkan untuk list akan merepresentasikan suatu kumpulan nilai berdasarkan nilai index dan untuk Dictionary merepresentasikan nilai berdasarkan key dan valuenya.\n",
        "\n",
        "**Perbedaan Series dengan List :**\n",
        "*   Series direpresentasikan dalam bentuk table, sedangan List dalam bentuk baris nilai seperti array.\n",
        "*   Series boleh memiliki nilai indek selain integer, tetapi untuk List secara default bernilai *len(n), len(n)-1, ...* atau 0, 1, 2, 3, ..\n",
        "*   Series memiliki method tersendiri untuk menampilkan values (Series.values) dan menampilkan index (Series.index)\n",
        "\n",
        "**Perbedaan Series dengan Dictionary :**\n",
        "*   Series direpresentasikan dalam bentuk table, sedangan Dictionary  dalam bentuk baris key dan value.\n",
        "*   Series boleh melakukan slicing seperti pada List dan ndarray, sedangkan untuk dictionary tidak bisa melakukan slicing yakni hanya menggunakan key untuk mengakses data atau method tertentu seperti items(), keys() dan values().\n",
        "*   Series bisa memiliki key atau index yang duplicate, Sedangkan Dictionary harus unique artinya tidak boleh memiliki duplicate key.\n",
        "\n"
      ]
    },
    {
      "cell_type": "markdown",
      "metadata": {
        "id": "_T-xl2SHHQQ0"
      },
      "source": [
        "*Series dalam Table, List dan Dict Struktur Baris*"
      ]
    },
    {
      "cell_type": "code",
      "metadata": {
        "id": "UMcr2dgIG84K"
      },
      "source": [
        "import pandas as pd\n",
        "obj_list = [1,2,3,4,5]\n",
        "obj_dict = {'one':1, 'two': 2, 'tree':3, 'four':4, 'five':5}\n",
        "obj_series = pd.Series(obj_list)"
      ],
      "execution_count": null,
      "outputs": []
    },
    {
      "cell_type": "code",
      "metadata": {
        "id": "MuKC-wfNHLyN",
        "colab": {
          "base_uri": "https://localhost:8080/"
        },
        "outputId": "e2cfcd4a-1a5e-4fc0-be9a-100af6a17366"
      },
      "source": [
        "obj_list"
      ],
      "execution_count": null,
      "outputs": [
        {
          "output_type": "execute_result",
          "data": {
            "text/plain": [
              "[1, 2, 3, 4, 5]"
            ]
          },
          "metadata": {
            "tags": []
          },
          "execution_count": 127
        }
      ]
    },
    {
      "cell_type": "code",
      "metadata": {
        "id": "1Gk9pQxvHp8s",
        "colab": {
          "base_uri": "https://localhost:8080/"
        },
        "outputId": "09d5bf46-3d06-4dd2-f25c-278c4190a45b"
      },
      "source": [
        "obj_dict"
      ],
      "execution_count": null,
      "outputs": [
        {
          "output_type": "execute_result",
          "data": {
            "text/plain": [
              "{'five': 5, 'four': 4, 'one': 1, 'tree': 3, 'two': 2}"
            ]
          },
          "metadata": {
            "tags": []
          },
          "execution_count": 128
        }
      ]
    },
    {
      "cell_type": "code",
      "metadata": {
        "id": "fNAsJXLRHNVe",
        "colab": {
          "base_uri": "https://localhost:8080/"
        },
        "outputId": "d4200ea6-3064-496b-85cc-89ebed9ff809"
      },
      "source": [
        "obj_series"
      ],
      "execution_count": null,
      "outputs": [
        {
          "output_type": "execute_result",
          "data": {
            "text/plain": [
              "0    1\n",
              "1    2\n",
              "2    3\n",
              "3    4\n",
              "4    5\n",
              "dtype: int64"
            ]
          },
          "metadata": {
            "tags": []
          },
          "execution_count": 129
        }
      ]
    },
    {
      "cell_type": "markdown",
      "metadata": {
        "id": "atml3XSFIAEt"
      },
      "source": [
        "*Series memiliki method khusus seperti .index dan .values*"
      ]
    },
    {
      "cell_type": "code",
      "metadata": {
        "id": "vxbI96N6H001",
        "colab": {
          "base_uri": "https://localhost:8080/"
        },
        "outputId": "2651ce99-7b6e-4373-ee5d-246ff83aeead"
      },
      "source": [
        "obj_series.index"
      ],
      "execution_count": null,
      "outputs": [
        {
          "output_type": "execute_result",
          "data": {
            "text/plain": [
              "RangeIndex(start=0, stop=5, step=1)"
            ]
          },
          "metadata": {
            "tags": []
          },
          "execution_count": 130
        }
      ]
    },
    {
      "cell_type": "code",
      "metadata": {
        "id": "AE4oYZSkH8GI",
        "colab": {
          "base_uri": "https://localhost:8080/"
        },
        "outputId": "c08e95ef-6fa9-415f-965b-b1b1645d0ddd"
      },
      "source": [
        "obj_series.values"
      ],
      "execution_count": null,
      "outputs": [
        {
          "output_type": "execute_result",
          "data": {
            "text/plain": [
              "array([1, 2, 3, 4, 5])"
            ]
          },
          "metadata": {
            "tags": []
          },
          "execution_count": 131
        }
      ]
    },
    {
      "cell_type": "markdown",
      "metadata": {
        "id": "jalxgAxuILns"
      },
      "source": [
        "*Series boleh memiliki index selain int*\n",
        "\n",
        "*List harus memiliki index default int (0,1,2,3)*"
      ]
    },
    {
      "cell_type": "code",
      "metadata": {
        "id": "aYXieE2RIXHs",
        "colab": {
          "base_uri": "https://localhost:8080/"
        },
        "outputId": "c5436f27-8d0f-429a-82bd-1e1be04ba652"
      },
      "source": [
        "import pandas as pd\n",
        "import numpy as np\n",
        "data = np.array([1,2,3,4,5])\n",
        "# using parameter index\n",
        "s = pd.Series(data, index = ['a', 'b', 'c', 'd', 'e'])\n",
        "print(s)"
      ],
      "execution_count": null,
      "outputs": [
        {
          "output_type": "stream",
          "text": [
            "a    1\n",
            "b    2\n",
            "c    3\n",
            "d    4\n",
            "e    5\n",
            "dtype: int64\n"
          ],
          "name": "stdout"
        }
      ]
    },
    {
      "cell_type": "markdown",
      "metadata": {
        "id": "6QCdRLJ9Iweu"
      },
      "source": [
        "*Series dan List boleh melakukan slicing*\n",
        "\n",
        "*Sedangkan untuk dict hanya bisa menggunakan key*\n",
        "\n",
        "*Series boleh mengakses menggunakan list*\n",
        "*Sedangkan List dan Dict tidak bisa*"
      ]
    },
    {
      "cell_type": "code",
      "metadata": {
        "id": "jKwH8vc_It1a",
        "colab": {
          "base_uri": "https://localhost:8080/"
        },
        "outputId": "14e52d78-12cf-42e5-a6d6-c97934f652ab"
      },
      "source": [
        "import pandas as pd\n",
        "obj_list = [1,2,3,4,5]\n",
        "obj_dict = {'one':1, 'two': 2, 'tree':3, 'four':4, 'five':5}\n",
        "obj_series = pd.Series(obj_list)\n",
        "\n",
        "#list\n",
        "print('Object List ',obj_list )\n",
        "print('obj_list[0] = ', obj_list[0])\n",
        "print('obj_list[-2] = ',obj_list[-2])\n",
        "print('obj_list[:3] = ',obj_list[:3])\n",
        "print('obj_list[-2:] = ',obj_list[-2:])\n",
        "print('obj_list[-1:-3] = ',obj_list[-1:-3])\n",
        "print('obj_list[-3:-1] = ',obj_list[-3:-1])\n",
        "\n",
        "# print('obj_list[1,2,3] = \\n',obj_list[[1,2,3]]) ERROR Akses dengan list\n",
        "\n",
        "#series\n",
        "print('\\nObject Series ')\n",
        "print(obj_series)\n",
        "print('obj_series[0] = ', obj_series[0])\n",
        "# print('obj_series[-2] = ',obj_series[-2])   ERROR untuk index yang tidak ada\n",
        "print('obj_series[:3] = \\n',obj_series[:3],)\n",
        "print('obj_series[-2:] = \\n',obj_series[-2:])\n",
        "print('obj_series[-1:-3] = \\n',obj_series[-1:-3]) #EMPTY\n",
        "print('obj_series[-3:-1] = \\n',obj_series[-3:-1])\n",
        "\n",
        "print('obj_series[1,2,3] = \\n',obj_series[[1,2,3]]) # Akses dengan list (multitple elements)\n",
        "\n",
        "#dictionary\n",
        "print('\\nObject Dict ', obj_dict)\n",
        "print('one = ', obj_dict['one'])\n",
        "print('two = ', obj_dict['two'])\n",
        "# print('one , two = ', obj_dict['one', 'two']) ERROR Akses dengan list\n",
        "\n"
      ],
      "execution_count": null,
      "outputs": [
        {
          "output_type": "stream",
          "text": [
            "Object List  [1, 2, 3, 4, 5]\n",
            "obj_list[0] =  1\n",
            "obj_list[-2] =  4\n",
            "obj_list[:3] =  [1, 2, 3]\n",
            "obj_list[-2:] =  [4, 5]\n",
            "obj_list[-1:-3] =  []\n",
            "obj_list[-3:-1] =  [3, 4]\n",
            "\n",
            "Object Series \n",
            "0    1\n",
            "1    2\n",
            "2    3\n",
            "3    4\n",
            "4    5\n",
            "dtype: int64\n",
            "obj_series[0] =  1\n",
            "obj_series[:3] = \n",
            " 0    1\n",
            "1    2\n",
            "2    3\n",
            "dtype: int64\n",
            "obj_series[-2:] = \n",
            " 3    4\n",
            "4    5\n",
            "dtype: int64\n",
            "obj_series[-1:-3] = \n",
            " Series([], dtype: int64)\n",
            "obj_series[-3:-1] = \n",
            " 2    3\n",
            "3    4\n",
            "dtype: int64\n",
            "obj_series[1,2,3] = \n",
            " 1    2\n",
            "2    3\n",
            "3    4\n",
            "dtype: int64\n",
            "\n",
            "Object Dict  {'one': 1, 'two': 2, 'tree': 3, 'four': 4, 'five': 5}\n",
            "one =  1\n",
            "two =  2\n"
          ],
          "name": "stdout"
        }
      ]
    },
    {
      "cell_type": "code",
      "metadata": {
        "id": "g2IrFR5qNO68",
        "colab": {
          "base_uri": "https://localhost:8080/"
        },
        "outputId": "896b492b-1d59-40ef-fac9-bc0d11bc75ab"
      },
      "source": [
        "import pandas as pd\n",
        "obj_dict = {'one':1, 'two': 2, 'tree':3, 'four':4, 'five':5}\n",
        "obj_series = pd.Series(obj_dict)\n",
        "\n",
        "#series\n",
        "print('\\nObject Series ')\n",
        "print(obj_series)\n",
        "print('obj_series[one:two] = \\n',obj_series['one':'tree'])\n",
        "print('obj_series[one:two] = \\n',obj_series['one':'five':2])"
      ],
      "execution_count": null,
      "outputs": [
        {
          "output_type": "stream",
          "text": [
            "\n",
            "Object Series \n",
            "one     1\n",
            "two     2\n",
            "tree    3\n",
            "four    4\n",
            "five    5\n",
            "dtype: int64\n",
            "obj_series[one:two] = \n",
            " one     1\n",
            "two     2\n",
            "tree    3\n",
            "dtype: int64\n",
            "obj_series[one:two] = \n",
            " one     1\n",
            "tree    3\n",
            "five    5\n",
            "dtype: int64\n"
          ],
          "name": "stdout"
        }
      ]
    },
    {
      "cell_type": "markdown",
      "metadata": {
        "id": "1aB9ut9iGmDb"
      },
      "source": [
        "# **Accessing Data from Series with Position**"
      ]
    },
    {
      "cell_type": "markdown",
      "metadata": {
        "id": "Qd35aa7MSERQ"
      },
      "source": [
        "## With Method Index and Value"
      ]
    },
    {
      "cell_type": "code",
      "metadata": {
        "id": "352-y_QlO0Gg",
        "colab": {
          "base_uri": "https://localhost:8080/"
        },
        "outputId": "27b94f0d-f415-4744-d672-b0d5dba3ffcf"
      },
      "source": [
        "import pandas as pd\n",
        "obj_list = ['a', 'b', 'c', 'd', 'e', 'f']\n",
        "obj_series = pd.Series(obj_list)\n",
        "\n",
        "print(obj_series.index)\n",
        "print(obj_series.values)"
      ],
      "execution_count": null,
      "outputs": [
        {
          "output_type": "stream",
          "text": [
            "RangeIndex(start=0, stop=6, step=1)\n",
            "['a' 'b' 'c' 'd' 'e' 'f']\n"
          ],
          "name": "stdout"
        }
      ]
    },
    {
      "cell_type": "markdown",
      "metadata": {
        "id": "63jy6TyaSIp5"
      },
      "source": [
        "## With Index (Subsetting and Slicing)"
      ]
    },
    {
      "cell_type": "code",
      "metadata": {
        "id": "XSuR60oRO0mR",
        "colab": {
          "base_uri": "https://localhost:8080/"
        },
        "outputId": "9745ad7f-9b10-409c-9ffc-d2f885effb60"
      },
      "source": [
        "#series\n",
        "print('\\nObject Series ')\n",
        "print(obj_series)"
      ],
      "execution_count": null,
      "outputs": [
        {
          "output_type": "stream",
          "text": [
            "\n",
            "Object Series \n",
            "0    a\n",
            "1    b\n",
            "2    c\n",
            "3    d\n",
            "4    e\n",
            "5    f\n",
            "dtype: object\n"
          ],
          "name": "stdout"
        }
      ]
    },
    {
      "cell_type": "code",
      "metadata": {
        "id": "3FR_wEEZPPdc",
        "colab": {
          "base_uri": "https://localhost:8080/"
        },
        "outputId": "a653f40c-d211-478e-9b9f-5287ff1726d5"
      },
      "source": [
        "# Dengan index (subnetting, slicing)\n",
        "print('obj_series[0] = ', obj_series[0])\n",
        "# print('obj_series[-2] = ',obj_series[-2])   ERROR untuk index yang tidak ada\n",
        "print('obj_series[:3] =')\n",
        "print(obj_series[:3], end='\\n\\n')\n",
        "\n",
        "print('obj_series[-2:] =')\n",
        "print(obj_series[-2:], end='\\n\\n')\n",
        "\n",
        "print('obj_series[-1:-3] =') #EMPTY\n",
        "print(obj_series[-1:-3], end='\\n\\n')\n",
        "\n",
        "print('obj_series[-3:-1] =')\n",
        "print(obj_series[-3:-1], end='\\n\\n')"
      ],
      "execution_count": null,
      "outputs": [
        {
          "output_type": "stream",
          "text": [
            "obj_series[0] =  a\n",
            "obj_series[:3] =\n",
            "0    a\n",
            "1    b\n",
            "2    c\n",
            "dtype: object\n",
            "\n",
            "obj_series[-2:] =\n",
            "4    e\n",
            "5    f\n",
            "dtype: object\n",
            "\n",
            "obj_series[-1:-3] =\n",
            "Series([], dtype: object)\n",
            "\n",
            "obj_series[-3:-1] =\n",
            "3    d\n",
            "4    e\n",
            "dtype: object\n",
            "\n"
          ],
          "name": "stdout"
        }
      ]
    },
    {
      "cell_type": "markdown",
      "metadata": {
        "id": "7n-zI9svSUnV"
      },
      "source": [
        "## With List"
      ]
    },
    {
      "cell_type": "code",
      "metadata": {
        "id": "Mkwqz1HqP88F",
        "colab": {
          "base_uri": "https://localhost:8080/"
        },
        "outputId": "b8a447d9-c534-4964-f068-701fd24c106f"
      },
      "source": [
        "# Akses dengan list (multitple elements)\n",
        "print('obj_series[1,2,3] =')\n",
        "print(obj_series[[1,2,3]]) "
      ],
      "execution_count": null,
      "outputs": [
        {
          "output_type": "stream",
          "text": [
            "obj_series[1,2,3] =\n",
            "1    b\n",
            "2    c\n",
            "3    d\n",
            "dtype: object\n"
          ],
          "name": "stdout"
        }
      ]
    },
    {
      "cell_type": "code",
      "metadata": {
        "id": "5wV48YzqUBrm",
        "colab": {
          "base_uri": "https://localhost:8080/"
        },
        "outputId": "216c0963-973c-4671-c9c7-5da16b3340fd"
      },
      "source": [
        "# Akses dengan list (multitple elements)\n",
        "list_pick = [3,2,1]\n",
        "print('obj_series[3,2,1] =')\n",
        "print(obj_series[list_pick]) "
      ],
      "execution_count": null,
      "outputs": [
        {
          "output_type": "stream",
          "text": [
            "obj_series[3,2,1] =\n",
            "3    d\n",
            "2    c\n",
            "1    b\n",
            "dtype: object\n"
          ],
          "name": "stdout"
        }
      ]
    },
    {
      "cell_type": "markdown",
      "metadata": {
        "id": "le41xm5sSkg6"
      },
      "source": [
        "## With Index (Subsetting, Slicing and list (Multiple Elements)) indicated index parameter"
      ]
    },
    {
      "cell_type": "code",
      "metadata": {
        "id": "lN0ADWRQQTsl",
        "colab": {
          "base_uri": "https://localhost:8080/"
        },
        "outputId": "13152acf-9561-4e69-8d78-360a3ebbbaf3"
      },
      "source": [
        "# Dengan index (subnetting, slicing) jika index string\n",
        "import pandas as pd\n",
        "obj_list = ['a', 'b', 'c', 'd', 'e', 'f']\n",
        "obj_series = pd.Series(obj_list, index=['bla', 'bli', 'blu', 'blo', 'cla', 'cli'])\n",
        "\n",
        "#--------------------Tetap bisa dengan numeric indexing-------------------------\n",
        "\n",
        "print('obj_series[0] = ', obj_series[0])\n",
        "# print('obj_series[-2] = ',obj_series[-2])   ERROR untuk index yang tidak ada\n",
        "print('obj_series[:3] =')\n",
        "print(obj_series[:3], end='\\n\\n')\n",
        "\n",
        "print('obj_series[-2:] =')\n",
        "print(obj_series[-2:], end='\\n\\n')\n",
        "\n",
        "print('obj_series[-1:-3] =') #EMPTY\n",
        "print(obj_series[-1:-3], end='\\n\\n')\n",
        "\n",
        "print('obj_series[-3:-1] =')\n",
        "print(obj_series[-3:-1], end='\\n\\n')\n",
        "\n",
        "#--------------------Bisa juga dengan index yang telah ditentukan-------------------------\n",
        "print('obj_series[0] = ', obj_series['bla'])\n",
        "print('obj_series[:blu] =')\n",
        "print(obj_series[:'blu'], end='\\n\\n')\n",
        "\n",
        "\n",
        "\n",
        "print('obj_series[blu:bla] =') #EMPTY\n",
        "print(obj_series['blu':'bla'], end='\\n\\n')\n",
        "\n",
        "print('obj_series[bla:cla] =')\n",
        "print(obj_series['bla':'cla'], end='\\n\\n')"
      ],
      "execution_count": null,
      "outputs": [
        {
          "output_type": "stream",
          "text": [
            "obj_series[0] =  a\n",
            "obj_series[:3] =\n",
            "bla    a\n",
            "bli    b\n",
            "blu    c\n",
            "dtype: object\n",
            "\n",
            "obj_series[-2:] =\n",
            "cla    e\n",
            "cli    f\n",
            "dtype: object\n",
            "\n",
            "obj_series[-1:-3] =\n",
            "Series([], dtype: object)\n",
            "\n",
            "obj_series[-3:-1] =\n",
            "blo    d\n",
            "cla    e\n",
            "dtype: object\n",
            "\n",
            "obj_series[0] =  a\n",
            "obj_series[:blu] =\n",
            "bla    a\n",
            "bli    b\n",
            "blu    c\n",
            "dtype: object\n",
            "\n",
            "obj_series[blu:bla] =\n",
            "Series([], dtype: object)\n",
            "\n",
            "obj_series[bla:cla] =\n",
            "bla    a\n",
            "bli    b\n",
            "blu    c\n",
            "blo    d\n",
            "cla    e\n",
            "dtype: object\n",
            "\n"
          ],
          "name": "stdout"
        }
      ]
    },
    {
      "cell_type": "markdown",
      "metadata": {
        "id": "GeEcQYy4S2eI"
      },
      "source": [
        "## With Slicing key (index) from Dictionary"
      ]
    },
    {
      "cell_type": "code",
      "metadata": {
        "id": "FxxAeK8_Owxi",
        "colab": {
          "base_uri": "https://localhost:8080/"
        },
        "outputId": "dee5ceba-41b2-43b7-9c85-11bbc7f141f2"
      },
      "source": [
        "#dengan index key untuk dictionary\n",
        "import pandas as pd\n",
        "obj_dict = {'one':1, 'two': 2, 'tree':3, 'four':4, 'five':5}\n",
        "obj_series = pd.Series(obj_dict)\n",
        "\n",
        "#series\n",
        "print('\\nObject Series ')\n",
        "print(obj_series, end='\\n\\n')\n",
        "print('obj_series[one:two] =')\n",
        "print(obj_series['one':'tree'], end='\\n\\n')\n",
        "print('obj_series[one:two] = \\n')\n",
        "print(obj_series['one':'five':2], end='\\n\\n')"
      ],
      "execution_count": null,
      "outputs": [
        {
          "output_type": "stream",
          "text": [
            "\n",
            "Object Series \n",
            "one     1\n",
            "two     2\n",
            "tree    3\n",
            "four    4\n",
            "five    5\n",
            "dtype: int64\n",
            "\n",
            "obj_series[one:two] =\n",
            "one     1\n",
            "two     2\n",
            "tree    3\n",
            "dtype: int64\n",
            "\n",
            "obj_series[one:two] = \n",
            "\n",
            "one     1\n",
            "tree    3\n",
            "five    5\n",
            "dtype: int64\n",
            "\n"
          ],
          "name": "stdout"
        }
      ]
    },
    {
      "cell_type": "code",
      "metadata": {
        "id": "m9WkRO8dTb1H"
      },
      "source": [
        "import pandas as pd\n",
        "s = pd.Series([1,2,3,4,5], index = ['a','b','c','d','e'])\n",
        "\n",
        "# retrieve multiple elements\n",
        "# print s['f']\n",
        "#ERROR"
      ],
      "execution_count": null,
      "outputs": []
    },
    {
      "cell_type": "markdown",
      "metadata": {
        "id": "anZnYO-EVOQw"
      },
      "source": [
        "## .loc[] - index table"
      ]
    },
    {
      "cell_type": "code",
      "metadata": {
        "id": "8l6k6vqdVYWJ",
        "colab": {
          "base_uri": "https://localhost:8080/"
        },
        "outputId": "8f27494f-496b-4440-eb4c-7bab65c9aca2"
      },
      "source": [
        "import pandas as pd\n",
        "s = pd.Series([95, 80, 90, 70], index=['a', 'b', 'c', 'd'])\n",
        "s"
      ],
      "execution_count": null,
      "outputs": [
        {
          "output_type": "execute_result",
          "data": {
            "text/plain": [
              "a    95\n",
              "b    80\n",
              "c    90\n",
              "d    70\n",
              "dtype: int64"
            ]
          },
          "metadata": {
            "tags": []
          },
          "execution_count": 143
        }
      ]
    },
    {
      "cell_type": "code",
      "metadata": {
        "id": "8Q6Yn1QmVimX",
        "colab": {
          "base_uri": "https://localhost:8080/"
        },
        "outputId": "3dfd33dc-8f1a-4a38-add2-bc01892836f0"
      },
      "source": [
        "s.loc['a':'c']"
      ],
      "execution_count": null,
      "outputs": [
        {
          "output_type": "execute_result",
          "data": {
            "text/plain": [
              "a    95\n",
              "b    80\n",
              "c    90\n",
              "dtype: int64"
            ]
          },
          "metadata": {
            "tags": []
          },
          "execution_count": 144
        }
      ]
    },
    {
      "cell_type": "markdown",
      "metadata": {
        "id": "9assodeFVY6n"
      },
      "source": [
        "## .iloc[] - index integer"
      ]
    },
    {
      "cell_type": "code",
      "metadata": {
        "id": "m_sjTzeeVhTJ",
        "colab": {
          "base_uri": "https://localhost:8080/"
        },
        "outputId": "c8429e84-3e31-4e75-84be-7d1058260af0"
      },
      "source": [
        "import pandas as pd\n",
        "s = pd.Series([95, 80, 90, 70], index=['a', 'b', 'c', 'd'])\n",
        "s"
      ],
      "execution_count": null,
      "outputs": [
        {
          "output_type": "execute_result",
          "data": {
            "text/plain": [
              "a    95\n",
              "b    80\n",
              "c    90\n",
              "d    70\n",
              "dtype: int64"
            ]
          },
          "metadata": {
            "tags": []
          },
          "execution_count": 145
        }
      ]
    },
    {
      "cell_type": "code",
      "metadata": {
        "id": "ekiITtspVjj-",
        "colab": {
          "base_uri": "https://localhost:8080/"
        },
        "outputId": "3bcecba7-6724-415d-d543-e97d82c4d3cc"
      },
      "source": [
        "s.iloc[1:3]"
      ],
      "execution_count": null,
      "outputs": [
        {
          "output_type": "execute_result",
          "data": {
            "text/plain": [
              "b    80\n",
              "c    90\n",
              "dtype: int64"
            ]
          },
          "metadata": {
            "tags": []
          },
          "execution_count": 146
        }
      ]
    },
    {
      "cell_type": "code",
      "metadata": {
        "id": "KMG3DNmVV9wp",
        "colab": {
          "base_uri": "https://localhost:8080/"
        },
        "outputId": "1e82091f-e5ae-423e-ddeb-761c877cf353"
      },
      "source": [
        "s.iloc[1:3]"
      ],
      "execution_count": null,
      "outputs": [
        {
          "output_type": "execute_result",
          "data": {
            "text/plain": [
              "b    80\n",
              "c    90\n",
              "dtype: int64"
            ]
          },
          "metadata": {
            "tags": []
          },
          "execution_count": 147
        }
      ]
    },
    {
      "cell_type": "markdown",
      "metadata": {
        "id": "Iajxfh_ORkSM"
      },
      "source": [
        "# Operator in Series"
      ]
    },
    {
      "cell_type": "code",
      "metadata": {
        "id": "79O_UauvRm3_",
        "colab": {
          "base_uri": "https://localhost:8080/"
        },
        "outputId": "0531273d-2c93-4c9a-d4f9-de8caa7d05be"
      },
      "source": [
        "import pandas as pd\n",
        "obj_series1 = pd.Series([95, 80, 90, 70], index=['a', 'b', 'c', 'd'])\n",
        "obj_series1\n"
      ],
      "execution_count": null,
      "outputs": [
        {
          "output_type": "execute_result",
          "data": {
            "text/plain": [
              "a    95\n",
              "b    80\n",
              "c    90\n",
              "d    70\n",
              "dtype: int64"
            ]
          },
          "metadata": {
            "tags": []
          },
          "execution_count": 148
        }
      ]
    },
    {
      "cell_type": "code",
      "metadata": {
        "id": "xmp2HAaxRsDJ",
        "colab": {
          "base_uri": "https://localhost:8080/"
        },
        "outputId": "b4ec2b69-c483-47ca-ed09-f0e842961e38"
      },
      "source": [
        "obj_series2 = pd.Series([100, 200, 300, 400], index=['a', 'b', 'c', 'd'])\n",
        "obj_series2"
      ],
      "execution_count": null,
      "outputs": [
        {
          "output_type": "execute_result",
          "data": {
            "text/plain": [
              "a    100\n",
              "b    200\n",
              "c    300\n",
              "d    400\n",
              "dtype: int64"
            ]
          },
          "metadata": {
            "tags": []
          },
          "execution_count": 149
        }
      ]
    },
    {
      "cell_type": "code",
      "metadata": {
        "id": "jPZeMAHnD0UG",
        "colab": {
          "base_uri": "https://localhost:8080/"
        },
        "outputId": "0e38dfe1-144a-4c08-d021-abbb2dddb6aa"
      },
      "source": [
        "obj_series1 + 1"
      ],
      "execution_count": null,
      "outputs": [
        {
          "output_type": "execute_result",
          "data": {
            "text/plain": [
              "a    96\n",
              "b    81\n",
              "c    91\n",
              "d    71\n",
              "dtype: int64"
            ]
          },
          "metadata": {
            "tags": []
          },
          "execution_count": 150
        }
      ]
    },
    {
      "cell_type": "code",
      "metadata": {
        "id": "CV_cfJhAR1io",
        "colab": {
          "base_uri": "https://localhost:8080/"
        },
        "outputId": "af127745-74bf-4d13-e0bf-820d8f46de11"
      },
      "source": [
        "obj_series1 + obj_series2"
      ],
      "execution_count": null,
      "outputs": [
        {
          "output_type": "execute_result",
          "data": {
            "text/plain": [
              "a    195\n",
              "b    280\n",
              "c    390\n",
              "d    470\n",
              "dtype: int64"
            ]
          },
          "metadata": {
            "tags": []
          },
          "execution_count": 151
        }
      ]
    },
    {
      "cell_type": "code",
      "metadata": {
        "id": "yfJnFcNqSA8v",
        "colab": {
          "base_uri": "https://localhost:8080/"
        },
        "outputId": "d18e7ea8-dd17-4df6-dbe0-67eaf5048f30"
      },
      "source": [
        "obj_series1 - obj_series2"
      ],
      "execution_count": null,
      "outputs": [
        {
          "output_type": "execute_result",
          "data": {
            "text/plain": [
              "a     -5\n",
              "b   -120\n",
              "c   -210\n",
              "d   -330\n",
              "dtype: int64"
            ]
          },
          "metadata": {
            "tags": []
          },
          "execution_count": 152
        }
      ]
    },
    {
      "cell_type": "code",
      "metadata": {
        "id": "dESWzD_QSIA0",
        "colab": {
          "base_uri": "https://localhost:8080/"
        },
        "outputId": "f9a117b3-72a1-465f-d72f-1ba514e2b117"
      },
      "source": [
        "obj_series1 * obj_series2"
      ],
      "execution_count": null,
      "outputs": [
        {
          "output_type": "execute_result",
          "data": {
            "text/plain": [
              "a     9500\n",
              "b    16000\n",
              "c    27000\n",
              "d    28000\n",
              "dtype: int64"
            ]
          },
          "metadata": {
            "tags": []
          },
          "execution_count": 153
        }
      ]
    },
    {
      "cell_type": "code",
      "metadata": {
        "id": "ULFyb5T8SKVF",
        "colab": {
          "base_uri": "https://localhost:8080/"
        },
        "outputId": "653077dc-c085-4ca7-a0b9-f30e5c970c85"
      },
      "source": [
        "obj_series1 / obj_series2"
      ],
      "execution_count": null,
      "outputs": [
        {
          "output_type": "execute_result",
          "data": {
            "text/plain": [
              "a    0.950\n",
              "b    0.400\n",
              "c    0.300\n",
              "d    0.175\n",
              "dtype: float64"
            ]
          },
          "metadata": {
            "tags": []
          },
          "execution_count": 154
        }
      ]
    },
    {
      "cell_type": "code",
      "metadata": {
        "id": "W0Pt4dltSOi_",
        "colab": {
          "base_uri": "https://localhost:8080/"
        },
        "outputId": "317d4c8b-20cb-4cf2-8ab2-2e7d7dd030ed"
      },
      "source": [
        "'a' in obj_series1"
      ],
      "execution_count": null,
      "outputs": [
        {
          "output_type": "execute_result",
          "data": {
            "text/plain": [
              "True"
            ]
          },
          "metadata": {
            "tags": []
          },
          "execution_count": 155
        }
      ]
    },
    {
      "cell_type": "code",
      "metadata": {
        "id": "iKj3Y64eSjLs",
        "colab": {
          "base_uri": "https://localhost:8080/"
        },
        "outputId": "d0b1f3d0-485b-4205-cbf4-2a7ecdcacfb2"
      },
      "source": [
        "95 in obj_series1"
      ],
      "execution_count": null,
      "outputs": [
        {
          "output_type": "execute_result",
          "data": {
            "text/plain": [
              "False"
            ]
          },
          "metadata": {
            "tags": []
          },
          "execution_count": 156
        }
      ]
    },
    {
      "cell_type": "markdown",
      "metadata": {
        "id": "Qd90RgQjH6Sm"
      },
      "source": [
        "# **Function in Series**\n",
        "\n"
      ]
    },
    {
      "cell_type": "code",
      "metadata": {
        "id": "84jB5FpcH_dm",
        "colab": {
          "base_uri": "https://localhost:8080/"
        },
        "outputId": "4fe9b74f-2d73-4645-9042-6e77ff1c9fe0"
      },
      "source": [
        "import pandas as pd\n",
        "import numpy as np\n",
        "series = pd.Series(np.random.randn(20000))\n",
        "series"
      ],
      "execution_count": null,
      "outputs": [
        {
          "output_type": "execute_result",
          "data": {
            "text/plain": [
              "0        0.324537\n",
              "1        0.950607\n",
              "2       -0.883261\n",
              "3        0.654614\n",
              "4        1.733836\n",
              "           ...   \n",
              "19995    0.411200\n",
              "19996    0.252660\n",
              "19997    0.526333\n",
              "19998    0.861027\n",
              "19999   -0.470470\n",
              "Length: 20000, dtype: float64"
            ]
          },
          "metadata": {
            "tags": []
          },
          "execution_count": 157
        }
      ]
    },
    {
      "cell_type": "markdown",
      "metadata": {
        "id": "NOub4kZJrMsG"
      },
      "source": [
        "## **.add()**"
      ]
    },
    {
      "cell_type": "markdown",
      "metadata": {
        "id": "Is6FfAtmRY7m"
      },
      "source": [
        "## **.append()**"
      ]
    },
    {
      "cell_type": "code",
      "metadata": {
        "id": "9xALWMUWpHrh"
      },
      "source": [
        "# series.append?"
      ],
      "execution_count": null,
      "outputs": []
    },
    {
      "cell_type": "markdown",
      "metadata": {
        "id": "4HDyLr8FIIXQ"
      },
      "source": [
        "## **.head() and .tail()**"
      ]
    },
    {
      "cell_type": "code",
      "metadata": {
        "id": "_4mk_a1lIDpu",
        "colab": {
          "base_uri": "https://localhost:8080/"
        },
        "outputId": "7f0e986f-c6af-4520-9cdc-1bac08efd216"
      },
      "source": [
        "series.head()"
      ],
      "execution_count": null,
      "outputs": [
        {
          "output_type": "execute_result",
          "data": {
            "text/plain": [
              "0    0.324537\n",
              "1    0.950607\n",
              "2   -0.883261\n",
              "3    0.654614\n",
              "4    1.733836\n",
              "dtype: float64"
            ]
          },
          "metadata": {
            "tags": []
          },
          "execution_count": 159
        }
      ]
    },
    {
      "cell_type": "code",
      "metadata": {
        "id": "259taJ8_INIy",
        "colab": {
          "base_uri": "https://localhost:8080/"
        },
        "outputId": "e49cdb67-324e-4207-a38f-7c37ec571679"
      },
      "source": [
        "series.tail()"
      ],
      "execution_count": null,
      "outputs": [
        {
          "output_type": "execute_result",
          "data": {
            "text/plain": [
              "19995    0.411200\n",
              "19996    0.252660\n",
              "19997    0.526333\n",
              "19998    0.861027\n",
              "19999   -0.470470\n",
              "dtype: float64"
            ]
          },
          "metadata": {
            "tags": []
          },
          "execution_count": 160
        }
      ]
    },
    {
      "cell_type": "markdown",
      "metadata": {
        "id": "KSPGVOZfPUHn"
      },
      "source": [
        "## .value_counts()"
      ]
    },
    {
      "cell_type": "code",
      "metadata": {
        "id": "NJTpgT-KKN4K",
        "colab": {
          "base_uri": "https://localhost:8080/"
        },
        "outputId": "988a4e40-b3a5-4c88-8d47-4d245eb4e3c6"
      },
      "source": [
        "series.value_counts(dropna=False) \n",
        "# would allow you to view unique values and counts for a series (like a column or a few columns)."
      ],
      "execution_count": null,
      "outputs": [
        {
          "output_type": "execute_result",
          "data": {
            "text/plain": [
              " 0.406909    1\n",
              "-0.990500    1\n",
              " 0.137381    1\n",
              "-0.058619    1\n",
              "-1.450808    1\n",
              "            ..\n",
              "-0.619410    1\n",
              " 0.152583    1\n",
              " 1.860517    1\n",
              " 0.532834    1\n",
              " 0.043230    1\n",
              "Length: 20000, dtype: int64"
            ]
          },
          "metadata": {
            "tags": []
          },
          "execution_count": 161
        }
      ]
    },
    {
      "cell_type": "markdown",
      "metadata": {
        "id": "wtvyaLFhPYxI"
      },
      "source": [
        "## .replace()"
      ]
    },
    {
      "cell_type": "code",
      "metadata": {
        "id": "Mo-Vji4ERwsF",
        "colab": {
          "base_uri": "https://localhost:8080/"
        },
        "outputId": "88bb2d0d-213b-4cd7-92be-f94cae2152b6"
      },
      "source": [
        "s = pd.Series([0, 1, 2, 3, 4])\n",
        "s.replace([1, 2], method='bfill')"
      ],
      "execution_count": null,
      "outputs": [
        {
          "output_type": "execute_result",
          "data": {
            "text/plain": [
              "0    0\n",
              "1    3\n",
              "2    3\n",
              "3    3\n",
              "4    4\n",
              "dtype: int64"
            ]
          },
          "metadata": {
            "tags": []
          },
          "execution_count": 162
        }
      ]
    },
    {
      "cell_type": "markdown",
      "metadata": {
        "id": "GasZZdHkC03f"
      },
      "source": [
        "## **.astype()**"
      ]
    },
    {
      "cell_type": "code",
      "metadata": {
        "id": "zyaRO87rCoE8",
        "colab": {
          "base_uri": "https://localhost:8080/"
        },
        "outputId": "12e82942-1651-4aee-ed47-675fce86c235"
      },
      "source": [
        "# Create a series:\n",
        "ser = pd.Series([1, 2], dtype='int32')\n",
        "ser"
      ],
      "execution_count": null,
      "outputs": [
        {
          "output_type": "execute_result",
          "data": {
            "text/plain": [
              "0    1\n",
              "1    2\n",
              "dtype: int32"
            ]
          },
          "metadata": {
            "tags": []
          },
          "execution_count": 163
        }
      ]
    },
    {
      "cell_type": "code",
      "metadata": {
        "id": "qYnbaOlvCuO8",
        "colab": {
          "base_uri": "https://localhost:8080/"
        },
        "outputId": "d25dc7b0-85e1-4ef7-a619-852ccab9e368"
      },
      "source": [
        "ser.astype('int64')"
      ],
      "execution_count": null,
      "outputs": [
        {
          "output_type": "execute_result",
          "data": {
            "text/plain": [
              "0    1\n",
              "1    2\n",
              "dtype: int64"
            ]
          },
          "metadata": {
            "tags": []
          },
          "execution_count": 164
        }
      ]
    },
    {
      "cell_type": "code",
      "metadata": {
        "id": "4_7f8gFeD1q7",
        "colab": {
          "base_uri": "https://localhost:8080/"
        },
        "outputId": "65798bb6-ce0c-41e0-c18f-9665401f596f"
      },
      "source": [
        "# Note that using ``copy=False`` and changing data on a new pandas object may propagate changes:\n",
        "s1 = pd.Series([1, 2])\n",
        "s2 = s1.astype('int64', copy=False)\n",
        "s2[0] = 10\n",
        "s1  # note that s1[0] has changed too"
      ],
      "execution_count": null,
      "outputs": [
        {
          "output_type": "execute_result",
          "data": {
            "text/plain": [
              "0    10\n",
              "1     2\n",
              "dtype: int64"
            ]
          },
          "metadata": {
            "tags": []
          },
          "execution_count": 165
        }
      ]
    },
    {
      "cell_type": "markdown",
      "metadata": {
        "id": "VX6kOrh-3emw"
      },
      "source": [
        "## **.sum()**"
      ]
    }
  ]
}