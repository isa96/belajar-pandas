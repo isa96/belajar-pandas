{
  "nbformat": 4,
  "nbformat_minor": 0,
  "metadata": {
    "colab": {
      "name": "000. Pandas Cheat Sheet Guide.ipynb",
      "provenance": [],
      "collapsed_sections": [],
      "toc_visible": true
    },
    "kernelspec": {
      "name": "python3",
      "display_name": "Python 3"
    }
  },
  "cells": [
    {
      "cell_type": "markdown",
      "metadata": {
        "id": "ZSXxiRqQXCsa"
      },
      "source": [
        "# **Pandas Cheat Sheet: Guide**\n",
        "\n",
        "[source](https://www.dataquest.io/blog/pandas-cheat-sheet/)\n",
        "\n",
        "[Read on 10 minutes](https://https://pandas.pydata.org/pandas-docs/stable/getting_started/10min.html#min)\n",
        "\n",
        "\n",
        "\n",
        "`df` | Any pandas DataFrame object\n",
        "\n",
        "`s` | Any pandas Series object\n",
        "\n",
        "`import pandas as pd`\n",
        "\n",
        "`import numpy as np`"
      ]
    },
    {
      "cell_type": "markdown",
      "metadata": {
        "id": "Xv4XMYPcXOTU"
      },
      "source": [
        "## **Importing Data**\n",
        "\n",
        "Use these commands to import data from a variety of different sources and formats.\n",
        "\n",
        "* `pd.read_csv(filename)` | From a CSV file\n",
        "\n",
        "* `pd.read_table(filename)` | From a delimited text file (like TSV)\n",
        "\n",
        "* `pd.read_excel(filename)` | From an Excel file\n",
        "\n",
        "* `pd.read_sql(query, connection_object)` | Read from a SQL table/database\n",
        "\n",
        "* `pd.read_json(json_string)` | Read from a JSON formatted string, URL or file.\n",
        "\n",
        "* `pd.read_html(url)` | Parses an html URL, string or file and extracts tables to a list of dataframes\n",
        "\n",
        "* `pd.read_clipboard()` | Takes the contents of your clipboard and passes it to read_table()\n",
        "\n",
        "* `pd.DataFrame(dict)` | From a dict, keys for columns names, values for data as lists"
      ]
    },
    {
      "cell_type": "markdown",
      "metadata": {
        "id": "O68HclzxXp_k"
      },
      "source": [
        "## **Exporting Data**\n",
        "\n",
        "Use these commands to export a DataFrame to CSV, .xlsx, SQL, or JSON.\n",
        "\n",
        "* `df.to_csv(filename)` | Write to a CSV file\n",
        "\n",
        "* `df.to_excel(filename)` | Write to an Excel file\n",
        "\n",
        "* `df.to_sql(table_name, connection_object)` | Write to a SQL table\n",
        "\n",
        "* `df.to_json(filename)` | Write to a file in JSON format"
      ]
    },
    {
      "cell_type": "markdown",
      "metadata": {
        "id": "NJxYyfc5X0mG"
      },
      "source": [
        "## **Create Test Objects**\n",
        "\n",
        "These commands can be useful for creating test segments.\n",
        "\n",
        "`pd.DataFrame(np.random.rand(20,5))` | 5 columns and 20 rows of random floats\n",
        "\n",
        "`pd.Series(my_list)` | Create a series from an iterable my_list\n",
        "\n",
        "`df.index = pd.date_range('1900/1/30', periods=df.shape[0])` | Add a date index"
      ]
    },
    {
      "cell_type": "markdown",
      "metadata": {
        "id": "hx04fsY8YDBD"
      },
      "source": [
        "## **Viewing/Inspecting Data**\n",
        "\n",
        "Use these commands to take a look at specific sections of your pandas DataFrame or Series.\n",
        "\n",
        "* `df.head(n)` | First n rows of the DataFrame\n",
        "\n",
        "* `df.tail(n)` | Last n rows of the DataFrame\n",
        "\n",
        "* `df.shape` | Number of rows and columns\n",
        "\n",
        "* `df.info()` | Index, Datatype and Memory information\n",
        "\n",
        "* `df.describe()` | Summary statistics for numerical columns\n",
        "\n",
        "* `s.value_counts(dropna=False)` | View unique values and counts\n",
        "\n",
        "* `df.apply(pd.Series.value_counts)` | Unique values and counts for all columns"
      ]
    },
    {
      "cell_type": "markdown",
      "metadata": {
        "id": "92-sugKjYTTU"
      },
      "source": [
        "## **Selection**\n",
        "\n",
        "Use these commands to select a specific subset of your data.\n",
        "\n",
        "* `df[col]` | Returns column with label col as Series\n",
        "\n",
        "* `df[[col1, col2]]` | Returns columns as a new DataFrame\n",
        "\n",
        "* `s.iloc[0]` | Selection by position\n",
        "\n",
        "* `s.loc['index_one']` | Selection by index\n",
        "\n",
        "* `df.iloc[0,:]` | First row\n",
        "\n",
        "* `df.iloc[0,0]` | First element of first column"
      ]
    },
    {
      "cell_type": "markdown",
      "metadata": {
        "id": "VwWWK8ilYhz4"
      },
      "source": [
        "## **Data Cleaning**\n",
        "\n",
        "Use these commands to perform a variety of data cleaning tasks.\n",
        "\n",
        "* `df.columns = ['a','b','c']` | Rename columns\n",
        "\n",
        "* `pd.isnull()` | Checks for null Values, Returns Boolean Arrray\n",
        "\n",
        "* `pd.notnull()` | Opposite of pd.isnull()\n",
        "\n",
        "* `df.dropna()` | Drop all rows that contain null values\n",
        "\n",
        "* `df.dropna(axis=1)` | Drop all columns that contain null values\n",
        "\n",
        "* `df.dropna(axis=1,thresh=n)` | Drop all rows have have less than n non null values\n",
        "\n",
        "* `df.fillna(x)` | Replace all null values with x\n",
        "\n",
        "* `s.fillna(s.mean())` | Replace all null values with the mean (mean can be replaced with almost any function from the statistics module)\n",
        "\n",
        "* `s.astype(float)` | Convert the datatype of the series to float\n",
        "\n",
        "* `s.replace(1,'one')` | Replace all values equal to 1 with 'one'\n",
        "\n",
        "* `s.replace([1,3],['one','three'])` | Replace all 1 with 'one' and 3 with 'three'\n",
        "\n",
        "* `df.rename(columns=lambda x: x + 1)` | Mass renaming of columns\n",
        "\n",
        "* `df.rename(columns={'old_name': 'new_ name'})` | Selective renaming\n",
        "\n",
        "* `df.set_index('column_one')` | Change the index\n",
        "\n",
        "* `df.rename(index=lambda x: x + 1)` | Mass renaming of index"
      ]
    },
    {
      "cell_type": "markdown",
      "metadata": {
        "id": "rN2iv79NZ8dv"
      },
      "source": [
        "## **Filter, Sort, and Groupby**\n",
        "\n",
        "Use these commands to filter, sort, and group your data.\n",
        "\n",
        "Filtering\n",
        "\n",
        "* `df[df[col] > 0.5]` | Rows where the column col is greater than 0.5\n",
        "\n",
        "* `df[(df[col] > 0.5) & (df[col] < 0.7)]` | Rows where 0.7 > col > 0.5\n",
        "\n",
        "Sorting\n",
        "\n",
        "* `df.sort_values(col1)` | Sort values by col1 in ascending order\n",
        "\n",
        "* `df.sort_values(col2,ascending=False)` | Sort values by col2 in descending order\n",
        "\n",
        "* `df.sort_values([col1,col2],ascending=[True,False])` | Sort values by col1 in ascending order then col2 in descending order\n",
        "\n",
        "Grouping\n",
        "\n",
        "* `df.groupby(col)` | Returns a groupby object for values from one column\n",
        "\n",
        "* `df.groupby([col1,col2])` | Returns groupby object for values from multiple columns\n",
        "\n",
        "* `df.groupby(col1)[col2]` | Returns the mean of the values in col2, grouped by the values in col1 (mean can be replaced with almost any function from the statistics module)\n",
        "\n",
        "* `df.groupby(col1).agg(np.mean)` | Find the average across all columns for every unique col1 group\n",
        "\n",
        "Reshaping\n",
        "\n",
        "* `df.pivot_table(index=col1,values=[col2,col3],aggfunc=mean)` | Create a pivot table that groups by col1 and calculates the mean of col2 and col3\n",
        "\n",
        "\n",
        "Transformation\n",
        "\n",
        "* `df.apply(np.mean)` | Apply the function np.mean() across each column\n",
        "\n",
        "* `df.apply(np.max,axis=1)` | Apply the function np.max() across each row"
      ]
    },
    {
      "cell_type": "markdown",
      "metadata": {
        "id": "XlmLq-ldauEg"
      },
      "source": [
        "## **Join/Combine**\n",
        "\n",
        "Use these commands to combine multiple dataframes into a single one.\n",
        "\n",
        "* `df1.append(df2)` | Add the rows in df1 to the end of df2 (columns should be identical)\n",
        "\n",
        "* `pd.concat([df1, df2],axis=1)` | Add the columns in df1 to the end of df2 (rows should be identical)\n",
        "\n",
        "* `df1.join(df2,on=col1,how='inner')` | SQL-style join the columns in df1 with the columns on df2 where the rows for col have identical values. 'how' can be one of 'left', 'right', 'outer', 'inner'"
      ]
    },
    {
      "cell_type": "markdown",
      "metadata": {
        "id": "ySpkyUO0bKVC"
      },
      "source": [
        "## **Statistics**\n",
        "\n",
        "Use these commands to perform various statistical tests. (These can all be applied to a series as well.)\n",
        "\n",
        "\n",
        "* `df.describe()` | Summary statistics for numerical columns\n",
        "\n",
        "* `df.mean()` | Returns the mean of all columns\n",
        "\n",
        "* `df.corr()` | Returns the correlation between columns in a DataFrame\n",
        "\n",
        "* `df.count()` | Returns the number of non-null values in each DataFrame column\n",
        "\n",
        "* `df.max()` | Returns the highest value in each column\n",
        "\n",
        "* `df.min()` | Returns the lowest value in each column\n",
        "\n",
        "* `df.median()` | Returns the median of each column\n",
        "\n",
        "* `df.std()` | Returns the standard deviation of each column"
      ]
    },
    {
      "cell_type": "markdown",
      "metadata": {
        "id": "pFURGBRJbl9Z"
      },
      "source": [
        "# **Best Python Pandas Features**"
      ]
    },
    {
      "cell_type": "markdown",
      "metadata": {
        "id": "lMyvVovtbqQD"
      },
      "source": [
        "https://dataconomy.com/2015/03/14-best-python-pandas-features/#:~:text=Pandas%20is%20the%20most%20widely,data%20analysis%20fast%20and%20easy.\n",
        "\n",
        "https://www.listendata.com/2017/12/python-pandas-tutorial.html"
      ]
    },
    {
      "cell_type": "markdown",
      "metadata": {
        "id": "f9mXUMaxmFxf"
      },
      "source": [
        "1. Create a structured data set similar to R's data frame and Excel spreadsheet.\n",
        "\n",
        "2. Reading data from various sources such as CSV, TXT, XLSX, SQL database, R etc.\n",
        "\n",
        "3. Selecting particular rows or columns from data set\n",
        "\n",
        "4. Arranging data in ascending or descending order\n",
        "\n",
        "5. Filtering data based on some conditions\n",
        "\n",
        "6. Summarizing data by classification variable\n",
        "\n",
        "7. Reshape data into wide or long format\n",
        "\n",
        "8. Time series analysis\n",
        "\n",
        "9. Merging and concatenating two datasets\n",
        "\n",
        "10. Iterate over the rows of dataset\n",
        "\n",
        "11. Writing or Exporting data in CSV or Excel format"
      ]
    },
    {
      "cell_type": "code",
      "metadata": {
        "id": "e8ymvAyNmqa8"
      },
      "source": [
        "https://drive.google.com/file/d/1Pt0hQR2DUFZQHDo_HXbByM8zaISTASYg/view?usp=sharing\n",
        "https://drive.google.com/file/d/1uf9VB-CeOxkXpCThJhL-uxzhuEZATbQF/view?usp=sharing"
      ],
      "execution_count": null,
      "outputs": []
    },
    {
      "cell_type": "markdown",
      "metadata": {
        "id": "rx9Ml6Wumv0y"
      },
      "source": [
        "Datasets:\n",
        "In this tutorial we will use two datasets: 'income' and 'iris'.\n",
        "\n",
        "1. 'income' data : This data contains the income of various states from 2002 to 2015. The dataset contains 51 observations and 16 variables.\n",
        "\n",
        "[link text](https://sites.google.com/site/pocketecoworld/income.csv)\n",
        "\n",
        "2. 'iris' data: It comprises of 150 observations with 5 variables. We have 3 species of flowers(50 flowers for each specie) and for all of them the sepal length and width and petal length and width are given. Download link \n",
        "\n",
        "[link text](https://sites.google.com/site/pocketecoworld/iris.csv)"
      ]
    },
    {
      "cell_type": "code",
      "metadata": {
        "id": "u_0Wa_vYsrQ4",
        "colab": {
          "base_uri": "https://localhost:8080/",
          "height": 166
        },
        "outputId": "5e790a5d-19d3-42f2-f6ed-05f4f9276b15"
      },
      "source": [
        "import pandas as pd\n",
        "\n",
        "data = [1,2,3,4]\n",
        "\n",
        "df = pd.DataFrame(data)\n",
        "df\n"
      ],
      "execution_count": null,
      "outputs": [
        {
          "output_type": "execute_result",
          "data": {
            "text/html": [
              "<div>\n",
              "<style scoped>\n",
              "    .dataframe tbody tr th:only-of-type {\n",
              "        vertical-align: middle;\n",
              "    }\n",
              "\n",
              "    .dataframe tbody tr th {\n",
              "        vertical-align: top;\n",
              "    }\n",
              "\n",
              "    .dataframe thead th {\n",
              "        text-align: right;\n",
              "    }\n",
              "</style>\n",
              "<table border=\"1\" class=\"dataframe\">\n",
              "  <thead>\n",
              "    <tr style=\"text-align: right;\">\n",
              "      <th></th>\n",
              "      <th>0</th>\n",
              "    </tr>\n",
              "  </thead>\n",
              "  <tbody>\n",
              "    <tr>\n",
              "      <th>0</th>\n",
              "      <td>1</td>\n",
              "    </tr>\n",
              "    <tr>\n",
              "      <th>1</th>\n",
              "      <td>2</td>\n",
              "    </tr>\n",
              "    <tr>\n",
              "      <th>2</th>\n",
              "      <td>3</td>\n",
              "    </tr>\n",
              "    <tr>\n",
              "      <th>3</th>\n",
              "      <td>4</td>\n",
              "    </tr>\n",
              "  </tbody>\n",
              "</table>\n",
              "</div>"
            ],
            "text/plain": [
              "   0\n",
              "0  1\n",
              "1  2\n",
              "2  3\n",
              "3  4"
            ]
          },
          "metadata": {
            "tags": []
          },
          "execution_count": 1
        }
      ]
    }
  ]
}