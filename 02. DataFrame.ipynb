{
  "nbformat": 4,
  "nbformat_minor": 0,
  "metadata": {
    "colab": {
      "name": "02. DataFrame.ipynb",
      "provenance": [],
      "collapsed_sections": [
        "zemqc5gyfj5c"
      ]
    },
    "kernelspec": {
      "name": "python3",
      "display_name": "Python 3"
    }
  },
  "cells": [
    {
      "cell_type": "markdown",
      "metadata": {
        "id": "YmeA6GAFDdRX"
      },
      "source": [
        "<a href=\"https://colab.research.google.com/github/nurimammasri/Wooky-Pandas/blob/master/02.%20DataFrame.ipynb\" target=\"_parent\"><img src=\"https://colab.research.google.com/assets/colab-badge.svg\" alt=\"Open In Colab\"/></a>"
      ]
    },
    {
      "cell_type": "markdown",
      "metadata": {
        "id": "Tgk_U6G-ZmKG"
      },
      "source": [
        "# **Introduction**\n",
        "DataFrame adalah suatu objek 2 dimensi tempat menyimpan data dengan lebih terstruktur. dataframe memiliki 2 index, yaitu index baris dan index columns. Dalam satu column dataframe harus memiliki tipe data yang sama. tapi antar columnnya dataframe bisa memiliki jenis data yang berbeda. \n",
        "\n",
        "A Data frame is a two-dimensional data structure, i.e., data is aligned in a tabular fashion in rows and columns.\n",
        "\n",
        "\n"
      ]
    },
    {
      "cell_type": "markdown",
      "metadata": {
        "id": "T-G3w7lP8dP_"
      },
      "source": [
        "## Features of DataFrame\n",
        "*   Potentially columns are of different types\n",
        "*   Size – Mutable\n",
        "*   Labeled axes (rows and columns)\n",
        "*   Can Perform Arithmetic operations on rows and columns\n",
        "\n",
        "untuk lebih jelasnya perhatikan contoh berikut"
      ]
    },
    {
      "cell_type": "code",
      "metadata": {
        "id": "FcduCqiJR-jW"
      },
      "source": [
        "import pandas as pd\n",
        "\n",
        "df = pd.DataFrame({'tipe_int': [50, 21], 'tipe_string': ['a', 'b']})"
      ],
      "execution_count": 2,
      "outputs": []
    },
    {
      "cell_type": "code",
      "metadata": {
        "id": "_nzmgXksaDaL",
        "colab": {
          "base_uri": "https://localhost:8080/",
          "height": 163
        },
        "outputId": "c2ce22dc-423f-408e-c07e-c0c2a186939b"
      },
      "source": [
        "#Tampilan ketika di print\n",
        "print(df)\n",
        "#Tampilan generate langsung\n",
        "df"
      ],
      "execution_count": 3,
      "outputs": [
        {
          "output_type": "stream",
          "name": "stdout",
          "text": [
            "   tipe_int tipe_string\n",
            "0        50           a\n",
            "1        21           b\n"
          ]
        },
        {
          "output_type": "execute_result",
          "data": {
            "text/html": [
              "<div>\n",
              "<style scoped>\n",
              "    .dataframe tbody tr th:only-of-type {\n",
              "        vertical-align: middle;\n",
              "    }\n",
              "\n",
              "    .dataframe tbody tr th {\n",
              "        vertical-align: top;\n",
              "    }\n",
              "\n",
              "    .dataframe thead th {\n",
              "        text-align: right;\n",
              "    }\n",
              "</style>\n",
              "<table border=\"1\" class=\"dataframe\">\n",
              "  <thead>\n",
              "    <tr style=\"text-align: right;\">\n",
              "      <th></th>\n",
              "      <th>tipe_int</th>\n",
              "      <th>tipe_string</th>\n",
              "    </tr>\n",
              "  </thead>\n",
              "  <tbody>\n",
              "    <tr>\n",
              "      <th>0</th>\n",
              "      <td>50</td>\n",
              "      <td>a</td>\n",
              "    </tr>\n",
              "    <tr>\n",
              "      <th>1</th>\n",
              "      <td>21</td>\n",
              "      <td>b</td>\n",
              "    </tr>\n",
              "  </tbody>\n",
              "</table>\n",
              "</div>"
            ],
            "text/plain": [
              "   tipe_int tipe_string\n",
              "0        50           a\n",
              "1        21           b"
            ]
          },
          "metadata": {},
          "execution_count": 3
        }
      ]
    },
    {
      "cell_type": "code",
      "metadata": {
        "id": "wTn5oTnNaP1a",
        "colab": {
          "base_uri": "https://localhost:8080/"
        },
        "outputId": "fdfebef9-2c78-47be-f030-970be1ba37a6"
      },
      "source": [
        "print(type(df))\n",
        "type(df)"
      ],
      "execution_count": 4,
      "outputs": [
        {
          "output_type": "stream",
          "name": "stdout",
          "text": [
            "<class 'pandas.core.frame.DataFrame'>\n"
          ]
        },
        {
          "output_type": "execute_result",
          "data": {
            "text/plain": [
              "pandas.core.frame.DataFrame"
            ]
          },
          "metadata": {},
          "execution_count": 4
        }
      ]
    },
    {
      "cell_type": "markdown",
      "metadata": {
        "id": "3NCKVZr_akbX"
      },
      "source": [
        "# **DataFrame Constructor**\n",
        "\n",
        "A pandas DataFrame can be created using the following constructor −\n",
        "\n",
        "> **pandas.DataFrame( data, index, columns, dtype, copy)**\n",
        "\n",
        "\n",
        "*   **data**\n",
        "\n",
        "data takes various forms like ndarray, series, map, lists, dict, constants and also another DataFrame.\n",
        "\n",
        "*   **index**\n",
        "\n",
        "For the row labels, the Index to be used for the resulting frame is Optional Default np.arange(n) if no index is passed.\n",
        "\n",
        "*   **columns**\n",
        "\n",
        "For column labels, the optional default syntax is - np.arange(n). This is only true if no index is passed.\n",
        "\n",
        "*   **dtype**\n",
        "\n",
        "Data type of each column.\n",
        "\n",
        "*   **copy**\n",
        "\n",
        "This command (or whatever it is) is used for copying of data, if the default is False.\n",
        "\n"
      ]
    },
    {
      "cell_type": "code",
      "metadata": {
        "id": "S6qPIWGdZZmB"
      },
      "source": [
        "pd.DataFrame?"
      ],
      "execution_count": 5,
      "outputs": []
    },
    {
      "cell_type": "code",
      "metadata": {
        "id": "ofrcKddlctkw",
        "colab": {
          "base_uri": "https://localhost:8080/",
          "height": 172
        },
        "outputId": "c81e0686-6de9-41b8-be41-ae229643368b"
      },
      "source": [
        "import pandas as pd\n",
        "\n",
        "df = pd.DataFrame({'Calon President': ['Imam', 'Abrar', 'Muthia', 'Itha'], 'Jumlah Voting': [100, 50, 60, 20]})\n",
        "df"
      ],
      "execution_count": 6,
      "outputs": [
        {
          "output_type": "execute_result",
          "data": {
            "text/html": [
              "<div>\n",
              "<style scoped>\n",
              "    .dataframe tbody tr th:only-of-type {\n",
              "        vertical-align: middle;\n",
              "    }\n",
              "\n",
              "    .dataframe tbody tr th {\n",
              "        vertical-align: top;\n",
              "    }\n",
              "\n",
              "    .dataframe thead th {\n",
              "        text-align: right;\n",
              "    }\n",
              "</style>\n",
              "<table border=\"1\" class=\"dataframe\">\n",
              "  <thead>\n",
              "    <tr style=\"text-align: right;\">\n",
              "      <th></th>\n",
              "      <th>Calon President</th>\n",
              "      <th>Jumlah Voting</th>\n",
              "    </tr>\n",
              "  </thead>\n",
              "  <tbody>\n",
              "    <tr>\n",
              "      <th>0</th>\n",
              "      <td>Imam</td>\n",
              "      <td>100</td>\n",
              "    </tr>\n",
              "    <tr>\n",
              "      <th>1</th>\n",
              "      <td>Abrar</td>\n",
              "      <td>50</td>\n",
              "    </tr>\n",
              "    <tr>\n",
              "      <th>2</th>\n",
              "      <td>Muthia</td>\n",
              "      <td>60</td>\n",
              "    </tr>\n",
              "    <tr>\n",
              "      <th>3</th>\n",
              "      <td>Itha</td>\n",
              "      <td>20</td>\n",
              "    </tr>\n",
              "  </tbody>\n",
              "</table>\n",
              "</div>"
            ],
            "text/plain": [
              "  Calon President  Jumlah Voting\n",
              "0            Imam            100\n",
              "1           Abrar             50\n",
              "2          Muthia             60\n",
              "3            Itha             20"
            ]
          },
          "metadata": {},
          "execution_count": 6
        }
      ]
    },
    {
      "cell_type": "markdown",
      "metadata": {
        "id": "N7eNCiipzrde"
      },
      "source": [
        "## Index"
      ]
    },
    {
      "cell_type": "code",
      "metadata": {
        "id": "vgtFwdwrtenn",
        "colab": {
          "base_uri": "https://localhost:8080/",
          "height": 172
        },
        "outputId": "e894cfaf-f870-4edd-a938-3270e22f28f4"
      },
      "source": [
        "df.index = ['a', 'b', 'c', 'd']\n",
        "df"
      ],
      "execution_count": 7,
      "outputs": [
        {
          "output_type": "execute_result",
          "data": {
            "text/html": [
              "<div>\n",
              "<style scoped>\n",
              "    .dataframe tbody tr th:only-of-type {\n",
              "        vertical-align: middle;\n",
              "    }\n",
              "\n",
              "    .dataframe tbody tr th {\n",
              "        vertical-align: top;\n",
              "    }\n",
              "\n",
              "    .dataframe thead th {\n",
              "        text-align: right;\n",
              "    }\n",
              "</style>\n",
              "<table border=\"1\" class=\"dataframe\">\n",
              "  <thead>\n",
              "    <tr style=\"text-align: right;\">\n",
              "      <th></th>\n",
              "      <th>Calon President</th>\n",
              "      <th>Jumlah Voting</th>\n",
              "    </tr>\n",
              "  </thead>\n",
              "  <tbody>\n",
              "    <tr>\n",
              "      <th>a</th>\n",
              "      <td>Imam</td>\n",
              "      <td>100</td>\n",
              "    </tr>\n",
              "    <tr>\n",
              "      <th>b</th>\n",
              "      <td>Abrar</td>\n",
              "      <td>50</td>\n",
              "    </tr>\n",
              "    <tr>\n",
              "      <th>c</th>\n",
              "      <td>Muthia</td>\n",
              "      <td>60</td>\n",
              "    </tr>\n",
              "    <tr>\n",
              "      <th>d</th>\n",
              "      <td>Itha</td>\n",
              "      <td>20</td>\n",
              "    </tr>\n",
              "  </tbody>\n",
              "</table>\n",
              "</div>"
            ],
            "text/plain": [
              "  Calon President  Jumlah Voting\n",
              "a            Imam            100\n",
              "b           Abrar             50\n",
              "c          Muthia             60\n",
              "d            Itha             20"
            ]
          },
          "metadata": {},
          "execution_count": 7
        }
      ]
    },
    {
      "cell_type": "code",
      "metadata": {
        "id": "QNGeERV1zwX_",
        "colab": {
          "base_uri": "https://localhost:8080/"
        },
        "outputId": "18c75d6f-8d6e-4e31-cdb0-6f11e5df63d1"
      },
      "source": [
        "df.index"
      ],
      "execution_count": 8,
      "outputs": [
        {
          "output_type": "execute_result",
          "data": {
            "text/plain": [
              "Index(['a', 'b', 'c', 'd'], dtype='object')"
            ]
          },
          "metadata": {},
          "execution_count": 8
        }
      ]
    },
    {
      "cell_type": "markdown",
      "metadata": {
        "id": "kmTNLaEOz2Pi"
      },
      "source": [
        "## Columns"
      ]
    },
    {
      "cell_type": "code",
      "metadata": {
        "id": "oHj23aKDtl2j",
        "colab": {
          "base_uri": "https://localhost:8080/",
          "height": 172
        },
        "outputId": "bdbd8a3e-0197-47be-c1b0-5e670cb2d075"
      },
      "source": [
        "df.columns = ['Jumlah Voting', 'Calon President']\n",
        "df"
      ],
      "execution_count": 9,
      "outputs": [
        {
          "output_type": "execute_result",
          "data": {
            "text/html": [
              "<div>\n",
              "<style scoped>\n",
              "    .dataframe tbody tr th:only-of-type {\n",
              "        vertical-align: middle;\n",
              "    }\n",
              "\n",
              "    .dataframe tbody tr th {\n",
              "        vertical-align: top;\n",
              "    }\n",
              "\n",
              "    .dataframe thead th {\n",
              "        text-align: right;\n",
              "    }\n",
              "</style>\n",
              "<table border=\"1\" class=\"dataframe\">\n",
              "  <thead>\n",
              "    <tr style=\"text-align: right;\">\n",
              "      <th></th>\n",
              "      <th>Jumlah Voting</th>\n",
              "      <th>Calon President</th>\n",
              "    </tr>\n",
              "  </thead>\n",
              "  <tbody>\n",
              "    <tr>\n",
              "      <th>a</th>\n",
              "      <td>Imam</td>\n",
              "      <td>100</td>\n",
              "    </tr>\n",
              "    <tr>\n",
              "      <th>b</th>\n",
              "      <td>Abrar</td>\n",
              "      <td>50</td>\n",
              "    </tr>\n",
              "    <tr>\n",
              "      <th>c</th>\n",
              "      <td>Muthia</td>\n",
              "      <td>60</td>\n",
              "    </tr>\n",
              "    <tr>\n",
              "      <th>d</th>\n",
              "      <td>Itha</td>\n",
              "      <td>20</td>\n",
              "    </tr>\n",
              "  </tbody>\n",
              "</table>\n",
              "</div>"
            ],
            "text/plain": [
              "  Jumlah Voting  Calon President\n",
              "a          Imam              100\n",
              "b         Abrar               50\n",
              "c        Muthia               60\n",
              "d          Itha               20"
            ]
          },
          "metadata": {},
          "execution_count": 9
        }
      ]
    },
    {
      "cell_type": "code",
      "metadata": {
        "id": "GuuYxQ-nz6Yl",
        "colab": {
          "base_uri": "https://localhost:8080/"
        },
        "outputId": "10dbc6dc-c81d-4579-9bf4-9579105d3026"
      },
      "source": [
        "df.columns"
      ],
      "execution_count": 10,
      "outputs": [
        {
          "output_type": "execute_result",
          "data": {
            "text/plain": [
              "Index(['Jumlah Voting', 'Calon President'], dtype='object')"
            ]
          },
          "metadata": {},
          "execution_count": 10
        }
      ]
    },
    {
      "cell_type": "markdown",
      "metadata": {
        "id": "VqcmFM7O0Hyr"
      },
      "source": [
        "## Values"
      ]
    },
    {
      "cell_type": "code",
      "metadata": {
        "id": "zUiL6RO9t7rs",
        "colab": {
          "base_uri": "https://localhost:8080/"
        },
        "outputId": "73a9ecb7-2fc5-4e3a-849e-e7ebf101ed78"
      },
      "source": [
        "print(type(df.values))\n",
        "df.values"
      ],
      "execution_count": 11,
      "outputs": [
        {
          "output_type": "stream",
          "name": "stdout",
          "text": [
            "<class 'numpy.ndarray'>\n"
          ]
        },
        {
          "output_type": "execute_result",
          "data": {
            "text/plain": [
              "array([['Imam', 100],\n",
              "       ['Abrar', 50],\n",
              "       ['Muthia', 60],\n",
              "       ['Itha', 20]], dtype=object)"
            ]
          },
          "metadata": {},
          "execution_count": 11
        }
      ]
    },
    {
      "cell_type": "code",
      "metadata": {
        "id": "E-1gZOzWzGtc",
        "colab": {
          "base_uri": "https://localhost:8080/"
        },
        "outputId": "c411e497-22b4-458a-9208-baf8cb613a64"
      },
      "source": [
        "df['Jumlah Voting'].values"
      ],
      "execution_count": 12,
      "outputs": [
        {
          "output_type": "execute_result",
          "data": {
            "text/plain": [
              "array(['Imam', 'Abrar', 'Muthia', 'Itha'], dtype=object)"
            ]
          },
          "metadata": {},
          "execution_count": 12
        }
      ]
    },
    {
      "cell_type": "markdown",
      "metadata": {
        "id": "w0GYKzj_6qIt"
      },
      "source": [
        "# **Create DataFrame**\n",
        "\n",
        "A pandas DataFrame can be created using various inputs like −\n",
        "\n",
        "*   Lists\n",
        "*   Numpy Array\n",
        "*   Dictionary\n",
        "*   Series\n",
        "*   Another DataFrame\n",
        "\n",
        "In the subsequent sections of this chapter, we will see how to create a DataFrame using these inputs."
      ]
    },
    {
      "cell_type": "markdown",
      "metadata": {
        "id": "gtefMoGF8GLD"
      },
      "source": [
        "## Create Emty DataFrame"
      ]
    },
    {
      "cell_type": "code",
      "metadata": {
        "id": "UO84t3Kr8J6o",
        "colab": {
          "base_uri": "https://localhost:8080/"
        },
        "outputId": "a0070e59-dc08-49dd-96a2-5ea08fce324e"
      },
      "source": [
        "#import the pandas library and aliasing as pd\n",
        "import pandas as pd\n",
        "df = pd.DataFrame()\n",
        "print(df)"
      ],
      "execution_count": 13,
      "outputs": [
        {
          "output_type": "stream",
          "name": "stdout",
          "text": [
            "Empty DataFrame\n",
            "Columns: []\n",
            "Index: []\n"
          ]
        }
      ]
    },
    {
      "cell_type": "markdown",
      "metadata": {
        "id": "f_mNXuM68UQz"
      },
      "source": [
        "## Create a DataFrame from Lists\n",
        "The DataFrame can be created using a *single list* or a *list of lists*.\n",
        "\n",
        "list\n",
        "> data = [1,2,3,4,5]\n",
        "\n",
        "list of list\n",
        "\n",
        "> data = [['Alex',10],['Bob',12],['Clarke',13]]\n",
        "\n",
        "note :\n",
        "\n",
        "*   Index dan Column secara default np.arange(n) -> 0, 1, 2, ..\n",
        "*   bisa diubah dengan menggunakan index dan columns parameter\n",
        "*   Nilai list akan digunakan sebagai nilai columns 1 \n",
        "*   Hanya bisa menggunakan columns =[ ] parameter sebanyak dimensi data, jika tidak akan terjadi error\n",
        "\n"
      ]
    },
    {
      "cell_type": "code",
      "metadata": {
        "id": "SLdAlmeP8irS",
        "colab": {
          "base_uri": "https://localhost:8080/"
        },
        "outputId": "b4145bb4-e0e0-4601-d51d-444d61e5454a"
      },
      "source": [
        "# make from list \n",
        "import pandas as pd\n",
        "data = [1,2,3,4,5]\n",
        "df = pd.DataFrame(data)\n",
        "print(df)"
      ],
      "execution_count": 14,
      "outputs": [
        {
          "output_type": "stream",
          "name": "stdout",
          "text": [
            "   0\n",
            "0  1\n",
            "1  2\n",
            "2  3\n",
            "3  4\n",
            "4  5\n"
          ]
        }
      ]
    },
    {
      "cell_type": "code",
      "metadata": {
        "id": "A1lKscbV8p8x",
        "colab": {
          "base_uri": "https://localhost:8080/"
        },
        "outputId": "39bd7903-925d-42b2-f318-c4963ca6de42"
      },
      "source": [
        "# make from list of list with columns\n",
        "import pandas as pd\n",
        "data = [['Alex',10],['Bob',12],['Clarke',13]]\n",
        "df = pd.DataFrame(data,columns=['Name','Age'])\n",
        "print(df)"
      ],
      "execution_count": 15,
      "outputs": [
        {
          "output_type": "stream",
          "name": "stdout",
          "text": [
            "     Name  Age\n",
            "0    Alex   10\n",
            "1     Bob   12\n",
            "2  Clarke   13\n"
          ]
        }
      ]
    },
    {
      "cell_type": "code",
      "metadata": {
        "id": "3vHb97uV8u5E",
        "colab": {
          "base_uri": "https://localhost:8080/"
        },
        "outputId": "06f8e510-2786-4073-c9cb-56d099209752"
      },
      "source": [
        "# make from list of list with columns and dtype parameter\n",
        "# Observe, the dtype parameter changes the type of Age column to floating point.\n",
        "import pandas as pd\n",
        "data = [['Alex',10],['Bob',12],['Clarke',13]]\n",
        "df = pd.DataFrame(data,columns=['Name','Age'],dtype=float)\n",
        "print(df)"
      ],
      "execution_count": 16,
      "outputs": [
        {
          "output_type": "stream",
          "name": "stdout",
          "text": [
            "     Name   Age\n",
            "0    Alex  10.0\n",
            "1     Bob  12.0\n",
            "2  Clarke  13.0\n"
          ]
        }
      ]
    },
    {
      "cell_type": "code",
      "metadata": {
        "id": "EUQD1PRe9Z2M",
        "colab": {
          "base_uri": "https://localhost:8080/"
        },
        "outputId": "2f057e3b-94ae-43eb-937d-fba1a3eb1e51"
      },
      "source": [
        "# make from list of list with index, columns and dtype parameter\n",
        "import pandas as pd\n",
        "data = [['Alex',10],['Bob',12],['Clarke',13]]\n",
        "df = pd.DataFrame(data,index=['one', 'two', 'tree'], columns=['Name','Age'],dtype=float)\n",
        "print(df)"
      ],
      "execution_count": 17,
      "outputs": [
        {
          "output_type": "stream",
          "name": "stdout",
          "text": [
            "        Name   Age\n",
            "one     Alex  10.0\n",
            "two      Bob  12.0\n",
            "tree  Clarke  13.0\n"
          ]
        }
      ]
    },
    {
      "cell_type": "markdown",
      "metadata": {
        "id": "94stsmPK9pET"
      },
      "source": [
        "## Create a DataFrame from Dict of ndarrays / Lists\n",
        "\n",
        "All the ndarrays must be of same length. If index is passed, then the length of the index should equal to the length of the arrays.\n",
        "\n",
        "If no index is passed, then by default, index will be range(n), where n is the array length.\n",
        "\n",
        "Dictionary of ndarray / List\n",
        "> {'Nama':['Imam', 'Itha', 'Kurnia', 'Aryanti'], 'Umur':[21, 34, 56, 78]}\n",
        "\n",
        "catatan\n",
        "\n",
        "*   ndarray/list jika memiliki lebih dari satu dari dictionary harus memiliki panjang yang sama.\n",
        "*   Index = default 0,1,2,3..\n",
        "*   Columns = berasal dari Key.\n",
        "*   Value masing-masing column berasal dari ndarray / list nilai tiap key.\n",
        "\n",
        "*   Jika melakukan akses parameter dengan columns = [] (parameter) jika tidak ada key yang sama maka akan menghasilkan nilai \"NaN\"\n",
        "\n",
        "*NaN akan menyebabkan decimal type menjadi float*\n",
        "\n"
      ]
    },
    {
      "cell_type": "code",
      "metadata": {
        "id": "yIpTHKRn9pWM",
        "colab": {
          "base_uri": "https://localhost:8080/"
        },
        "outputId": "4d87d487-6503-4132-8699-a7c2cc6646a8"
      },
      "source": [
        "import pandas as pd\n",
        "data = {'Name':['Tom', 'Jack', 'Steve', 'Ricky'],'Age':[28,34,29,42]}\n",
        "df = pd.DataFrame(data)\n",
        "print(df)"
      ],
      "execution_count": 18,
      "outputs": [
        {
          "output_type": "stream",
          "name": "stdout",
          "text": [
            "    Name  Age\n",
            "0    Tom   28\n",
            "1   Jack   34\n",
            "2  Steve   29\n",
            "3  Ricky   42\n"
          ]
        }
      ]
    },
    {
      "cell_type": "code",
      "metadata": {
        "id": "friQN7iC_Kxi",
        "colab": {
          "base_uri": "https://localhost:8080/"
        },
        "outputId": "662b99fe-8cca-4afd-abf8-2fc621ebc7fc"
      },
      "source": [
        "#Memiliki panjang list yang berbeda\n",
        "import pandas as pd\n",
        "data = {'Name':['Tom', 'Jack', 'Steve', 'Ricky'],'Age':[28,34,29]}\n",
        "# df = pd.DataFrame(data) #ERROR arrays must all be same length\n",
        "print(data)"
      ],
      "execution_count": 19,
      "outputs": [
        {
          "output_type": "stream",
          "name": "stdout",
          "text": [
            "{'Name': ['Tom', 'Jack', 'Steve', 'Ricky'], 'Age': [28, 34, 29]}\n"
          ]
        }
      ]
    },
    {
      "cell_type": "code",
      "metadata": {
        "id": "lbZ2MKiF_ix7",
        "colab": {
          "base_uri": "https://localhost:8080/"
        },
        "outputId": "f248069d-a939-4fee-c8fa-d3272059f995"
      },
      "source": [
        "#mengubah index\n",
        "import pandas as pd\n",
        "data = {'Name':['Tom', 'Jack', 'Steve', 'Ricky'],'Age':[28,34,29,42]}\n",
        "df = pd.DataFrame(data, index=['rank1','rank2','rank3','rank4'])\n",
        "print(df)"
      ],
      "execution_count": 20,
      "outputs": [
        {
          "output_type": "stream",
          "name": "stdout",
          "text": [
            "        Name  Age\n",
            "rank1    Tom   28\n",
            "rank2   Jack   34\n",
            "rank3  Steve   29\n",
            "rank4  Ricky   42\n"
          ]
        }
      ]
    },
    {
      "cell_type": "code",
      "metadata": {
        "id": "TeH_3hb6_pRG",
        "colab": {
          "base_uri": "https://localhost:8080/"
        },
        "outputId": "f80c15df-04d2-4e3d-d0de-fc9df32fdaa2"
      },
      "source": [
        "#mengakses spesifik column dengan parameter\n",
        "import pandas as pd\n",
        "data = {'Name':['Tom', 'Jack', 'Steve', 'Ricky'],'Age':[28,34,29,42]}\n",
        "df = pd.DataFrame(data, index=['rank1','rank2','rank3','rank4'], columns=['Name', 'Address']) # tidak ada key Address maka NaN\n",
        "print(df)"
      ],
      "execution_count": 21,
      "outputs": [
        {
          "output_type": "stream",
          "name": "stdout",
          "text": [
            "        Name Address\n",
            "rank1    Tom     NaN\n",
            "rank2   Jack     NaN\n",
            "rank3  Steve     NaN\n",
            "rank4  Ricky     NaN\n"
          ]
        }
      ]
    },
    {
      "cell_type": "code",
      "metadata": {
        "id": "47BXvRDdGjAU",
        "colab": {
          "base_uri": "https://localhost:8080/"
        },
        "outputId": "d102a491-fbb9-467a-8215-2a622bd6ae4b"
      },
      "source": [
        "#dictionary of list of list\n",
        "import pandas as pd\n",
        "data = {'Name':['Tom', ['Jack', 'Steve', 'Ricky']],'Age':[28,[34,29,42]]}\n",
        "df = pd.DataFrame(data)\n",
        "print(df)"
      ],
      "execution_count": 22,
      "outputs": [
        {
          "output_type": "stream",
          "name": "stdout",
          "text": [
            "                   Name           Age\n",
            "0                   Tom            28\n",
            "1  [Jack, Steve, Ricky]  [34, 29, 42]\n"
          ]
        }
      ]
    },
    {
      "cell_type": "markdown",
      "metadata": {
        "id": "iKEAvvtwXVqQ"
      },
      "source": [
        "## Create a DataFrame from Dict of Dict"
      ]
    },
    {
      "cell_type": "code",
      "metadata": {
        "id": "NYpGz8ViXdl-",
        "colab": {
          "base_uri": "https://localhost:8080/",
          "height": 142
        },
        "outputId": "1ace69b8-6925-4aea-d6e7-a7c4a7543265"
      },
      "source": [
        "# Membuat datafame sederhana\n",
        "  \n",
        "# importing pandas as pd \n",
        "import pandas as pd \n",
        "  \n",
        "# membuat dataframe\n",
        "df = pd.DataFrame({'Name': {0: 'John', 1: 'Bob', 2: 'Shiela'}, \n",
        "                   'Course': {0: 'Masters', 1: 'Graduate', 2: 'Graduate'}, \n",
        "                   'Age': {0: 27, 1: 23, 2: 21}}) \n",
        "df "
      ],
      "execution_count": 23,
      "outputs": [
        {
          "output_type": "execute_result",
          "data": {
            "text/html": [
              "<div>\n",
              "<style scoped>\n",
              "    .dataframe tbody tr th:only-of-type {\n",
              "        vertical-align: middle;\n",
              "    }\n",
              "\n",
              "    .dataframe tbody tr th {\n",
              "        vertical-align: top;\n",
              "    }\n",
              "\n",
              "    .dataframe thead th {\n",
              "        text-align: right;\n",
              "    }\n",
              "</style>\n",
              "<table border=\"1\" class=\"dataframe\">\n",
              "  <thead>\n",
              "    <tr style=\"text-align: right;\">\n",
              "      <th></th>\n",
              "      <th>Name</th>\n",
              "      <th>Course</th>\n",
              "      <th>Age</th>\n",
              "    </tr>\n",
              "  </thead>\n",
              "  <tbody>\n",
              "    <tr>\n",
              "      <th>0</th>\n",
              "      <td>John</td>\n",
              "      <td>Masters</td>\n",
              "      <td>27</td>\n",
              "    </tr>\n",
              "    <tr>\n",
              "      <th>1</th>\n",
              "      <td>Bob</td>\n",
              "      <td>Graduate</td>\n",
              "      <td>23</td>\n",
              "    </tr>\n",
              "    <tr>\n",
              "      <th>2</th>\n",
              "      <td>Shiela</td>\n",
              "      <td>Graduate</td>\n",
              "      <td>21</td>\n",
              "    </tr>\n",
              "  </tbody>\n",
              "</table>\n",
              "</div>"
            ],
            "text/plain": [
              "     Name    Course  Age\n",
              "0    John   Masters   27\n",
              "1     Bob  Graduate   23\n",
              "2  Shiela  Graduate   21"
            ]
          },
          "metadata": {},
          "execution_count": 23
        }
      ]
    },
    {
      "cell_type": "markdown",
      "metadata": {
        "id": "ggVwR73FAtyI"
      },
      "source": [
        "## Create a DataFrame from List of Dicts\n",
        "\n",
        "List of Dictionaries can be passed as input data to create a DataFrame. The dictionary keys are by default taken as column names.\n",
        "\n",
        "List of Dictionary\n",
        "> [{'a':1, 'b':2, 'c':3}, {'a':1, 'b':2, 'c':3, 'd':4}]\n",
        "\n",
        "catatan\n",
        "\n",
        "*   Index = default 0,1,2,3..\n",
        "*   Columns = berasal dari key (Tapi ditentukan untuk tiap data dictionary dari list yang berbeda pada key mungkin berbeda disetiap data)\n",
        "*   Value masing-masing column berasal dari value tiap key di tiap dictionary di list\n",
        "*   Jika pada satu key memiliki key yang berbeda, maka untuk data dictionary pada list yang tidak memiliki nilai tersebut akan bernilai \"NaN\" untuk valuenya. disebut (Observe, NaN (Not a Number) is appended in ***missing areas***.)\n",
        "*   Jika melakukan akses parameter dengan columns = [] (parameter) jika tidak ada key yang sama maka akan menghasilkan nilai \"NaN\"\n",
        "\n",
        "*NaN akan menyebabkan decimal type menjadi float*"
      ]
    },
    {
      "cell_type": "code",
      "metadata": {
        "id": "gYxGYTtDB36p",
        "colab": {
          "base_uri": "https://localhost:8080/"
        },
        "outputId": "8e6ad104-913a-491c-cf57-0b9f511f791b"
      },
      "source": [
        "import pandas as pd\n",
        "data = [{'a': 1, 'b': 2},{'a': 5, 'b': 10, 'c': 20}]\n",
        "df = pd.DataFrame(data)\n",
        "print(df)\n",
        "# c index 0 akan bernilai NaN karena tidak ada pada data list dictionary pertama"
      ],
      "execution_count": 24,
      "outputs": [
        {
          "output_type": "stream",
          "name": "stdout",
          "text": [
            "   a   b     c\n",
            "0  1   2   NaN\n",
            "1  5  10  20.0\n"
          ]
        }
      ]
    },
    {
      "cell_type": "code",
      "metadata": {
        "id": "DpogjvBUCJ_A",
        "colab": {
          "base_uri": "https://localhost:8080/"
        },
        "outputId": "369fcb4d-dda5-4106-95e3-5a6d0617249c"
      },
      "source": [
        "#mengubah index\n",
        "import pandas as pd\n",
        "data = [{'a': 1, 'b': 2},{'a': 5, 'b': 10, 'c': 20}]\n",
        "df = pd.DataFrame(data, index=['first', 'second'])\n",
        "print(df)"
      ],
      "execution_count": 25,
      "outputs": [
        {
          "output_type": "stream",
          "name": "stdout",
          "text": [
            "        a   b     c\n",
            "first   1   2   NaN\n",
            "second  5  10  20.0\n"
          ]
        }
      ]
    },
    {
      "cell_type": "code",
      "metadata": {
        "id": "9f5KooK5CWjl",
        "colab": {
          "base_uri": "https://localhost:8080/"
        },
        "outputId": "2ab2ed1f-2e56-482a-d814-977456fdcbbe"
      },
      "source": [
        "#contoh mengakses dengan column (dengan key not found)\n",
        "import pandas as pd\n",
        "data = [{'a': 1, 'b': 2},{'a': 5, 'b': 10, 'c': 20}]\n",
        "\n",
        "#With two column indices, values same as dictionary keys\n",
        "df1 = pd.DataFrame(data, index=['first', 'second'], columns=['a', 'b'])\n",
        "\n",
        "#With two column indices with one index with other name\n",
        "df2 = pd.DataFrame(data, index=['first', 'second'], columns=['a', 'b1']) # b1 tidak ada pada key maka akan bernilai NaN\n",
        "print(df1)\n",
        "print()\n",
        "print(df2)"
      ],
      "execution_count": 26,
      "outputs": [
        {
          "output_type": "stream",
          "name": "stdout",
          "text": [
            "        a   b\n",
            "first   1   2\n",
            "second  5  10\n",
            "\n",
            "        a  b1\n",
            "first   1 NaN\n",
            "second  5 NaN\n"
          ]
        }
      ]
    },
    {
      "cell_type": "markdown",
      "metadata": {
        "id": "hLasFBj7DJgO"
      },
      "source": [
        "## Create a DataFrame from Dict of Series\n",
        "Dictionary of Series can be passed to form a DataFrame. The resultant index is the union of all the series indexes passed.\n",
        "\n",
        "\n",
        "Dictionary of Series\n",
        "> {'one':pd.Series([1,2,3], index=['a', 'b', 'c']), 'two':pd.Series([1,2,3,4], index=['a', 'b', 'c', 'd'])}\n",
        "\n",
        "catatan\n",
        "\n",
        "*   Index = default berasal dari nilai index pada Series (Tapi ditentukan untuk tiap data Series memiliki index mungkin berbeda disetiap data, maka jika salah satu items tdk ada index tersebut maka value bernilai NaN  ***missing areas***)\n",
        "*   Columns = berasal dari key Tiap items Dictionary\n",
        "*   Value masing-masing column berasal dari data Series dihubungkan dengan index parameter sebagai index columns\n",
        "*   Jika melakukan akses parameter dengan columns = [] (parameter) jika tidak ada key yang sama maka akan menghasilkan nilai \"NaN\"\n",
        "\n",
        "*NaN akan menyebabkan decimal type menjadi float*"
      ]
    },
    {
      "cell_type": "code",
      "metadata": {
        "id": "M8ZGIaZdFFky",
        "colab": {
          "base_uri": "https://localhost:8080/"
        },
        "outputId": "9b6c0c1a-b7cd-40ac-9961-ce9340019280"
      },
      "source": [
        "import pandas as pd\n",
        "\n",
        "d = {'one' : pd.Series([1, 2, 3], index=['a', 'b', 'c']), # index d pada columns one akan bernilai NaN karena tidak memiliki nilai\n",
        "   'two' : pd.Series([1, 2, 3, 4], index=['a', 'b', 'c', 'd'])} \n",
        "\n",
        "df = pd.DataFrame(d)\n",
        "print(df)"
      ],
      "execution_count": 27,
      "outputs": [
        {
          "output_type": "stream",
          "name": "stdout",
          "text": [
            "   one  two\n",
            "a  1.0    1\n",
            "b  2.0    2\n",
            "c  3.0    3\n",
            "d  NaN    4\n"
          ]
        }
      ]
    },
    {
      "cell_type": "code",
      "metadata": {
        "id": "XvdY4OdqFUWy",
        "colab": {
          "base_uri": "https://localhost:8080/"
        },
        "outputId": "dec217df-d435-4ce4-b052-1b6b5f20f27b"
      },
      "source": [
        "import pandas as pd\n",
        "\n",
        "d = {'one' : pd.Series([1, 2, 3], index=['a', 'b', 'c']), # index d, e, f Nan\n",
        "   'two' : pd.Series([1, 2, 3, 4], index=['a', 'b', 'c', 'd']), # index e, f Nan\n",
        "   'tree' : pd.Series([1, 2, 3, 4, 5, 6], index=['a', 'b', 'c', 'd', 'e', 'f'])} \n",
        "\n",
        "df = pd.DataFrame(d)\n",
        "print(df)"
      ],
      "execution_count": 28,
      "outputs": [
        {
          "output_type": "stream",
          "name": "stdout",
          "text": [
            "   one  two  tree\n",
            "a  1.0  1.0     1\n",
            "b  2.0  2.0     2\n",
            "c  3.0  3.0     3\n",
            "d  NaN  4.0     4\n",
            "e  NaN  NaN     5\n",
            "f  NaN  NaN     6\n"
          ]
        }
      ]
    },
    {
      "cell_type": "code",
      "metadata": {
        "id": "Brt9oIuTW8eB",
        "colab": {
          "base_uri": "https://localhost:8080/",
          "height": 142
        },
        "outputId": "449798a3-509b-4405-c4ca-7319b46f517c"
      },
      "source": [
        "matematika = pd.Series({'otong':80, 'dinda':90, 'mamat':100})\n",
        "fisika = pd.Series({'otong':90, 'dinda':70, 'mamat':100})\n",
        "biologi = pd.Series({'otong':100, 'dinda':60, 'mamat':90})\n",
        "\n",
        "df = pd.DataFrame({'matematika':matematika, 'fisika':fisika, 'biologi':biologi})\n",
        "df"
      ],
      "execution_count": 29,
      "outputs": [
        {
          "output_type": "execute_result",
          "data": {
            "text/html": [
              "<div>\n",
              "<style scoped>\n",
              "    .dataframe tbody tr th:only-of-type {\n",
              "        vertical-align: middle;\n",
              "    }\n",
              "\n",
              "    .dataframe tbody tr th {\n",
              "        vertical-align: top;\n",
              "    }\n",
              "\n",
              "    .dataframe thead th {\n",
              "        text-align: right;\n",
              "    }\n",
              "</style>\n",
              "<table border=\"1\" class=\"dataframe\">\n",
              "  <thead>\n",
              "    <tr style=\"text-align: right;\">\n",
              "      <th></th>\n",
              "      <th>matematika</th>\n",
              "      <th>fisika</th>\n",
              "      <th>biologi</th>\n",
              "    </tr>\n",
              "  </thead>\n",
              "  <tbody>\n",
              "    <tr>\n",
              "      <th>otong</th>\n",
              "      <td>80</td>\n",
              "      <td>90</td>\n",
              "      <td>100</td>\n",
              "    </tr>\n",
              "    <tr>\n",
              "      <th>dinda</th>\n",
              "      <td>90</td>\n",
              "      <td>70</td>\n",
              "      <td>60</td>\n",
              "    </tr>\n",
              "    <tr>\n",
              "      <th>mamat</th>\n",
              "      <td>100</td>\n",
              "      <td>100</td>\n",
              "      <td>90</td>\n",
              "    </tr>\n",
              "  </tbody>\n",
              "</table>\n",
              "</div>"
            ],
            "text/plain": [
              "       matematika  fisika  biologi\n",
              "otong          80      90      100\n",
              "dinda          90      70       60\n",
              "mamat         100     100       90"
            ]
          },
          "metadata": {},
          "execution_count": 29
        }
      ]
    },
    {
      "cell_type": "markdown",
      "metadata": {
        "id": "AcaEkfD157Sf"
      },
      "source": [
        "# Operation Between DataFrame\n",
        "\n",
        "Dalam DataFrame boleh melakukan operasi aritmatika\n",
        "Perlu diperhatikan nilai NaN jika dalam Aritmatika akan tetap menghasilkan NaN"
      ]
    },
    {
      "cell_type": "code",
      "metadata": {
        "id": "Vso6ibAI6BKQ",
        "colab": {
          "base_uri": "https://localhost:8080/",
          "height": 203
        },
        "outputId": "7525b1d5-17ac-4529-8190-80293b65aba0"
      },
      "source": [
        "import pandas as pd\n",
        "data1 = {'Angka1': [1,2,3,4,5], 'Angka2':[5,4,3,2,1], 'Angka3':[1,3,5,7,9], 'Angka4':[9,7,5,3,1]}\n",
        "data2 = {'Angka1': [2,4,6,8], 'Angka2':[8,6,4,2], 'Angka3':[1,3,5,7]}\n",
        "df1 = pd.DataFrame(data1)\n",
        "df2 = pd.DataFrame(data2)\n",
        "df1"
      ],
      "execution_count": 30,
      "outputs": [
        {
          "output_type": "execute_result",
          "data": {
            "text/html": [
              "<div>\n",
              "<style scoped>\n",
              "    .dataframe tbody tr th:only-of-type {\n",
              "        vertical-align: middle;\n",
              "    }\n",
              "\n",
              "    .dataframe tbody tr th {\n",
              "        vertical-align: top;\n",
              "    }\n",
              "\n",
              "    .dataframe thead th {\n",
              "        text-align: right;\n",
              "    }\n",
              "</style>\n",
              "<table border=\"1\" class=\"dataframe\">\n",
              "  <thead>\n",
              "    <tr style=\"text-align: right;\">\n",
              "      <th></th>\n",
              "      <th>Angka1</th>\n",
              "      <th>Angka2</th>\n",
              "      <th>Angka3</th>\n",
              "      <th>Angka4</th>\n",
              "    </tr>\n",
              "  </thead>\n",
              "  <tbody>\n",
              "    <tr>\n",
              "      <th>0</th>\n",
              "      <td>1</td>\n",
              "      <td>5</td>\n",
              "      <td>1</td>\n",
              "      <td>9</td>\n",
              "    </tr>\n",
              "    <tr>\n",
              "      <th>1</th>\n",
              "      <td>2</td>\n",
              "      <td>4</td>\n",
              "      <td>3</td>\n",
              "      <td>7</td>\n",
              "    </tr>\n",
              "    <tr>\n",
              "      <th>2</th>\n",
              "      <td>3</td>\n",
              "      <td>3</td>\n",
              "      <td>5</td>\n",
              "      <td>5</td>\n",
              "    </tr>\n",
              "    <tr>\n",
              "      <th>3</th>\n",
              "      <td>4</td>\n",
              "      <td>2</td>\n",
              "      <td>7</td>\n",
              "      <td>3</td>\n",
              "    </tr>\n",
              "    <tr>\n",
              "      <th>4</th>\n",
              "      <td>5</td>\n",
              "      <td>1</td>\n",
              "      <td>9</td>\n",
              "      <td>1</td>\n",
              "    </tr>\n",
              "  </tbody>\n",
              "</table>\n",
              "</div>"
            ],
            "text/plain": [
              "   Angka1  Angka2  Angka3  Angka4\n",
              "0       1       5       1       9\n",
              "1       2       4       3       7\n",
              "2       3       3       5       5\n",
              "3       4       2       7       3\n",
              "4       5       1       9       1"
            ]
          },
          "metadata": {},
          "execution_count": 30
        }
      ]
    },
    {
      "cell_type": "code",
      "metadata": {
        "id": "OXvUVI1k6FyQ",
        "colab": {
          "base_uri": "https://localhost:8080/",
          "height": 172
        },
        "outputId": "17e67ad3-6f31-4be9-950e-8d5632a3a8bb"
      },
      "source": [
        "df2"
      ],
      "execution_count": 31,
      "outputs": [
        {
          "output_type": "execute_result",
          "data": {
            "text/html": [
              "<div>\n",
              "<style scoped>\n",
              "    .dataframe tbody tr th:only-of-type {\n",
              "        vertical-align: middle;\n",
              "    }\n",
              "\n",
              "    .dataframe tbody tr th {\n",
              "        vertical-align: top;\n",
              "    }\n",
              "\n",
              "    .dataframe thead th {\n",
              "        text-align: right;\n",
              "    }\n",
              "</style>\n",
              "<table border=\"1\" class=\"dataframe\">\n",
              "  <thead>\n",
              "    <tr style=\"text-align: right;\">\n",
              "      <th></th>\n",
              "      <th>Angka1</th>\n",
              "      <th>Angka2</th>\n",
              "      <th>Angka3</th>\n",
              "    </tr>\n",
              "  </thead>\n",
              "  <tbody>\n",
              "    <tr>\n",
              "      <th>0</th>\n",
              "      <td>2</td>\n",
              "      <td>8</td>\n",
              "      <td>1</td>\n",
              "    </tr>\n",
              "    <tr>\n",
              "      <th>1</th>\n",
              "      <td>4</td>\n",
              "      <td>6</td>\n",
              "      <td>3</td>\n",
              "    </tr>\n",
              "    <tr>\n",
              "      <th>2</th>\n",
              "      <td>6</td>\n",
              "      <td>4</td>\n",
              "      <td>5</td>\n",
              "    </tr>\n",
              "    <tr>\n",
              "      <th>3</th>\n",
              "      <td>8</td>\n",
              "      <td>2</td>\n",
              "      <td>7</td>\n",
              "    </tr>\n",
              "  </tbody>\n",
              "</table>\n",
              "</div>"
            ],
            "text/plain": [
              "   Angka1  Angka2  Angka3\n",
              "0       2       8       1\n",
              "1       4       6       3\n",
              "2       6       4       5\n",
              "3       8       2       7"
            ]
          },
          "metadata": {},
          "execution_count": 31
        }
      ]
    },
    {
      "cell_type": "code",
      "metadata": {
        "id": "oILCqJf77Ka5",
        "colab": {
          "base_uri": "https://localhost:8080/",
          "height": 203
        },
        "outputId": "eb1e888a-f392-4fad-8a1e-6e742299e2a6"
      },
      "source": [
        "df1 + df2"
      ],
      "execution_count": 32,
      "outputs": [
        {
          "output_type": "execute_result",
          "data": {
            "text/html": [
              "<div>\n",
              "<style scoped>\n",
              "    .dataframe tbody tr th:only-of-type {\n",
              "        vertical-align: middle;\n",
              "    }\n",
              "\n",
              "    .dataframe tbody tr th {\n",
              "        vertical-align: top;\n",
              "    }\n",
              "\n",
              "    .dataframe thead th {\n",
              "        text-align: right;\n",
              "    }\n",
              "</style>\n",
              "<table border=\"1\" class=\"dataframe\">\n",
              "  <thead>\n",
              "    <tr style=\"text-align: right;\">\n",
              "      <th></th>\n",
              "      <th>Angka1</th>\n",
              "      <th>Angka2</th>\n",
              "      <th>Angka3</th>\n",
              "      <th>Angka4</th>\n",
              "    </tr>\n",
              "  </thead>\n",
              "  <tbody>\n",
              "    <tr>\n",
              "      <th>0</th>\n",
              "      <td>3.0</td>\n",
              "      <td>13.0</td>\n",
              "      <td>2.0</td>\n",
              "      <td>NaN</td>\n",
              "    </tr>\n",
              "    <tr>\n",
              "      <th>1</th>\n",
              "      <td>6.0</td>\n",
              "      <td>10.0</td>\n",
              "      <td>6.0</td>\n",
              "      <td>NaN</td>\n",
              "    </tr>\n",
              "    <tr>\n",
              "      <th>2</th>\n",
              "      <td>9.0</td>\n",
              "      <td>7.0</td>\n",
              "      <td>10.0</td>\n",
              "      <td>NaN</td>\n",
              "    </tr>\n",
              "    <tr>\n",
              "      <th>3</th>\n",
              "      <td>12.0</td>\n",
              "      <td>4.0</td>\n",
              "      <td>14.0</td>\n",
              "      <td>NaN</td>\n",
              "    </tr>\n",
              "    <tr>\n",
              "      <th>4</th>\n",
              "      <td>NaN</td>\n",
              "      <td>NaN</td>\n",
              "      <td>NaN</td>\n",
              "      <td>NaN</td>\n",
              "    </tr>\n",
              "  </tbody>\n",
              "</table>\n",
              "</div>"
            ],
            "text/plain": [
              "   Angka1  Angka2  Angka3  Angka4\n",
              "0     3.0    13.0     2.0     NaN\n",
              "1     6.0    10.0     6.0     NaN\n",
              "2     9.0     7.0    10.0     NaN\n",
              "3    12.0     4.0    14.0     NaN\n",
              "4     NaN     NaN     NaN     NaN"
            ]
          },
          "metadata": {},
          "execution_count": 32
        }
      ]
    },
    {
      "cell_type": "code",
      "metadata": {
        "id": "LxRJNbng7UCU",
        "colab": {
          "base_uri": "https://localhost:8080/",
          "height": 203
        },
        "outputId": "e200843c-830e-4731-c29b-d2a9ec92faeb"
      },
      "source": [
        "df1 - df2"
      ],
      "execution_count": 33,
      "outputs": [
        {
          "output_type": "execute_result",
          "data": {
            "text/html": [
              "<div>\n",
              "<style scoped>\n",
              "    .dataframe tbody tr th:only-of-type {\n",
              "        vertical-align: middle;\n",
              "    }\n",
              "\n",
              "    .dataframe tbody tr th {\n",
              "        vertical-align: top;\n",
              "    }\n",
              "\n",
              "    .dataframe thead th {\n",
              "        text-align: right;\n",
              "    }\n",
              "</style>\n",
              "<table border=\"1\" class=\"dataframe\">\n",
              "  <thead>\n",
              "    <tr style=\"text-align: right;\">\n",
              "      <th></th>\n",
              "      <th>Angka1</th>\n",
              "      <th>Angka2</th>\n",
              "      <th>Angka3</th>\n",
              "      <th>Angka4</th>\n",
              "    </tr>\n",
              "  </thead>\n",
              "  <tbody>\n",
              "    <tr>\n",
              "      <th>0</th>\n",
              "      <td>-1.0</td>\n",
              "      <td>-3.0</td>\n",
              "      <td>0.0</td>\n",
              "      <td>NaN</td>\n",
              "    </tr>\n",
              "    <tr>\n",
              "      <th>1</th>\n",
              "      <td>-2.0</td>\n",
              "      <td>-2.0</td>\n",
              "      <td>0.0</td>\n",
              "      <td>NaN</td>\n",
              "    </tr>\n",
              "    <tr>\n",
              "      <th>2</th>\n",
              "      <td>-3.0</td>\n",
              "      <td>-1.0</td>\n",
              "      <td>0.0</td>\n",
              "      <td>NaN</td>\n",
              "    </tr>\n",
              "    <tr>\n",
              "      <th>3</th>\n",
              "      <td>-4.0</td>\n",
              "      <td>0.0</td>\n",
              "      <td>0.0</td>\n",
              "      <td>NaN</td>\n",
              "    </tr>\n",
              "    <tr>\n",
              "      <th>4</th>\n",
              "      <td>NaN</td>\n",
              "      <td>NaN</td>\n",
              "      <td>NaN</td>\n",
              "      <td>NaN</td>\n",
              "    </tr>\n",
              "  </tbody>\n",
              "</table>\n",
              "</div>"
            ],
            "text/plain": [
              "   Angka1  Angka2  Angka3  Angka4\n",
              "0    -1.0    -3.0     0.0     NaN\n",
              "1    -2.0    -2.0     0.0     NaN\n",
              "2    -3.0    -1.0     0.0     NaN\n",
              "3    -4.0     0.0     0.0     NaN\n",
              "4     NaN     NaN     NaN     NaN"
            ]
          },
          "metadata": {},
          "execution_count": 33
        }
      ]
    },
    {
      "cell_type": "code",
      "metadata": {
        "id": "1hG5tl8f7a3b",
        "colab": {
          "base_uri": "https://localhost:8080/",
          "height": 203
        },
        "outputId": "43b77925-65bb-4ac8-dbd5-6ac7bc6e1c0a"
      },
      "source": [
        "df1 * df2"
      ],
      "execution_count": 34,
      "outputs": [
        {
          "output_type": "execute_result",
          "data": {
            "text/html": [
              "<div>\n",
              "<style scoped>\n",
              "    .dataframe tbody tr th:only-of-type {\n",
              "        vertical-align: middle;\n",
              "    }\n",
              "\n",
              "    .dataframe tbody tr th {\n",
              "        vertical-align: top;\n",
              "    }\n",
              "\n",
              "    .dataframe thead th {\n",
              "        text-align: right;\n",
              "    }\n",
              "</style>\n",
              "<table border=\"1\" class=\"dataframe\">\n",
              "  <thead>\n",
              "    <tr style=\"text-align: right;\">\n",
              "      <th></th>\n",
              "      <th>Angka1</th>\n",
              "      <th>Angka2</th>\n",
              "      <th>Angka3</th>\n",
              "      <th>Angka4</th>\n",
              "    </tr>\n",
              "  </thead>\n",
              "  <tbody>\n",
              "    <tr>\n",
              "      <th>0</th>\n",
              "      <td>2.0</td>\n",
              "      <td>40.0</td>\n",
              "      <td>1.0</td>\n",
              "      <td>NaN</td>\n",
              "    </tr>\n",
              "    <tr>\n",
              "      <th>1</th>\n",
              "      <td>8.0</td>\n",
              "      <td>24.0</td>\n",
              "      <td>9.0</td>\n",
              "      <td>NaN</td>\n",
              "    </tr>\n",
              "    <tr>\n",
              "      <th>2</th>\n",
              "      <td>18.0</td>\n",
              "      <td>12.0</td>\n",
              "      <td>25.0</td>\n",
              "      <td>NaN</td>\n",
              "    </tr>\n",
              "    <tr>\n",
              "      <th>3</th>\n",
              "      <td>32.0</td>\n",
              "      <td>4.0</td>\n",
              "      <td>49.0</td>\n",
              "      <td>NaN</td>\n",
              "    </tr>\n",
              "    <tr>\n",
              "      <th>4</th>\n",
              "      <td>NaN</td>\n",
              "      <td>NaN</td>\n",
              "      <td>NaN</td>\n",
              "      <td>NaN</td>\n",
              "    </tr>\n",
              "  </tbody>\n",
              "</table>\n",
              "</div>"
            ],
            "text/plain": [
              "   Angka1  Angka2  Angka3  Angka4\n",
              "0     2.0    40.0     1.0     NaN\n",
              "1     8.0    24.0     9.0     NaN\n",
              "2    18.0    12.0    25.0     NaN\n",
              "3    32.0     4.0    49.0     NaN\n",
              "4     NaN     NaN     NaN     NaN"
            ]
          },
          "metadata": {},
          "execution_count": 34
        }
      ]
    },
    {
      "cell_type": "code",
      "metadata": {
        "id": "7P2Ae2uA7dMh",
        "colab": {
          "base_uri": "https://localhost:8080/",
          "height": 203
        },
        "outputId": "32dc02e8-3034-4dea-89b5-ec1ba5fb7710"
      },
      "source": [
        "df1 / df2"
      ],
      "execution_count": 35,
      "outputs": [
        {
          "output_type": "execute_result",
          "data": {
            "text/html": [
              "<div>\n",
              "<style scoped>\n",
              "    .dataframe tbody tr th:only-of-type {\n",
              "        vertical-align: middle;\n",
              "    }\n",
              "\n",
              "    .dataframe tbody tr th {\n",
              "        vertical-align: top;\n",
              "    }\n",
              "\n",
              "    .dataframe thead th {\n",
              "        text-align: right;\n",
              "    }\n",
              "</style>\n",
              "<table border=\"1\" class=\"dataframe\">\n",
              "  <thead>\n",
              "    <tr style=\"text-align: right;\">\n",
              "      <th></th>\n",
              "      <th>Angka1</th>\n",
              "      <th>Angka2</th>\n",
              "      <th>Angka3</th>\n",
              "      <th>Angka4</th>\n",
              "    </tr>\n",
              "  </thead>\n",
              "  <tbody>\n",
              "    <tr>\n",
              "      <th>0</th>\n",
              "      <td>0.5</td>\n",
              "      <td>0.625000</td>\n",
              "      <td>1.0</td>\n",
              "      <td>NaN</td>\n",
              "    </tr>\n",
              "    <tr>\n",
              "      <th>1</th>\n",
              "      <td>0.5</td>\n",
              "      <td>0.666667</td>\n",
              "      <td>1.0</td>\n",
              "      <td>NaN</td>\n",
              "    </tr>\n",
              "    <tr>\n",
              "      <th>2</th>\n",
              "      <td>0.5</td>\n",
              "      <td>0.750000</td>\n",
              "      <td>1.0</td>\n",
              "      <td>NaN</td>\n",
              "    </tr>\n",
              "    <tr>\n",
              "      <th>3</th>\n",
              "      <td>0.5</td>\n",
              "      <td>1.000000</td>\n",
              "      <td>1.0</td>\n",
              "      <td>NaN</td>\n",
              "    </tr>\n",
              "    <tr>\n",
              "      <th>4</th>\n",
              "      <td>NaN</td>\n",
              "      <td>NaN</td>\n",
              "      <td>NaN</td>\n",
              "      <td>NaN</td>\n",
              "    </tr>\n",
              "  </tbody>\n",
              "</table>\n",
              "</div>"
            ],
            "text/plain": [
              "   Angka1    Angka2  Angka3  Angka4\n",
              "0     0.5  0.625000     1.0     NaN\n",
              "1     0.5  0.666667     1.0     NaN\n",
              "2     0.5  0.750000     1.0     NaN\n",
              "3     0.5  1.000000     1.0     NaN\n",
              "4     NaN       NaN     NaN     NaN"
            ]
          },
          "metadata": {},
          "execution_count": 35
        }
      ]
    },
    {
      "cell_type": "code",
      "metadata": {
        "id": "zlZrExxZ7gJd",
        "colab": {
          "base_uri": "https://localhost:8080/",
          "height": 172
        },
        "outputId": "275810e8-d314-49c1-f0a8-713e9cf9367b"
      },
      "source": [
        "df2['Angka3'] = df2['Angka2'] + df2['Angka1']\n",
        "df2"
      ],
      "execution_count": 36,
      "outputs": [
        {
          "output_type": "execute_result",
          "data": {
            "text/html": [
              "<div>\n",
              "<style scoped>\n",
              "    .dataframe tbody tr th:only-of-type {\n",
              "        vertical-align: middle;\n",
              "    }\n",
              "\n",
              "    .dataframe tbody tr th {\n",
              "        vertical-align: top;\n",
              "    }\n",
              "\n",
              "    .dataframe thead th {\n",
              "        text-align: right;\n",
              "    }\n",
              "</style>\n",
              "<table border=\"1\" class=\"dataframe\">\n",
              "  <thead>\n",
              "    <tr style=\"text-align: right;\">\n",
              "      <th></th>\n",
              "      <th>Angka1</th>\n",
              "      <th>Angka2</th>\n",
              "      <th>Angka3</th>\n",
              "    </tr>\n",
              "  </thead>\n",
              "  <tbody>\n",
              "    <tr>\n",
              "      <th>0</th>\n",
              "      <td>2</td>\n",
              "      <td>8</td>\n",
              "      <td>10</td>\n",
              "    </tr>\n",
              "    <tr>\n",
              "      <th>1</th>\n",
              "      <td>4</td>\n",
              "      <td>6</td>\n",
              "      <td>10</td>\n",
              "    </tr>\n",
              "    <tr>\n",
              "      <th>2</th>\n",
              "      <td>6</td>\n",
              "      <td>4</td>\n",
              "      <td>10</td>\n",
              "    </tr>\n",
              "    <tr>\n",
              "      <th>3</th>\n",
              "      <td>8</td>\n",
              "      <td>2</td>\n",
              "      <td>10</td>\n",
              "    </tr>\n",
              "  </tbody>\n",
              "</table>\n",
              "</div>"
            ],
            "text/plain": [
              "   Angka1  Angka2  Angka3\n",
              "0       2       8      10\n",
              "1       4       6      10\n",
              "2       6       4      10\n",
              "3       8       2      10"
            ]
          },
          "metadata": {},
          "execution_count": 36
        }
      ]
    },
    {
      "cell_type": "markdown",
      "metadata": {
        "id": "JyK-BA_mFo_k"
      },
      "source": [
        "# **Indexing/Akses Selection**\n",
        "\n",
        "**Indexing DataFrame**\n",
        "Akses DataFrame sering juga di kenal indexing atau Subset Selection. secara sederhana maknanya adalah kita memilih suatu data dari baris tertentu dan column tertentu. kita bisa saja memilih beberapa baris dan semua kolom dari data, semua baris dan beberapa column dari data, atau beberapa baris dan bebearpa column dari data.\n",
        "\n",
        "Ada banyak cara-cara kita indexing suatu dataframe. diantranya adalah dengan menggunakan :\n",
        "\n",
        "*   dataframe[] : cara seperti ini dikenal sebagai index operator.\n",
        "*   dataframe.loc[]: operator yang menggunakan label untuk mengakses data, jika misalkan kamu melakukan dataframe.loc[‘jumlah’], berarti kamu hendak mengakses data yang mempunyai index jumlah\n",
        "*   dataframe.iloc[: operator yang menggunakan posisi index untuk mengakses data. jikalau kamu melakukan dataframe.iloc[2] berarti kamu hendak mengakses dataframe dengan index posisi 2\n",
        "\n",
        "....................\n",
        "\n",
        "*name of colum*\n",
        "\n",
        "df['column']\n",
        "\n",
        "....................\n",
        "\n",
        "df.loc[]\n",
        "\n",
        "....................\n",
        "\n",
        "*numeric*\n",
        "\n",
        "df.iloc[ : , : ]\n",
        "\n",
        "df.iloc[[ , , ],[ , , ]]\n",
        "\n",
        "....................\n",
        "\n",
        "\n",
        "\n",
        "\n",
        "\n",
        "\n",
        "\n",
        "\n"
      ]
    },
    {
      "cell_type": "markdown",
      "metadata": {
        "id": "gtaSWArtXbpZ"
      },
      "source": [
        "## **Column Selection**"
      ]
    },
    {
      "cell_type": "markdown",
      "metadata": {
        "id": "s54vrdha4Ri-"
      },
      "source": [
        "### df['column']\n",
        "\n",
        "You can select a column (**df[col]**) and return column with label col as Series \n",
        "\n",
        "Or a few columns (**df[[col1, col2]]**) and returns columns as a new DataFrame."
      ]
    },
    {
      "cell_type": "code",
      "metadata": {
        "id": "8s4UKA0HCboL",
        "colab": {
          "base_uri": "https://localhost:8080/",
          "height": 172
        },
        "outputId": "86717efc-5f4d-48d8-9b56-e56df7152186"
      },
      "source": [
        "import pandas as pd\n",
        "\n",
        "df = pd.DataFrame({'Calon President': ['Imam', 'Abrar', 'Muthia', 'Itha'],\n",
        "                   'Umur' : [12,34,5,67],\n",
        "                   'Alamat' : ['Jln.1', 'Jln.2', 'Jln.3', 'Jln.4'],\n",
        "                   'Jumlah Voting': [100, 50, 60, 20],\n",
        "                   'Jenis Kelamin':['L', 'L', 'P', 'P'],\n",
        "                   'Negara':['Indonesia', 'Australia', 'Amerika', 'Mesir']})\n",
        "df"
      ],
      "execution_count": 37,
      "outputs": [
        {
          "output_type": "execute_result",
          "data": {
            "text/html": [
              "<div>\n",
              "<style scoped>\n",
              "    .dataframe tbody tr th:only-of-type {\n",
              "        vertical-align: middle;\n",
              "    }\n",
              "\n",
              "    .dataframe tbody tr th {\n",
              "        vertical-align: top;\n",
              "    }\n",
              "\n",
              "    .dataframe thead th {\n",
              "        text-align: right;\n",
              "    }\n",
              "</style>\n",
              "<table border=\"1\" class=\"dataframe\">\n",
              "  <thead>\n",
              "    <tr style=\"text-align: right;\">\n",
              "      <th></th>\n",
              "      <th>Calon President</th>\n",
              "      <th>Umur</th>\n",
              "      <th>Alamat</th>\n",
              "      <th>Jumlah Voting</th>\n",
              "      <th>Jenis Kelamin</th>\n",
              "      <th>Negara</th>\n",
              "    </tr>\n",
              "  </thead>\n",
              "  <tbody>\n",
              "    <tr>\n",
              "      <th>0</th>\n",
              "      <td>Imam</td>\n",
              "      <td>12</td>\n",
              "      <td>Jln.1</td>\n",
              "      <td>100</td>\n",
              "      <td>L</td>\n",
              "      <td>Indonesia</td>\n",
              "    </tr>\n",
              "    <tr>\n",
              "      <th>1</th>\n",
              "      <td>Abrar</td>\n",
              "      <td>34</td>\n",
              "      <td>Jln.2</td>\n",
              "      <td>50</td>\n",
              "      <td>L</td>\n",
              "      <td>Australia</td>\n",
              "    </tr>\n",
              "    <tr>\n",
              "      <th>2</th>\n",
              "      <td>Muthia</td>\n",
              "      <td>5</td>\n",
              "      <td>Jln.3</td>\n",
              "      <td>60</td>\n",
              "      <td>P</td>\n",
              "      <td>Amerika</td>\n",
              "    </tr>\n",
              "    <tr>\n",
              "      <th>3</th>\n",
              "      <td>Itha</td>\n",
              "      <td>67</td>\n",
              "      <td>Jln.4</td>\n",
              "      <td>20</td>\n",
              "      <td>P</td>\n",
              "      <td>Mesir</td>\n",
              "    </tr>\n",
              "  </tbody>\n",
              "</table>\n",
              "</div>"
            ],
            "text/plain": [
              "  Calon President  Umur Alamat  Jumlah Voting Jenis Kelamin     Negara\n",
              "0            Imam    12  Jln.1            100             L  Indonesia\n",
              "1           Abrar    34  Jln.2             50             L  Australia\n",
              "2          Muthia     5  Jln.3             60             P    Amerika\n",
              "3            Itha    67  Jln.4             20             P      Mesir"
            ]
          },
          "metadata": {},
          "execution_count": 37
        }
      ]
    },
    {
      "cell_type": "code",
      "metadata": {
        "id": "XO2nCVH_bDsN",
        "colab": {
          "base_uri": "https://localhost:8080/",
          "height": 172
        },
        "outputId": "7cc748a3-fe3a-4c52-9f98-14fb3d74e37d"
      },
      "source": [
        "df[0:4]"
      ],
      "execution_count": 38,
      "outputs": [
        {
          "output_type": "execute_result",
          "data": {
            "text/html": [
              "<div>\n",
              "<style scoped>\n",
              "    .dataframe tbody tr th:only-of-type {\n",
              "        vertical-align: middle;\n",
              "    }\n",
              "\n",
              "    .dataframe tbody tr th {\n",
              "        vertical-align: top;\n",
              "    }\n",
              "\n",
              "    .dataframe thead th {\n",
              "        text-align: right;\n",
              "    }\n",
              "</style>\n",
              "<table border=\"1\" class=\"dataframe\">\n",
              "  <thead>\n",
              "    <tr style=\"text-align: right;\">\n",
              "      <th></th>\n",
              "      <th>Calon President</th>\n",
              "      <th>Umur</th>\n",
              "      <th>Alamat</th>\n",
              "      <th>Jumlah Voting</th>\n",
              "      <th>Jenis Kelamin</th>\n",
              "      <th>Negara</th>\n",
              "    </tr>\n",
              "  </thead>\n",
              "  <tbody>\n",
              "    <tr>\n",
              "      <th>0</th>\n",
              "      <td>Imam</td>\n",
              "      <td>12</td>\n",
              "      <td>Jln.1</td>\n",
              "      <td>100</td>\n",
              "      <td>L</td>\n",
              "      <td>Indonesia</td>\n",
              "    </tr>\n",
              "    <tr>\n",
              "      <th>1</th>\n",
              "      <td>Abrar</td>\n",
              "      <td>34</td>\n",
              "      <td>Jln.2</td>\n",
              "      <td>50</td>\n",
              "      <td>L</td>\n",
              "      <td>Australia</td>\n",
              "    </tr>\n",
              "    <tr>\n",
              "      <th>2</th>\n",
              "      <td>Muthia</td>\n",
              "      <td>5</td>\n",
              "      <td>Jln.3</td>\n",
              "      <td>60</td>\n",
              "      <td>P</td>\n",
              "      <td>Amerika</td>\n",
              "    </tr>\n",
              "    <tr>\n",
              "      <th>3</th>\n",
              "      <td>Itha</td>\n",
              "      <td>67</td>\n",
              "      <td>Jln.4</td>\n",
              "      <td>20</td>\n",
              "      <td>P</td>\n",
              "      <td>Mesir</td>\n",
              "    </tr>\n",
              "  </tbody>\n",
              "</table>\n",
              "</div>"
            ],
            "text/plain": [
              "  Calon President  Umur Alamat  Jumlah Voting Jenis Kelamin     Negara\n",
              "0            Imam    12  Jln.1            100             L  Indonesia\n",
              "1           Abrar    34  Jln.2             50             L  Australia\n",
              "2          Muthia     5  Jln.3             60             P    Amerika\n",
              "3            Itha    67  Jln.4             20             P      Mesir"
            ]
          },
          "metadata": {},
          "execution_count": 38
        }
      ]
    },
    {
      "cell_type": "code",
      "metadata": {
        "id": "5siBvPu-4dms",
        "colab": {
          "base_uri": "https://localhost:8080/",
          "height": 172
        },
        "outputId": "6df8128e-9f39-425b-9eed-876f5366d2a9"
      },
      "source": [
        "df['Umur'] #type() -> Series\n",
        "df[['Umur']] # type() -> DataFrame"
      ],
      "execution_count": 39,
      "outputs": [
        {
          "output_type": "execute_result",
          "data": {
            "text/html": [
              "<div>\n",
              "<style scoped>\n",
              "    .dataframe tbody tr th:only-of-type {\n",
              "        vertical-align: middle;\n",
              "    }\n",
              "\n",
              "    .dataframe tbody tr th {\n",
              "        vertical-align: top;\n",
              "    }\n",
              "\n",
              "    .dataframe thead th {\n",
              "        text-align: right;\n",
              "    }\n",
              "</style>\n",
              "<table border=\"1\" class=\"dataframe\">\n",
              "  <thead>\n",
              "    <tr style=\"text-align: right;\">\n",
              "      <th></th>\n",
              "      <th>Umur</th>\n",
              "    </tr>\n",
              "  </thead>\n",
              "  <tbody>\n",
              "    <tr>\n",
              "      <th>0</th>\n",
              "      <td>12</td>\n",
              "    </tr>\n",
              "    <tr>\n",
              "      <th>1</th>\n",
              "      <td>34</td>\n",
              "    </tr>\n",
              "    <tr>\n",
              "      <th>2</th>\n",
              "      <td>5</td>\n",
              "    </tr>\n",
              "    <tr>\n",
              "      <th>3</th>\n",
              "      <td>67</td>\n",
              "    </tr>\n",
              "  </tbody>\n",
              "</table>\n",
              "</div>"
            ],
            "text/plain": [
              "   Umur\n",
              "0    12\n",
              "1    34\n",
              "2     5\n",
              "3    67"
            ]
          },
          "metadata": {},
          "execution_count": 39
        }
      ]
    },
    {
      "cell_type": "code",
      "metadata": {
        "id": "SwUyBpwF4u7L",
        "colab": {
          "base_uri": "https://localhost:8080/",
          "height": 172
        },
        "outputId": "43cc4069-31a8-4165-efd3-8adfb9eb5abc"
      },
      "source": [
        "df[['Calon President', 'Jumlah Voting', 'Jenis Kelamin']]"
      ],
      "execution_count": 40,
      "outputs": [
        {
          "output_type": "execute_result",
          "data": {
            "text/html": [
              "<div>\n",
              "<style scoped>\n",
              "    .dataframe tbody tr th:only-of-type {\n",
              "        vertical-align: middle;\n",
              "    }\n",
              "\n",
              "    .dataframe tbody tr th {\n",
              "        vertical-align: top;\n",
              "    }\n",
              "\n",
              "    .dataframe thead th {\n",
              "        text-align: right;\n",
              "    }\n",
              "</style>\n",
              "<table border=\"1\" class=\"dataframe\">\n",
              "  <thead>\n",
              "    <tr style=\"text-align: right;\">\n",
              "      <th></th>\n",
              "      <th>Calon President</th>\n",
              "      <th>Jumlah Voting</th>\n",
              "      <th>Jenis Kelamin</th>\n",
              "    </tr>\n",
              "  </thead>\n",
              "  <tbody>\n",
              "    <tr>\n",
              "      <th>0</th>\n",
              "      <td>Imam</td>\n",
              "      <td>100</td>\n",
              "      <td>L</td>\n",
              "    </tr>\n",
              "    <tr>\n",
              "      <th>1</th>\n",
              "      <td>Abrar</td>\n",
              "      <td>50</td>\n",
              "      <td>L</td>\n",
              "    </tr>\n",
              "    <tr>\n",
              "      <th>2</th>\n",
              "      <td>Muthia</td>\n",
              "      <td>60</td>\n",
              "      <td>P</td>\n",
              "    </tr>\n",
              "    <tr>\n",
              "      <th>3</th>\n",
              "      <td>Itha</td>\n",
              "      <td>20</td>\n",
              "      <td>P</td>\n",
              "    </tr>\n",
              "  </tbody>\n",
              "</table>\n",
              "</div>"
            ],
            "text/plain": [
              "  Calon President  Jumlah Voting Jenis Kelamin\n",
              "0            Imam            100             L\n",
              "1           Abrar             50             L\n",
              "2          Muthia             60             P\n",
              "3            Itha             20             P"
            ]
          },
          "metadata": {},
          "execution_count": 40
        }
      ]
    },
    {
      "cell_type": "code",
      "metadata": {
        "id": "A2dTS69e45qJ",
        "colab": {
          "base_uri": "https://localhost:8080/",
          "height": 172
        },
        "outputId": "a3697241-0d4a-4294-d749-faf2fc1de7d9"
      },
      "source": [
        "# menyimpan hasil pemilihan ke dalam variable\n",
        "df2 = df[['Calon President', 'Jumlah Voting']]\n",
        "df2"
      ],
      "execution_count": 41,
      "outputs": [
        {
          "output_type": "execute_result",
          "data": {
            "text/html": [
              "<div>\n",
              "<style scoped>\n",
              "    .dataframe tbody tr th:only-of-type {\n",
              "        vertical-align: middle;\n",
              "    }\n",
              "\n",
              "    .dataframe tbody tr th {\n",
              "        vertical-align: top;\n",
              "    }\n",
              "\n",
              "    .dataframe thead th {\n",
              "        text-align: right;\n",
              "    }\n",
              "</style>\n",
              "<table border=\"1\" class=\"dataframe\">\n",
              "  <thead>\n",
              "    <tr style=\"text-align: right;\">\n",
              "      <th></th>\n",
              "      <th>Calon President</th>\n",
              "      <th>Jumlah Voting</th>\n",
              "    </tr>\n",
              "  </thead>\n",
              "  <tbody>\n",
              "    <tr>\n",
              "      <th>0</th>\n",
              "      <td>Imam</td>\n",
              "      <td>100</td>\n",
              "    </tr>\n",
              "    <tr>\n",
              "      <th>1</th>\n",
              "      <td>Abrar</td>\n",
              "      <td>50</td>\n",
              "    </tr>\n",
              "    <tr>\n",
              "      <th>2</th>\n",
              "      <td>Muthia</td>\n",
              "      <td>60</td>\n",
              "    </tr>\n",
              "    <tr>\n",
              "      <th>3</th>\n",
              "      <td>Itha</td>\n",
              "      <td>20</td>\n",
              "    </tr>\n",
              "  </tbody>\n",
              "</table>\n",
              "</div>"
            ],
            "text/plain": [
              "  Calon President  Jumlah Voting\n",
              "0            Imam            100\n",
              "1           Abrar             50\n",
              "2          Muthia             60\n",
              "3            Itha             20"
            ]
          },
          "metadata": {},
          "execution_count": 41
        }
      ]
    },
    {
      "cell_type": "code",
      "metadata": {
        "id": "xhCl_tlm8iAT",
        "colab": {
          "base_uri": "https://localhost:8080/"
        },
        "outputId": "c7a1a4f0-449f-4589-8449-2b2a4823e12e"
      },
      "source": [
        "import pandas as pd\n",
        "\n",
        "d = {'one' : pd.Series([1, 2, 3], index=['a', 'b', 'c']),\n",
        "   'two' : pd.Series([1, 2, 3, 4], index=['a', 'b', 'c', 'd'])}\n",
        "\n",
        "df = pd.DataFrame(d)\n",
        "print(df['one'])"
      ],
      "execution_count": 42,
      "outputs": [
        {
          "output_type": "stream",
          "name": "stdout",
          "text": [
            "a    1.0\n",
            "b    2.0\n",
            "c    3.0\n",
            "d    NaN\n",
            "Name: one, dtype: float64\n"
          ]
        }
      ]
    },
    {
      "cell_type": "code",
      "metadata": {
        "id": "UdCMiTLQPOnK",
        "colab": {
          "base_uri": "https://localhost:8080/",
          "height": 172
        },
        "outputId": "03424e96-d59c-47ad-e7e6-f28e395ad68c"
      },
      "source": [
        "import pandas as pd\n",
        "\n",
        "df = pd.DataFrame({'Siswa': ['Imam', 'Abrar', 'Muthia', 'Itha'],\n",
        "                   'Umur' : [12,34,5,67],\n",
        "                   'Alamat' : ['Jln.1', 'Jln.2', 'Jln.3', 'Jln.4'],\n",
        "                   'Jenis Kelamin':['L', 'L', 'P', 'P']})\n",
        "df"
      ],
      "execution_count": 43,
      "outputs": [
        {
          "output_type": "execute_result",
          "data": {
            "text/html": [
              "<div>\n",
              "<style scoped>\n",
              "    .dataframe tbody tr th:only-of-type {\n",
              "        vertical-align: middle;\n",
              "    }\n",
              "\n",
              "    .dataframe tbody tr th {\n",
              "        vertical-align: top;\n",
              "    }\n",
              "\n",
              "    .dataframe thead th {\n",
              "        text-align: right;\n",
              "    }\n",
              "</style>\n",
              "<table border=\"1\" class=\"dataframe\">\n",
              "  <thead>\n",
              "    <tr style=\"text-align: right;\">\n",
              "      <th></th>\n",
              "      <th>Siswa</th>\n",
              "      <th>Umur</th>\n",
              "      <th>Alamat</th>\n",
              "      <th>Jenis Kelamin</th>\n",
              "    </tr>\n",
              "  </thead>\n",
              "  <tbody>\n",
              "    <tr>\n",
              "      <th>0</th>\n",
              "      <td>Imam</td>\n",
              "      <td>12</td>\n",
              "      <td>Jln.1</td>\n",
              "      <td>L</td>\n",
              "    </tr>\n",
              "    <tr>\n",
              "      <th>1</th>\n",
              "      <td>Abrar</td>\n",
              "      <td>34</td>\n",
              "      <td>Jln.2</td>\n",
              "      <td>L</td>\n",
              "    </tr>\n",
              "    <tr>\n",
              "      <th>2</th>\n",
              "      <td>Muthia</td>\n",
              "      <td>5</td>\n",
              "      <td>Jln.3</td>\n",
              "      <td>P</td>\n",
              "    </tr>\n",
              "    <tr>\n",
              "      <th>3</th>\n",
              "      <td>Itha</td>\n",
              "      <td>67</td>\n",
              "      <td>Jln.4</td>\n",
              "      <td>P</td>\n",
              "    </tr>\n",
              "  </tbody>\n",
              "</table>\n",
              "</div>"
            ],
            "text/plain": [
              "    Siswa  Umur Alamat Jenis Kelamin\n",
              "0    Imam    12  Jln.1             L\n",
              "1   Abrar    34  Jln.2             L\n",
              "2  Muthia     5  Jln.3             P\n",
              "3    Itha    67  Jln.4             P"
            ]
          },
          "metadata": {},
          "execution_count": 43
        }
      ]
    },
    {
      "cell_type": "code",
      "metadata": {
        "id": "09xMmqW0PhJg",
        "colab": {
          "base_uri": "https://localhost:8080/",
          "height": 142
        },
        "outputId": "f732c439-f560-478a-8b29-6c0edbb55b53"
      },
      "source": [
        "df[df['Umur'] >= 12]"
      ],
      "execution_count": 44,
      "outputs": [
        {
          "output_type": "execute_result",
          "data": {
            "text/html": [
              "<div>\n",
              "<style scoped>\n",
              "    .dataframe tbody tr th:only-of-type {\n",
              "        vertical-align: middle;\n",
              "    }\n",
              "\n",
              "    .dataframe tbody tr th {\n",
              "        vertical-align: top;\n",
              "    }\n",
              "\n",
              "    .dataframe thead th {\n",
              "        text-align: right;\n",
              "    }\n",
              "</style>\n",
              "<table border=\"1\" class=\"dataframe\">\n",
              "  <thead>\n",
              "    <tr style=\"text-align: right;\">\n",
              "      <th></th>\n",
              "      <th>Siswa</th>\n",
              "      <th>Umur</th>\n",
              "      <th>Alamat</th>\n",
              "      <th>Jenis Kelamin</th>\n",
              "    </tr>\n",
              "  </thead>\n",
              "  <tbody>\n",
              "    <tr>\n",
              "      <th>0</th>\n",
              "      <td>Imam</td>\n",
              "      <td>12</td>\n",
              "      <td>Jln.1</td>\n",
              "      <td>L</td>\n",
              "    </tr>\n",
              "    <tr>\n",
              "      <th>1</th>\n",
              "      <td>Abrar</td>\n",
              "      <td>34</td>\n",
              "      <td>Jln.2</td>\n",
              "      <td>L</td>\n",
              "    </tr>\n",
              "    <tr>\n",
              "      <th>3</th>\n",
              "      <td>Itha</td>\n",
              "      <td>67</td>\n",
              "      <td>Jln.4</td>\n",
              "      <td>P</td>\n",
              "    </tr>\n",
              "  </tbody>\n",
              "</table>\n",
              "</div>"
            ],
            "text/plain": [
              "   Siswa  Umur Alamat Jenis Kelamin\n",
              "0   Imam    12  Jln.1             L\n",
              "1  Abrar    34  Jln.2             L\n",
              "3   Itha    67  Jln.4             P"
            ]
          },
          "metadata": {},
          "execution_count": 44
        }
      ]
    },
    {
      "cell_type": "code",
      "metadata": {
        "id": "dkjxwJ5WPnRG",
        "colab": {
          "base_uri": "https://localhost:8080/",
          "height": 110
        },
        "outputId": "2444263f-076e-4296-ee3c-c6f0f98aba24"
      },
      "source": [
        "df[(df['Umur'] >= 12) & (df['Jenis Kelamin'] == 'L')]"
      ],
      "execution_count": 45,
      "outputs": [
        {
          "output_type": "execute_result",
          "data": {
            "text/html": [
              "<div>\n",
              "<style scoped>\n",
              "    .dataframe tbody tr th:only-of-type {\n",
              "        vertical-align: middle;\n",
              "    }\n",
              "\n",
              "    .dataframe tbody tr th {\n",
              "        vertical-align: top;\n",
              "    }\n",
              "\n",
              "    .dataframe thead th {\n",
              "        text-align: right;\n",
              "    }\n",
              "</style>\n",
              "<table border=\"1\" class=\"dataframe\">\n",
              "  <thead>\n",
              "    <tr style=\"text-align: right;\">\n",
              "      <th></th>\n",
              "      <th>Siswa</th>\n",
              "      <th>Umur</th>\n",
              "      <th>Alamat</th>\n",
              "      <th>Jenis Kelamin</th>\n",
              "    </tr>\n",
              "  </thead>\n",
              "  <tbody>\n",
              "    <tr>\n",
              "      <th>0</th>\n",
              "      <td>Imam</td>\n",
              "      <td>12</td>\n",
              "      <td>Jln.1</td>\n",
              "      <td>L</td>\n",
              "    </tr>\n",
              "    <tr>\n",
              "      <th>1</th>\n",
              "      <td>Abrar</td>\n",
              "      <td>34</td>\n",
              "      <td>Jln.2</td>\n",
              "      <td>L</td>\n",
              "    </tr>\n",
              "  </tbody>\n",
              "</table>\n",
              "</div>"
            ],
            "text/plain": [
              "   Siswa  Umur Alamat Jenis Kelamin\n",
              "0   Imam    12  Jln.1             L\n",
              "1  Abrar    34  Jln.2             L"
            ]
          },
          "metadata": {},
          "execution_count": 45
        }
      ]
    },
    {
      "cell_type": "markdown",
      "metadata": {
        "id": "Ddg_x9R0CCFN"
      },
      "source": [
        "### df.column"
      ]
    },
    {
      "cell_type": "code",
      "metadata": {
        "id": "f3TQ4kNMCQGc",
        "colab": {
          "base_uri": "https://localhost:8080/",
          "height": 172
        },
        "outputId": "7af4ecfa-8af1-4d4b-cd6a-6a691954f17e"
      },
      "source": [
        "import pandas as pd\n",
        "\n",
        "df = pd.DataFrame({'Calon President': ['Imam', 'Abrar', 'Muthia', 'Itha'],\n",
        "                   'Umur' : [12,34,5,67],\n",
        "                   'Alamat' : ['Jln.1', 'Jln.2', 'Jln.3', 'Jln.4'],\n",
        "                   'Jumlah Voting': [100, 50, 60, 20],\n",
        "                   'Jenis Kelamin':['L', 'L', 'P', 'P'],\n",
        "                   'Negara':['Indonesia', 'Australia', 'Amerika', 'Mesir']})\n",
        "df"
      ],
      "execution_count": 46,
      "outputs": [
        {
          "output_type": "execute_result",
          "data": {
            "text/html": [
              "<div>\n",
              "<style scoped>\n",
              "    .dataframe tbody tr th:only-of-type {\n",
              "        vertical-align: middle;\n",
              "    }\n",
              "\n",
              "    .dataframe tbody tr th {\n",
              "        vertical-align: top;\n",
              "    }\n",
              "\n",
              "    .dataframe thead th {\n",
              "        text-align: right;\n",
              "    }\n",
              "</style>\n",
              "<table border=\"1\" class=\"dataframe\">\n",
              "  <thead>\n",
              "    <tr style=\"text-align: right;\">\n",
              "      <th></th>\n",
              "      <th>Calon President</th>\n",
              "      <th>Umur</th>\n",
              "      <th>Alamat</th>\n",
              "      <th>Jumlah Voting</th>\n",
              "      <th>Jenis Kelamin</th>\n",
              "      <th>Negara</th>\n",
              "    </tr>\n",
              "  </thead>\n",
              "  <tbody>\n",
              "    <tr>\n",
              "      <th>0</th>\n",
              "      <td>Imam</td>\n",
              "      <td>12</td>\n",
              "      <td>Jln.1</td>\n",
              "      <td>100</td>\n",
              "      <td>L</td>\n",
              "      <td>Indonesia</td>\n",
              "    </tr>\n",
              "    <tr>\n",
              "      <th>1</th>\n",
              "      <td>Abrar</td>\n",
              "      <td>34</td>\n",
              "      <td>Jln.2</td>\n",
              "      <td>50</td>\n",
              "      <td>L</td>\n",
              "      <td>Australia</td>\n",
              "    </tr>\n",
              "    <tr>\n",
              "      <th>2</th>\n",
              "      <td>Muthia</td>\n",
              "      <td>5</td>\n",
              "      <td>Jln.3</td>\n",
              "      <td>60</td>\n",
              "      <td>P</td>\n",
              "      <td>Amerika</td>\n",
              "    </tr>\n",
              "    <tr>\n",
              "      <th>3</th>\n",
              "      <td>Itha</td>\n",
              "      <td>67</td>\n",
              "      <td>Jln.4</td>\n",
              "      <td>20</td>\n",
              "      <td>P</td>\n",
              "      <td>Mesir</td>\n",
              "    </tr>\n",
              "  </tbody>\n",
              "</table>\n",
              "</div>"
            ],
            "text/plain": [
              "  Calon President  Umur Alamat  Jumlah Voting Jenis Kelamin     Negara\n",
              "0            Imam    12  Jln.1            100             L  Indonesia\n",
              "1           Abrar    34  Jln.2             50             L  Australia\n",
              "2          Muthia     5  Jln.3             60             P    Amerika\n",
              "3            Itha    67  Jln.4             20             P      Mesir"
            ]
          },
          "metadata": {},
          "execution_count": 46
        }
      ]
    },
    {
      "cell_type": "code",
      "metadata": {
        "id": "YRsD2LvKFQWl",
        "colab": {
          "base_uri": "https://localhost:8080/"
        },
        "outputId": "8a2fdf9c-f752-460b-8760-9e0bbe324178"
      },
      "source": [
        "df.Umur"
      ],
      "execution_count": 47,
      "outputs": [
        {
          "output_type": "execute_result",
          "data": {
            "text/plain": [
              "0    12\n",
              "1    34\n",
              "2     5\n",
              "3    67\n",
              "Name: Umur, dtype: int64"
            ]
          },
          "metadata": {},
          "execution_count": 47
        }
      ]
    },
    {
      "cell_type": "markdown",
      "metadata": {
        "id": "VwKA41LgXlWP"
      },
      "source": [
        "## **Row and Columns Selection**"
      ]
    },
    {
      "cell_type": "markdown",
      "metadata": {
        "id": "cE1ZHmWgB78I"
      },
      "source": [
        "### df.loc[ : , : ] and df.loc[ [ ] , [ ] ] (label)\n",
        "\n",
        "***label*** indexing and slicing\n",
        "\n",
        "*slicing*\n",
        "\n",
        "> df.iloc[idx_row_start:idx_row_end, col_start:col_end]\n",
        "\n",
        "indexing\n",
        "\n",
        "> df.iloc[[row1,row2,row3,row n], [col1, col2, col3, col n]]\n",
        "\n",
        "......................................................................................\n",
        "\n",
        "[DataFrame.loc](https://pandas.pydata.org/pandas-docs/version/0.23.1/generated/pandas.DataFrame.loc.html)\n",
        "\n",
        "Access a group of rows and columns by label(s) or a boolean array.\n",
        "\n",
        ".loc[] is primarily label based, but may also be used with a boolean array.\n",
        "\n",
        "Allowed inputs are:\n",
        "\n",
        "* A single label, e.g. 5 or 'a', (note that 5 is interpreted as a label of the index, and never as an integer position along the index).\n",
        "\n",
        "* A list or array of labels, e.g. ['a', 'b', 'c'].\n",
        "\n",
        "* A slice object with labels, e.g. 'a':'f'.\n",
        "\n",
        "`Warning Note that contrary to usual python slices, both the start and the stop are included`\n",
        "\n",
        "* A boolean array of the same length as the axis being sliced, e.g. [True, False, True].\n",
        "\n",
        "A callable function with one argument (the calling Series, DataFrame or Panel) and that returns valid output for indexing (one of the above)\n",
        "\n"
      ]
    },
    {
      "cell_type": "code",
      "metadata": {
        "id": "4BE_JWoHC8t3",
        "colab": {
          "base_uri": "https://localhost:8080/",
          "height": 172
        },
        "outputId": "0e35ce18-1088-4b5e-bf0e-d45fa614cc5f"
      },
      "source": [
        "import pandas as pd\n",
        "\n",
        "df = pd.DataFrame({'Calon President': ['Imam', 'Abrar', 'Muthia', 'Itha'],\n",
        "                   'Umur' : [12,34,5,67],\n",
        "                   'Alamat' : ['Jln.1', 'Jln.2', 'Jln.3', 'Jln.4'],\n",
        "                   'Jumlah Voting': [100, 50, 60, 20],\n",
        "                   'Jenis Kelamin':['L', 'L', 'P', 'P'],\n",
        "                   'Negara':['Indonesia', 'Australia', 'Amerika', 'Mesir']})\n",
        "df"
      ],
      "execution_count": 48,
      "outputs": [
        {
          "output_type": "execute_result",
          "data": {
            "text/html": [
              "<div>\n",
              "<style scoped>\n",
              "    .dataframe tbody tr th:only-of-type {\n",
              "        vertical-align: middle;\n",
              "    }\n",
              "\n",
              "    .dataframe tbody tr th {\n",
              "        vertical-align: top;\n",
              "    }\n",
              "\n",
              "    .dataframe thead th {\n",
              "        text-align: right;\n",
              "    }\n",
              "</style>\n",
              "<table border=\"1\" class=\"dataframe\">\n",
              "  <thead>\n",
              "    <tr style=\"text-align: right;\">\n",
              "      <th></th>\n",
              "      <th>Calon President</th>\n",
              "      <th>Umur</th>\n",
              "      <th>Alamat</th>\n",
              "      <th>Jumlah Voting</th>\n",
              "      <th>Jenis Kelamin</th>\n",
              "      <th>Negara</th>\n",
              "    </tr>\n",
              "  </thead>\n",
              "  <tbody>\n",
              "    <tr>\n",
              "      <th>0</th>\n",
              "      <td>Imam</td>\n",
              "      <td>12</td>\n",
              "      <td>Jln.1</td>\n",
              "      <td>100</td>\n",
              "      <td>L</td>\n",
              "      <td>Indonesia</td>\n",
              "    </tr>\n",
              "    <tr>\n",
              "      <th>1</th>\n",
              "      <td>Abrar</td>\n",
              "      <td>34</td>\n",
              "      <td>Jln.2</td>\n",
              "      <td>50</td>\n",
              "      <td>L</td>\n",
              "      <td>Australia</td>\n",
              "    </tr>\n",
              "    <tr>\n",
              "      <th>2</th>\n",
              "      <td>Muthia</td>\n",
              "      <td>5</td>\n",
              "      <td>Jln.3</td>\n",
              "      <td>60</td>\n",
              "      <td>P</td>\n",
              "      <td>Amerika</td>\n",
              "    </tr>\n",
              "    <tr>\n",
              "      <th>3</th>\n",
              "      <td>Itha</td>\n",
              "      <td>67</td>\n",
              "      <td>Jln.4</td>\n",
              "      <td>20</td>\n",
              "      <td>P</td>\n",
              "      <td>Mesir</td>\n",
              "    </tr>\n",
              "  </tbody>\n",
              "</table>\n",
              "</div>"
            ],
            "text/plain": [
              "  Calon President  Umur Alamat  Jumlah Voting Jenis Kelamin     Negara\n",
              "0            Imam    12  Jln.1            100             L  Indonesia\n",
              "1           Abrar    34  Jln.2             50             L  Australia\n",
              "2          Muthia     5  Jln.3             60             P    Amerika\n",
              "3            Itha    67  Jln.4             20             P      Mesir"
            ]
          },
          "metadata": {},
          "execution_count": 48
        }
      ]
    },
    {
      "cell_type": "code",
      "metadata": {
        "id": "jmw1W6dGE52J",
        "colab": {
          "base_uri": "https://localhost:8080/",
          "height": 142
        },
        "outputId": "70301ad8-0b94-4fa1-a988-6bf3539e1038"
      },
      "source": [
        "df.loc[0:2, 'Calon President':'Jumlah Voting']"
      ],
      "execution_count": 49,
      "outputs": [
        {
          "output_type": "execute_result",
          "data": {
            "text/html": [
              "<div>\n",
              "<style scoped>\n",
              "    .dataframe tbody tr th:only-of-type {\n",
              "        vertical-align: middle;\n",
              "    }\n",
              "\n",
              "    .dataframe tbody tr th {\n",
              "        vertical-align: top;\n",
              "    }\n",
              "\n",
              "    .dataframe thead th {\n",
              "        text-align: right;\n",
              "    }\n",
              "</style>\n",
              "<table border=\"1\" class=\"dataframe\">\n",
              "  <thead>\n",
              "    <tr style=\"text-align: right;\">\n",
              "      <th></th>\n",
              "      <th>Calon President</th>\n",
              "      <th>Umur</th>\n",
              "      <th>Alamat</th>\n",
              "      <th>Jumlah Voting</th>\n",
              "    </tr>\n",
              "  </thead>\n",
              "  <tbody>\n",
              "    <tr>\n",
              "      <th>0</th>\n",
              "      <td>Imam</td>\n",
              "      <td>12</td>\n",
              "      <td>Jln.1</td>\n",
              "      <td>100</td>\n",
              "    </tr>\n",
              "    <tr>\n",
              "      <th>1</th>\n",
              "      <td>Abrar</td>\n",
              "      <td>34</td>\n",
              "      <td>Jln.2</td>\n",
              "      <td>50</td>\n",
              "    </tr>\n",
              "    <tr>\n",
              "      <th>2</th>\n",
              "      <td>Muthia</td>\n",
              "      <td>5</td>\n",
              "      <td>Jln.3</td>\n",
              "      <td>60</td>\n",
              "    </tr>\n",
              "  </tbody>\n",
              "</table>\n",
              "</div>"
            ],
            "text/plain": [
              "  Calon President  Umur Alamat  Jumlah Voting\n",
              "0            Imam    12  Jln.1            100\n",
              "1           Abrar    34  Jln.2             50\n",
              "2          Muthia     5  Jln.3             60"
            ]
          },
          "metadata": {},
          "execution_count": 49
        }
      ]
    },
    {
      "cell_type": "code",
      "metadata": {
        "id": "tj8agh0ZHHTl",
        "colab": {
          "base_uri": "https://localhost:8080/",
          "height": 110
        },
        "outputId": "37af9f1e-7fca-4fbe-a3e6-249efef7ca03"
      },
      "source": [
        "df.loc[[0,2], ['Calon President', 'Jumlah Voting']]"
      ],
      "execution_count": 50,
      "outputs": [
        {
          "output_type": "execute_result",
          "data": {
            "text/html": [
              "<div>\n",
              "<style scoped>\n",
              "    .dataframe tbody tr th:only-of-type {\n",
              "        vertical-align: middle;\n",
              "    }\n",
              "\n",
              "    .dataframe tbody tr th {\n",
              "        vertical-align: top;\n",
              "    }\n",
              "\n",
              "    .dataframe thead th {\n",
              "        text-align: right;\n",
              "    }\n",
              "</style>\n",
              "<table border=\"1\" class=\"dataframe\">\n",
              "  <thead>\n",
              "    <tr style=\"text-align: right;\">\n",
              "      <th></th>\n",
              "      <th>Calon President</th>\n",
              "      <th>Jumlah Voting</th>\n",
              "    </tr>\n",
              "  </thead>\n",
              "  <tbody>\n",
              "    <tr>\n",
              "      <th>0</th>\n",
              "      <td>Imam</td>\n",
              "      <td>100</td>\n",
              "    </tr>\n",
              "    <tr>\n",
              "      <th>2</th>\n",
              "      <td>Muthia</td>\n",
              "      <td>60</td>\n",
              "    </tr>\n",
              "  </tbody>\n",
              "</table>\n",
              "</div>"
            ],
            "text/plain": [
              "  Calon President  Jumlah Voting\n",
              "0            Imam            100\n",
              "2          Muthia             60"
            ]
          },
          "metadata": {},
          "execution_count": 50
        }
      ]
    },
    {
      "cell_type": "code",
      "metadata": {
        "id": "qPTlg9dFMMO_",
        "colab": {
          "base_uri": "https://localhost:8080/",
          "height": 110
        },
        "outputId": "255aff3b-be35-4065-c41f-f2f8fe5f0c04"
      },
      "source": [
        "df.loc[df['Jenis Kelamin'] == 'L']"
      ],
      "execution_count": 51,
      "outputs": [
        {
          "output_type": "execute_result",
          "data": {
            "text/html": [
              "<div>\n",
              "<style scoped>\n",
              "    .dataframe tbody tr th:only-of-type {\n",
              "        vertical-align: middle;\n",
              "    }\n",
              "\n",
              "    .dataframe tbody tr th {\n",
              "        vertical-align: top;\n",
              "    }\n",
              "\n",
              "    .dataframe thead th {\n",
              "        text-align: right;\n",
              "    }\n",
              "</style>\n",
              "<table border=\"1\" class=\"dataframe\">\n",
              "  <thead>\n",
              "    <tr style=\"text-align: right;\">\n",
              "      <th></th>\n",
              "      <th>Calon President</th>\n",
              "      <th>Umur</th>\n",
              "      <th>Alamat</th>\n",
              "      <th>Jumlah Voting</th>\n",
              "      <th>Jenis Kelamin</th>\n",
              "      <th>Negara</th>\n",
              "    </tr>\n",
              "  </thead>\n",
              "  <tbody>\n",
              "    <tr>\n",
              "      <th>0</th>\n",
              "      <td>Imam</td>\n",
              "      <td>12</td>\n",
              "      <td>Jln.1</td>\n",
              "      <td>100</td>\n",
              "      <td>L</td>\n",
              "      <td>Indonesia</td>\n",
              "    </tr>\n",
              "    <tr>\n",
              "      <th>1</th>\n",
              "      <td>Abrar</td>\n",
              "      <td>34</td>\n",
              "      <td>Jln.2</td>\n",
              "      <td>50</td>\n",
              "      <td>L</td>\n",
              "      <td>Australia</td>\n",
              "    </tr>\n",
              "  </tbody>\n",
              "</table>\n",
              "</div>"
            ],
            "text/plain": [
              "  Calon President  Umur Alamat  Jumlah Voting Jenis Kelamin     Negara\n",
              "0            Imam    12  Jln.1            100             L  Indonesia\n",
              "1           Abrar    34  Jln.2             50             L  Australia"
            ]
          },
          "metadata": {},
          "execution_count": 51
        }
      ]
    },
    {
      "cell_type": "code",
      "metadata": {
        "id": "WX3qPUV0MXFW",
        "colab": {
          "base_uri": "https://localhost:8080/",
          "height": 110
        },
        "outputId": "f359de92-f1a4-4cb0-e9d5-ce7c10cc8265"
      },
      "source": [
        "df.loc[(df['Umur'] >= 12) & (df['Jenis Kelamin'] == 'L')]"
      ],
      "execution_count": 52,
      "outputs": [
        {
          "output_type": "execute_result",
          "data": {
            "text/html": [
              "<div>\n",
              "<style scoped>\n",
              "    .dataframe tbody tr th:only-of-type {\n",
              "        vertical-align: middle;\n",
              "    }\n",
              "\n",
              "    .dataframe tbody tr th {\n",
              "        vertical-align: top;\n",
              "    }\n",
              "\n",
              "    .dataframe thead th {\n",
              "        text-align: right;\n",
              "    }\n",
              "</style>\n",
              "<table border=\"1\" class=\"dataframe\">\n",
              "  <thead>\n",
              "    <tr style=\"text-align: right;\">\n",
              "      <th></th>\n",
              "      <th>Calon President</th>\n",
              "      <th>Umur</th>\n",
              "      <th>Alamat</th>\n",
              "      <th>Jumlah Voting</th>\n",
              "      <th>Jenis Kelamin</th>\n",
              "      <th>Negara</th>\n",
              "    </tr>\n",
              "  </thead>\n",
              "  <tbody>\n",
              "    <tr>\n",
              "      <th>0</th>\n",
              "      <td>Imam</td>\n",
              "      <td>12</td>\n",
              "      <td>Jln.1</td>\n",
              "      <td>100</td>\n",
              "      <td>L</td>\n",
              "      <td>Indonesia</td>\n",
              "    </tr>\n",
              "    <tr>\n",
              "      <th>1</th>\n",
              "      <td>Abrar</td>\n",
              "      <td>34</td>\n",
              "      <td>Jln.2</td>\n",
              "      <td>50</td>\n",
              "      <td>L</td>\n",
              "      <td>Australia</td>\n",
              "    </tr>\n",
              "  </tbody>\n",
              "</table>\n",
              "</div>"
            ],
            "text/plain": [
              "  Calon President  Umur Alamat  Jumlah Voting Jenis Kelamin     Negara\n",
              "0            Imam    12  Jln.1            100             L  Indonesia\n",
              "1           Abrar    34  Jln.2             50             L  Australia"
            ]
          },
          "metadata": {},
          "execution_count": 52
        }
      ]
    },
    {
      "cell_type": "code",
      "metadata": {
        "id": "ZqilXyYaSgmR",
        "colab": {
          "base_uri": "https://localhost:8080/",
          "height": 110
        },
        "outputId": "4c442c4c-5586-4e37-dfe0-1d7396101a8b"
      },
      "source": [
        "lakilaki = df['Jenis Kelamin'] == 'L'\n",
        "umur = df['Umur'] >= 12\n",
        "df.loc[lakilaki & umur]"
      ],
      "execution_count": 53,
      "outputs": [
        {
          "output_type": "execute_result",
          "data": {
            "text/html": [
              "<div>\n",
              "<style scoped>\n",
              "    .dataframe tbody tr th:only-of-type {\n",
              "        vertical-align: middle;\n",
              "    }\n",
              "\n",
              "    .dataframe tbody tr th {\n",
              "        vertical-align: top;\n",
              "    }\n",
              "\n",
              "    .dataframe thead th {\n",
              "        text-align: right;\n",
              "    }\n",
              "</style>\n",
              "<table border=\"1\" class=\"dataframe\">\n",
              "  <thead>\n",
              "    <tr style=\"text-align: right;\">\n",
              "      <th></th>\n",
              "      <th>Calon President</th>\n",
              "      <th>Umur</th>\n",
              "      <th>Alamat</th>\n",
              "      <th>Jumlah Voting</th>\n",
              "      <th>Jenis Kelamin</th>\n",
              "      <th>Negara</th>\n",
              "    </tr>\n",
              "  </thead>\n",
              "  <tbody>\n",
              "    <tr>\n",
              "      <th>0</th>\n",
              "      <td>Imam</td>\n",
              "      <td>12</td>\n",
              "      <td>Jln.1</td>\n",
              "      <td>100</td>\n",
              "      <td>L</td>\n",
              "      <td>Indonesia</td>\n",
              "    </tr>\n",
              "    <tr>\n",
              "      <th>1</th>\n",
              "      <td>Abrar</td>\n",
              "      <td>34</td>\n",
              "      <td>Jln.2</td>\n",
              "      <td>50</td>\n",
              "      <td>L</td>\n",
              "      <td>Australia</td>\n",
              "    </tr>\n",
              "  </tbody>\n",
              "</table>\n",
              "</div>"
            ],
            "text/plain": [
              "  Calon President  Umur Alamat  Jumlah Voting Jenis Kelamin     Negara\n",
              "0            Imam    12  Jln.1            100             L  Indonesia\n",
              "1           Abrar    34  Jln.2             50             L  Australia"
            ]
          },
          "metadata": {},
          "execution_count": 53
        }
      ]
    },
    {
      "cell_type": "code",
      "metadata": {
        "id": "iOCKCACsaUPP",
        "colab": {
          "base_uri": "https://localhost:8080/"
        },
        "outputId": "713d894c-7c54-4a19-b855-302e82227efe"
      },
      "source": [
        "import pandas as pd\n",
        "\n",
        "d = {'one' : pd.Series([1, 2, 3], index=['a', 'b', 'c']), \n",
        "   'two' : pd.Series([1, 2, 3, 4], index=['a', 'b', 'c', 'd'])}\n",
        "\n",
        "data_frame = pd.DataFrame(d)\n",
        "print(data_frame.loc['b'])"
      ],
      "execution_count": 54,
      "outputs": [
        {
          "output_type": "stream",
          "name": "stdout",
          "text": [
            "one    2.0\n",
            "two    2.0\n",
            "Name: b, dtype: float64\n"
          ]
        }
      ]
    },
    {
      "cell_type": "markdown",
      "metadata": {
        "id": "8q1_9AwR4HAD"
      },
      "source": [
        "### df.iloc[ : , : ] and df.iloc[ [ ] , [ ] ] (integer)\n",
        "\n",
        "***numeric*** indexing and slicing\n",
        "\n",
        "*slicing*\n",
        "\n",
        "> df.iloc[idx_row_start:idx_row_end, col_start:col_end]\n",
        "\n",
        "indexing\n",
        "\n",
        "> df.iloc[[row1,row2,row3,row n], [col1, col2, col3, col n]]"
      ]
    },
    {
      "cell_type": "code",
      "metadata": {
        "id": "0w-g68nQ1837",
        "colab": {
          "base_uri": "https://localhost:8080/",
          "height": 110
        },
        "outputId": "a4d918df-524f-495c-f420-2e879d827308"
      },
      "source": [
        "df.iloc[0:2, :]"
      ],
      "execution_count": 55,
      "outputs": [
        {
          "output_type": "execute_result",
          "data": {
            "text/html": [
              "<div>\n",
              "<style scoped>\n",
              "    .dataframe tbody tr th:only-of-type {\n",
              "        vertical-align: middle;\n",
              "    }\n",
              "\n",
              "    .dataframe tbody tr th {\n",
              "        vertical-align: top;\n",
              "    }\n",
              "\n",
              "    .dataframe thead th {\n",
              "        text-align: right;\n",
              "    }\n",
              "</style>\n",
              "<table border=\"1\" class=\"dataframe\">\n",
              "  <thead>\n",
              "    <tr style=\"text-align: right;\">\n",
              "      <th></th>\n",
              "      <th>Calon President</th>\n",
              "      <th>Umur</th>\n",
              "      <th>Alamat</th>\n",
              "      <th>Jumlah Voting</th>\n",
              "      <th>Jenis Kelamin</th>\n",
              "      <th>Negara</th>\n",
              "    </tr>\n",
              "  </thead>\n",
              "  <tbody>\n",
              "    <tr>\n",
              "      <th>0</th>\n",
              "      <td>Imam</td>\n",
              "      <td>12</td>\n",
              "      <td>Jln.1</td>\n",
              "      <td>100</td>\n",
              "      <td>L</td>\n",
              "      <td>Indonesia</td>\n",
              "    </tr>\n",
              "    <tr>\n",
              "      <th>1</th>\n",
              "      <td>Abrar</td>\n",
              "      <td>34</td>\n",
              "      <td>Jln.2</td>\n",
              "      <td>50</td>\n",
              "      <td>L</td>\n",
              "      <td>Australia</td>\n",
              "    </tr>\n",
              "  </tbody>\n",
              "</table>\n",
              "</div>"
            ],
            "text/plain": [
              "  Calon President  Umur Alamat  Jumlah Voting Jenis Kelamin     Negara\n",
              "0            Imam    12  Jln.1            100             L  Indonesia\n",
              "1           Abrar    34  Jln.2             50             L  Australia"
            ]
          },
          "metadata": {},
          "execution_count": 55
        }
      ]
    },
    {
      "cell_type": "code",
      "metadata": {
        "id": "XHpeoxsM2V-_",
        "colab": {
          "base_uri": "https://localhost:8080/",
          "height": 110
        },
        "outputId": "80221f3c-d7a2-4e91-8103-6d07bc7f4574"
      },
      "source": [
        "df.iloc[0:2,0:2]"
      ],
      "execution_count": 56,
      "outputs": [
        {
          "output_type": "execute_result",
          "data": {
            "text/html": [
              "<div>\n",
              "<style scoped>\n",
              "    .dataframe tbody tr th:only-of-type {\n",
              "        vertical-align: middle;\n",
              "    }\n",
              "\n",
              "    .dataframe tbody tr th {\n",
              "        vertical-align: top;\n",
              "    }\n",
              "\n",
              "    .dataframe thead th {\n",
              "        text-align: right;\n",
              "    }\n",
              "</style>\n",
              "<table border=\"1\" class=\"dataframe\">\n",
              "  <thead>\n",
              "    <tr style=\"text-align: right;\">\n",
              "      <th></th>\n",
              "      <th>Calon President</th>\n",
              "      <th>Umur</th>\n",
              "    </tr>\n",
              "  </thead>\n",
              "  <tbody>\n",
              "    <tr>\n",
              "      <th>0</th>\n",
              "      <td>Imam</td>\n",
              "      <td>12</td>\n",
              "    </tr>\n",
              "    <tr>\n",
              "      <th>1</th>\n",
              "      <td>Abrar</td>\n",
              "      <td>34</td>\n",
              "    </tr>\n",
              "  </tbody>\n",
              "</table>\n",
              "</div>"
            ],
            "text/plain": [
              "  Calon President  Umur\n",
              "0            Imam    12\n",
              "1           Abrar    34"
            ]
          },
          "metadata": {},
          "execution_count": 56
        }
      ]
    },
    {
      "cell_type": "code",
      "metadata": {
        "id": "4BHVL0xkN5-T",
        "colab": {
          "base_uri": "https://localhost:8080/",
          "height": 80
        },
        "outputId": "f39d271b-f3e4-40ed-91a8-ed0cbf6482ae"
      },
      "source": [
        "df.iloc[[3],:]"
      ],
      "execution_count": 57,
      "outputs": [
        {
          "output_type": "execute_result",
          "data": {
            "text/html": [
              "<div>\n",
              "<style scoped>\n",
              "    .dataframe tbody tr th:only-of-type {\n",
              "        vertical-align: middle;\n",
              "    }\n",
              "\n",
              "    .dataframe tbody tr th {\n",
              "        vertical-align: top;\n",
              "    }\n",
              "\n",
              "    .dataframe thead th {\n",
              "        text-align: right;\n",
              "    }\n",
              "</style>\n",
              "<table border=\"1\" class=\"dataframe\">\n",
              "  <thead>\n",
              "    <tr style=\"text-align: right;\">\n",
              "      <th></th>\n",
              "      <th>Calon President</th>\n",
              "      <th>Umur</th>\n",
              "      <th>Alamat</th>\n",
              "      <th>Jumlah Voting</th>\n",
              "      <th>Jenis Kelamin</th>\n",
              "      <th>Negara</th>\n",
              "    </tr>\n",
              "  </thead>\n",
              "  <tbody>\n",
              "    <tr>\n",
              "      <th>3</th>\n",
              "      <td>Itha</td>\n",
              "      <td>67</td>\n",
              "      <td>Jln.4</td>\n",
              "      <td>20</td>\n",
              "      <td>P</td>\n",
              "      <td>Mesir</td>\n",
              "    </tr>\n",
              "  </tbody>\n",
              "</table>\n",
              "</div>"
            ],
            "text/plain": [
              "  Calon President  Umur Alamat  Jumlah Voting Jenis Kelamin Negara\n",
              "3            Itha    67  Jln.4             20             P  Mesir"
            ]
          },
          "metadata": {},
          "execution_count": 57
        }
      ]
    },
    {
      "cell_type": "code",
      "metadata": {
        "id": "VUmorO4y2cbC",
        "colab": {
          "base_uri": "https://localhost:8080/",
          "height": 142
        },
        "outputId": "1d2360a1-b314-48b3-e696-7e30166e2862"
      },
      "source": [
        "# df.iloc[0:2,['Umur', 'Alamat']] .iloc requires numeric indexers, got ['Umur' 'Alamat']\n",
        "df.iloc[[0,2,3], [1,2]]"
      ],
      "execution_count": 58,
      "outputs": [
        {
          "output_type": "execute_result",
          "data": {
            "text/html": [
              "<div>\n",
              "<style scoped>\n",
              "    .dataframe tbody tr th:only-of-type {\n",
              "        vertical-align: middle;\n",
              "    }\n",
              "\n",
              "    .dataframe tbody tr th {\n",
              "        vertical-align: top;\n",
              "    }\n",
              "\n",
              "    .dataframe thead th {\n",
              "        text-align: right;\n",
              "    }\n",
              "</style>\n",
              "<table border=\"1\" class=\"dataframe\">\n",
              "  <thead>\n",
              "    <tr style=\"text-align: right;\">\n",
              "      <th></th>\n",
              "      <th>Umur</th>\n",
              "      <th>Alamat</th>\n",
              "    </tr>\n",
              "  </thead>\n",
              "  <tbody>\n",
              "    <tr>\n",
              "      <th>0</th>\n",
              "      <td>12</td>\n",
              "      <td>Jln.1</td>\n",
              "    </tr>\n",
              "    <tr>\n",
              "      <th>2</th>\n",
              "      <td>5</td>\n",
              "      <td>Jln.3</td>\n",
              "    </tr>\n",
              "    <tr>\n",
              "      <th>3</th>\n",
              "      <td>67</td>\n",
              "      <td>Jln.4</td>\n",
              "    </tr>\n",
              "  </tbody>\n",
              "</table>\n",
              "</div>"
            ],
            "text/plain": [
              "   Umur Alamat\n",
              "0    12  Jln.1\n",
              "2     5  Jln.3\n",
              "3    67  Jln.4"
            ]
          },
          "metadata": {},
          "execution_count": 58
        }
      ]
    },
    {
      "cell_type": "code",
      "metadata": {
        "id": "kFfgj2UZax5N",
        "colab": {
          "base_uri": "https://localhost:8080/"
        },
        "outputId": "266fad0a-66e8-45fb-d5d7-23fdda31724b"
      },
      "source": [
        "import pandas as pd\n",
        "\n",
        "d = {'one' : pd.Series([1, 2, 3], index=['a', 'b', 'c']),\n",
        "   'two' : pd.Series([1, 2, 3, 4], index=['a', 'b', 'c', 'd'])}\n",
        "\n",
        "df = pd.DataFrame(d)\n",
        "print(df.iloc[2])"
      ],
      "execution_count": 59,
      "outputs": [
        {
          "output_type": "stream",
          "name": "stdout",
          "text": [
            "one    3.0\n",
            "two    3.0\n",
            "Name: c, dtype: float64\n"
          ]
        }
      ]
    },
    {
      "cell_type": "markdown",
      "metadata": {
        "id": "EBkYPy70W-_L"
      },
      "source": [
        "## Task\n",
        "\n",
        "cobalah suatu metode dari pandas untuk mengetahui beberapa data pertama dan beberapa data terakhir. kemudian sebutkan nilai dari:\n",
        "- baris pertama dari column price\n",
        "- baris terakhir dari column color"
      ]
    },
    {
      "cell_type": "code",
      "metadata": {
        "id": "uhgsynyLrv6r"
      },
      "source": [
        "# from google.colab import drive\n",
        "# drive.mount('/content/drive/')"
      ],
      "execution_count": 60,
      "outputs": []
    },
    {
      "cell_type": "code",
      "metadata": {
        "id": "tCEWAilgE-vg"
      },
      "source": [
        "# '/content/drive/My Drive/Colab Notebooks/Wooky Pandas/diamonds-1.csv'\n",
        "# Membaca data dan memasukannya kedalam suatu variabel\n",
        "# url = 'https://blog.sanbercode.com/wp-content/uploads/2020/04/diamonds-1.csv'\n",
        "# df_from_csv = pd.read_csv(\"diamonds-1.csv\")\n",
        "\n",
        "# import pandas as pd\n",
        "# df_from_csv = pd.read_csv('https://drive.google.com/uc?id=13jtHSMJIa8gzYncyus2o2uTm-H_LFN0B')\n",
        "# df_from_csv"
      ],
      "execution_count": 61,
      "outputs": []
    },
    {
      "cell_type": "code",
      "metadata": {
        "id": "qA-X0z8CXjeT",
        "colab": {
          "base_uri": "https://localhost:8080/",
          "height": 470
        },
        "outputId": "34a1b60e-65bb-447d-b854-d014a6dd8075"
      },
      "source": [
        "# diamonds-1.csv\n",
        "import pandas as pd\n",
        "df_from_csv = pd.read_csv('https://raw.githubusercontent.com/nurimammasri/Wooky-Pandas/master/Data/diamonds-1.csv')\n",
        "df_from_csv"
      ],
      "execution_count": 64,
      "outputs": [
        {
          "output_type": "execute_result",
          "data": {
            "text/html": [
              "<div>\n",
              "<style scoped>\n",
              "    .dataframe tbody tr th:only-of-type {\n",
              "        vertical-align: middle;\n",
              "    }\n",
              "\n",
              "    .dataframe tbody tr th {\n",
              "        vertical-align: top;\n",
              "    }\n",
              "\n",
              "    .dataframe thead th {\n",
              "        text-align: right;\n",
              "    }\n",
              "</style>\n",
              "<table border=\"1\" class=\"dataframe\">\n",
              "  <thead>\n",
              "    <tr style=\"text-align: right;\">\n",
              "      <th></th>\n",
              "      <th>Unnamed: 0</th>\n",
              "      <th>carat</th>\n",
              "      <th>cut</th>\n",
              "      <th>color</th>\n",
              "      <th>clarity</th>\n",
              "      <th>depth</th>\n",
              "      <th>table</th>\n",
              "      <th>price</th>\n",
              "      <th>x</th>\n",
              "      <th>y</th>\n",
              "      <th>z</th>\n",
              "    </tr>\n",
              "  </thead>\n",
              "  <tbody>\n",
              "    <tr>\n",
              "      <th>0</th>\n",
              "      <td>1</td>\n",
              "      <td>0.23</td>\n",
              "      <td>Ideal</td>\n",
              "      <td>E</td>\n",
              "      <td>SI2</td>\n",
              "      <td>61.5</td>\n",
              "      <td>55.0</td>\n",
              "      <td>326</td>\n",
              "      <td>3.95</td>\n",
              "      <td>3.98</td>\n",
              "      <td>2.43</td>\n",
              "    </tr>\n",
              "    <tr>\n",
              "      <th>1</th>\n",
              "      <td>2</td>\n",
              "      <td>0.21</td>\n",
              "      <td>Premium</td>\n",
              "      <td>E</td>\n",
              "      <td>SI1</td>\n",
              "      <td>59.8</td>\n",
              "      <td>61.0</td>\n",
              "      <td>326</td>\n",
              "      <td>3.89</td>\n",
              "      <td>3.84</td>\n",
              "      <td>2.31</td>\n",
              "    </tr>\n",
              "    <tr>\n",
              "      <th>2</th>\n",
              "      <td>3</td>\n",
              "      <td>0.23</td>\n",
              "      <td>Good</td>\n",
              "      <td>E</td>\n",
              "      <td>VS1</td>\n",
              "      <td>56.9</td>\n",
              "      <td>65.0</td>\n",
              "      <td>327</td>\n",
              "      <td>4.05</td>\n",
              "      <td>4.07</td>\n",
              "      <td>2.31</td>\n",
              "    </tr>\n",
              "    <tr>\n",
              "      <th>3</th>\n",
              "      <td>4</td>\n",
              "      <td>0.29</td>\n",
              "      <td>Premium</td>\n",
              "      <td>I</td>\n",
              "      <td>VS2</td>\n",
              "      <td>62.4</td>\n",
              "      <td>58.0</td>\n",
              "      <td>334</td>\n",
              "      <td>4.20</td>\n",
              "      <td>4.23</td>\n",
              "      <td>2.63</td>\n",
              "    </tr>\n",
              "    <tr>\n",
              "      <th>4</th>\n",
              "      <td>5</td>\n",
              "      <td>0.31</td>\n",
              "      <td>Good</td>\n",
              "      <td>J</td>\n",
              "      <td>SI2</td>\n",
              "      <td>63.3</td>\n",
              "      <td>58.0</td>\n",
              "      <td>335</td>\n",
              "      <td>4.34</td>\n",
              "      <td>4.35</td>\n",
              "      <td>2.75</td>\n",
              "    </tr>\n",
              "    <tr>\n",
              "      <th>...</th>\n",
              "      <td>...</td>\n",
              "      <td>...</td>\n",
              "      <td>...</td>\n",
              "      <td>...</td>\n",
              "      <td>...</td>\n",
              "      <td>...</td>\n",
              "      <td>...</td>\n",
              "      <td>...</td>\n",
              "      <td>...</td>\n",
              "      <td>...</td>\n",
              "      <td>...</td>\n",
              "    </tr>\n",
              "    <tr>\n",
              "      <th>53935</th>\n",
              "      <td>53936</td>\n",
              "      <td>0.72</td>\n",
              "      <td>Ideal</td>\n",
              "      <td>D</td>\n",
              "      <td>SI1</td>\n",
              "      <td>60.8</td>\n",
              "      <td>57.0</td>\n",
              "      <td>2757</td>\n",
              "      <td>5.75</td>\n",
              "      <td>5.76</td>\n",
              "      <td>3.50</td>\n",
              "    </tr>\n",
              "    <tr>\n",
              "      <th>53936</th>\n",
              "      <td>53937</td>\n",
              "      <td>0.72</td>\n",
              "      <td>Good</td>\n",
              "      <td>D</td>\n",
              "      <td>SI1</td>\n",
              "      <td>63.1</td>\n",
              "      <td>55.0</td>\n",
              "      <td>2757</td>\n",
              "      <td>5.69</td>\n",
              "      <td>5.75</td>\n",
              "      <td>3.61</td>\n",
              "    </tr>\n",
              "    <tr>\n",
              "      <th>53937</th>\n",
              "      <td>53938</td>\n",
              "      <td>0.70</td>\n",
              "      <td>Very Good</td>\n",
              "      <td>D</td>\n",
              "      <td>SI1</td>\n",
              "      <td>62.8</td>\n",
              "      <td>60.0</td>\n",
              "      <td>2757</td>\n",
              "      <td>5.66</td>\n",
              "      <td>5.68</td>\n",
              "      <td>3.56</td>\n",
              "    </tr>\n",
              "    <tr>\n",
              "      <th>53938</th>\n",
              "      <td>53939</td>\n",
              "      <td>0.86</td>\n",
              "      <td>Premium</td>\n",
              "      <td>H</td>\n",
              "      <td>SI2</td>\n",
              "      <td>61.0</td>\n",
              "      <td>58.0</td>\n",
              "      <td>2757</td>\n",
              "      <td>6.15</td>\n",
              "      <td>6.12</td>\n",
              "      <td>3.74</td>\n",
              "    </tr>\n",
              "    <tr>\n",
              "      <th>53939</th>\n",
              "      <td>53940</td>\n",
              "      <td>0.75</td>\n",
              "      <td>Ideal</td>\n",
              "      <td>D</td>\n",
              "      <td>SI2</td>\n",
              "      <td>62.2</td>\n",
              "      <td>55.0</td>\n",
              "      <td>2757</td>\n",
              "      <td>5.83</td>\n",
              "      <td>5.87</td>\n",
              "      <td>3.64</td>\n",
              "    </tr>\n",
              "  </tbody>\n",
              "</table>\n",
              "<p>53940 rows × 11 columns</p>\n",
              "</div>"
            ],
            "text/plain": [
              "       Unnamed: 0  carat        cut color  ... price     x     y     z\n",
              "0               1   0.23      Ideal     E  ...   326  3.95  3.98  2.43\n",
              "1               2   0.21    Premium     E  ...   326  3.89  3.84  2.31\n",
              "2               3   0.23       Good     E  ...   327  4.05  4.07  2.31\n",
              "3               4   0.29    Premium     I  ...   334  4.20  4.23  2.63\n",
              "4               5   0.31       Good     J  ...   335  4.34  4.35  2.75\n",
              "...           ...    ...        ...   ...  ...   ...   ...   ...   ...\n",
              "53935       53936   0.72      Ideal     D  ...  2757  5.75  5.76  3.50\n",
              "53936       53937   0.72       Good     D  ...  2757  5.69  5.75  3.61\n",
              "53937       53938   0.70  Very Good     D  ...  2757  5.66  5.68  3.56\n",
              "53938       53939   0.86    Premium     H  ...  2757  6.15  6.12  3.74\n",
              "53939       53940   0.75      Ideal     D  ...  2757  5.83  5.87  3.64\n",
              "\n",
              "[53940 rows x 11 columns]"
            ]
          },
          "metadata": {},
          "execution_count": 64
        }
      ]
    },
    {
      "cell_type": "code",
      "metadata": {
        "id": "fVEcBNdbXIqc",
        "colab": {
          "base_uri": "https://localhost:8080/"
        },
        "outputId": "a13fc944-8bac-4dc3-8987-6cbd2d973262"
      },
      "source": [
        "# code here\n",
        "# Dengan index\n",
        "df_from_csv['price'][[0]]\n",
        "# Dengan method loc\n",
        "df_from_csv.loc[0, ['price']]\n",
        "# Dengan method iloc\n",
        "df_from_csv['price'].iloc[[0]]\n",
        "# Dengan method head\n",
        "df_from_csv['price'].head(1)"
      ],
      "execution_count": 65,
      "outputs": [
        {
          "output_type": "execute_result",
          "data": {
            "text/plain": [
              "0    326\n",
              "Name: price, dtype: int64"
            ]
          },
          "metadata": {},
          "execution_count": 65
        }
      ]
    },
    {
      "cell_type": "code",
      "metadata": {
        "id": "PbqGtnJuXLl4",
        "colab": {
          "base_uri": "https://localhost:8080/"
        },
        "outputId": "edf89aab-6eb9-4927-cb11-0185495a497a"
      },
      "source": [
        "# Dengan index\n",
        "df_from_csv['color'][[len(df_from_csv)-1]]\n",
        "# Dengan method tail()\n",
        "df_from_csv['color'].tail(1)"
      ],
      "execution_count": 66,
      "outputs": [
        {
          "output_type": "execute_result",
          "data": {
            "text/plain": [
              "53939    D\n",
              "Name: color, dtype: object"
            ]
          },
          "metadata": {},
          "execution_count": 66
        }
      ]
    },
    {
      "cell_type": "markdown",
      "metadata": {
        "id": "2_A8aeJp6p4d"
      },
      "source": [
        "## **Multiple Index in Pandas**"
      ]
    },
    {
      "cell_type": "code",
      "metadata": {
        "id": "KwxElH11_tLu",
        "colab": {
          "base_uri": "https://localhost:8080/",
          "height": 203
        },
        "outputId": "d2d0ede3-dddd-4f6f-c729-19866a09b6aa"
      },
      "source": [
        "arrays = [['Falcon', 'Falcon', 'Parrot', 'Parrot'],\n",
        "          ['Captive', 'Wild', 'Captive', 'Wild']]\n",
        "index = pd.MultiIndex.from_arrays(arrays, names=('Animal', 'Type'))\n",
        "df = pd.DataFrame({'Max Speed': [390., 350., 30., 20.]}, index=index)\n",
        "df"
      ],
      "execution_count": 67,
      "outputs": [
        {
          "output_type": "execute_result",
          "data": {
            "text/html": [
              "<div>\n",
              "<style scoped>\n",
              "    .dataframe tbody tr th:only-of-type {\n",
              "        vertical-align: middle;\n",
              "    }\n",
              "\n",
              "    .dataframe tbody tr th {\n",
              "        vertical-align: top;\n",
              "    }\n",
              "\n",
              "    .dataframe thead th {\n",
              "        text-align: right;\n",
              "    }\n",
              "</style>\n",
              "<table border=\"1\" class=\"dataframe\">\n",
              "  <thead>\n",
              "    <tr style=\"text-align: right;\">\n",
              "      <th></th>\n",
              "      <th></th>\n",
              "      <th>Max Speed</th>\n",
              "    </tr>\n",
              "    <tr>\n",
              "      <th>Animal</th>\n",
              "      <th>Type</th>\n",
              "      <th></th>\n",
              "    </tr>\n",
              "  </thead>\n",
              "  <tbody>\n",
              "    <tr>\n",
              "      <th rowspan=\"2\" valign=\"top\">Falcon</th>\n",
              "      <th>Captive</th>\n",
              "      <td>390.0</td>\n",
              "    </tr>\n",
              "    <tr>\n",
              "      <th>Wild</th>\n",
              "      <td>350.0</td>\n",
              "    </tr>\n",
              "    <tr>\n",
              "      <th rowspan=\"2\" valign=\"top\">Parrot</th>\n",
              "      <th>Captive</th>\n",
              "      <td>30.0</td>\n",
              "    </tr>\n",
              "    <tr>\n",
              "      <th>Wild</th>\n",
              "      <td>20.0</td>\n",
              "    </tr>\n",
              "  </tbody>\n",
              "</table>\n",
              "</div>"
            ],
            "text/plain": [
              "                Max Speed\n",
              "Animal Type              \n",
              "Falcon Captive      390.0\n",
              "       Wild         350.0\n",
              "Parrot Captive       30.0\n",
              "       Wild          20.0"
            ]
          },
          "metadata": {},
          "execution_count": 67
        }
      ]
    },
    {
      "cell_type": "code",
      "metadata": {
        "id": "kdXWxnps6wek",
        "colab": {
          "base_uri": "https://localhost:8080/",
          "height": 326
        },
        "outputId": "ab0f13ed-7ce7-4096-b45c-61e81e6c6632"
      },
      "source": [
        "import pandas as pd\n",
        "stocks = pd.read_csv('http://bit.ly/smallstocks')\n",
        "stocks"
      ],
      "execution_count": 68,
      "outputs": [
        {
          "output_type": "execute_result",
          "data": {
            "text/html": [
              "<div>\n",
              "<style scoped>\n",
              "    .dataframe tbody tr th:only-of-type {\n",
              "        vertical-align: middle;\n",
              "    }\n",
              "\n",
              "    .dataframe tbody tr th {\n",
              "        vertical-align: top;\n",
              "    }\n",
              "\n",
              "    .dataframe thead th {\n",
              "        text-align: right;\n",
              "    }\n",
              "</style>\n",
              "<table border=\"1\" class=\"dataframe\">\n",
              "  <thead>\n",
              "    <tr style=\"text-align: right;\">\n",
              "      <th></th>\n",
              "      <th>Date</th>\n",
              "      <th>Close</th>\n",
              "      <th>Volume</th>\n",
              "      <th>Symbol</th>\n",
              "    </tr>\n",
              "  </thead>\n",
              "  <tbody>\n",
              "    <tr>\n",
              "      <th>0</th>\n",
              "      <td>2016-10-03</td>\n",
              "      <td>31.50</td>\n",
              "      <td>14070500</td>\n",
              "      <td>CSCO</td>\n",
              "    </tr>\n",
              "    <tr>\n",
              "      <th>1</th>\n",
              "      <td>2016-10-03</td>\n",
              "      <td>112.52</td>\n",
              "      <td>21701800</td>\n",
              "      <td>AAPL</td>\n",
              "    </tr>\n",
              "    <tr>\n",
              "      <th>2</th>\n",
              "      <td>2016-10-03</td>\n",
              "      <td>57.42</td>\n",
              "      <td>19189500</td>\n",
              "      <td>MSFT</td>\n",
              "    </tr>\n",
              "    <tr>\n",
              "      <th>3</th>\n",
              "      <td>2016-10-04</td>\n",
              "      <td>113.00</td>\n",
              "      <td>29736800</td>\n",
              "      <td>AAPL</td>\n",
              "    </tr>\n",
              "    <tr>\n",
              "      <th>4</th>\n",
              "      <td>2016-10-04</td>\n",
              "      <td>57.24</td>\n",
              "      <td>20085900</td>\n",
              "      <td>MSFT</td>\n",
              "    </tr>\n",
              "    <tr>\n",
              "      <th>5</th>\n",
              "      <td>2016-10-04</td>\n",
              "      <td>31.35</td>\n",
              "      <td>18460400</td>\n",
              "      <td>CSCO</td>\n",
              "    </tr>\n",
              "    <tr>\n",
              "      <th>6</th>\n",
              "      <td>2016-10-05</td>\n",
              "      <td>57.64</td>\n",
              "      <td>16726400</td>\n",
              "      <td>MSFT</td>\n",
              "    </tr>\n",
              "    <tr>\n",
              "      <th>7</th>\n",
              "      <td>2016-10-05</td>\n",
              "      <td>31.59</td>\n",
              "      <td>11808600</td>\n",
              "      <td>CSCO</td>\n",
              "    </tr>\n",
              "    <tr>\n",
              "      <th>8</th>\n",
              "      <td>2016-10-05</td>\n",
              "      <td>113.05</td>\n",
              "      <td>21453100</td>\n",
              "      <td>AAPL</td>\n",
              "    </tr>\n",
              "  </tbody>\n",
              "</table>\n",
              "</div>"
            ],
            "text/plain": [
              "         Date   Close    Volume Symbol\n",
              "0  2016-10-03   31.50  14070500   CSCO\n",
              "1  2016-10-03  112.52  21701800   AAPL\n",
              "2  2016-10-03   57.42  19189500   MSFT\n",
              "3  2016-10-04  113.00  29736800   AAPL\n",
              "4  2016-10-04   57.24  20085900   MSFT\n",
              "5  2016-10-04   31.35  18460400   CSCO\n",
              "6  2016-10-05   57.64  16726400   MSFT\n",
              "7  2016-10-05   31.59  11808600   CSCO\n",
              "8  2016-10-05  113.05  21453100   AAPL"
            ]
          },
          "metadata": {},
          "execution_count": 68
        }
      ]
    },
    {
      "cell_type": "code",
      "metadata": {
        "id": "5QUmPsr97Oi_",
        "colab": {
          "base_uri": "https://localhost:8080/"
        },
        "outputId": "43bd22b1-cb17-47ad-e6cf-6fb18591c700"
      },
      "source": [
        "stocks.index #regular index"
      ],
      "execution_count": 69,
      "outputs": [
        {
          "output_type": "execute_result",
          "data": {
            "text/plain": [
              "RangeIndex(start=0, stop=9, step=1)"
            ]
          },
          "metadata": {},
          "execution_count": 69
        }
      ]
    },
    {
      "cell_type": "code",
      "metadata": {
        "id": "oatWa9Sr7SV3",
        "colab": {
          "base_uri": "https://localhost:8080/"
        },
        "outputId": "7f153b89-77ac-4e2d-9aba-9737e60555ca"
      },
      "source": [
        "stocks.groupby('Symbol').Close.mean()"
      ],
      "execution_count": 70,
      "outputs": [
        {
          "output_type": "execute_result",
          "data": {
            "text/plain": [
              "Symbol\n",
              "AAPL    112.856667\n",
              "CSCO     31.480000\n",
              "MSFT     57.433333\n",
              "Name: Close, dtype: float64"
            ]
          },
          "metadata": {},
          "execution_count": 70
        }
      ]
    },
    {
      "cell_type": "code",
      "metadata": {
        "id": "clplfkwU7uCV",
        "colab": {
          "base_uri": "https://localhost:8080/"
        },
        "outputId": "41185347-4b1e-4746-c182-81e10b244a8b"
      },
      "source": [
        "stocks.groupby(['Symbol', 'Date']).Close.mean()"
      ],
      "execution_count": 71,
      "outputs": [
        {
          "output_type": "execute_result",
          "data": {
            "text/plain": [
              "Symbol  Date      \n",
              "AAPL    2016-10-03    112.52\n",
              "        2016-10-04    113.00\n",
              "        2016-10-05    113.05\n",
              "CSCO    2016-10-03     31.50\n",
              "        2016-10-04     31.35\n",
              "        2016-10-05     31.59\n",
              "MSFT    2016-10-03     57.42\n",
              "        2016-10-04     57.24\n",
              "        2016-10-05     57.64\n",
              "Name: Close, dtype: float64"
            ]
          },
          "metadata": {},
          "execution_count": 71
        }
      ]
    },
    {
      "cell_type": "code",
      "metadata": {
        "id": "naorA3vT8jJP",
        "colab": {
          "base_uri": "https://localhost:8080/",
          "height": 234
        },
        "outputId": "f43e7086-2fa3-4742-ddce-6f4bb5cce976"
      },
      "source": [
        "import pandas as pd\n",
        "raw_data = {'city':['Tripoli', 'Tripoli', 'Rome', 'Rome', 'Sydney', 'Sydney'],\n",
        "            'rank':['1st', '2nd', '1st', '2nd', '1st', '2nd'],\n",
        "            'name':['Noureddin', 'Adam', 'Kevin', 'Raihana', 'Raghas', 'Mahdi'],\n",
        "            'score1':[44, 48, 39, 41, 38, 44],\n",
        "            'score2':[67, 63, 55, 70, 64, 77]}\n",
        "df = pd.DataFrame(raw_data, columns = ['city', 'rank', 'name', 'score1', 'score2'])\n",
        "df"
      ],
      "execution_count": 72,
      "outputs": [
        {
          "output_type": "execute_result",
          "data": {
            "text/html": [
              "<div>\n",
              "<style scoped>\n",
              "    .dataframe tbody tr th:only-of-type {\n",
              "        vertical-align: middle;\n",
              "    }\n",
              "\n",
              "    .dataframe tbody tr th {\n",
              "        vertical-align: top;\n",
              "    }\n",
              "\n",
              "    .dataframe thead th {\n",
              "        text-align: right;\n",
              "    }\n",
              "</style>\n",
              "<table border=\"1\" class=\"dataframe\">\n",
              "  <thead>\n",
              "    <tr style=\"text-align: right;\">\n",
              "      <th></th>\n",
              "      <th>city</th>\n",
              "      <th>rank</th>\n",
              "      <th>name</th>\n",
              "      <th>score1</th>\n",
              "      <th>score2</th>\n",
              "    </tr>\n",
              "  </thead>\n",
              "  <tbody>\n",
              "    <tr>\n",
              "      <th>0</th>\n",
              "      <td>Tripoli</td>\n",
              "      <td>1st</td>\n",
              "      <td>Noureddin</td>\n",
              "      <td>44</td>\n",
              "      <td>67</td>\n",
              "    </tr>\n",
              "    <tr>\n",
              "      <th>1</th>\n",
              "      <td>Tripoli</td>\n",
              "      <td>2nd</td>\n",
              "      <td>Adam</td>\n",
              "      <td>48</td>\n",
              "      <td>63</td>\n",
              "    </tr>\n",
              "    <tr>\n",
              "      <th>2</th>\n",
              "      <td>Rome</td>\n",
              "      <td>1st</td>\n",
              "      <td>Kevin</td>\n",
              "      <td>39</td>\n",
              "      <td>55</td>\n",
              "    </tr>\n",
              "    <tr>\n",
              "      <th>3</th>\n",
              "      <td>Rome</td>\n",
              "      <td>2nd</td>\n",
              "      <td>Raihana</td>\n",
              "      <td>41</td>\n",
              "      <td>70</td>\n",
              "    </tr>\n",
              "    <tr>\n",
              "      <th>4</th>\n",
              "      <td>Sydney</td>\n",
              "      <td>1st</td>\n",
              "      <td>Raghas</td>\n",
              "      <td>38</td>\n",
              "      <td>64</td>\n",
              "    </tr>\n",
              "    <tr>\n",
              "      <th>5</th>\n",
              "      <td>Sydney</td>\n",
              "      <td>2nd</td>\n",
              "      <td>Mahdi</td>\n",
              "      <td>44</td>\n",
              "      <td>77</td>\n",
              "    </tr>\n",
              "  </tbody>\n",
              "</table>\n",
              "</div>"
            ],
            "text/plain": [
              "      city rank       name  score1  score2\n",
              "0  Tripoli  1st  Noureddin      44      67\n",
              "1  Tripoli  2nd       Adam      48      63\n",
              "2     Rome  1st      Kevin      39      55\n",
              "3     Rome  2nd    Raihana      41      70\n",
              "4   Sydney  1st     Raghas      38      64\n",
              "5   Sydney  2nd      Mahdi      44      77"
            ]
          },
          "metadata": {},
          "execution_count": 72
        }
      ]
    },
    {
      "cell_type": "code",
      "metadata": {
        "id": "Px1QVohbLBUL",
        "colab": {
          "base_uri": "https://localhost:8080/",
          "height": 265
        },
        "outputId": "01ea0d6d-35a3-47c3-c350-0ed1dc7f7528"
      },
      "source": [
        "df.set_index(['city', 'rank'], drop=False)"
      ],
      "execution_count": 73,
      "outputs": [
        {
          "output_type": "execute_result",
          "data": {
            "text/html": [
              "<div>\n",
              "<style scoped>\n",
              "    .dataframe tbody tr th:only-of-type {\n",
              "        vertical-align: middle;\n",
              "    }\n",
              "\n",
              "    .dataframe tbody tr th {\n",
              "        vertical-align: top;\n",
              "    }\n",
              "\n",
              "    .dataframe thead th {\n",
              "        text-align: right;\n",
              "    }\n",
              "</style>\n",
              "<table border=\"1\" class=\"dataframe\">\n",
              "  <thead>\n",
              "    <tr style=\"text-align: right;\">\n",
              "      <th></th>\n",
              "      <th></th>\n",
              "      <th>city</th>\n",
              "      <th>rank</th>\n",
              "      <th>name</th>\n",
              "      <th>score1</th>\n",
              "      <th>score2</th>\n",
              "    </tr>\n",
              "    <tr>\n",
              "      <th>city</th>\n",
              "      <th>rank</th>\n",
              "      <th></th>\n",
              "      <th></th>\n",
              "      <th></th>\n",
              "      <th></th>\n",
              "      <th></th>\n",
              "    </tr>\n",
              "  </thead>\n",
              "  <tbody>\n",
              "    <tr>\n",
              "      <th rowspan=\"2\" valign=\"top\">Tripoli</th>\n",
              "      <th>1st</th>\n",
              "      <td>Tripoli</td>\n",
              "      <td>1st</td>\n",
              "      <td>Noureddin</td>\n",
              "      <td>44</td>\n",
              "      <td>67</td>\n",
              "    </tr>\n",
              "    <tr>\n",
              "      <th>2nd</th>\n",
              "      <td>Tripoli</td>\n",
              "      <td>2nd</td>\n",
              "      <td>Adam</td>\n",
              "      <td>48</td>\n",
              "      <td>63</td>\n",
              "    </tr>\n",
              "    <tr>\n",
              "      <th rowspan=\"2\" valign=\"top\">Rome</th>\n",
              "      <th>1st</th>\n",
              "      <td>Rome</td>\n",
              "      <td>1st</td>\n",
              "      <td>Kevin</td>\n",
              "      <td>39</td>\n",
              "      <td>55</td>\n",
              "    </tr>\n",
              "    <tr>\n",
              "      <th>2nd</th>\n",
              "      <td>Rome</td>\n",
              "      <td>2nd</td>\n",
              "      <td>Raihana</td>\n",
              "      <td>41</td>\n",
              "      <td>70</td>\n",
              "    </tr>\n",
              "    <tr>\n",
              "      <th rowspan=\"2\" valign=\"top\">Sydney</th>\n",
              "      <th>1st</th>\n",
              "      <td>Sydney</td>\n",
              "      <td>1st</td>\n",
              "      <td>Raghas</td>\n",
              "      <td>38</td>\n",
              "      <td>64</td>\n",
              "    </tr>\n",
              "    <tr>\n",
              "      <th>2nd</th>\n",
              "      <td>Sydney</td>\n",
              "      <td>2nd</td>\n",
              "      <td>Mahdi</td>\n",
              "      <td>44</td>\n",
              "      <td>77</td>\n",
              "    </tr>\n",
              "  </tbody>\n",
              "</table>\n",
              "</div>"
            ],
            "text/plain": [
              "                 city rank       name  score1  score2\n",
              "city    rank                                         \n",
              "Tripoli 1st   Tripoli  1st  Noureddin      44      67\n",
              "        2nd   Tripoli  2nd       Adam      48      63\n",
              "Rome    1st      Rome  1st      Kevin      39      55\n",
              "        2nd      Rome  2nd    Raihana      41      70\n",
              "Sydney  1st    Sydney  1st     Raghas      38      64\n",
              "        2nd    Sydney  2nd      Mahdi      44      77"
            ]
          },
          "metadata": {},
          "execution_count": 73
        }
      ]
    },
    {
      "cell_type": "code",
      "metadata": {
        "id": "lK8MPNE9LpK-",
        "colab": {
          "base_uri": "https://localhost:8080/",
          "height": 265
        },
        "outputId": "5ab0841d-61f0-49d8-b0c1-690cc5475bcc"
      },
      "source": [
        "df.set_index(['city', 'rank'], drop=True)"
      ],
      "execution_count": 74,
      "outputs": [
        {
          "output_type": "execute_result",
          "data": {
            "text/html": [
              "<div>\n",
              "<style scoped>\n",
              "    .dataframe tbody tr th:only-of-type {\n",
              "        vertical-align: middle;\n",
              "    }\n",
              "\n",
              "    .dataframe tbody tr th {\n",
              "        vertical-align: top;\n",
              "    }\n",
              "\n",
              "    .dataframe thead th {\n",
              "        text-align: right;\n",
              "    }\n",
              "</style>\n",
              "<table border=\"1\" class=\"dataframe\">\n",
              "  <thead>\n",
              "    <tr style=\"text-align: right;\">\n",
              "      <th></th>\n",
              "      <th></th>\n",
              "      <th>name</th>\n",
              "      <th>score1</th>\n",
              "      <th>score2</th>\n",
              "    </tr>\n",
              "    <tr>\n",
              "      <th>city</th>\n",
              "      <th>rank</th>\n",
              "      <th></th>\n",
              "      <th></th>\n",
              "      <th></th>\n",
              "    </tr>\n",
              "  </thead>\n",
              "  <tbody>\n",
              "    <tr>\n",
              "      <th rowspan=\"2\" valign=\"top\">Tripoli</th>\n",
              "      <th>1st</th>\n",
              "      <td>Noureddin</td>\n",
              "      <td>44</td>\n",
              "      <td>67</td>\n",
              "    </tr>\n",
              "    <tr>\n",
              "      <th>2nd</th>\n",
              "      <td>Adam</td>\n",
              "      <td>48</td>\n",
              "      <td>63</td>\n",
              "    </tr>\n",
              "    <tr>\n",
              "      <th rowspan=\"2\" valign=\"top\">Rome</th>\n",
              "      <th>1st</th>\n",
              "      <td>Kevin</td>\n",
              "      <td>39</td>\n",
              "      <td>55</td>\n",
              "    </tr>\n",
              "    <tr>\n",
              "      <th>2nd</th>\n",
              "      <td>Raihana</td>\n",
              "      <td>41</td>\n",
              "      <td>70</td>\n",
              "    </tr>\n",
              "    <tr>\n",
              "      <th rowspan=\"2\" valign=\"top\">Sydney</th>\n",
              "      <th>1st</th>\n",
              "      <td>Raghas</td>\n",
              "      <td>38</td>\n",
              "      <td>64</td>\n",
              "    </tr>\n",
              "    <tr>\n",
              "      <th>2nd</th>\n",
              "      <td>Mahdi</td>\n",
              "      <td>44</td>\n",
              "      <td>77</td>\n",
              "    </tr>\n",
              "  </tbody>\n",
              "</table>\n",
              "</div>"
            ],
            "text/plain": [
              "                   name  score1  score2\n",
              "city    rank                           \n",
              "Tripoli 1st   Noureddin      44      67\n",
              "        2nd        Adam      48      63\n",
              "Rome    1st       Kevin      39      55\n",
              "        2nd     Raihana      41      70\n",
              "Sydney  1st      Raghas      38      64\n",
              "        2nd       Mahdi      44      77"
            ]
          },
          "metadata": {},
          "execution_count": 74
        }
      ]
    },
    {
      "cell_type": "code",
      "metadata": {
        "id": "UmCAMEEQdv8a"
      },
      "source": [
        ""
      ],
      "execution_count": 74,
      "outputs": []
    },
    {
      "cell_type": "markdown",
      "metadata": {
        "id": "LN3bITXOYEc5"
      },
      "source": [
        "# Column Addition and Deletion\n",
        "\n"
      ]
    },
    {
      "cell_type": "markdown",
      "metadata": {
        "id": "KIE9CXORoME9"
      },
      "source": [
        "## Column Addition\n",
        "\n",
        "Adding a new column by passing as Series\n",
        "> df['three']=pd.Series([10,20,30],index=['a','b','c'])\n",
        "\n",
        "Adding a new column using the existing columns in DataFrame\n",
        "> df['four']=df['one']+df['three']"
      ]
    },
    {
      "cell_type": "code",
      "metadata": {
        "id": "iRshlNMJYcAY",
        "colab": {
          "base_uri": "https://localhost:8080/"
        },
        "outputId": "5cf56a51-64f6-4efb-946e-c52e60f8c6d5"
      },
      "source": [
        "import pandas as pd\n",
        "\n",
        "d = {'one' : pd.Series([1, 2, 3], index=['a', 'b', 'c']),\n",
        "   'two' : pd.Series([1, 2, 3, 4], index=['a', 'b', 'c', 'd'])}\n",
        "\n",
        "df = pd.DataFrame(d)\n",
        "\n",
        "# Adding a new column to an existing DataFrame object with column label by passing new series\n",
        "\n",
        "print (\"Adding a new column by passing as Series:\")\n",
        "df['three']=pd.Series([10,20,30],index=['a','b','c'])\n",
        "print(df)\n",
        "\n",
        "print('')\n",
        "\n",
        "print (\"Adding a new column using the existing columns in DataFrame:\")\n",
        "df['four']=df['one']+df['three']\n",
        "\n",
        "print(df)"
      ],
      "execution_count": 75,
      "outputs": [
        {
          "output_type": "stream",
          "name": "stdout",
          "text": [
            "Adding a new column by passing as Series:\n",
            "   one  two  three\n",
            "a  1.0    1   10.0\n",
            "b  2.0    2   20.0\n",
            "c  3.0    3   30.0\n",
            "d  NaN    4    NaN\n",
            "\n",
            "Adding a new column using the existing columns in DataFrame:\n",
            "   one  two  three  four\n",
            "a  1.0    1   10.0  11.0\n",
            "b  2.0    2   20.0  22.0\n",
            "c  3.0    3   30.0  33.0\n",
            "d  NaN    4    NaN   NaN\n"
          ]
        }
      ]
    },
    {
      "cell_type": "markdown",
      "metadata": {
        "id": "HrBTZdxsY6WE"
      },
      "source": [
        "## **Column Deletion**\n",
        "\n",
        "using del function\n",
        "*   del(df[columns]) / del df[columns]\n",
        "\n",
        "using pop function\n",
        "*   df.pop('columns')\n",
        "\n"
      ]
    },
    {
      "cell_type": "code",
      "metadata": {
        "id": "JFFXMcbgY-n_",
        "colab": {
          "base_uri": "https://localhost:8080/"
        },
        "outputId": "b4805e59-ada2-4293-8480-68c19e900e94"
      },
      "source": [
        "# Using the previous DataFrame, we will delete a column\n",
        "# using del function\n",
        "import pandas as pd\n",
        "\n",
        "d = {'one' : pd.Series([1, 2, 3], index=['a', 'b', 'c']), \n",
        "   'two' : pd.Series([1, 2, 3, 4], index=['a', 'b', 'c', 'd']), \n",
        "   'three' : pd.Series([10,20,30], index=['a','b','c'])}\n",
        "\n",
        "df = pd.DataFrame(d)\n",
        "print (\"Our dataframe is:\")\n",
        "print(df)\n",
        "\n",
        "print('')\n",
        "\n",
        "# using del function\n",
        "print (\"Deleting the first column using DEL function:\")\n",
        "del df['one']\n",
        "print(df)\n",
        "\n",
        "print('')\n",
        "\n",
        "# using pop function\n",
        "print (\"Deleting another column using POP function:\")\n",
        "df.pop('two')\n",
        "print(df)"
      ],
      "execution_count": 76,
      "outputs": [
        {
          "output_type": "stream",
          "name": "stdout",
          "text": [
            "Our dataframe is:\n",
            "   one  two  three\n",
            "a  1.0    1   10.0\n",
            "b  2.0    2   20.0\n",
            "c  3.0    3   30.0\n",
            "d  NaN    4    NaN\n",
            "\n",
            "Deleting the first column using DEL function:\n",
            "   two  three\n",
            "a    1   10.0\n",
            "b    2   20.0\n",
            "c    3   30.0\n",
            "d    4    NaN\n",
            "\n",
            "Deleting another column using POP function:\n",
            "   three\n",
            "a   10.0\n",
            "b   20.0\n",
            "c   30.0\n",
            "d    NaN\n"
          ]
        }
      ]
    },
    {
      "cell_type": "markdown",
      "metadata": {
        "id": "pduZhHhFd92M"
      },
      "source": [
        "# **Row Selection, Addition, and Deletion**"
      ]
    },
    {
      "cell_type": "markdown",
      "metadata": {
        "id": "vd0o2z22eGu9"
      },
      "source": [
        "## Row Selection"
      ]
    },
    {
      "cell_type": "markdown",
      "metadata": {
        "id": "cLg64MlrefDM"
      },
      "source": [
        "### Selection by Label"
      ]
    },
    {
      "cell_type": "code",
      "metadata": {
        "id": "E5VdtSofeJ9w",
        "colab": {
          "base_uri": "https://localhost:8080/"
        },
        "outputId": "b9f2eaee-8368-44f1-8c76-c619843d329b"
      },
      "source": [
        "# using loc[]\n",
        "import pandas as pd\n",
        "\n",
        "d = {'one' : pd.Series([1, 2, 3], index=['a', 'b', 'c']), \n",
        "   'two' : pd.Series([1, 2, 3, 4], index=['a', 'b', 'c', 'd'])}\n",
        "\n",
        "data_frame = pd.DataFrame(d)\n",
        "print(data_frame.loc['b'])"
      ],
      "execution_count": 77,
      "outputs": [
        {
          "output_type": "stream",
          "name": "stdout",
          "text": [
            "one    2.0\n",
            "two    2.0\n",
            "Name: b, dtype: float64\n"
          ]
        }
      ]
    },
    {
      "cell_type": "markdown",
      "metadata": {
        "id": "4o4JPyU9eglk"
      },
      "source": [
        "### Selection by integer location\n"
      ]
    },
    {
      "cell_type": "code",
      "metadata": {
        "id": "U2JNqh0YeX5R",
        "colab": {
          "base_uri": "https://localhost:8080/"
        },
        "outputId": "ea9cc6a9-e170-49c4-aac3-34b509bfbc0c"
      },
      "source": [
        "# using iloc[]\n",
        "import pandas as pd\n",
        "\n",
        "d = {'one' : pd.Series([1, 2, 3], index=['a', 'b', 'c']),\n",
        "   'two' : pd.Series([1, 2, 3, 4], index=['a', 'b', 'c', 'd'])}\n",
        "\n",
        "df = pd.DataFrame(d)\n",
        "print(df.iloc[2])"
      ],
      "execution_count": 78,
      "outputs": [
        {
          "output_type": "stream",
          "name": "stdout",
          "text": [
            "one    3.0\n",
            "two    3.0\n",
            "Name: c, dtype: float64\n"
          ]
        }
      ]
    },
    {
      "cell_type": "markdown",
      "metadata": {
        "id": "gehrleObesLg"
      },
      "source": [
        "### Slice Rows\n",
        "Multiple rows can be selected using ‘ : ’ operator."
      ]
    },
    {
      "cell_type": "code",
      "metadata": {
        "id": "xzagG0JafQdn",
        "colab": {
          "base_uri": "https://localhost:8080/"
        },
        "outputId": "4690b281-47df-48ee-cbbe-b7204f75d6a0"
      },
      "source": [
        "# using [ : ] bukan [index]\n",
        "import pandas as pd\n",
        "\n",
        "d = {'one' : pd.Series([1, 2, 3], index=['a', 'b', 'c']), \n",
        "   'two' : pd.Series([1, 2, 3, 4], index=['a', 'b', 'c', 'd'])}\n",
        "\n",
        "df = pd.DataFrame(d)\n",
        "print(df[2:4])"
      ],
      "execution_count": 79,
      "outputs": [
        {
          "output_type": "stream",
          "name": "stdout",
          "text": [
            "   one  two\n",
            "c  3.0    3\n",
            "d  NaN    4\n"
          ]
        }
      ]
    },
    {
      "cell_type": "markdown",
      "metadata": {
        "id": "zemqc5gyfj5c"
      },
      "source": [
        "## Addition of Rows\n",
        "Add new rows to a DataFrame using the append function. This function will append the rows at the end."
      ]
    },
    {
      "cell_type": "code",
      "metadata": {
        "id": "rBo7BcvffloK",
        "colab": {
          "base_uri": "https://localhost:8080/"
        },
        "outputId": "a00937e0-6d47-4f02-dd5c-ab4109fef863"
      },
      "source": [
        "import pandas as pd\n",
        "\n",
        "df = pd.DataFrame([[1, 2], [3, 4]], columns = ['a','b'])\n",
        "df2 = pd.DataFrame([[5, 6], [7, 8]], columns = ['a','b'])\n",
        "\n",
        "df = df.append(df2)\n",
        "print(df)"
      ],
      "execution_count": 80,
      "outputs": [
        {
          "output_type": "stream",
          "name": "stdout",
          "text": [
            "   a  b\n",
            "0  1  2\n",
            "1  3  4\n",
            "0  5  6\n",
            "1  7  8\n"
          ]
        }
      ]
    },
    {
      "cell_type": "code",
      "metadata": {
        "id": "YXTeZ5Qbfu25",
        "colab": {
          "base_uri": "https://localhost:8080/",
          "height": 0
        },
        "outputId": "60b3fa93-14b8-4194-f781-382f1d2fe437"
      },
      "source": [
        "df_baru = df + df2\n",
        "df_baru"
      ],
      "execution_count": 81,
      "outputs": [
        {
          "output_type": "execute_result",
          "data": {
            "text/html": [
              "<div>\n",
              "<style scoped>\n",
              "    .dataframe tbody tr th:only-of-type {\n",
              "        vertical-align: middle;\n",
              "    }\n",
              "\n",
              "    .dataframe tbody tr th {\n",
              "        vertical-align: top;\n",
              "    }\n",
              "\n",
              "    .dataframe thead th {\n",
              "        text-align: right;\n",
              "    }\n",
              "</style>\n",
              "<table border=\"1\" class=\"dataframe\">\n",
              "  <thead>\n",
              "    <tr style=\"text-align: right;\">\n",
              "      <th></th>\n",
              "      <th>a</th>\n",
              "      <th>b</th>\n",
              "    </tr>\n",
              "  </thead>\n",
              "  <tbody>\n",
              "    <tr>\n",
              "      <th>0</th>\n",
              "      <td>6</td>\n",
              "      <td>8</td>\n",
              "    </tr>\n",
              "    <tr>\n",
              "      <th>0</th>\n",
              "      <td>10</td>\n",
              "      <td>12</td>\n",
              "    </tr>\n",
              "    <tr>\n",
              "      <th>1</th>\n",
              "      <td>10</td>\n",
              "      <td>12</td>\n",
              "    </tr>\n",
              "    <tr>\n",
              "      <th>1</th>\n",
              "      <td>14</td>\n",
              "      <td>16</td>\n",
              "    </tr>\n",
              "  </tbody>\n",
              "</table>\n",
              "</div>"
            ],
            "text/plain": [
              "    a   b\n",
              "0   6   8\n",
              "0  10  12\n",
              "1  10  12\n",
              "1  14  16"
            ]
          },
          "metadata": {},
          "execution_count": 81
        }
      ]
    },
    {
      "cell_type": "markdown",
      "metadata": {
        "id": "mHy_xi8Vh5WD"
      },
      "source": [
        "## Deletion of Rows\n",
        "\n",
        "Use index label to delete or drop rows from a DataFrame. If label is duplicated, then multiple rows will be dropped.\n",
        "\n",
        "If you observe, in the above example, the labels are duplicate. Let us drop a label and will see how many rows will get dropped."
      ]
    },
    {
      "cell_type": "code",
      "metadata": {
        "id": "xwR1AmVJh8JO",
        "colab": {
          "base_uri": "https://localhost:8080/"
        },
        "outputId": "05af54b1-bd13-4cf5-b3a5-3afb9bf036d7"
      },
      "source": [
        "import pandas as pd\n",
        "\n",
        "df = pd.DataFrame([[1, 2], [3, 4]], columns = ['a','b'])\n",
        "df2 = pd.DataFrame([[5, 6], [7, 8]], columns = ['a','b'])\n",
        "\n",
        "df = df.append(df2)\n",
        "\n",
        "print(df)"
      ],
      "execution_count": 82,
      "outputs": [
        {
          "output_type": "stream",
          "name": "stdout",
          "text": [
            "   a  b\n",
            "0  1  2\n",
            "1  3  4\n",
            "0  5  6\n",
            "1  7  8\n"
          ]
        }
      ]
    },
    {
      "cell_type": "code",
      "metadata": {
        "id": "xcBR8-L4iXpM",
        "colab": {
          "base_uri": "https://localhost:8080/"
        },
        "outputId": "525954f0-3ecf-4d28-8ced-30d24e671115"
      },
      "source": [
        "# Drop rows with label 0 (duplicate label, all delete)\n",
        "df = df.drop(0)\n",
        "print(df)"
      ],
      "execution_count": 83,
      "outputs": [
        {
          "output_type": "stream",
          "name": "stdout",
          "text": [
            "   a  b\n",
            "1  3  4\n",
            "1  7  8\n"
          ]
        }
      ]
    }
  ]
}