{
  "nbformat": 4,
  "nbformat_minor": 0,
  "metadata": {
    "colab": {
      "name": "03.  Indexing and Akses Selection Data Frame.ipynb",
      "provenance": [],
      "collapsed_sections": []
    },
    "kernelspec": {
      "name": "python3",
      "display_name": "Python 3"
    }
  },
  "cells": [
    {
      "cell_type": "markdown",
      "metadata": {
        "id": "33XrZ_nADfBy"
      },
      "source": [
        "<a href=\"https://colab.research.google.com/github/nurimammasri/Wooky-Pandas/blob/master/03.%20Indexing%20and%20Akses%20Selection%20Data%20Frame.ipynb\" target=\"_parent\"><img src=\"https://colab.research.google.com/assets/colab-badge.svg\" alt=\"Open In Colab\"/></a>"
      ]
    },
    {
      "cell_type": "markdown",
      "metadata": {
        "id": "JyK-BA_mFo_k"
      },
      "source": [
        "# **Indexing/Akses Selection**\n",
        "\n",
        "**Indexing DataFrame**\n",
        "Akses DataFrame sering juga di kenal indexing atau Subset Selection. secara sederhana maknanya adalah kita memilih suatu data dari baris tertentu dan column tertentu. kita bisa saja memilih beberapa baris dan semua kolom dari data, semua baris dan beberapa column dari data, atau beberapa baris dan bebearpa column dari data.\n",
        "\n",
        "Ada banyak cara-cara kita indexing suatu dataframe. diantranya adalah dengan menggunakan :\n",
        "\n",
        "*   `dataframe[]` : cara seperti ini dikenal sebagai index operator.\n",
        "*   `dataframe.loc[]`: operator yang menggunakan label untuk mengakses data, jika misalkan kamu melakukan dataframe.loc[‘jumlah’], berarti kamu hendak mengakses data yang mempunyai index jumlah\n",
        "*   `dataframe.iloc[]`: operator yang menggunakan posisi index untuk mengakses data. jikalau kamu melakukan dataframe.iloc[2] berarti kamu hendak mengakses dataframe dengan index posisi 2\n",
        "\n",
        "---\n",
        "\n",
        "*name of colum*\n",
        "```\n",
        "df['column']\n",
        "```\n",
        "---\n",
        "*label*\n",
        "```\n",
        "df.loc[index, column]\n",
        "```\n",
        "---\n",
        "\n",
        "*numeric*\n",
        "```\n",
        "df.iloc[ : , : ]\n",
        "\n",
        "df.iloc[index,column]\n",
        "\n",
        "df.iloc[[ , , ],[ , , ]]\n",
        "```\n",
        "---\n",
        "\n",
        "\n",
        "\n",
        "\n",
        "\n",
        "\n",
        "\n",
        "\n"
      ]
    },
    {
      "cell_type": "markdown",
      "metadata": {
        "id": "gtaSWArtXbpZ"
      },
      "source": [
        "## **Row and Columns Selection**"
      ]
    },
    {
      "cell_type": "markdown",
      "metadata": {
        "id": "s54vrdha4Ri-"
      },
      "source": [
        "### df['column'] and df[index:index]\n",
        "\n",
        "You can select a column (**df[col]**) and return column with label col as Series \n",
        "\n",
        "Or a few columns (**df[[col1, col2]]**) and returns columns as a new DataFrame."
      ]
    },
    {
      "cell_type": "code",
      "metadata": {
        "id": "8s4UKA0HCboL",
        "colab": {
          "base_uri": "https://localhost:8080/",
          "height": 166
        },
        "outputId": "c014d13c-199a-4f61-88f7-d19202da3fbb"
      },
      "source": [
        "import pandas as pd\n",
        "\n",
        "df = pd.DataFrame({'Calon President': ['Imam', 'Abrar', 'Muthia', 'Itha'],\n",
        "                   'Umur' : [12,34,5,67],\n",
        "                   'Alamat' : ['Jln.1', 'Jln.2', 'Jln.3', 'Jln.4'],\n",
        "                   'Jumlah Voting': [100, 50, 60, 20],\n",
        "                   'Jenis Kelamin':['L', 'L', 'P', 'P'],\n",
        "                   'Negara':['Indonesia', 'Australia', 'Amerika', 'Mesir']})\n",
        "df"
      ],
      "execution_count": null,
      "outputs": [
        {
          "output_type": "execute_result",
          "data": {
            "text/html": [
              "<div>\n",
              "<style scoped>\n",
              "    .dataframe tbody tr th:only-of-type {\n",
              "        vertical-align: middle;\n",
              "    }\n",
              "\n",
              "    .dataframe tbody tr th {\n",
              "        vertical-align: top;\n",
              "    }\n",
              "\n",
              "    .dataframe thead th {\n",
              "        text-align: right;\n",
              "    }\n",
              "</style>\n",
              "<table border=\"1\" class=\"dataframe\">\n",
              "  <thead>\n",
              "    <tr style=\"text-align: right;\">\n",
              "      <th></th>\n",
              "      <th>Calon President</th>\n",
              "      <th>Umur</th>\n",
              "      <th>Alamat</th>\n",
              "      <th>Jumlah Voting</th>\n",
              "      <th>Jenis Kelamin</th>\n",
              "      <th>Negara</th>\n",
              "    </tr>\n",
              "  </thead>\n",
              "  <tbody>\n",
              "    <tr>\n",
              "      <th>0</th>\n",
              "      <td>Imam</td>\n",
              "      <td>12</td>\n",
              "      <td>Jln.1</td>\n",
              "      <td>100</td>\n",
              "      <td>L</td>\n",
              "      <td>Indonesia</td>\n",
              "    </tr>\n",
              "    <tr>\n",
              "      <th>1</th>\n",
              "      <td>Abrar</td>\n",
              "      <td>34</td>\n",
              "      <td>Jln.2</td>\n",
              "      <td>50</td>\n",
              "      <td>L</td>\n",
              "      <td>Australia</td>\n",
              "    </tr>\n",
              "    <tr>\n",
              "      <th>2</th>\n",
              "      <td>Muthia</td>\n",
              "      <td>5</td>\n",
              "      <td>Jln.3</td>\n",
              "      <td>60</td>\n",
              "      <td>P</td>\n",
              "      <td>Amerika</td>\n",
              "    </tr>\n",
              "    <tr>\n",
              "      <th>3</th>\n",
              "      <td>Itha</td>\n",
              "      <td>67</td>\n",
              "      <td>Jln.4</td>\n",
              "      <td>20</td>\n",
              "      <td>P</td>\n",
              "      <td>Mesir</td>\n",
              "    </tr>\n",
              "  </tbody>\n",
              "</table>\n",
              "</div>"
            ],
            "text/plain": [
              "  Calon President  Umur Alamat  Jumlah Voting Jenis Kelamin     Negara\n",
              "0            Imam    12  Jln.1            100             L  Indonesia\n",
              "1           Abrar    34  Jln.2             50             L  Australia\n",
              "2          Muthia     5  Jln.3             60             P    Amerika\n",
              "3            Itha    67  Jln.4             20             P      Mesir"
            ]
          },
          "metadata": {
            "tags": []
          },
          "execution_count": 58
        }
      ]
    },
    {
      "cell_type": "code",
      "metadata": {
        "id": "XO2nCVH_bDsN",
        "colab": {
          "base_uri": "https://localhost:8080/",
          "height": 106
        },
        "outputId": "7df57ee0-c7c8-4008-97b2-329ca12db0de"
      },
      "source": [
        "# selecting index\n",
        "df[0:2]"
      ],
      "execution_count": null,
      "outputs": [
        {
          "output_type": "execute_result",
          "data": {
            "text/html": [
              "<div>\n",
              "<style scoped>\n",
              "    .dataframe tbody tr th:only-of-type {\n",
              "        vertical-align: middle;\n",
              "    }\n",
              "\n",
              "    .dataframe tbody tr th {\n",
              "        vertical-align: top;\n",
              "    }\n",
              "\n",
              "    .dataframe thead th {\n",
              "        text-align: right;\n",
              "    }\n",
              "</style>\n",
              "<table border=\"1\" class=\"dataframe\">\n",
              "  <thead>\n",
              "    <tr style=\"text-align: right;\">\n",
              "      <th></th>\n",
              "      <th>Calon President</th>\n",
              "      <th>Umur</th>\n",
              "      <th>Alamat</th>\n",
              "      <th>Jumlah Voting</th>\n",
              "      <th>Jenis Kelamin</th>\n",
              "      <th>Negara</th>\n",
              "    </tr>\n",
              "  </thead>\n",
              "  <tbody>\n",
              "    <tr>\n",
              "      <th>0</th>\n",
              "      <td>Imam</td>\n",
              "      <td>12</td>\n",
              "      <td>Jln.1</td>\n",
              "      <td>100</td>\n",
              "      <td>L</td>\n",
              "      <td>Indonesia</td>\n",
              "    </tr>\n",
              "    <tr>\n",
              "      <th>1</th>\n",
              "      <td>Abrar</td>\n",
              "      <td>34</td>\n",
              "      <td>Jln.2</td>\n",
              "      <td>50</td>\n",
              "      <td>L</td>\n",
              "      <td>Australia</td>\n",
              "    </tr>\n",
              "  </tbody>\n",
              "</table>\n",
              "</div>"
            ],
            "text/plain": [
              "  Calon President  Umur Alamat  Jumlah Voting Jenis Kelamin     Negara\n",
              "0            Imam    12  Jln.1            100             L  Indonesia\n",
              "1           Abrar    34  Jln.2             50             L  Australia"
            ]
          },
          "metadata": {
            "tags": []
          },
          "execution_count": 59
        }
      ]
    },
    {
      "cell_type": "code",
      "metadata": {
        "id": "5siBvPu-4dms",
        "colab": {
          "base_uri": "https://localhost:8080/",
          "height": 166
        },
        "outputId": "8aca23ef-0518-4a0e-e31e-fad6b5309c05"
      },
      "source": [
        "# selecting column\n",
        "df['Umur'] #type() -> Series\n",
        "df[['Umur']] # type() -> DataFrame"
      ],
      "execution_count": null,
      "outputs": [
        {
          "output_type": "execute_result",
          "data": {
            "text/html": [
              "<div>\n",
              "<style scoped>\n",
              "    .dataframe tbody tr th:only-of-type {\n",
              "        vertical-align: middle;\n",
              "    }\n",
              "\n",
              "    .dataframe tbody tr th {\n",
              "        vertical-align: top;\n",
              "    }\n",
              "\n",
              "    .dataframe thead th {\n",
              "        text-align: right;\n",
              "    }\n",
              "</style>\n",
              "<table border=\"1\" class=\"dataframe\">\n",
              "  <thead>\n",
              "    <tr style=\"text-align: right;\">\n",
              "      <th></th>\n",
              "      <th>Umur</th>\n",
              "    </tr>\n",
              "  </thead>\n",
              "  <tbody>\n",
              "    <tr>\n",
              "      <th>0</th>\n",
              "      <td>12</td>\n",
              "    </tr>\n",
              "    <tr>\n",
              "      <th>1</th>\n",
              "      <td>34</td>\n",
              "    </tr>\n",
              "    <tr>\n",
              "      <th>2</th>\n",
              "      <td>5</td>\n",
              "    </tr>\n",
              "    <tr>\n",
              "      <th>3</th>\n",
              "      <td>67</td>\n",
              "    </tr>\n",
              "  </tbody>\n",
              "</table>\n",
              "</div>"
            ],
            "text/plain": [
              "   Umur\n",
              "0    12\n",
              "1    34\n",
              "2     5\n",
              "3    67"
            ]
          },
          "metadata": {
            "tags": []
          },
          "execution_count": 60
        }
      ]
    },
    {
      "cell_type": "code",
      "metadata": {
        "id": "SwUyBpwF4u7L",
        "colab": {
          "base_uri": "https://localhost:8080/",
          "height": 166
        },
        "outputId": "112b40a6-a7cd-4836-dd72-6d7fe8ee7ce4"
      },
      "source": [
        "# multiple selecting column with list\n",
        "df[['Calon President', 'Jumlah Voting', 'Jenis Kelamin']]"
      ],
      "execution_count": null,
      "outputs": [
        {
          "output_type": "execute_result",
          "data": {
            "text/html": [
              "<div>\n",
              "<style scoped>\n",
              "    .dataframe tbody tr th:only-of-type {\n",
              "        vertical-align: middle;\n",
              "    }\n",
              "\n",
              "    .dataframe tbody tr th {\n",
              "        vertical-align: top;\n",
              "    }\n",
              "\n",
              "    .dataframe thead th {\n",
              "        text-align: right;\n",
              "    }\n",
              "</style>\n",
              "<table border=\"1\" class=\"dataframe\">\n",
              "  <thead>\n",
              "    <tr style=\"text-align: right;\">\n",
              "      <th></th>\n",
              "      <th>Calon President</th>\n",
              "      <th>Jumlah Voting</th>\n",
              "      <th>Jenis Kelamin</th>\n",
              "    </tr>\n",
              "  </thead>\n",
              "  <tbody>\n",
              "    <tr>\n",
              "      <th>0</th>\n",
              "      <td>Imam</td>\n",
              "      <td>100</td>\n",
              "      <td>L</td>\n",
              "    </tr>\n",
              "    <tr>\n",
              "      <th>1</th>\n",
              "      <td>Abrar</td>\n",
              "      <td>50</td>\n",
              "      <td>L</td>\n",
              "    </tr>\n",
              "    <tr>\n",
              "      <th>2</th>\n",
              "      <td>Muthia</td>\n",
              "      <td>60</td>\n",
              "      <td>P</td>\n",
              "    </tr>\n",
              "    <tr>\n",
              "      <th>3</th>\n",
              "      <td>Itha</td>\n",
              "      <td>20</td>\n",
              "      <td>P</td>\n",
              "    </tr>\n",
              "  </tbody>\n",
              "</table>\n",
              "</div>"
            ],
            "text/plain": [
              "  Calon President  Jumlah Voting Jenis Kelamin\n",
              "0            Imam            100             L\n",
              "1           Abrar             50             L\n",
              "2          Muthia             60             P\n",
              "3            Itha             20             P"
            ]
          },
          "metadata": {
            "tags": []
          },
          "execution_count": 61
        }
      ]
    },
    {
      "cell_type": "code",
      "metadata": {
        "id": "A2dTS69e45qJ",
        "colab": {
          "base_uri": "https://localhost:8080/",
          "height": 166
        },
        "outputId": "122dec8d-330b-49d6-b7ef-22bbc08b15a7"
      },
      "source": [
        "# menyimpan hasil pemilihan ke dalam variable\n",
        "df2 = df[['Calon President', 'Jumlah Voting']]\n",
        "df2"
      ],
      "execution_count": null,
      "outputs": [
        {
          "output_type": "execute_result",
          "data": {
            "text/html": [
              "<div>\n",
              "<style scoped>\n",
              "    .dataframe tbody tr th:only-of-type {\n",
              "        vertical-align: middle;\n",
              "    }\n",
              "\n",
              "    .dataframe tbody tr th {\n",
              "        vertical-align: top;\n",
              "    }\n",
              "\n",
              "    .dataframe thead th {\n",
              "        text-align: right;\n",
              "    }\n",
              "</style>\n",
              "<table border=\"1\" class=\"dataframe\">\n",
              "  <thead>\n",
              "    <tr style=\"text-align: right;\">\n",
              "      <th></th>\n",
              "      <th>Calon President</th>\n",
              "      <th>Jumlah Voting</th>\n",
              "    </tr>\n",
              "  </thead>\n",
              "  <tbody>\n",
              "    <tr>\n",
              "      <th>0</th>\n",
              "      <td>Imam</td>\n",
              "      <td>100</td>\n",
              "    </tr>\n",
              "    <tr>\n",
              "      <th>1</th>\n",
              "      <td>Abrar</td>\n",
              "      <td>50</td>\n",
              "    </tr>\n",
              "    <tr>\n",
              "      <th>2</th>\n",
              "      <td>Muthia</td>\n",
              "      <td>60</td>\n",
              "    </tr>\n",
              "    <tr>\n",
              "      <th>3</th>\n",
              "      <td>Itha</td>\n",
              "      <td>20</td>\n",
              "    </tr>\n",
              "  </tbody>\n",
              "</table>\n",
              "</div>"
            ],
            "text/plain": [
              "  Calon President  Jumlah Voting\n",
              "0            Imam            100\n",
              "1           Abrar             50\n",
              "2          Muthia             60\n",
              "3            Itha             20"
            ]
          },
          "metadata": {
            "tags": []
          },
          "execution_count": 62
        }
      ]
    },
    {
      "cell_type": "code",
      "metadata": {
        "id": "Sc94if06mHfg",
        "colab": {
          "base_uri": "https://localhost:8080/",
          "height": 166
        },
        "outputId": "59ead7d6-d3ba-43bb-b8d7-a4ac0749429b"
      },
      "source": [
        "df[df.columns[1:3]]"
      ],
      "execution_count": null,
      "outputs": [
        {
          "output_type": "execute_result",
          "data": {
            "text/html": [
              "<div>\n",
              "<style scoped>\n",
              "    .dataframe tbody tr th:only-of-type {\n",
              "        vertical-align: middle;\n",
              "    }\n",
              "\n",
              "    .dataframe tbody tr th {\n",
              "        vertical-align: top;\n",
              "    }\n",
              "\n",
              "    .dataframe thead th {\n",
              "        text-align: right;\n",
              "    }\n",
              "</style>\n",
              "<table border=\"1\" class=\"dataframe\">\n",
              "  <thead>\n",
              "    <tr style=\"text-align: right;\">\n",
              "      <th></th>\n",
              "      <th>Umur</th>\n",
              "      <th>Alamat</th>\n",
              "    </tr>\n",
              "  </thead>\n",
              "  <tbody>\n",
              "    <tr>\n",
              "      <th>0</th>\n",
              "      <td>12</td>\n",
              "      <td>Jln.1</td>\n",
              "    </tr>\n",
              "    <tr>\n",
              "      <th>1</th>\n",
              "      <td>34</td>\n",
              "      <td>Jln.2</td>\n",
              "    </tr>\n",
              "    <tr>\n",
              "      <th>2</th>\n",
              "      <td>5</td>\n",
              "      <td>Jln.3</td>\n",
              "    </tr>\n",
              "    <tr>\n",
              "      <th>3</th>\n",
              "      <td>67</td>\n",
              "      <td>Jln.4</td>\n",
              "    </tr>\n",
              "  </tbody>\n",
              "</table>\n",
              "</div>"
            ],
            "text/plain": [
              "   Umur Alamat\n",
              "0    12  Jln.1\n",
              "1    34  Jln.2\n",
              "2     5  Jln.3\n",
              "3    67  Jln.4"
            ]
          },
          "metadata": {
            "tags": []
          },
          "execution_count": 63
        }
      ]
    },
    {
      "cell_type": "code",
      "metadata": {
        "id": "xhCl_tlm8iAT",
        "colab": {
          "base_uri": "https://localhost:8080/",
          "height": 254
        },
        "outputId": "7d30f51b-98f6-415c-eac7-e4142ee99105"
      },
      "source": [
        "import pandas as pd\n",
        "\n",
        "d = {'one' : pd.Series([1, 2, 3], index=['a', 'b', 'c']),\n",
        "   'two' : pd.Series([1, 2, 3, 4], index=['a', 'b', 'c', 'd'])}\n",
        "\n",
        "df = pd.DataFrame(d)\n",
        "print(df['one'])\n",
        "df"
      ],
      "execution_count": null,
      "outputs": [
        {
          "output_type": "stream",
          "text": [
            "a    1.0\n",
            "b    2.0\n",
            "c    3.0\n",
            "d    NaN\n",
            "Name: one, dtype: float64\n"
          ],
          "name": "stdout"
        },
        {
          "output_type": "execute_result",
          "data": {
            "text/html": [
              "<div>\n",
              "<style scoped>\n",
              "    .dataframe tbody tr th:only-of-type {\n",
              "        vertical-align: middle;\n",
              "    }\n",
              "\n",
              "    .dataframe tbody tr th {\n",
              "        vertical-align: top;\n",
              "    }\n",
              "\n",
              "    .dataframe thead th {\n",
              "        text-align: right;\n",
              "    }\n",
              "</style>\n",
              "<table border=\"1\" class=\"dataframe\">\n",
              "  <thead>\n",
              "    <tr style=\"text-align: right;\">\n",
              "      <th></th>\n",
              "      <th>one</th>\n",
              "      <th>two</th>\n",
              "    </tr>\n",
              "  </thead>\n",
              "  <tbody>\n",
              "    <tr>\n",
              "      <th>a</th>\n",
              "      <td>1.0</td>\n",
              "      <td>1</td>\n",
              "    </tr>\n",
              "    <tr>\n",
              "      <th>b</th>\n",
              "      <td>2.0</td>\n",
              "      <td>2</td>\n",
              "    </tr>\n",
              "    <tr>\n",
              "      <th>c</th>\n",
              "      <td>3.0</td>\n",
              "      <td>3</td>\n",
              "    </tr>\n",
              "    <tr>\n",
              "      <th>d</th>\n",
              "      <td>NaN</td>\n",
              "      <td>4</td>\n",
              "    </tr>\n",
              "  </tbody>\n",
              "</table>\n",
              "</div>"
            ],
            "text/plain": [
              "   one  two\n",
              "a  1.0    1\n",
              "b  2.0    2\n",
              "c  3.0    3\n",
              "d  NaN    4"
            ]
          },
          "metadata": {
            "tags": []
          },
          "execution_count": 64
        }
      ]
    },
    {
      "cell_type": "code",
      "metadata": {
        "id": "V_202w_AgVHd",
        "colab": {
          "base_uri": "https://localhost:8080/"
        },
        "outputId": "10cdd6a4-cd8b-400f-d0b0-adf2afc8ef6f"
      },
      "source": [
        "df['two']['b']"
      ],
      "execution_count": null,
      "outputs": [
        {
          "output_type": "execute_result",
          "data": {
            "text/plain": [
              "2"
            ]
          },
          "metadata": {
            "tags": []
          },
          "execution_count": 65
        }
      ]
    },
    {
      "cell_type": "code",
      "metadata": {
        "colab": {
          "base_uri": "https://localhost:8080/"
        },
        "id": "l6qPGas022Ew",
        "outputId": "00998b68-4718-486c-f2eb-991f6e1adbc7"
      },
      "source": [
        "type(df.loc['b'])"
      ],
      "execution_count": null,
      "outputs": [
        {
          "output_type": "execute_result",
          "data": {
            "text/plain": [
              "pandas.core.series.Series"
            ]
          },
          "metadata": {
            "tags": []
          },
          "execution_count": 66
        }
      ]
    },
    {
      "cell_type": "code",
      "metadata": {
        "colab": {
          "base_uri": "https://localhost:8080/"
        },
        "id": "RTeK3Flx28C4",
        "outputId": "de500b17-334b-4a76-a72f-11578777b2e0"
      },
      "source": [
        "df.loc['b']"
      ],
      "execution_count": null,
      "outputs": [
        {
          "output_type": "execute_result",
          "data": {
            "text/plain": [
              "one    2.0\n",
              "two    2.0\n",
              "Name: b, dtype: float64"
            ]
          },
          "metadata": {
            "tags": []
          },
          "execution_count": 67
        }
      ]
    },
    {
      "cell_type": "code",
      "metadata": {
        "id": "VsKJJhhihFyq",
        "colab": {
          "base_uri": "https://localhost:8080/"
        },
        "outputId": "922965a8-f8eb-4094-b578-c9412a1b5885"
      },
      "source": [
        "df.loc['b'].two"
      ],
      "execution_count": null,
      "outputs": [
        {
          "output_type": "execute_result",
          "data": {
            "text/plain": [
              "2.0"
            ]
          },
          "metadata": {
            "tags": []
          },
          "execution_count": 68
        }
      ]
    },
    {
      "cell_type": "code",
      "metadata": {
        "colab": {
          "base_uri": "https://localhost:8080/"
        },
        "id": "HotCNLYb2tYY",
        "outputId": "5d78aed0-85d7-445d-e380-9ad0ac3de9fc"
      },
      "source": [
        "type(df.iloc[3])"
      ],
      "execution_count": null,
      "outputs": [
        {
          "output_type": "execute_result",
          "data": {
            "text/plain": [
              "pandas.core.series.Series"
            ]
          },
          "metadata": {
            "tags": []
          },
          "execution_count": 69
        }
      ]
    },
    {
      "cell_type": "code",
      "metadata": {
        "colab": {
          "base_uri": "https://localhost:8080/"
        },
        "id": "XJk93T2D2_it",
        "outputId": "dbf8ec94-dea4-492b-f5df-d1a8bf0572e3"
      },
      "source": [
        "df.iloc[3]"
      ],
      "execution_count": null,
      "outputs": [
        {
          "output_type": "execute_result",
          "data": {
            "text/plain": [
              "one    NaN\n",
              "two    4.0\n",
              "Name: d, dtype: float64"
            ]
          },
          "metadata": {
            "tags": []
          },
          "execution_count": 70
        }
      ]
    },
    {
      "cell_type": "code",
      "metadata": {
        "id": "7DSY8fLohSt6",
        "colab": {
          "base_uri": "https://localhost:8080/"
        },
        "outputId": "38a4b20d-980f-4a2a-bdc5-43951dbb41ec"
      },
      "source": [
        "df.iloc[3].iloc[1]"
      ],
      "execution_count": null,
      "outputs": [
        {
          "output_type": "execute_result",
          "data": {
            "text/plain": [
              "4.0"
            ]
          },
          "metadata": {
            "tags": []
          },
          "execution_count": 71
        }
      ]
    },
    {
      "cell_type": "code",
      "metadata": {
        "colab": {
          "base_uri": "https://localhost:8080/"
        },
        "id": "IKEcOeO4_Z6d",
        "outputId": "2d78b0bd-4ecc-4d81-e002-9de1e84f5941"
      },
      "source": [
        "df.iloc[3, 1]"
      ],
      "execution_count": null,
      "outputs": [
        {
          "output_type": "execute_result",
          "data": {
            "text/plain": [
              "4"
            ]
          },
          "metadata": {
            "tags": []
          },
          "execution_count": 72
        }
      ]
    },
    {
      "cell_type": "code",
      "metadata": {
        "id": "fYz3pl8qhlHV",
        "colab": {
          "base_uri": "https://localhost:8080/"
        },
        "outputId": "f8538670-b156-4023-97be-ea4928d1d722"
      },
      "source": [
        "df.loc['d'].loc['two']"
      ],
      "execution_count": null,
      "outputs": [
        {
          "output_type": "execute_result",
          "data": {
            "text/plain": [
              "4.0"
            ]
          },
          "metadata": {
            "tags": []
          },
          "execution_count": 73
        }
      ]
    },
    {
      "cell_type": "code",
      "metadata": {
        "id": "UdCMiTLQPOnK",
        "colab": {
          "base_uri": "https://localhost:8080/",
          "height": 166
        },
        "outputId": "5d5b4338-2376-4200-82ba-3a6c8b88160d"
      },
      "source": [
        "import pandas as pd\n",
        "\n",
        "df = pd.DataFrame({'Siswa': ['Imam', 'Abrar', 'Muthia', 'Itha'],\n",
        "                   'Umur' : [12,34,5,67],\n",
        "                   'Alamat' : ['Jln.1', 'Jln.2', 'Jln.3', 'Jln.4'],\n",
        "                   'Jenis Kelamin':['L', 'L', 'P', 'P']})\n",
        "df"
      ],
      "execution_count": null,
      "outputs": [
        {
          "output_type": "execute_result",
          "data": {
            "text/html": [
              "<div>\n",
              "<style scoped>\n",
              "    .dataframe tbody tr th:only-of-type {\n",
              "        vertical-align: middle;\n",
              "    }\n",
              "\n",
              "    .dataframe tbody tr th {\n",
              "        vertical-align: top;\n",
              "    }\n",
              "\n",
              "    .dataframe thead th {\n",
              "        text-align: right;\n",
              "    }\n",
              "</style>\n",
              "<table border=\"1\" class=\"dataframe\">\n",
              "  <thead>\n",
              "    <tr style=\"text-align: right;\">\n",
              "      <th></th>\n",
              "      <th>Siswa</th>\n",
              "      <th>Umur</th>\n",
              "      <th>Alamat</th>\n",
              "      <th>Jenis Kelamin</th>\n",
              "    </tr>\n",
              "  </thead>\n",
              "  <tbody>\n",
              "    <tr>\n",
              "      <th>0</th>\n",
              "      <td>Imam</td>\n",
              "      <td>12</td>\n",
              "      <td>Jln.1</td>\n",
              "      <td>L</td>\n",
              "    </tr>\n",
              "    <tr>\n",
              "      <th>1</th>\n",
              "      <td>Abrar</td>\n",
              "      <td>34</td>\n",
              "      <td>Jln.2</td>\n",
              "      <td>L</td>\n",
              "    </tr>\n",
              "    <tr>\n",
              "      <th>2</th>\n",
              "      <td>Muthia</td>\n",
              "      <td>5</td>\n",
              "      <td>Jln.3</td>\n",
              "      <td>P</td>\n",
              "    </tr>\n",
              "    <tr>\n",
              "      <th>3</th>\n",
              "      <td>Itha</td>\n",
              "      <td>67</td>\n",
              "      <td>Jln.4</td>\n",
              "      <td>P</td>\n",
              "    </tr>\n",
              "  </tbody>\n",
              "</table>\n",
              "</div>"
            ],
            "text/plain": [
              "    Siswa  Umur Alamat Jenis Kelamin\n",
              "0    Imam    12  Jln.1             L\n",
              "1   Abrar    34  Jln.2             L\n",
              "2  Muthia     5  Jln.3             P\n",
              "3    Itha    67  Jln.4             P"
            ]
          },
          "metadata": {
            "tags": []
          },
          "execution_count": 74
        }
      ]
    },
    {
      "cell_type": "code",
      "metadata": {
        "id": "09xMmqW0PhJg",
        "colab": {
          "base_uri": "https://localhost:8080/",
          "height": 136
        },
        "outputId": "f3ac971e-e17a-4103-8789-46392d72c535"
      },
      "source": [
        "df[df['Umur'] >= 12]"
      ],
      "execution_count": null,
      "outputs": [
        {
          "output_type": "execute_result",
          "data": {
            "text/html": [
              "<div>\n",
              "<style scoped>\n",
              "    .dataframe tbody tr th:only-of-type {\n",
              "        vertical-align: middle;\n",
              "    }\n",
              "\n",
              "    .dataframe tbody tr th {\n",
              "        vertical-align: top;\n",
              "    }\n",
              "\n",
              "    .dataframe thead th {\n",
              "        text-align: right;\n",
              "    }\n",
              "</style>\n",
              "<table border=\"1\" class=\"dataframe\">\n",
              "  <thead>\n",
              "    <tr style=\"text-align: right;\">\n",
              "      <th></th>\n",
              "      <th>Siswa</th>\n",
              "      <th>Umur</th>\n",
              "      <th>Alamat</th>\n",
              "      <th>Jenis Kelamin</th>\n",
              "    </tr>\n",
              "  </thead>\n",
              "  <tbody>\n",
              "    <tr>\n",
              "      <th>0</th>\n",
              "      <td>Imam</td>\n",
              "      <td>12</td>\n",
              "      <td>Jln.1</td>\n",
              "      <td>L</td>\n",
              "    </tr>\n",
              "    <tr>\n",
              "      <th>1</th>\n",
              "      <td>Abrar</td>\n",
              "      <td>34</td>\n",
              "      <td>Jln.2</td>\n",
              "      <td>L</td>\n",
              "    </tr>\n",
              "    <tr>\n",
              "      <th>3</th>\n",
              "      <td>Itha</td>\n",
              "      <td>67</td>\n",
              "      <td>Jln.4</td>\n",
              "      <td>P</td>\n",
              "    </tr>\n",
              "  </tbody>\n",
              "</table>\n",
              "</div>"
            ],
            "text/plain": [
              "   Siswa  Umur Alamat Jenis Kelamin\n",
              "0   Imam    12  Jln.1             L\n",
              "1  Abrar    34  Jln.2             L\n",
              "3   Itha    67  Jln.4             P"
            ]
          },
          "metadata": {
            "tags": []
          },
          "execution_count": 75
        }
      ]
    },
    {
      "cell_type": "code",
      "metadata": {
        "id": "dkjxwJ5WPnRG",
        "colab": {
          "base_uri": "https://localhost:8080/",
          "height": 106
        },
        "outputId": "2d9eac88-71dc-483b-d6d9-06654da6ef09"
      },
      "source": [
        "df[(df['Umur'] >= 12) & (df['Jenis Kelamin'] == 'L')]"
      ],
      "execution_count": null,
      "outputs": [
        {
          "output_type": "execute_result",
          "data": {
            "text/html": [
              "<div>\n",
              "<style scoped>\n",
              "    .dataframe tbody tr th:only-of-type {\n",
              "        vertical-align: middle;\n",
              "    }\n",
              "\n",
              "    .dataframe tbody tr th {\n",
              "        vertical-align: top;\n",
              "    }\n",
              "\n",
              "    .dataframe thead th {\n",
              "        text-align: right;\n",
              "    }\n",
              "</style>\n",
              "<table border=\"1\" class=\"dataframe\">\n",
              "  <thead>\n",
              "    <tr style=\"text-align: right;\">\n",
              "      <th></th>\n",
              "      <th>Siswa</th>\n",
              "      <th>Umur</th>\n",
              "      <th>Alamat</th>\n",
              "      <th>Jenis Kelamin</th>\n",
              "    </tr>\n",
              "  </thead>\n",
              "  <tbody>\n",
              "    <tr>\n",
              "      <th>0</th>\n",
              "      <td>Imam</td>\n",
              "      <td>12</td>\n",
              "      <td>Jln.1</td>\n",
              "      <td>L</td>\n",
              "    </tr>\n",
              "    <tr>\n",
              "      <th>1</th>\n",
              "      <td>Abrar</td>\n",
              "      <td>34</td>\n",
              "      <td>Jln.2</td>\n",
              "      <td>L</td>\n",
              "    </tr>\n",
              "  </tbody>\n",
              "</table>\n",
              "</div>"
            ],
            "text/plain": [
              "   Siswa  Umur Alamat Jenis Kelamin\n",
              "0   Imam    12  Jln.1             L\n",
              "1  Abrar    34  Jln.2             L"
            ]
          },
          "metadata": {
            "tags": []
          },
          "execution_count": 76
        }
      ]
    },
    {
      "cell_type": "markdown",
      "metadata": {
        "id": "Ddg_x9R0CCFN"
      },
      "source": [
        "### df.column"
      ]
    },
    {
      "cell_type": "code",
      "metadata": {
        "id": "f3TQ4kNMCQGc",
        "colab": {
          "base_uri": "https://localhost:8080/",
          "height": 166
        },
        "outputId": "847c53de-99ed-458c-ab21-42716b08868f"
      },
      "source": [
        "import pandas as pd\n",
        "\n",
        "df = pd.DataFrame({'Calon President': ['Imam', 'Abrar', 'Muthia', 'Itha'],\n",
        "                   'Umur' : [12,34,5,67],\n",
        "                   'Alamat' : ['Jln.1', 'Jln.2', 'Jln.3', 'Jln.4'],\n",
        "                   'Jumlah Voting': [100, 50, 60, 20],\n",
        "                   'Jenis Kelamin':['L', 'L', 'P', 'P'],\n",
        "                   'Negara':['Indonesia', 'Australia', 'Amerika', 'Mesir']})\n",
        "df"
      ],
      "execution_count": null,
      "outputs": [
        {
          "output_type": "execute_result",
          "data": {
            "text/html": [
              "<div>\n",
              "<style scoped>\n",
              "    .dataframe tbody tr th:only-of-type {\n",
              "        vertical-align: middle;\n",
              "    }\n",
              "\n",
              "    .dataframe tbody tr th {\n",
              "        vertical-align: top;\n",
              "    }\n",
              "\n",
              "    .dataframe thead th {\n",
              "        text-align: right;\n",
              "    }\n",
              "</style>\n",
              "<table border=\"1\" class=\"dataframe\">\n",
              "  <thead>\n",
              "    <tr style=\"text-align: right;\">\n",
              "      <th></th>\n",
              "      <th>Calon President</th>\n",
              "      <th>Umur</th>\n",
              "      <th>Alamat</th>\n",
              "      <th>Jumlah Voting</th>\n",
              "      <th>Jenis Kelamin</th>\n",
              "      <th>Negara</th>\n",
              "    </tr>\n",
              "  </thead>\n",
              "  <tbody>\n",
              "    <tr>\n",
              "      <th>0</th>\n",
              "      <td>Imam</td>\n",
              "      <td>12</td>\n",
              "      <td>Jln.1</td>\n",
              "      <td>100</td>\n",
              "      <td>L</td>\n",
              "      <td>Indonesia</td>\n",
              "    </tr>\n",
              "    <tr>\n",
              "      <th>1</th>\n",
              "      <td>Abrar</td>\n",
              "      <td>34</td>\n",
              "      <td>Jln.2</td>\n",
              "      <td>50</td>\n",
              "      <td>L</td>\n",
              "      <td>Australia</td>\n",
              "    </tr>\n",
              "    <tr>\n",
              "      <th>2</th>\n",
              "      <td>Muthia</td>\n",
              "      <td>5</td>\n",
              "      <td>Jln.3</td>\n",
              "      <td>60</td>\n",
              "      <td>P</td>\n",
              "      <td>Amerika</td>\n",
              "    </tr>\n",
              "    <tr>\n",
              "      <th>3</th>\n",
              "      <td>Itha</td>\n",
              "      <td>67</td>\n",
              "      <td>Jln.4</td>\n",
              "      <td>20</td>\n",
              "      <td>P</td>\n",
              "      <td>Mesir</td>\n",
              "    </tr>\n",
              "  </tbody>\n",
              "</table>\n",
              "</div>"
            ],
            "text/plain": [
              "  Calon President  Umur Alamat  Jumlah Voting Jenis Kelamin     Negara\n",
              "0            Imam    12  Jln.1            100             L  Indonesia\n",
              "1           Abrar    34  Jln.2             50             L  Australia\n",
              "2          Muthia     5  Jln.3             60             P    Amerika\n",
              "3            Itha    67  Jln.4             20             P      Mesir"
            ]
          },
          "metadata": {
            "tags": []
          },
          "execution_count": 77
        }
      ]
    },
    {
      "cell_type": "code",
      "metadata": {
        "id": "YRsD2LvKFQWl",
        "colab": {
          "base_uri": "https://localhost:8080/"
        },
        "outputId": "ac48be79-dded-4090-8890-97e9dfff05a8"
      },
      "source": [
        "df.Umur # series"
      ],
      "execution_count": null,
      "outputs": [
        {
          "output_type": "execute_result",
          "data": {
            "text/plain": [
              "0    12\n",
              "1    34\n",
              "2     5\n",
              "3    67\n",
              "Name: Umur, dtype: int64"
            ]
          },
          "metadata": {
            "tags": []
          },
          "execution_count": 78
        }
      ]
    },
    {
      "cell_type": "code",
      "metadata": {
        "id": "3cdY9ZwAlgR6",
        "colab": {
          "base_uri": "https://localhost:8080/"
        },
        "outputId": "a6f33090-04dc-4e8c-d462-be95bbf15ef5"
      },
      "source": [
        "df.Umur[2]"
      ],
      "execution_count": null,
      "outputs": [
        {
          "output_type": "execute_result",
          "data": {
            "text/plain": [
              "5"
            ]
          },
          "metadata": {
            "tags": []
          },
          "execution_count": 79
        }
      ]
    },
    {
      "cell_type": "code",
      "metadata": {
        "id": "fsGaDjyylugk",
        "colab": {
          "base_uri": "https://localhost:8080/"
        },
        "outputId": "566eb95a-1a70-4095-f02a-e691d6780d41"
      },
      "source": [
        "df.Umur[0:2]"
      ],
      "execution_count": null,
      "outputs": [
        {
          "output_type": "execute_result",
          "data": {
            "text/plain": [
              "0    12\n",
              "1    34\n",
              "Name: Umur, dtype: int64"
            ]
          },
          "metadata": {
            "tags": []
          },
          "execution_count": 80
        }
      ]
    },
    {
      "cell_type": "code",
      "metadata": {
        "id": "SyJZyhmelzmp",
        "colab": {
          "base_uri": "https://localhost:8080/",
          "height": 166
        },
        "outputId": "b9eac932-467c-494d-98b2-5fc38271fcdf"
      },
      "source": [
        "df[df.columns[1:3]]"
      ],
      "execution_count": null,
      "outputs": [
        {
          "output_type": "execute_result",
          "data": {
            "text/html": [
              "<div>\n",
              "<style scoped>\n",
              "    .dataframe tbody tr th:only-of-type {\n",
              "        vertical-align: middle;\n",
              "    }\n",
              "\n",
              "    .dataframe tbody tr th {\n",
              "        vertical-align: top;\n",
              "    }\n",
              "\n",
              "    .dataframe thead th {\n",
              "        text-align: right;\n",
              "    }\n",
              "</style>\n",
              "<table border=\"1\" class=\"dataframe\">\n",
              "  <thead>\n",
              "    <tr style=\"text-align: right;\">\n",
              "      <th></th>\n",
              "      <th>Umur</th>\n",
              "      <th>Alamat</th>\n",
              "    </tr>\n",
              "  </thead>\n",
              "  <tbody>\n",
              "    <tr>\n",
              "      <th>0</th>\n",
              "      <td>12</td>\n",
              "      <td>Jln.1</td>\n",
              "    </tr>\n",
              "    <tr>\n",
              "      <th>1</th>\n",
              "      <td>34</td>\n",
              "      <td>Jln.2</td>\n",
              "    </tr>\n",
              "    <tr>\n",
              "      <th>2</th>\n",
              "      <td>5</td>\n",
              "      <td>Jln.3</td>\n",
              "    </tr>\n",
              "    <tr>\n",
              "      <th>3</th>\n",
              "      <td>67</td>\n",
              "      <td>Jln.4</td>\n",
              "    </tr>\n",
              "  </tbody>\n",
              "</table>\n",
              "</div>"
            ],
            "text/plain": [
              "   Umur Alamat\n",
              "0    12  Jln.1\n",
              "1    34  Jln.2\n",
              "2     5  Jln.3\n",
              "3    67  Jln.4"
            ]
          },
          "metadata": {
            "tags": []
          },
          "execution_count": 81
        }
      ]
    },
    {
      "cell_type": "markdown",
      "metadata": {
        "id": "cE1ZHmWgB78I"
      },
      "source": [
        "### df.loc[ : , : ] and df.loc[ [index/filtering] , [ col] ] (label)\n",
        "\n",
        "***label*** indexing and slicing\n",
        "\n",
        "**select row**\n",
        "\n",
        "> df.loc[idx_row]\n",
        "\n",
        "> df.loc[idx_row_start:idx_row_end]\n",
        "\n",
        "> df.loc[[row1,row2,row3,row n]]\n",
        "\n",
        "**select columns**\n",
        "\n",
        "> df.loc[ : , col]\n",
        "\n",
        "> df.loc[ : , col_start:col_end]\n",
        "\n",
        "> df.loc[ : , [col1, col2, col3, col n]]\n",
        "\n",
        "slicing (select cols and rows)\n",
        "\n",
        "> df.loc[idx_row_start:idx_row_end, col_start:col_end]\n",
        "\n",
        "select with indexing\n",
        "\n",
        "> df.loc[[row1,row2,row3,row n], [col1, col2, col3, col n]]\n",
        "\n",
        "filtering\n",
        "\n",
        "> df.loc[df['column_name'] == some_value]\n",
        "\n",
        "> df.loc[df['column_name'] == some_value]\n",
        "\n",
        "iterable\n",
        "\n",
        "> df.loc[df['column_name'].isin(some_values)]\n",
        "\n",
        "combine with Operator Logical\n",
        "\n",
        "> df.loc[(df['column_name'] >= A) & (df['column_name'] <= B)]\n",
        "\n",
        "......................................................................................\n",
        "\n",
        "[DataFrame.loc](https://pandas.pydata.org/pandas-docs/version/0.23.1/generated/pandas.DataFrame.loc.html)\n",
        "\n",
        "Access a group of rows and columns by label(s) or a boolean array.\n",
        "\n",
        ".loc[] is primarily label based, but may also be used with a boolean array.\n",
        "\n",
        "Allowed inputs are:\n",
        "\n",
        "* A single label, e.g. 5 or 'a', (note that 5 is interpreted as a label of the index, and never as an integer position along the index).\n",
        "\n",
        "* A list or array of labels, e.g. ['a', 'b', 'c'].\n",
        "\n",
        "* A slice object with labels, e.g. 'a':'f'.\n",
        "\n",
        "`Warning Note that contrary to usual python slices, both the start and the stop are included`\n",
        "\n",
        "* A boolean array of the same length as the axis being sliced, e.g. [True, False, True].\n",
        "\n",
        "A callable function with one argument (the calling Series, DataFrame or Panel) and that returns valid output for indexing (one of the above)\n",
        "\n"
      ]
    },
    {
      "cell_type": "code",
      "metadata": {
        "id": "4BE_JWoHC8t3",
        "colab": {
          "base_uri": "https://localhost:8080/",
          "height": 166
        },
        "outputId": "5896730f-01cd-4c5b-9c94-351acc5db72a"
      },
      "source": [
        "import pandas as pd\n",
        "\n",
        "df = pd.DataFrame({'Calon President': ['Imam', 'Abrar', 'Muthia', 'Itha'],\n",
        "                   'Umur' : [12,34,5,67],\n",
        "                   'Alamat' : ['Jln.1', 'Jln.2', 'Jln.3', 'Jln.4'],\n",
        "                   'Jumlah Voting': [100, 50, 60, 20],\n",
        "                   'Jenis Kelamin':['L', 'L', 'P', 'P'],\n",
        "                   'Negara':['Indonesia', 'Australia', 'Amerika', 'Mesir']})\n",
        "df"
      ],
      "execution_count": null,
      "outputs": [
        {
          "output_type": "execute_result",
          "data": {
            "text/html": [
              "<div>\n",
              "<style scoped>\n",
              "    .dataframe tbody tr th:only-of-type {\n",
              "        vertical-align: middle;\n",
              "    }\n",
              "\n",
              "    .dataframe tbody tr th {\n",
              "        vertical-align: top;\n",
              "    }\n",
              "\n",
              "    .dataframe thead th {\n",
              "        text-align: right;\n",
              "    }\n",
              "</style>\n",
              "<table border=\"1\" class=\"dataframe\">\n",
              "  <thead>\n",
              "    <tr style=\"text-align: right;\">\n",
              "      <th></th>\n",
              "      <th>Calon President</th>\n",
              "      <th>Umur</th>\n",
              "      <th>Alamat</th>\n",
              "      <th>Jumlah Voting</th>\n",
              "      <th>Jenis Kelamin</th>\n",
              "      <th>Negara</th>\n",
              "    </tr>\n",
              "  </thead>\n",
              "  <tbody>\n",
              "    <tr>\n",
              "      <th>0</th>\n",
              "      <td>Imam</td>\n",
              "      <td>12</td>\n",
              "      <td>Jln.1</td>\n",
              "      <td>100</td>\n",
              "      <td>L</td>\n",
              "      <td>Indonesia</td>\n",
              "    </tr>\n",
              "    <tr>\n",
              "      <th>1</th>\n",
              "      <td>Abrar</td>\n",
              "      <td>34</td>\n",
              "      <td>Jln.2</td>\n",
              "      <td>50</td>\n",
              "      <td>L</td>\n",
              "      <td>Australia</td>\n",
              "    </tr>\n",
              "    <tr>\n",
              "      <th>2</th>\n",
              "      <td>Muthia</td>\n",
              "      <td>5</td>\n",
              "      <td>Jln.3</td>\n",
              "      <td>60</td>\n",
              "      <td>P</td>\n",
              "      <td>Amerika</td>\n",
              "    </tr>\n",
              "    <tr>\n",
              "      <th>3</th>\n",
              "      <td>Itha</td>\n",
              "      <td>67</td>\n",
              "      <td>Jln.4</td>\n",
              "      <td>20</td>\n",
              "      <td>P</td>\n",
              "      <td>Mesir</td>\n",
              "    </tr>\n",
              "  </tbody>\n",
              "</table>\n",
              "</div>"
            ],
            "text/plain": [
              "  Calon President  Umur Alamat  Jumlah Voting Jenis Kelamin     Negara\n",
              "0            Imam    12  Jln.1            100             L  Indonesia\n",
              "1           Abrar    34  Jln.2             50             L  Australia\n",
              "2          Muthia     5  Jln.3             60             P    Amerika\n",
              "3            Itha    67  Jln.4             20             P      Mesir"
            ]
          },
          "metadata": {
            "tags": []
          },
          "execution_count": 82
        }
      ]
    },
    {
      "cell_type": "code",
      "metadata": {
        "id": "veMRla4XeuVB",
        "colab": {
          "base_uri": "https://localhost:8080/",
          "height": 77
        },
        "outputId": "4b05ef8e-3672-44ca-9e86-09fab7bd77fc"
      },
      "source": [
        "df.loc[[2]]"
      ],
      "execution_count": null,
      "outputs": [
        {
          "output_type": "execute_result",
          "data": {
            "text/html": [
              "<div>\n",
              "<style scoped>\n",
              "    .dataframe tbody tr th:only-of-type {\n",
              "        vertical-align: middle;\n",
              "    }\n",
              "\n",
              "    .dataframe tbody tr th {\n",
              "        vertical-align: top;\n",
              "    }\n",
              "\n",
              "    .dataframe thead th {\n",
              "        text-align: right;\n",
              "    }\n",
              "</style>\n",
              "<table border=\"1\" class=\"dataframe\">\n",
              "  <thead>\n",
              "    <tr style=\"text-align: right;\">\n",
              "      <th></th>\n",
              "      <th>Calon President</th>\n",
              "      <th>Umur</th>\n",
              "      <th>Alamat</th>\n",
              "      <th>Jumlah Voting</th>\n",
              "      <th>Jenis Kelamin</th>\n",
              "      <th>Negara</th>\n",
              "    </tr>\n",
              "  </thead>\n",
              "  <tbody>\n",
              "    <tr>\n",
              "      <th>2</th>\n",
              "      <td>Muthia</td>\n",
              "      <td>5</td>\n",
              "      <td>Jln.3</td>\n",
              "      <td>60</td>\n",
              "      <td>P</td>\n",
              "      <td>Amerika</td>\n",
              "    </tr>\n",
              "  </tbody>\n",
              "</table>\n",
              "</div>"
            ],
            "text/plain": [
              "  Calon President  Umur Alamat  Jumlah Voting Jenis Kelamin   Negara\n",
              "2          Muthia     5  Jln.3             60             P  Amerika"
            ]
          },
          "metadata": {
            "tags": []
          },
          "execution_count": 83
        }
      ]
    },
    {
      "cell_type": "code",
      "metadata": {
        "id": "ssW5CEPfeyhQ",
        "colab": {
          "base_uri": "https://localhost:8080/",
          "height": 166
        },
        "outputId": "f4b3a655-755c-4b07-d58d-75beb24b9bc0"
      },
      "source": [
        "df.loc[:,['Negara']]"
      ],
      "execution_count": null,
      "outputs": [
        {
          "output_type": "execute_result",
          "data": {
            "text/html": [
              "<div>\n",
              "<style scoped>\n",
              "    .dataframe tbody tr th:only-of-type {\n",
              "        vertical-align: middle;\n",
              "    }\n",
              "\n",
              "    .dataframe tbody tr th {\n",
              "        vertical-align: top;\n",
              "    }\n",
              "\n",
              "    .dataframe thead th {\n",
              "        text-align: right;\n",
              "    }\n",
              "</style>\n",
              "<table border=\"1\" class=\"dataframe\">\n",
              "  <thead>\n",
              "    <tr style=\"text-align: right;\">\n",
              "      <th></th>\n",
              "      <th>Negara</th>\n",
              "    </tr>\n",
              "  </thead>\n",
              "  <tbody>\n",
              "    <tr>\n",
              "      <th>0</th>\n",
              "      <td>Indonesia</td>\n",
              "    </tr>\n",
              "    <tr>\n",
              "      <th>1</th>\n",
              "      <td>Australia</td>\n",
              "    </tr>\n",
              "    <tr>\n",
              "      <th>2</th>\n",
              "      <td>Amerika</td>\n",
              "    </tr>\n",
              "    <tr>\n",
              "      <th>3</th>\n",
              "      <td>Mesir</td>\n",
              "    </tr>\n",
              "  </tbody>\n",
              "</table>\n",
              "</div>"
            ],
            "text/plain": [
              "      Negara\n",
              "0  Indonesia\n",
              "1  Australia\n",
              "2    Amerika\n",
              "3      Mesir"
            ]
          },
          "metadata": {
            "tags": []
          },
          "execution_count": 84
        }
      ]
    },
    {
      "cell_type": "code",
      "metadata": {
        "id": "jmw1W6dGE52J",
        "colab": {
          "base_uri": "https://localhost:8080/",
          "height": 136
        },
        "outputId": "7f069e26-5ad2-4553-e42a-6e6ffe2e2ae3"
      },
      "source": [
        "df.loc[0:2, 'Calon President':'Jumlah Voting']"
      ],
      "execution_count": null,
      "outputs": [
        {
          "output_type": "execute_result",
          "data": {
            "text/html": [
              "<div>\n",
              "<style scoped>\n",
              "    .dataframe tbody tr th:only-of-type {\n",
              "        vertical-align: middle;\n",
              "    }\n",
              "\n",
              "    .dataframe tbody tr th {\n",
              "        vertical-align: top;\n",
              "    }\n",
              "\n",
              "    .dataframe thead th {\n",
              "        text-align: right;\n",
              "    }\n",
              "</style>\n",
              "<table border=\"1\" class=\"dataframe\">\n",
              "  <thead>\n",
              "    <tr style=\"text-align: right;\">\n",
              "      <th></th>\n",
              "      <th>Calon President</th>\n",
              "      <th>Umur</th>\n",
              "      <th>Alamat</th>\n",
              "      <th>Jumlah Voting</th>\n",
              "    </tr>\n",
              "  </thead>\n",
              "  <tbody>\n",
              "    <tr>\n",
              "      <th>0</th>\n",
              "      <td>Imam</td>\n",
              "      <td>12</td>\n",
              "      <td>Jln.1</td>\n",
              "      <td>100</td>\n",
              "    </tr>\n",
              "    <tr>\n",
              "      <th>1</th>\n",
              "      <td>Abrar</td>\n",
              "      <td>34</td>\n",
              "      <td>Jln.2</td>\n",
              "      <td>50</td>\n",
              "    </tr>\n",
              "    <tr>\n",
              "      <th>2</th>\n",
              "      <td>Muthia</td>\n",
              "      <td>5</td>\n",
              "      <td>Jln.3</td>\n",
              "      <td>60</td>\n",
              "    </tr>\n",
              "  </tbody>\n",
              "</table>\n",
              "</div>"
            ],
            "text/plain": [
              "  Calon President  Umur Alamat  Jumlah Voting\n",
              "0            Imam    12  Jln.1            100\n",
              "1           Abrar    34  Jln.2             50\n",
              "2          Muthia     5  Jln.3             60"
            ]
          },
          "metadata": {
            "tags": []
          },
          "execution_count": 85
        }
      ]
    },
    {
      "cell_type": "code",
      "metadata": {
        "id": "tj8agh0ZHHTl",
        "colab": {
          "base_uri": "https://localhost:8080/",
          "height": 106
        },
        "outputId": "dcac4926-5ddf-4033-fd0d-268473c61deb"
      },
      "source": [
        "df.loc[[0,2], ['Calon President', 'Jumlah Voting']]"
      ],
      "execution_count": null,
      "outputs": [
        {
          "output_type": "execute_result",
          "data": {
            "text/html": [
              "<div>\n",
              "<style scoped>\n",
              "    .dataframe tbody tr th:only-of-type {\n",
              "        vertical-align: middle;\n",
              "    }\n",
              "\n",
              "    .dataframe tbody tr th {\n",
              "        vertical-align: top;\n",
              "    }\n",
              "\n",
              "    .dataframe thead th {\n",
              "        text-align: right;\n",
              "    }\n",
              "</style>\n",
              "<table border=\"1\" class=\"dataframe\">\n",
              "  <thead>\n",
              "    <tr style=\"text-align: right;\">\n",
              "      <th></th>\n",
              "      <th>Calon President</th>\n",
              "      <th>Jumlah Voting</th>\n",
              "    </tr>\n",
              "  </thead>\n",
              "  <tbody>\n",
              "    <tr>\n",
              "      <th>0</th>\n",
              "      <td>Imam</td>\n",
              "      <td>100</td>\n",
              "    </tr>\n",
              "    <tr>\n",
              "      <th>2</th>\n",
              "      <td>Muthia</td>\n",
              "      <td>60</td>\n",
              "    </tr>\n",
              "  </tbody>\n",
              "</table>\n",
              "</div>"
            ],
            "text/plain": [
              "  Calon President  Jumlah Voting\n",
              "0            Imam            100\n",
              "2          Muthia             60"
            ]
          },
          "metadata": {
            "tags": []
          },
          "execution_count": 86
        }
      ]
    },
    {
      "cell_type": "code",
      "metadata": {
        "id": "qPTlg9dFMMO_",
        "colab": {
          "base_uri": "https://localhost:8080/",
          "height": 106
        },
        "outputId": "113c74d8-fb9c-49ca-e024-e754509cb1ac"
      },
      "source": [
        "df.loc[df['Jenis Kelamin'] == 'L']"
      ],
      "execution_count": null,
      "outputs": [
        {
          "output_type": "execute_result",
          "data": {
            "text/html": [
              "<div>\n",
              "<style scoped>\n",
              "    .dataframe tbody tr th:only-of-type {\n",
              "        vertical-align: middle;\n",
              "    }\n",
              "\n",
              "    .dataframe tbody tr th {\n",
              "        vertical-align: top;\n",
              "    }\n",
              "\n",
              "    .dataframe thead th {\n",
              "        text-align: right;\n",
              "    }\n",
              "</style>\n",
              "<table border=\"1\" class=\"dataframe\">\n",
              "  <thead>\n",
              "    <tr style=\"text-align: right;\">\n",
              "      <th></th>\n",
              "      <th>Calon President</th>\n",
              "      <th>Umur</th>\n",
              "      <th>Alamat</th>\n",
              "      <th>Jumlah Voting</th>\n",
              "      <th>Jenis Kelamin</th>\n",
              "      <th>Negara</th>\n",
              "    </tr>\n",
              "  </thead>\n",
              "  <tbody>\n",
              "    <tr>\n",
              "      <th>0</th>\n",
              "      <td>Imam</td>\n",
              "      <td>12</td>\n",
              "      <td>Jln.1</td>\n",
              "      <td>100</td>\n",
              "      <td>L</td>\n",
              "      <td>Indonesia</td>\n",
              "    </tr>\n",
              "    <tr>\n",
              "      <th>1</th>\n",
              "      <td>Abrar</td>\n",
              "      <td>34</td>\n",
              "      <td>Jln.2</td>\n",
              "      <td>50</td>\n",
              "      <td>L</td>\n",
              "      <td>Australia</td>\n",
              "    </tr>\n",
              "  </tbody>\n",
              "</table>\n",
              "</div>"
            ],
            "text/plain": [
              "  Calon President  Umur Alamat  Jumlah Voting Jenis Kelamin     Negara\n",
              "0            Imam    12  Jln.1            100             L  Indonesia\n",
              "1           Abrar    34  Jln.2             50             L  Australia"
            ]
          },
          "metadata": {
            "tags": []
          },
          "execution_count": 87
        }
      ]
    },
    {
      "cell_type": "code",
      "metadata": {
        "id": "WX3qPUV0MXFW",
        "colab": {
          "base_uri": "https://localhost:8080/",
          "height": 106
        },
        "outputId": "74a64527-822e-48e6-c57d-70ac1bf6a440"
      },
      "source": [
        "df.loc[(df['Umur'] >= 12) & (df['Jenis Kelamin'] == 'L')]"
      ],
      "execution_count": null,
      "outputs": [
        {
          "output_type": "execute_result",
          "data": {
            "text/html": [
              "<div>\n",
              "<style scoped>\n",
              "    .dataframe tbody tr th:only-of-type {\n",
              "        vertical-align: middle;\n",
              "    }\n",
              "\n",
              "    .dataframe tbody tr th {\n",
              "        vertical-align: top;\n",
              "    }\n",
              "\n",
              "    .dataframe thead th {\n",
              "        text-align: right;\n",
              "    }\n",
              "</style>\n",
              "<table border=\"1\" class=\"dataframe\">\n",
              "  <thead>\n",
              "    <tr style=\"text-align: right;\">\n",
              "      <th></th>\n",
              "      <th>Calon President</th>\n",
              "      <th>Umur</th>\n",
              "      <th>Alamat</th>\n",
              "      <th>Jumlah Voting</th>\n",
              "      <th>Jenis Kelamin</th>\n",
              "      <th>Negara</th>\n",
              "    </tr>\n",
              "  </thead>\n",
              "  <tbody>\n",
              "    <tr>\n",
              "      <th>0</th>\n",
              "      <td>Imam</td>\n",
              "      <td>12</td>\n",
              "      <td>Jln.1</td>\n",
              "      <td>100</td>\n",
              "      <td>L</td>\n",
              "      <td>Indonesia</td>\n",
              "    </tr>\n",
              "    <tr>\n",
              "      <th>1</th>\n",
              "      <td>Abrar</td>\n",
              "      <td>34</td>\n",
              "      <td>Jln.2</td>\n",
              "      <td>50</td>\n",
              "      <td>L</td>\n",
              "      <td>Australia</td>\n",
              "    </tr>\n",
              "  </tbody>\n",
              "</table>\n",
              "</div>"
            ],
            "text/plain": [
              "  Calon President  Umur Alamat  Jumlah Voting Jenis Kelamin     Negara\n",
              "0            Imam    12  Jln.1            100             L  Indonesia\n",
              "1           Abrar    34  Jln.2             50             L  Australia"
            ]
          },
          "metadata": {
            "tags": []
          },
          "execution_count": 88
        }
      ]
    },
    {
      "cell_type": "code",
      "metadata": {
        "id": "ZqilXyYaSgmR",
        "colab": {
          "base_uri": "https://localhost:8080/",
          "height": 106
        },
        "outputId": "0aba3ec5-33f8-44d6-c8a0-d6bda09470ca"
      },
      "source": [
        "lakilaki = df['Jenis Kelamin'] == 'L'\n",
        "umur = df['Umur'] >= 12\n",
        "df.loc[lakilaki & umur]"
      ],
      "execution_count": null,
      "outputs": [
        {
          "output_type": "execute_result",
          "data": {
            "text/html": [
              "<div>\n",
              "<style scoped>\n",
              "    .dataframe tbody tr th:only-of-type {\n",
              "        vertical-align: middle;\n",
              "    }\n",
              "\n",
              "    .dataframe tbody tr th {\n",
              "        vertical-align: top;\n",
              "    }\n",
              "\n",
              "    .dataframe thead th {\n",
              "        text-align: right;\n",
              "    }\n",
              "</style>\n",
              "<table border=\"1\" class=\"dataframe\">\n",
              "  <thead>\n",
              "    <tr style=\"text-align: right;\">\n",
              "      <th></th>\n",
              "      <th>Calon President</th>\n",
              "      <th>Umur</th>\n",
              "      <th>Alamat</th>\n",
              "      <th>Jumlah Voting</th>\n",
              "      <th>Jenis Kelamin</th>\n",
              "      <th>Negara</th>\n",
              "    </tr>\n",
              "  </thead>\n",
              "  <tbody>\n",
              "    <tr>\n",
              "      <th>0</th>\n",
              "      <td>Imam</td>\n",
              "      <td>12</td>\n",
              "      <td>Jln.1</td>\n",
              "      <td>100</td>\n",
              "      <td>L</td>\n",
              "      <td>Indonesia</td>\n",
              "    </tr>\n",
              "    <tr>\n",
              "      <th>1</th>\n",
              "      <td>Abrar</td>\n",
              "      <td>34</td>\n",
              "      <td>Jln.2</td>\n",
              "      <td>50</td>\n",
              "      <td>L</td>\n",
              "      <td>Australia</td>\n",
              "    </tr>\n",
              "  </tbody>\n",
              "</table>\n",
              "</div>"
            ],
            "text/plain": [
              "  Calon President  Umur Alamat  Jumlah Voting Jenis Kelamin     Negara\n",
              "0            Imam    12  Jln.1            100             L  Indonesia\n",
              "1           Abrar    34  Jln.2             50             L  Australia"
            ]
          },
          "metadata": {
            "tags": []
          },
          "execution_count": 89
        }
      ]
    },
    {
      "cell_type": "code",
      "metadata": {
        "id": "iOCKCACsaUPP",
        "colab": {
          "base_uri": "https://localhost:8080/",
          "height": 225
        },
        "outputId": "9491798a-ce62-4079-a0ac-da0f726b8c87"
      },
      "source": [
        "import pandas as pd\n",
        "\n",
        "d = {'one' : pd.Series([1, 2, 3], index=['a', 'b', 'c']), \n",
        "   'two' : pd.Series([1, 2, 3, 4], index=['a', 'b', 'c', 'd']),\n",
        "   'tree' : pd.Series([1, 2, 3, 4, 5], index=['a', 'b', 'c', 'd', 'e']),\n",
        "   'four' : pd.Series([1, 2, 3, 4, 5, 6], index=['a', 'b', 'c', 'd', 'e', 'f'])}\n",
        "\n",
        "data_frame = pd.DataFrame(d)\n",
        "data_frame"
      ],
      "execution_count": null,
      "outputs": [
        {
          "output_type": "execute_result",
          "data": {
            "text/html": [
              "<div>\n",
              "<style scoped>\n",
              "    .dataframe tbody tr th:only-of-type {\n",
              "        vertical-align: middle;\n",
              "    }\n",
              "\n",
              "    .dataframe tbody tr th {\n",
              "        vertical-align: top;\n",
              "    }\n",
              "\n",
              "    .dataframe thead th {\n",
              "        text-align: right;\n",
              "    }\n",
              "</style>\n",
              "<table border=\"1\" class=\"dataframe\">\n",
              "  <thead>\n",
              "    <tr style=\"text-align: right;\">\n",
              "      <th></th>\n",
              "      <th>one</th>\n",
              "      <th>two</th>\n",
              "      <th>tree</th>\n",
              "      <th>four</th>\n",
              "    </tr>\n",
              "  </thead>\n",
              "  <tbody>\n",
              "    <tr>\n",
              "      <th>a</th>\n",
              "      <td>1.0</td>\n",
              "      <td>1.0</td>\n",
              "      <td>1.0</td>\n",
              "      <td>1</td>\n",
              "    </tr>\n",
              "    <tr>\n",
              "      <th>b</th>\n",
              "      <td>2.0</td>\n",
              "      <td>2.0</td>\n",
              "      <td>2.0</td>\n",
              "      <td>2</td>\n",
              "    </tr>\n",
              "    <tr>\n",
              "      <th>c</th>\n",
              "      <td>3.0</td>\n",
              "      <td>3.0</td>\n",
              "      <td>3.0</td>\n",
              "      <td>3</td>\n",
              "    </tr>\n",
              "    <tr>\n",
              "      <th>d</th>\n",
              "      <td>NaN</td>\n",
              "      <td>4.0</td>\n",
              "      <td>4.0</td>\n",
              "      <td>4</td>\n",
              "    </tr>\n",
              "    <tr>\n",
              "      <th>e</th>\n",
              "      <td>NaN</td>\n",
              "      <td>NaN</td>\n",
              "      <td>5.0</td>\n",
              "      <td>5</td>\n",
              "    </tr>\n",
              "    <tr>\n",
              "      <th>f</th>\n",
              "      <td>NaN</td>\n",
              "      <td>NaN</td>\n",
              "      <td>NaN</td>\n",
              "      <td>6</td>\n",
              "    </tr>\n",
              "  </tbody>\n",
              "</table>\n",
              "</div>"
            ],
            "text/plain": [
              "   one  two  tree  four\n",
              "a  1.0  1.0   1.0     1\n",
              "b  2.0  2.0   2.0     2\n",
              "c  3.0  3.0   3.0     3\n",
              "d  NaN  4.0   4.0     4\n",
              "e  NaN  NaN   5.0     5\n",
              "f  NaN  NaN   NaN     6"
            ]
          },
          "metadata": {
            "tags": []
          },
          "execution_count": 90
        }
      ]
    },
    {
      "cell_type": "code",
      "metadata": {
        "id": "yqv_jRrtnA0N",
        "colab": {
          "base_uri": "https://localhost:8080/",
          "height": 77
        },
        "outputId": "c3b04b89-0035-4993-89e4-aa9d6b605b32"
      },
      "source": [
        "data_frame.loc[['b']]"
      ],
      "execution_count": null,
      "outputs": [
        {
          "output_type": "execute_result",
          "data": {
            "text/html": [
              "<div>\n",
              "<style scoped>\n",
              "    .dataframe tbody tr th:only-of-type {\n",
              "        vertical-align: middle;\n",
              "    }\n",
              "\n",
              "    .dataframe tbody tr th {\n",
              "        vertical-align: top;\n",
              "    }\n",
              "\n",
              "    .dataframe thead th {\n",
              "        text-align: right;\n",
              "    }\n",
              "</style>\n",
              "<table border=\"1\" class=\"dataframe\">\n",
              "  <thead>\n",
              "    <tr style=\"text-align: right;\">\n",
              "      <th></th>\n",
              "      <th>one</th>\n",
              "      <th>two</th>\n",
              "      <th>tree</th>\n",
              "      <th>four</th>\n",
              "    </tr>\n",
              "  </thead>\n",
              "  <tbody>\n",
              "    <tr>\n",
              "      <th>b</th>\n",
              "      <td>2.0</td>\n",
              "      <td>2.0</td>\n",
              "      <td>2.0</td>\n",
              "      <td>2</td>\n",
              "    </tr>\n",
              "  </tbody>\n",
              "</table>\n",
              "</div>"
            ],
            "text/plain": [
              "   one  two  tree  four\n",
              "b  2.0  2.0   2.0     2"
            ]
          },
          "metadata": {
            "tags": []
          },
          "execution_count": 91
        }
      ]
    },
    {
      "cell_type": "code",
      "metadata": {
        "id": "azXpMcB6nPkS",
        "colab": {
          "base_uri": "https://localhost:8080/",
          "height": 136
        },
        "outputId": "5559883b-ad67-4a02-8652-3f7fce330ebe"
      },
      "source": [
        "data_frame.loc['b':'d']"
      ],
      "execution_count": null,
      "outputs": [
        {
          "output_type": "execute_result",
          "data": {
            "text/html": [
              "<div>\n",
              "<style scoped>\n",
              "    .dataframe tbody tr th:only-of-type {\n",
              "        vertical-align: middle;\n",
              "    }\n",
              "\n",
              "    .dataframe tbody tr th {\n",
              "        vertical-align: top;\n",
              "    }\n",
              "\n",
              "    .dataframe thead th {\n",
              "        text-align: right;\n",
              "    }\n",
              "</style>\n",
              "<table border=\"1\" class=\"dataframe\">\n",
              "  <thead>\n",
              "    <tr style=\"text-align: right;\">\n",
              "      <th></th>\n",
              "      <th>one</th>\n",
              "      <th>two</th>\n",
              "      <th>tree</th>\n",
              "      <th>four</th>\n",
              "    </tr>\n",
              "  </thead>\n",
              "  <tbody>\n",
              "    <tr>\n",
              "      <th>b</th>\n",
              "      <td>2.0</td>\n",
              "      <td>2.0</td>\n",
              "      <td>2.0</td>\n",
              "      <td>2</td>\n",
              "    </tr>\n",
              "    <tr>\n",
              "      <th>c</th>\n",
              "      <td>3.0</td>\n",
              "      <td>3.0</td>\n",
              "      <td>3.0</td>\n",
              "      <td>3</td>\n",
              "    </tr>\n",
              "    <tr>\n",
              "      <th>d</th>\n",
              "      <td>NaN</td>\n",
              "      <td>4.0</td>\n",
              "      <td>4.0</td>\n",
              "      <td>4</td>\n",
              "    </tr>\n",
              "  </tbody>\n",
              "</table>\n",
              "</div>"
            ],
            "text/plain": [
              "   one  two  tree  four\n",
              "b  2.0  2.0   2.0     2\n",
              "c  3.0  3.0   3.0     3\n",
              "d  NaN  4.0   4.0     4"
            ]
          },
          "metadata": {
            "tags": []
          },
          "execution_count": 92
        }
      ]
    },
    {
      "cell_type": "code",
      "metadata": {
        "id": "faMZXt4hnZ85",
        "colab": {
          "base_uri": "https://localhost:8080/",
          "height": 136
        },
        "outputId": "c7b8396a-f80c-49de-c608-cf6057db0b66"
      },
      "source": [
        "data_frame.loc['b':'d', 'two':'four']"
      ],
      "execution_count": null,
      "outputs": [
        {
          "output_type": "execute_result",
          "data": {
            "text/html": [
              "<div>\n",
              "<style scoped>\n",
              "    .dataframe tbody tr th:only-of-type {\n",
              "        vertical-align: middle;\n",
              "    }\n",
              "\n",
              "    .dataframe tbody tr th {\n",
              "        vertical-align: top;\n",
              "    }\n",
              "\n",
              "    .dataframe thead th {\n",
              "        text-align: right;\n",
              "    }\n",
              "</style>\n",
              "<table border=\"1\" class=\"dataframe\">\n",
              "  <thead>\n",
              "    <tr style=\"text-align: right;\">\n",
              "      <th></th>\n",
              "      <th>two</th>\n",
              "      <th>tree</th>\n",
              "      <th>four</th>\n",
              "    </tr>\n",
              "  </thead>\n",
              "  <tbody>\n",
              "    <tr>\n",
              "      <th>b</th>\n",
              "      <td>2.0</td>\n",
              "      <td>2.0</td>\n",
              "      <td>2</td>\n",
              "    </tr>\n",
              "    <tr>\n",
              "      <th>c</th>\n",
              "      <td>3.0</td>\n",
              "      <td>3.0</td>\n",
              "      <td>3</td>\n",
              "    </tr>\n",
              "    <tr>\n",
              "      <th>d</th>\n",
              "      <td>4.0</td>\n",
              "      <td>4.0</td>\n",
              "      <td>4</td>\n",
              "    </tr>\n",
              "  </tbody>\n",
              "</table>\n",
              "</div>"
            ],
            "text/plain": [
              "   two  tree  four\n",
              "b  2.0   2.0     2\n",
              "c  3.0   3.0     3\n",
              "d  4.0   4.0     4"
            ]
          },
          "metadata": {
            "tags": []
          },
          "execution_count": 93
        }
      ]
    },
    {
      "cell_type": "code",
      "metadata": {
        "id": "TO1_n5Tjoj7a",
        "colab": {
          "base_uri": "https://localhost:8080/",
          "height": 225
        },
        "outputId": "09adc16a-044a-4125-c47d-ef0f69eb10b1"
      },
      "source": [
        "list_pick = ['two', 'one', 'four', 'five']\n",
        "data_frame.loc[:, data_frame.columns.isin(list_pick)]"
      ],
      "execution_count": null,
      "outputs": [
        {
          "output_type": "execute_result",
          "data": {
            "text/html": [
              "<div>\n",
              "<style scoped>\n",
              "    .dataframe tbody tr th:only-of-type {\n",
              "        vertical-align: middle;\n",
              "    }\n",
              "\n",
              "    .dataframe tbody tr th {\n",
              "        vertical-align: top;\n",
              "    }\n",
              "\n",
              "    .dataframe thead th {\n",
              "        text-align: right;\n",
              "    }\n",
              "</style>\n",
              "<table border=\"1\" class=\"dataframe\">\n",
              "  <thead>\n",
              "    <tr style=\"text-align: right;\">\n",
              "      <th></th>\n",
              "      <th>one</th>\n",
              "      <th>two</th>\n",
              "      <th>four</th>\n",
              "    </tr>\n",
              "  </thead>\n",
              "  <tbody>\n",
              "    <tr>\n",
              "      <th>a</th>\n",
              "      <td>1.0</td>\n",
              "      <td>1.0</td>\n",
              "      <td>1</td>\n",
              "    </tr>\n",
              "    <tr>\n",
              "      <th>b</th>\n",
              "      <td>2.0</td>\n",
              "      <td>2.0</td>\n",
              "      <td>2</td>\n",
              "    </tr>\n",
              "    <tr>\n",
              "      <th>c</th>\n",
              "      <td>3.0</td>\n",
              "      <td>3.0</td>\n",
              "      <td>3</td>\n",
              "    </tr>\n",
              "    <tr>\n",
              "      <th>d</th>\n",
              "      <td>NaN</td>\n",
              "      <td>4.0</td>\n",
              "      <td>4</td>\n",
              "    </tr>\n",
              "    <tr>\n",
              "      <th>e</th>\n",
              "      <td>NaN</td>\n",
              "      <td>NaN</td>\n",
              "      <td>5</td>\n",
              "    </tr>\n",
              "    <tr>\n",
              "      <th>f</th>\n",
              "      <td>NaN</td>\n",
              "      <td>NaN</td>\n",
              "      <td>6</td>\n",
              "    </tr>\n",
              "  </tbody>\n",
              "</table>\n",
              "</div>"
            ],
            "text/plain": [
              "   one  two  four\n",
              "a  1.0  1.0     1\n",
              "b  2.0  2.0     2\n",
              "c  3.0  3.0     3\n",
              "d  NaN  4.0     4\n",
              "e  NaN  NaN     5\n",
              "f  NaN  NaN     6"
            ]
          },
          "metadata": {
            "tags": []
          },
          "execution_count": 94
        }
      ]
    },
    {
      "cell_type": "code",
      "metadata": {
        "id": "x6ZIWa8DoUnu",
        "colab": {
          "base_uri": "https://localhost:8080/",
          "height": 195
        },
        "outputId": "9ebf2714-28bd-4079-f959-607bc1ad33cf"
      },
      "source": [
        "import pandas as pd\n",
        "import numpy as np\n",
        "np.random.seed(5)\n",
        "df = pd.DataFrame(np.random.randint(100, size=(100, 6)), \n",
        "                  columns=list('ABCDEF'), \n",
        "                  index=['R{}'.format(i) for i in range(100)])\n",
        "df.head()"
      ],
      "execution_count": null,
      "outputs": [
        {
          "output_type": "execute_result",
          "data": {
            "text/html": [
              "<div>\n",
              "<style scoped>\n",
              "    .dataframe tbody tr th:only-of-type {\n",
              "        vertical-align: middle;\n",
              "    }\n",
              "\n",
              "    .dataframe tbody tr th {\n",
              "        vertical-align: top;\n",
              "    }\n",
              "\n",
              "    .dataframe thead th {\n",
              "        text-align: right;\n",
              "    }\n",
              "</style>\n",
              "<table border=\"1\" class=\"dataframe\">\n",
              "  <thead>\n",
              "    <tr style=\"text-align: right;\">\n",
              "      <th></th>\n",
              "      <th>A</th>\n",
              "      <th>B</th>\n",
              "      <th>C</th>\n",
              "      <th>D</th>\n",
              "      <th>E</th>\n",
              "      <th>F</th>\n",
              "    </tr>\n",
              "  </thead>\n",
              "  <tbody>\n",
              "    <tr>\n",
              "      <th>R0</th>\n",
              "      <td>99</td>\n",
              "      <td>78</td>\n",
              "      <td>61</td>\n",
              "      <td>16</td>\n",
              "      <td>73</td>\n",
              "      <td>8</td>\n",
              "    </tr>\n",
              "    <tr>\n",
              "      <th>R1</th>\n",
              "      <td>62</td>\n",
              "      <td>27</td>\n",
              "      <td>30</td>\n",
              "      <td>80</td>\n",
              "      <td>7</td>\n",
              "      <td>76</td>\n",
              "    </tr>\n",
              "    <tr>\n",
              "      <th>R2</th>\n",
              "      <td>15</td>\n",
              "      <td>53</td>\n",
              "      <td>80</td>\n",
              "      <td>27</td>\n",
              "      <td>44</td>\n",
              "      <td>77</td>\n",
              "    </tr>\n",
              "    <tr>\n",
              "      <th>R3</th>\n",
              "      <td>75</td>\n",
              "      <td>65</td>\n",
              "      <td>47</td>\n",
              "      <td>30</td>\n",
              "      <td>84</td>\n",
              "      <td>86</td>\n",
              "    </tr>\n",
              "    <tr>\n",
              "      <th>R4</th>\n",
              "      <td>18</td>\n",
              "      <td>9</td>\n",
              "      <td>41</td>\n",
              "      <td>62</td>\n",
              "      <td>1</td>\n",
              "      <td>82</td>\n",
              "    </tr>\n",
              "  </tbody>\n",
              "</table>\n",
              "</div>"
            ],
            "text/plain": [
              "     A   B   C   D   E   F\n",
              "R0  99  78  61  16  73   8\n",
              "R1  62  27  30  80   7  76\n",
              "R2  15  53  80  27  44  77\n",
              "R3  75  65  47  30  84  86\n",
              "R4  18   9  41  62   1  82"
            ]
          },
          "metadata": {
            "tags": []
          },
          "execution_count": 95
        }
      ]
    },
    {
      "cell_type": "code",
      "metadata": {
        "id": "TgAnQEu9oaDC",
        "colab": {
          "base_uri": "https://localhost:8080/",
          "height": 402
        },
        "outputId": "68259bfa-aa07-4d73-d5e9-95f98d183c65"
      },
      "source": [
        "df.loc[:, 'C':'E']"
      ],
      "execution_count": null,
      "outputs": [
        {
          "output_type": "execute_result",
          "data": {
            "text/html": [
              "<div>\n",
              "<style scoped>\n",
              "    .dataframe tbody tr th:only-of-type {\n",
              "        vertical-align: middle;\n",
              "    }\n",
              "\n",
              "    .dataframe tbody tr th {\n",
              "        vertical-align: top;\n",
              "    }\n",
              "\n",
              "    .dataframe thead th {\n",
              "        text-align: right;\n",
              "    }\n",
              "</style>\n",
              "<table border=\"1\" class=\"dataframe\">\n",
              "  <thead>\n",
              "    <tr style=\"text-align: right;\">\n",
              "      <th></th>\n",
              "      <th>C</th>\n",
              "      <th>D</th>\n",
              "      <th>E</th>\n",
              "    </tr>\n",
              "  </thead>\n",
              "  <tbody>\n",
              "    <tr>\n",
              "      <th>R0</th>\n",
              "      <td>61</td>\n",
              "      <td>16</td>\n",
              "      <td>73</td>\n",
              "    </tr>\n",
              "    <tr>\n",
              "      <th>R1</th>\n",
              "      <td>30</td>\n",
              "      <td>80</td>\n",
              "      <td>7</td>\n",
              "    </tr>\n",
              "    <tr>\n",
              "      <th>R2</th>\n",
              "      <td>80</td>\n",
              "      <td>27</td>\n",
              "      <td>44</td>\n",
              "    </tr>\n",
              "    <tr>\n",
              "      <th>R3</th>\n",
              "      <td>47</td>\n",
              "      <td>30</td>\n",
              "      <td>84</td>\n",
              "    </tr>\n",
              "    <tr>\n",
              "      <th>R4</th>\n",
              "      <td>41</td>\n",
              "      <td>62</td>\n",
              "      <td>1</td>\n",
              "    </tr>\n",
              "    <tr>\n",
              "      <th>...</th>\n",
              "      <td>...</td>\n",
              "      <td>...</td>\n",
              "      <td>...</td>\n",
              "    </tr>\n",
              "    <tr>\n",
              "      <th>R95</th>\n",
              "      <td>76</td>\n",
              "      <td>66</td>\n",
              "      <td>56</td>\n",
              "    </tr>\n",
              "    <tr>\n",
              "      <th>R96</th>\n",
              "      <td>86</td>\n",
              "      <td>74</td>\n",
              "      <td>37</td>\n",
              "    </tr>\n",
              "    <tr>\n",
              "      <th>R97</th>\n",
              "      <td>59</td>\n",
              "      <td>25</td>\n",
              "      <td>39</td>\n",
              "    </tr>\n",
              "    <tr>\n",
              "      <th>R98</th>\n",
              "      <td>68</td>\n",
              "      <td>81</td>\n",
              "      <td>69</td>\n",
              "    </tr>\n",
              "    <tr>\n",
              "      <th>R99</th>\n",
              "      <td>86</td>\n",
              "      <td>1</td>\n",
              "      <td>74</td>\n",
              "    </tr>\n",
              "  </tbody>\n",
              "</table>\n",
              "<p>100 rows × 3 columns</p>\n",
              "</div>"
            ],
            "text/plain": [
              "      C   D   E\n",
              "R0   61  16  73\n",
              "R1   30  80   7\n",
              "R2   80  27  44\n",
              "R3   47  30  84\n",
              "R4   41  62   1\n",
              "..   ..  ..  ..\n",
              "R95  76  66  56\n",
              "R96  86  74  37\n",
              "R97  59  25  39\n",
              "R98  68  81  69\n",
              "R99  86   1  74\n",
              "\n",
              "[100 rows x 3 columns]"
            ]
          },
          "metadata": {
            "tags": []
          },
          "execution_count": 96
        }
      ]
    },
    {
      "cell_type": "code",
      "metadata": {
        "id": "Kpp4QPJIob9Y",
        "colab": {
          "base_uri": "https://localhost:8080/",
          "height": 195
        },
        "outputId": "14b119a3-21da-43c1-a29d-d052a7b6028f"
      },
      "source": [
        "df.loc['R6':'R10', 'C':'E']"
      ],
      "execution_count": null,
      "outputs": [
        {
          "output_type": "execute_result",
          "data": {
            "text/html": [
              "<div>\n",
              "<style scoped>\n",
              "    .dataframe tbody tr th:only-of-type {\n",
              "        vertical-align: middle;\n",
              "    }\n",
              "\n",
              "    .dataframe tbody tr th {\n",
              "        vertical-align: top;\n",
              "    }\n",
              "\n",
              "    .dataframe thead th {\n",
              "        text-align: right;\n",
              "    }\n",
              "</style>\n",
              "<table border=\"1\" class=\"dataframe\">\n",
              "  <thead>\n",
              "    <tr style=\"text-align: right;\">\n",
              "      <th></th>\n",
              "      <th>C</th>\n",
              "      <th>D</th>\n",
              "      <th>E</th>\n",
              "    </tr>\n",
              "  </thead>\n",
              "  <tbody>\n",
              "    <tr>\n",
              "      <th>R6</th>\n",
              "      <td>51</td>\n",
              "      <td>27</td>\n",
              "      <td>31</td>\n",
              "    </tr>\n",
              "    <tr>\n",
              "      <th>R7</th>\n",
              "      <td>83</td>\n",
              "      <td>19</td>\n",
              "      <td>18</td>\n",
              "    </tr>\n",
              "    <tr>\n",
              "      <th>R8</th>\n",
              "      <td>11</td>\n",
              "      <td>67</td>\n",
              "      <td>65</td>\n",
              "    </tr>\n",
              "    <tr>\n",
              "      <th>R9</th>\n",
              "      <td>78</td>\n",
              "      <td>27</td>\n",
              "      <td>29</td>\n",
              "    </tr>\n",
              "    <tr>\n",
              "      <th>R10</th>\n",
              "      <td>7</td>\n",
              "      <td>16</td>\n",
              "      <td>94</td>\n",
              "    </tr>\n",
              "  </tbody>\n",
              "</table>\n",
              "</div>"
            ],
            "text/plain": [
              "      C   D   E\n",
              "R6   51  27  31\n",
              "R7   83  19  18\n",
              "R8   11  67  65\n",
              "R9   78  27  29\n",
              "R10   7  16  94"
            ]
          },
          "metadata": {
            "tags": []
          },
          "execution_count": 97
        }
      ]
    },
    {
      "cell_type": "code",
      "metadata": {
        "id": "q9LPli1logAW",
        "colab": {
          "base_uri": "https://localhost:8080/",
          "height": 402
        },
        "outputId": "023a3d49-727a-4e95-cd66-b664d3ee2e96"
      },
      "source": [
        "df.loc[:, df.columns.isin(list('BCD'))]"
      ],
      "execution_count": null,
      "outputs": [
        {
          "output_type": "execute_result",
          "data": {
            "text/html": [
              "<div>\n",
              "<style scoped>\n",
              "    .dataframe tbody tr th:only-of-type {\n",
              "        vertical-align: middle;\n",
              "    }\n",
              "\n",
              "    .dataframe tbody tr th {\n",
              "        vertical-align: top;\n",
              "    }\n",
              "\n",
              "    .dataframe thead th {\n",
              "        text-align: right;\n",
              "    }\n",
              "</style>\n",
              "<table border=\"1\" class=\"dataframe\">\n",
              "  <thead>\n",
              "    <tr style=\"text-align: right;\">\n",
              "      <th></th>\n",
              "      <th>B</th>\n",
              "      <th>C</th>\n",
              "      <th>D</th>\n",
              "    </tr>\n",
              "  </thead>\n",
              "  <tbody>\n",
              "    <tr>\n",
              "      <th>R0</th>\n",
              "      <td>78</td>\n",
              "      <td>61</td>\n",
              "      <td>16</td>\n",
              "    </tr>\n",
              "    <tr>\n",
              "      <th>R1</th>\n",
              "      <td>27</td>\n",
              "      <td>30</td>\n",
              "      <td>80</td>\n",
              "    </tr>\n",
              "    <tr>\n",
              "      <th>R2</th>\n",
              "      <td>53</td>\n",
              "      <td>80</td>\n",
              "      <td>27</td>\n",
              "    </tr>\n",
              "    <tr>\n",
              "      <th>R3</th>\n",
              "      <td>65</td>\n",
              "      <td>47</td>\n",
              "      <td>30</td>\n",
              "    </tr>\n",
              "    <tr>\n",
              "      <th>R4</th>\n",
              "      <td>9</td>\n",
              "      <td>41</td>\n",
              "      <td>62</td>\n",
              "    </tr>\n",
              "    <tr>\n",
              "      <th>...</th>\n",
              "      <td>...</td>\n",
              "      <td>...</td>\n",
              "      <td>...</td>\n",
              "    </tr>\n",
              "    <tr>\n",
              "      <th>R95</th>\n",
              "      <td>7</td>\n",
              "      <td>76</td>\n",
              "      <td>66</td>\n",
              "    </tr>\n",
              "    <tr>\n",
              "      <th>R96</th>\n",
              "      <td>31</td>\n",
              "      <td>86</td>\n",
              "      <td>74</td>\n",
              "    </tr>\n",
              "    <tr>\n",
              "      <th>R97</th>\n",
              "      <td>12</td>\n",
              "      <td>59</td>\n",
              "      <td>25</td>\n",
              "    </tr>\n",
              "    <tr>\n",
              "      <th>R98</th>\n",
              "      <td>7</td>\n",
              "      <td>68</td>\n",
              "      <td>81</td>\n",
              "    </tr>\n",
              "    <tr>\n",
              "      <th>R99</th>\n",
              "      <td>20</td>\n",
              "      <td>86</td>\n",
              "      <td>1</td>\n",
              "    </tr>\n",
              "  </tbody>\n",
              "</table>\n",
              "<p>100 rows × 3 columns</p>\n",
              "</div>"
            ],
            "text/plain": [
              "      B   C   D\n",
              "R0   78  61  16\n",
              "R1   27  30  80\n",
              "R2   53  80  27\n",
              "R3   65  47  30\n",
              "R4    9  41  62\n",
              "..   ..  ..  ..\n",
              "R95   7  76  66\n",
              "R96  31  86  74\n",
              "R97  12  59  25\n",
              "R98   7  68  81\n",
              "R99  20  86   1\n",
              "\n",
              "[100 rows x 3 columns]"
            ]
          },
          "metadata": {
            "tags": []
          },
          "execution_count": 98
        }
      ]
    },
    {
      "cell_type": "code",
      "metadata": {
        "id": "ML77jbXmk9EN",
        "colab": {
          "base_uri": "https://localhost:8080/",
          "height": 284
        },
        "outputId": "e9f2f5e9-7dd0-4a4c-d3f8-5b3a6e748678"
      },
      "source": [
        "import pandas as pd\n",
        "import numpy as np\n",
        "df = pd.DataFrame({'A': 'foo bar foo bar foo bar foo foo'.split(),\n",
        "                   'B': 'one one two three two two one three'.split(),\n",
        "                   'C': np.arange(8), 'D': np.arange(8) * 2})\n",
        "df"
      ],
      "execution_count": null,
      "outputs": [
        {
          "output_type": "execute_result",
          "data": {
            "text/html": [
              "<div>\n",
              "<style scoped>\n",
              "    .dataframe tbody tr th:only-of-type {\n",
              "        vertical-align: middle;\n",
              "    }\n",
              "\n",
              "    .dataframe tbody tr th {\n",
              "        vertical-align: top;\n",
              "    }\n",
              "\n",
              "    .dataframe thead th {\n",
              "        text-align: right;\n",
              "    }\n",
              "</style>\n",
              "<table border=\"1\" class=\"dataframe\">\n",
              "  <thead>\n",
              "    <tr style=\"text-align: right;\">\n",
              "      <th></th>\n",
              "      <th>A</th>\n",
              "      <th>B</th>\n",
              "      <th>C</th>\n",
              "      <th>D</th>\n",
              "    </tr>\n",
              "  </thead>\n",
              "  <tbody>\n",
              "    <tr>\n",
              "      <th>0</th>\n",
              "      <td>foo</td>\n",
              "      <td>one</td>\n",
              "      <td>0</td>\n",
              "      <td>0</td>\n",
              "    </tr>\n",
              "    <tr>\n",
              "      <th>1</th>\n",
              "      <td>bar</td>\n",
              "      <td>one</td>\n",
              "      <td>1</td>\n",
              "      <td>2</td>\n",
              "    </tr>\n",
              "    <tr>\n",
              "      <th>2</th>\n",
              "      <td>foo</td>\n",
              "      <td>two</td>\n",
              "      <td>2</td>\n",
              "      <td>4</td>\n",
              "    </tr>\n",
              "    <tr>\n",
              "      <th>3</th>\n",
              "      <td>bar</td>\n",
              "      <td>three</td>\n",
              "      <td>3</td>\n",
              "      <td>6</td>\n",
              "    </tr>\n",
              "    <tr>\n",
              "      <th>4</th>\n",
              "      <td>foo</td>\n",
              "      <td>two</td>\n",
              "      <td>4</td>\n",
              "      <td>8</td>\n",
              "    </tr>\n",
              "    <tr>\n",
              "      <th>5</th>\n",
              "      <td>bar</td>\n",
              "      <td>two</td>\n",
              "      <td>5</td>\n",
              "      <td>10</td>\n",
              "    </tr>\n",
              "    <tr>\n",
              "      <th>6</th>\n",
              "      <td>foo</td>\n",
              "      <td>one</td>\n",
              "      <td>6</td>\n",
              "      <td>12</td>\n",
              "    </tr>\n",
              "    <tr>\n",
              "      <th>7</th>\n",
              "      <td>foo</td>\n",
              "      <td>three</td>\n",
              "      <td>7</td>\n",
              "      <td>14</td>\n",
              "    </tr>\n",
              "  </tbody>\n",
              "</table>\n",
              "</div>"
            ],
            "text/plain": [
              "     A      B  C   D\n",
              "0  foo    one  0   0\n",
              "1  bar    one  1   2\n",
              "2  foo    two  2   4\n",
              "3  bar  three  3   6\n",
              "4  foo    two  4   8\n",
              "5  bar    two  5  10\n",
              "6  foo    one  6  12\n",
              "7  foo  three  7  14"
            ]
          },
          "metadata": {
            "tags": []
          },
          "execution_count": 99
        }
      ]
    },
    {
      "cell_type": "code",
      "metadata": {
        "id": "TUxZykeYlDql",
        "colab": {
          "base_uri": "https://localhost:8080/",
          "height": 195
        },
        "outputId": "4bf6a614-c4f3-4942-9b6d-92aec5fac399"
      },
      "source": [
        "df.loc[df['A'] == 'foo']"
      ],
      "execution_count": null,
      "outputs": [
        {
          "output_type": "execute_result",
          "data": {
            "text/html": [
              "<div>\n",
              "<style scoped>\n",
              "    .dataframe tbody tr th:only-of-type {\n",
              "        vertical-align: middle;\n",
              "    }\n",
              "\n",
              "    .dataframe tbody tr th {\n",
              "        vertical-align: top;\n",
              "    }\n",
              "\n",
              "    .dataframe thead th {\n",
              "        text-align: right;\n",
              "    }\n",
              "</style>\n",
              "<table border=\"1\" class=\"dataframe\">\n",
              "  <thead>\n",
              "    <tr style=\"text-align: right;\">\n",
              "      <th></th>\n",
              "      <th>A</th>\n",
              "      <th>B</th>\n",
              "      <th>C</th>\n",
              "      <th>D</th>\n",
              "    </tr>\n",
              "  </thead>\n",
              "  <tbody>\n",
              "    <tr>\n",
              "      <th>0</th>\n",
              "      <td>foo</td>\n",
              "      <td>one</td>\n",
              "      <td>0</td>\n",
              "      <td>0</td>\n",
              "    </tr>\n",
              "    <tr>\n",
              "      <th>2</th>\n",
              "      <td>foo</td>\n",
              "      <td>two</td>\n",
              "      <td>2</td>\n",
              "      <td>4</td>\n",
              "    </tr>\n",
              "    <tr>\n",
              "      <th>4</th>\n",
              "      <td>foo</td>\n",
              "      <td>two</td>\n",
              "      <td>4</td>\n",
              "      <td>8</td>\n",
              "    </tr>\n",
              "    <tr>\n",
              "      <th>6</th>\n",
              "      <td>foo</td>\n",
              "      <td>one</td>\n",
              "      <td>6</td>\n",
              "      <td>12</td>\n",
              "    </tr>\n",
              "    <tr>\n",
              "      <th>7</th>\n",
              "      <td>foo</td>\n",
              "      <td>three</td>\n",
              "      <td>7</td>\n",
              "      <td>14</td>\n",
              "    </tr>\n",
              "  </tbody>\n",
              "</table>\n",
              "</div>"
            ],
            "text/plain": [
              "     A      B  C   D\n",
              "0  foo    one  0   0\n",
              "2  foo    two  2   4\n",
              "4  foo    two  4   8\n",
              "6  foo    one  6  12\n",
              "7  foo  three  7  14"
            ]
          },
          "metadata": {
            "tags": []
          },
          "execution_count": 100
        }
      ]
    },
    {
      "cell_type": "code",
      "metadata": {
        "id": "jXZxelJZlIZo",
        "colab": {
          "base_uri": "https://localhost:8080/",
          "height": 195
        },
        "outputId": "9e27e392-63d6-427d-8a6f-e427cf5fe314"
      },
      "source": [
        "df.loc[df['B'].isin(['one','three'])]"
      ],
      "execution_count": null,
      "outputs": [
        {
          "output_type": "execute_result",
          "data": {
            "text/html": [
              "<div>\n",
              "<style scoped>\n",
              "    .dataframe tbody tr th:only-of-type {\n",
              "        vertical-align: middle;\n",
              "    }\n",
              "\n",
              "    .dataframe tbody tr th {\n",
              "        vertical-align: top;\n",
              "    }\n",
              "\n",
              "    .dataframe thead th {\n",
              "        text-align: right;\n",
              "    }\n",
              "</style>\n",
              "<table border=\"1\" class=\"dataframe\">\n",
              "  <thead>\n",
              "    <tr style=\"text-align: right;\">\n",
              "      <th></th>\n",
              "      <th>A</th>\n",
              "      <th>B</th>\n",
              "      <th>C</th>\n",
              "      <th>D</th>\n",
              "    </tr>\n",
              "  </thead>\n",
              "  <tbody>\n",
              "    <tr>\n",
              "      <th>0</th>\n",
              "      <td>foo</td>\n",
              "      <td>one</td>\n",
              "      <td>0</td>\n",
              "      <td>0</td>\n",
              "    </tr>\n",
              "    <tr>\n",
              "      <th>1</th>\n",
              "      <td>bar</td>\n",
              "      <td>one</td>\n",
              "      <td>1</td>\n",
              "      <td>2</td>\n",
              "    </tr>\n",
              "    <tr>\n",
              "      <th>3</th>\n",
              "      <td>bar</td>\n",
              "      <td>three</td>\n",
              "      <td>3</td>\n",
              "      <td>6</td>\n",
              "    </tr>\n",
              "    <tr>\n",
              "      <th>6</th>\n",
              "      <td>foo</td>\n",
              "      <td>one</td>\n",
              "      <td>6</td>\n",
              "      <td>12</td>\n",
              "    </tr>\n",
              "    <tr>\n",
              "      <th>7</th>\n",
              "      <td>foo</td>\n",
              "      <td>three</td>\n",
              "      <td>7</td>\n",
              "      <td>14</td>\n",
              "    </tr>\n",
              "  </tbody>\n",
              "</table>\n",
              "</div>"
            ],
            "text/plain": [
              "     A      B  C   D\n",
              "0  foo    one  0   0\n",
              "1  bar    one  1   2\n",
              "3  bar  three  3   6\n",
              "6  foo    one  6  12\n",
              "7  foo  three  7  14"
            ]
          },
          "metadata": {
            "tags": []
          },
          "execution_count": 101
        }
      ]
    },
    {
      "cell_type": "markdown",
      "metadata": {
        "id": "8q1_9AwR4HAD"
      },
      "source": [
        "### df.iloc[ : , : ] and df.iloc[ [index/filtering] , [col] ] (integer)\n",
        "\n",
        "***numeric*** indexing and slicing\n",
        "\n",
        "*slicing*\n",
        "\n",
        "> df.iloc[idx_row_start:idx_row_end, col_start:col_end]\n",
        "\n",
        "indexing\n",
        "\n",
        "> df.iloc[[row1,row2,row3,row n], [col1, col2, col3, col n]]"
      ]
    },
    {
      "cell_type": "code",
      "metadata": {
        "id": "ekvFI4chTxK8",
        "colab": {
          "base_uri": "https://localhost:8080/",
          "height": 166
        },
        "outputId": "6091fcc7-104d-4f49-f262-c62fa81f8ff8"
      },
      "source": [
        "import pandas as pd\n",
        "\n",
        "df = pd.DataFrame({'Calon President': ['Imam', 'Abrar', 'Muthia', 'Itha'],\n",
        "                   'Umur' : [12,34,5,67],\n",
        "                   'Alamat' : ['Jln.1', 'Jln.2', 'Jln.3', 'Jln.4'],\n",
        "                   'Jumlah Voting': [100, 50, 60, 20],\n",
        "                   'Jenis Kelamin':['L', 'L', 'P', 'P'],\n",
        "                   'Negara':['Indonesia', 'Australia', 'Amerika', 'Mesir']})\n",
        "df"
      ],
      "execution_count": null,
      "outputs": [
        {
          "output_type": "execute_result",
          "data": {
            "text/html": [
              "<div>\n",
              "<style scoped>\n",
              "    .dataframe tbody tr th:only-of-type {\n",
              "        vertical-align: middle;\n",
              "    }\n",
              "\n",
              "    .dataframe tbody tr th {\n",
              "        vertical-align: top;\n",
              "    }\n",
              "\n",
              "    .dataframe thead th {\n",
              "        text-align: right;\n",
              "    }\n",
              "</style>\n",
              "<table border=\"1\" class=\"dataframe\">\n",
              "  <thead>\n",
              "    <tr style=\"text-align: right;\">\n",
              "      <th></th>\n",
              "      <th>Calon President</th>\n",
              "      <th>Umur</th>\n",
              "      <th>Alamat</th>\n",
              "      <th>Jumlah Voting</th>\n",
              "      <th>Jenis Kelamin</th>\n",
              "      <th>Negara</th>\n",
              "    </tr>\n",
              "  </thead>\n",
              "  <tbody>\n",
              "    <tr>\n",
              "      <th>0</th>\n",
              "      <td>Imam</td>\n",
              "      <td>12</td>\n",
              "      <td>Jln.1</td>\n",
              "      <td>100</td>\n",
              "      <td>L</td>\n",
              "      <td>Indonesia</td>\n",
              "    </tr>\n",
              "    <tr>\n",
              "      <th>1</th>\n",
              "      <td>Abrar</td>\n",
              "      <td>34</td>\n",
              "      <td>Jln.2</td>\n",
              "      <td>50</td>\n",
              "      <td>L</td>\n",
              "      <td>Australia</td>\n",
              "    </tr>\n",
              "    <tr>\n",
              "      <th>2</th>\n",
              "      <td>Muthia</td>\n",
              "      <td>5</td>\n",
              "      <td>Jln.3</td>\n",
              "      <td>60</td>\n",
              "      <td>P</td>\n",
              "      <td>Amerika</td>\n",
              "    </tr>\n",
              "    <tr>\n",
              "      <th>3</th>\n",
              "      <td>Itha</td>\n",
              "      <td>67</td>\n",
              "      <td>Jln.4</td>\n",
              "      <td>20</td>\n",
              "      <td>P</td>\n",
              "      <td>Mesir</td>\n",
              "    </tr>\n",
              "  </tbody>\n",
              "</table>\n",
              "</div>"
            ],
            "text/plain": [
              "  Calon President  Umur Alamat  Jumlah Voting Jenis Kelamin     Negara\n",
              "0            Imam    12  Jln.1            100             L  Indonesia\n",
              "1           Abrar    34  Jln.2             50             L  Australia\n",
              "2          Muthia     5  Jln.3             60             P    Amerika\n",
              "3            Itha    67  Jln.4             20             P      Mesir"
            ]
          },
          "metadata": {
            "tags": []
          },
          "execution_count": 102
        }
      ]
    },
    {
      "cell_type": "code",
      "metadata": {
        "id": "aAIM0kc2fVZm",
        "colab": {
          "base_uri": "https://localhost:8080/",
          "height": 77
        },
        "outputId": "5632c173-1d19-4e0b-9503-f24e58e6cdca"
      },
      "source": [
        "df.iloc[[3]]"
      ],
      "execution_count": null,
      "outputs": [
        {
          "output_type": "execute_result",
          "data": {
            "text/html": [
              "<div>\n",
              "<style scoped>\n",
              "    .dataframe tbody tr th:only-of-type {\n",
              "        vertical-align: middle;\n",
              "    }\n",
              "\n",
              "    .dataframe tbody tr th {\n",
              "        vertical-align: top;\n",
              "    }\n",
              "\n",
              "    .dataframe thead th {\n",
              "        text-align: right;\n",
              "    }\n",
              "</style>\n",
              "<table border=\"1\" class=\"dataframe\">\n",
              "  <thead>\n",
              "    <tr style=\"text-align: right;\">\n",
              "      <th></th>\n",
              "      <th>Calon President</th>\n",
              "      <th>Umur</th>\n",
              "      <th>Alamat</th>\n",
              "      <th>Jumlah Voting</th>\n",
              "      <th>Jenis Kelamin</th>\n",
              "      <th>Negara</th>\n",
              "    </tr>\n",
              "  </thead>\n",
              "  <tbody>\n",
              "    <tr>\n",
              "      <th>3</th>\n",
              "      <td>Itha</td>\n",
              "      <td>67</td>\n",
              "      <td>Jln.4</td>\n",
              "      <td>20</td>\n",
              "      <td>P</td>\n",
              "      <td>Mesir</td>\n",
              "    </tr>\n",
              "  </tbody>\n",
              "</table>\n",
              "</div>"
            ],
            "text/plain": [
              "  Calon President  Umur Alamat  Jumlah Voting Jenis Kelamin Negara\n",
              "3            Itha    67  Jln.4             20             P  Mesir"
            ]
          },
          "metadata": {
            "tags": []
          },
          "execution_count": 103
        }
      ]
    },
    {
      "cell_type": "code",
      "metadata": {
        "id": "eqG_7jbUfewS",
        "colab": {
          "base_uri": "https://localhost:8080/",
          "height": 106
        },
        "outputId": "a704e408-d823-47af-d8b7-05c663a65bc2"
      },
      "source": [
        "df.iloc[2:4]"
      ],
      "execution_count": null,
      "outputs": [
        {
          "output_type": "execute_result",
          "data": {
            "text/html": [
              "<div>\n",
              "<style scoped>\n",
              "    .dataframe tbody tr th:only-of-type {\n",
              "        vertical-align: middle;\n",
              "    }\n",
              "\n",
              "    .dataframe tbody tr th {\n",
              "        vertical-align: top;\n",
              "    }\n",
              "\n",
              "    .dataframe thead th {\n",
              "        text-align: right;\n",
              "    }\n",
              "</style>\n",
              "<table border=\"1\" class=\"dataframe\">\n",
              "  <thead>\n",
              "    <tr style=\"text-align: right;\">\n",
              "      <th></th>\n",
              "      <th>Calon President</th>\n",
              "      <th>Umur</th>\n",
              "      <th>Alamat</th>\n",
              "      <th>Jumlah Voting</th>\n",
              "      <th>Jenis Kelamin</th>\n",
              "      <th>Negara</th>\n",
              "    </tr>\n",
              "  </thead>\n",
              "  <tbody>\n",
              "    <tr>\n",
              "      <th>2</th>\n",
              "      <td>Muthia</td>\n",
              "      <td>5</td>\n",
              "      <td>Jln.3</td>\n",
              "      <td>60</td>\n",
              "      <td>P</td>\n",
              "      <td>Amerika</td>\n",
              "    </tr>\n",
              "    <tr>\n",
              "      <th>3</th>\n",
              "      <td>Itha</td>\n",
              "      <td>67</td>\n",
              "      <td>Jln.4</td>\n",
              "      <td>20</td>\n",
              "      <td>P</td>\n",
              "      <td>Mesir</td>\n",
              "    </tr>\n",
              "  </tbody>\n",
              "</table>\n",
              "</div>"
            ],
            "text/plain": [
              "  Calon President  Umur Alamat  Jumlah Voting Jenis Kelamin   Negara\n",
              "2          Muthia     5  Jln.3             60             P  Amerika\n",
              "3            Itha    67  Jln.4             20             P    Mesir"
            ]
          },
          "metadata": {
            "tags": []
          },
          "execution_count": 104
        }
      ]
    },
    {
      "cell_type": "code",
      "metadata": {
        "id": "FvTOs1h4fl8d",
        "colab": {
          "base_uri": "https://localhost:8080/",
          "height": 166
        },
        "outputId": "94729254-6cf5-4299-a181-5d9dcc5e951d"
      },
      "source": [
        "df.iloc[:, [1]]"
      ],
      "execution_count": null,
      "outputs": [
        {
          "output_type": "execute_result",
          "data": {
            "text/html": [
              "<div>\n",
              "<style scoped>\n",
              "    .dataframe tbody tr th:only-of-type {\n",
              "        vertical-align: middle;\n",
              "    }\n",
              "\n",
              "    .dataframe tbody tr th {\n",
              "        vertical-align: top;\n",
              "    }\n",
              "\n",
              "    .dataframe thead th {\n",
              "        text-align: right;\n",
              "    }\n",
              "</style>\n",
              "<table border=\"1\" class=\"dataframe\">\n",
              "  <thead>\n",
              "    <tr style=\"text-align: right;\">\n",
              "      <th></th>\n",
              "      <th>Umur</th>\n",
              "    </tr>\n",
              "  </thead>\n",
              "  <tbody>\n",
              "    <tr>\n",
              "      <th>0</th>\n",
              "      <td>12</td>\n",
              "    </tr>\n",
              "    <tr>\n",
              "      <th>1</th>\n",
              "      <td>34</td>\n",
              "    </tr>\n",
              "    <tr>\n",
              "      <th>2</th>\n",
              "      <td>5</td>\n",
              "    </tr>\n",
              "    <tr>\n",
              "      <th>3</th>\n",
              "      <td>67</td>\n",
              "    </tr>\n",
              "  </tbody>\n",
              "</table>\n",
              "</div>"
            ],
            "text/plain": [
              "   Umur\n",
              "0    12\n",
              "1    34\n",
              "2     5\n",
              "3    67"
            ]
          },
          "metadata": {
            "tags": []
          },
          "execution_count": 105
        }
      ]
    },
    {
      "cell_type": "code",
      "metadata": {
        "id": "0w-g68nQ1837",
        "colab": {
          "base_uri": "https://localhost:8080/",
          "height": 106
        },
        "outputId": "0e882981-6ce0-4e6a-bd82-5efd0ddc3448"
      },
      "source": [
        "df.iloc[0:2, :]"
      ],
      "execution_count": null,
      "outputs": [
        {
          "output_type": "execute_result",
          "data": {
            "text/html": [
              "<div>\n",
              "<style scoped>\n",
              "    .dataframe tbody tr th:only-of-type {\n",
              "        vertical-align: middle;\n",
              "    }\n",
              "\n",
              "    .dataframe tbody tr th {\n",
              "        vertical-align: top;\n",
              "    }\n",
              "\n",
              "    .dataframe thead th {\n",
              "        text-align: right;\n",
              "    }\n",
              "</style>\n",
              "<table border=\"1\" class=\"dataframe\">\n",
              "  <thead>\n",
              "    <tr style=\"text-align: right;\">\n",
              "      <th></th>\n",
              "      <th>Calon President</th>\n",
              "      <th>Umur</th>\n",
              "      <th>Alamat</th>\n",
              "      <th>Jumlah Voting</th>\n",
              "      <th>Jenis Kelamin</th>\n",
              "      <th>Negara</th>\n",
              "    </tr>\n",
              "  </thead>\n",
              "  <tbody>\n",
              "    <tr>\n",
              "      <th>0</th>\n",
              "      <td>Imam</td>\n",
              "      <td>12</td>\n",
              "      <td>Jln.1</td>\n",
              "      <td>100</td>\n",
              "      <td>L</td>\n",
              "      <td>Indonesia</td>\n",
              "    </tr>\n",
              "    <tr>\n",
              "      <th>1</th>\n",
              "      <td>Abrar</td>\n",
              "      <td>34</td>\n",
              "      <td>Jln.2</td>\n",
              "      <td>50</td>\n",
              "      <td>L</td>\n",
              "      <td>Australia</td>\n",
              "    </tr>\n",
              "  </tbody>\n",
              "</table>\n",
              "</div>"
            ],
            "text/plain": [
              "  Calon President  Umur Alamat  Jumlah Voting Jenis Kelamin     Negara\n",
              "0            Imam    12  Jln.1            100             L  Indonesia\n",
              "1           Abrar    34  Jln.2             50             L  Australia"
            ]
          },
          "metadata": {
            "tags": []
          },
          "execution_count": 106
        }
      ]
    },
    {
      "cell_type": "code",
      "metadata": {
        "id": "XHpeoxsM2V-_",
        "colab": {
          "base_uri": "https://localhost:8080/",
          "height": 106
        },
        "outputId": "c6e8b08c-7635-4bbe-f52d-92ec1a2b6048"
      },
      "source": [
        "df.iloc[0:2,0:2]"
      ],
      "execution_count": null,
      "outputs": [
        {
          "output_type": "execute_result",
          "data": {
            "text/html": [
              "<div>\n",
              "<style scoped>\n",
              "    .dataframe tbody tr th:only-of-type {\n",
              "        vertical-align: middle;\n",
              "    }\n",
              "\n",
              "    .dataframe tbody tr th {\n",
              "        vertical-align: top;\n",
              "    }\n",
              "\n",
              "    .dataframe thead th {\n",
              "        text-align: right;\n",
              "    }\n",
              "</style>\n",
              "<table border=\"1\" class=\"dataframe\">\n",
              "  <thead>\n",
              "    <tr style=\"text-align: right;\">\n",
              "      <th></th>\n",
              "      <th>Calon President</th>\n",
              "      <th>Umur</th>\n",
              "    </tr>\n",
              "  </thead>\n",
              "  <tbody>\n",
              "    <tr>\n",
              "      <th>0</th>\n",
              "      <td>Imam</td>\n",
              "      <td>12</td>\n",
              "    </tr>\n",
              "    <tr>\n",
              "      <th>1</th>\n",
              "      <td>Abrar</td>\n",
              "      <td>34</td>\n",
              "    </tr>\n",
              "  </tbody>\n",
              "</table>\n",
              "</div>"
            ],
            "text/plain": [
              "  Calon President  Umur\n",
              "0            Imam    12\n",
              "1           Abrar    34"
            ]
          },
          "metadata": {
            "tags": []
          },
          "execution_count": 107
        }
      ]
    },
    {
      "cell_type": "code",
      "metadata": {
        "id": "4BHVL0xkN5-T",
        "colab": {
          "base_uri": "https://localhost:8080/",
          "height": 77
        },
        "outputId": "b645f6f6-50d6-4c97-9a92-bbd9d269097c"
      },
      "source": [
        "df.iloc[[3],:]"
      ],
      "execution_count": null,
      "outputs": [
        {
          "output_type": "execute_result",
          "data": {
            "text/html": [
              "<div>\n",
              "<style scoped>\n",
              "    .dataframe tbody tr th:only-of-type {\n",
              "        vertical-align: middle;\n",
              "    }\n",
              "\n",
              "    .dataframe tbody tr th {\n",
              "        vertical-align: top;\n",
              "    }\n",
              "\n",
              "    .dataframe thead th {\n",
              "        text-align: right;\n",
              "    }\n",
              "</style>\n",
              "<table border=\"1\" class=\"dataframe\">\n",
              "  <thead>\n",
              "    <tr style=\"text-align: right;\">\n",
              "      <th></th>\n",
              "      <th>Calon President</th>\n",
              "      <th>Umur</th>\n",
              "      <th>Alamat</th>\n",
              "      <th>Jumlah Voting</th>\n",
              "      <th>Jenis Kelamin</th>\n",
              "      <th>Negara</th>\n",
              "    </tr>\n",
              "  </thead>\n",
              "  <tbody>\n",
              "    <tr>\n",
              "      <th>3</th>\n",
              "      <td>Itha</td>\n",
              "      <td>67</td>\n",
              "      <td>Jln.4</td>\n",
              "      <td>20</td>\n",
              "      <td>P</td>\n",
              "      <td>Mesir</td>\n",
              "    </tr>\n",
              "  </tbody>\n",
              "</table>\n",
              "</div>"
            ],
            "text/plain": [
              "  Calon President  Umur Alamat  Jumlah Voting Jenis Kelamin Negara\n",
              "3            Itha    67  Jln.4             20             P  Mesir"
            ]
          },
          "metadata": {
            "tags": []
          },
          "execution_count": 108
        }
      ]
    },
    {
      "cell_type": "code",
      "metadata": {
        "id": "VUmorO4y2cbC",
        "colab": {
          "base_uri": "https://localhost:8080/",
          "height": 136
        },
        "outputId": "ea8b5064-c9df-4fbb-f3d3-c80061bdb2e4"
      },
      "source": [
        "# df.iloc[0:2,['Umur', 'Alamat']] .iloc requires numeric indexers, got ['Umur' 'Alamat']\n",
        "df.iloc[[0,2,3], [1,2]]"
      ],
      "execution_count": null,
      "outputs": [
        {
          "output_type": "execute_result",
          "data": {
            "text/html": [
              "<div>\n",
              "<style scoped>\n",
              "    .dataframe tbody tr th:only-of-type {\n",
              "        vertical-align: middle;\n",
              "    }\n",
              "\n",
              "    .dataframe tbody tr th {\n",
              "        vertical-align: top;\n",
              "    }\n",
              "\n",
              "    .dataframe thead th {\n",
              "        text-align: right;\n",
              "    }\n",
              "</style>\n",
              "<table border=\"1\" class=\"dataframe\">\n",
              "  <thead>\n",
              "    <tr style=\"text-align: right;\">\n",
              "      <th></th>\n",
              "      <th>Umur</th>\n",
              "      <th>Alamat</th>\n",
              "    </tr>\n",
              "  </thead>\n",
              "  <tbody>\n",
              "    <tr>\n",
              "      <th>0</th>\n",
              "      <td>12</td>\n",
              "      <td>Jln.1</td>\n",
              "    </tr>\n",
              "    <tr>\n",
              "      <th>2</th>\n",
              "      <td>5</td>\n",
              "      <td>Jln.3</td>\n",
              "    </tr>\n",
              "    <tr>\n",
              "      <th>3</th>\n",
              "      <td>67</td>\n",
              "      <td>Jln.4</td>\n",
              "    </tr>\n",
              "  </tbody>\n",
              "</table>\n",
              "</div>"
            ],
            "text/plain": [
              "   Umur Alamat\n",
              "0    12  Jln.1\n",
              "2     5  Jln.3\n",
              "3    67  Jln.4"
            ]
          },
          "metadata": {
            "tags": []
          },
          "execution_count": 109
        }
      ]
    },
    {
      "cell_type": "code",
      "metadata": {
        "id": "kFfgj2UZax5N",
        "colab": {
          "base_uri": "https://localhost:8080/"
        },
        "outputId": "625d98af-05f7-402f-f6d5-c4a702316c65"
      },
      "source": [
        "import pandas as pd\n",
        "\n",
        "d = {'one' : pd.Series([1, 2, 3], index=['a', 'b', 'c']),\n",
        "   'two' : pd.Series([1, 2, 3, 4], index=['a', 'b', 'c', 'd'])}\n",
        "\n",
        "df = pd.DataFrame(d)\n",
        "print(df.iloc[2])"
      ],
      "execution_count": null,
      "outputs": [
        {
          "output_type": "stream",
          "text": [
            "one    3.0\n",
            "two    3.0\n",
            "Name: c, dtype: float64\n"
          ],
          "name": "stdout"
        }
      ]
    },
    {
      "cell_type": "markdown",
      "metadata": {
        "id": "EBkYPy70W-_L"
      },
      "source": [
        "## Task\n",
        "\n",
        "cobalah suatu metode dari pandas untuk mengetahui beberapa data pertama dan beberapa data terakhir. kemudian sebutkan nilai dari:\n",
        "- baris pertama dari column price\n",
        "- baris terakhir dari column color"
      ]
    },
    {
      "cell_type": "code",
      "metadata": {
        "id": "uhgsynyLrv6r"
      },
      "source": [
        "# from google.colab import drive\n",
        "# drive.mount('/content/drive/')"
      ],
      "execution_count": null,
      "outputs": []
    },
    {
      "cell_type": "code",
      "metadata": {
        "id": "qA-X0z8CXjeT",
        "colab": {
          "base_uri": "https://localhost:8080/",
          "height": 402
        },
        "outputId": "5be16cd5-f92c-4d7f-9f34-67036c8c6226"
      },
      "source": [
        "# '/content/drive/My Drive/Colab Notebooks/Wooky Pandas/diamonds-1.csv'\n",
        "# Membaca data dan memasukannya kedalam suatu variabel\n",
        "\n",
        "# url = 'https://blog.sanbercode.com/wp-content/uploads/2020/04/diamonds-1.csv'\n",
        "# df_from_csv = pd.read_csv(\"diamonds-1.csv\")\n",
        "\n",
        "# import pandas as pd\n",
        "# df_from_csv = pd.read_csv('https://drive.google.com/uc?id=13jtHSMJIa8gzYncyus2o2uTm-H_LFN0B')\n",
        "# df_from_csv"
      ],
      "execution_count": null,
      "outputs": [
        {
          "output_type": "execute_result",
          "data": {
            "text/html": [
              "<div>\n",
              "<style scoped>\n",
              "    .dataframe tbody tr th:only-of-type {\n",
              "        vertical-align: middle;\n",
              "    }\n",
              "\n",
              "    .dataframe tbody tr th {\n",
              "        vertical-align: top;\n",
              "    }\n",
              "\n",
              "    .dataframe thead th {\n",
              "        text-align: right;\n",
              "    }\n",
              "</style>\n",
              "<table border=\"1\" class=\"dataframe\">\n",
              "  <thead>\n",
              "    <tr style=\"text-align: right;\">\n",
              "      <th></th>\n",
              "      <th>Unnamed: 0</th>\n",
              "      <th>carat</th>\n",
              "      <th>cut</th>\n",
              "      <th>color</th>\n",
              "      <th>clarity</th>\n",
              "      <th>depth</th>\n",
              "      <th>table</th>\n",
              "      <th>price</th>\n",
              "      <th>x</th>\n",
              "      <th>y</th>\n",
              "      <th>z</th>\n",
              "    </tr>\n",
              "  </thead>\n",
              "  <tbody>\n",
              "    <tr>\n",
              "      <th>0</th>\n",
              "      <td>1</td>\n",
              "      <td>0.23</td>\n",
              "      <td>Ideal</td>\n",
              "      <td>E</td>\n",
              "      <td>SI2</td>\n",
              "      <td>61.5</td>\n",
              "      <td>55.0</td>\n",
              "      <td>326</td>\n",
              "      <td>3.95</td>\n",
              "      <td>3.98</td>\n",
              "      <td>2.43</td>\n",
              "    </tr>\n",
              "    <tr>\n",
              "      <th>1</th>\n",
              "      <td>2</td>\n",
              "      <td>0.21</td>\n",
              "      <td>Premium</td>\n",
              "      <td>E</td>\n",
              "      <td>SI1</td>\n",
              "      <td>59.8</td>\n",
              "      <td>61.0</td>\n",
              "      <td>326</td>\n",
              "      <td>3.89</td>\n",
              "      <td>3.84</td>\n",
              "      <td>2.31</td>\n",
              "    </tr>\n",
              "    <tr>\n",
              "      <th>2</th>\n",
              "      <td>3</td>\n",
              "      <td>0.23</td>\n",
              "      <td>Good</td>\n",
              "      <td>E</td>\n",
              "      <td>VS1</td>\n",
              "      <td>56.9</td>\n",
              "      <td>65.0</td>\n",
              "      <td>327</td>\n",
              "      <td>4.05</td>\n",
              "      <td>4.07</td>\n",
              "      <td>2.31</td>\n",
              "    </tr>\n",
              "    <tr>\n",
              "      <th>3</th>\n",
              "      <td>4</td>\n",
              "      <td>0.29</td>\n",
              "      <td>Premium</td>\n",
              "      <td>I</td>\n",
              "      <td>VS2</td>\n",
              "      <td>62.4</td>\n",
              "      <td>58.0</td>\n",
              "      <td>334</td>\n",
              "      <td>4.20</td>\n",
              "      <td>4.23</td>\n",
              "      <td>2.63</td>\n",
              "    </tr>\n",
              "    <tr>\n",
              "      <th>4</th>\n",
              "      <td>5</td>\n",
              "      <td>0.31</td>\n",
              "      <td>Good</td>\n",
              "      <td>J</td>\n",
              "      <td>SI2</td>\n",
              "      <td>63.3</td>\n",
              "      <td>58.0</td>\n",
              "      <td>335</td>\n",
              "      <td>4.34</td>\n",
              "      <td>4.35</td>\n",
              "      <td>2.75</td>\n",
              "    </tr>\n",
              "    <tr>\n",
              "      <th>...</th>\n",
              "      <td>...</td>\n",
              "      <td>...</td>\n",
              "      <td>...</td>\n",
              "      <td>...</td>\n",
              "      <td>...</td>\n",
              "      <td>...</td>\n",
              "      <td>...</td>\n",
              "      <td>...</td>\n",
              "      <td>...</td>\n",
              "      <td>...</td>\n",
              "      <td>...</td>\n",
              "    </tr>\n",
              "    <tr>\n",
              "      <th>53935</th>\n",
              "      <td>53936</td>\n",
              "      <td>0.72</td>\n",
              "      <td>Ideal</td>\n",
              "      <td>D</td>\n",
              "      <td>SI1</td>\n",
              "      <td>60.8</td>\n",
              "      <td>57.0</td>\n",
              "      <td>2757</td>\n",
              "      <td>5.75</td>\n",
              "      <td>5.76</td>\n",
              "      <td>3.50</td>\n",
              "    </tr>\n",
              "    <tr>\n",
              "      <th>53936</th>\n",
              "      <td>53937</td>\n",
              "      <td>0.72</td>\n",
              "      <td>Good</td>\n",
              "      <td>D</td>\n",
              "      <td>SI1</td>\n",
              "      <td>63.1</td>\n",
              "      <td>55.0</td>\n",
              "      <td>2757</td>\n",
              "      <td>5.69</td>\n",
              "      <td>5.75</td>\n",
              "      <td>3.61</td>\n",
              "    </tr>\n",
              "    <tr>\n",
              "      <th>53937</th>\n",
              "      <td>53938</td>\n",
              "      <td>0.70</td>\n",
              "      <td>Very Good</td>\n",
              "      <td>D</td>\n",
              "      <td>SI1</td>\n",
              "      <td>62.8</td>\n",
              "      <td>60.0</td>\n",
              "      <td>2757</td>\n",
              "      <td>5.66</td>\n",
              "      <td>5.68</td>\n",
              "      <td>3.56</td>\n",
              "    </tr>\n",
              "    <tr>\n",
              "      <th>53938</th>\n",
              "      <td>53939</td>\n",
              "      <td>0.86</td>\n",
              "      <td>Premium</td>\n",
              "      <td>H</td>\n",
              "      <td>SI2</td>\n",
              "      <td>61.0</td>\n",
              "      <td>58.0</td>\n",
              "      <td>2757</td>\n",
              "      <td>6.15</td>\n",
              "      <td>6.12</td>\n",
              "      <td>3.74</td>\n",
              "    </tr>\n",
              "    <tr>\n",
              "      <th>53939</th>\n",
              "      <td>53940</td>\n",
              "      <td>0.75</td>\n",
              "      <td>Ideal</td>\n",
              "      <td>D</td>\n",
              "      <td>SI2</td>\n",
              "      <td>62.2</td>\n",
              "      <td>55.0</td>\n",
              "      <td>2757</td>\n",
              "      <td>5.83</td>\n",
              "      <td>5.87</td>\n",
              "      <td>3.64</td>\n",
              "    </tr>\n",
              "  </tbody>\n",
              "</table>\n",
              "<p>53940 rows × 11 columns</p>\n",
              "</div>"
            ],
            "text/plain": [
              "       Unnamed: 0  carat        cut color  ... price     x     y     z\n",
              "0               1   0.23      Ideal     E  ...   326  3.95  3.98  2.43\n",
              "1               2   0.21    Premium     E  ...   326  3.89  3.84  2.31\n",
              "2               3   0.23       Good     E  ...   327  4.05  4.07  2.31\n",
              "3               4   0.29    Premium     I  ...   334  4.20  4.23  2.63\n",
              "4               5   0.31       Good     J  ...   335  4.34  4.35  2.75\n",
              "...           ...    ...        ...   ...  ...   ...   ...   ...   ...\n",
              "53935       53936   0.72      Ideal     D  ...  2757  5.75  5.76  3.50\n",
              "53936       53937   0.72       Good     D  ...  2757  5.69  5.75  3.61\n",
              "53937       53938   0.70  Very Good     D  ...  2757  5.66  5.68  3.56\n",
              "53938       53939   0.86    Premium     H  ...  2757  6.15  6.12  3.74\n",
              "53939       53940   0.75      Ideal     D  ...  2757  5.83  5.87  3.64\n",
              "\n",
              "[53940 rows x 11 columns]"
            ]
          },
          "metadata": {
            "tags": []
          },
          "execution_count": 57
        }
      ]
    },
    {
      "cell_type": "code",
      "metadata": {
        "colab": {
          "base_uri": "https://localhost:8080/",
          "height": 470
        },
        "id": "1knxjoDcG7Kc",
        "outputId": "041ef85d-ab31-4a83-bf99-09ac77d5ad2e"
      },
      "source": [
        "# diamonds-1.csv\n",
        "import pandas as pd\n",
        "df_from_csv = pd.read_csv('https://raw.githubusercontent.com/nurimammasri/Wooky-Pandas/master/Data/diamonds-1.csv')\n",
        "df_from_csv"
      ],
      "execution_count": 1,
      "outputs": [
        {
          "output_type": "execute_result",
          "data": {
            "text/html": [
              "<div>\n",
              "<style scoped>\n",
              "    .dataframe tbody tr th:only-of-type {\n",
              "        vertical-align: middle;\n",
              "    }\n",
              "\n",
              "    .dataframe tbody tr th {\n",
              "        vertical-align: top;\n",
              "    }\n",
              "\n",
              "    .dataframe thead th {\n",
              "        text-align: right;\n",
              "    }\n",
              "</style>\n",
              "<table border=\"1\" class=\"dataframe\">\n",
              "  <thead>\n",
              "    <tr style=\"text-align: right;\">\n",
              "      <th></th>\n",
              "      <th>Unnamed: 0</th>\n",
              "      <th>carat</th>\n",
              "      <th>cut</th>\n",
              "      <th>color</th>\n",
              "      <th>clarity</th>\n",
              "      <th>depth</th>\n",
              "      <th>table</th>\n",
              "      <th>price</th>\n",
              "      <th>x</th>\n",
              "      <th>y</th>\n",
              "      <th>z</th>\n",
              "    </tr>\n",
              "  </thead>\n",
              "  <tbody>\n",
              "    <tr>\n",
              "      <th>0</th>\n",
              "      <td>1</td>\n",
              "      <td>0.23</td>\n",
              "      <td>Ideal</td>\n",
              "      <td>E</td>\n",
              "      <td>SI2</td>\n",
              "      <td>61.5</td>\n",
              "      <td>55.0</td>\n",
              "      <td>326</td>\n",
              "      <td>3.95</td>\n",
              "      <td>3.98</td>\n",
              "      <td>2.43</td>\n",
              "    </tr>\n",
              "    <tr>\n",
              "      <th>1</th>\n",
              "      <td>2</td>\n",
              "      <td>0.21</td>\n",
              "      <td>Premium</td>\n",
              "      <td>E</td>\n",
              "      <td>SI1</td>\n",
              "      <td>59.8</td>\n",
              "      <td>61.0</td>\n",
              "      <td>326</td>\n",
              "      <td>3.89</td>\n",
              "      <td>3.84</td>\n",
              "      <td>2.31</td>\n",
              "    </tr>\n",
              "    <tr>\n",
              "      <th>2</th>\n",
              "      <td>3</td>\n",
              "      <td>0.23</td>\n",
              "      <td>Good</td>\n",
              "      <td>E</td>\n",
              "      <td>VS1</td>\n",
              "      <td>56.9</td>\n",
              "      <td>65.0</td>\n",
              "      <td>327</td>\n",
              "      <td>4.05</td>\n",
              "      <td>4.07</td>\n",
              "      <td>2.31</td>\n",
              "    </tr>\n",
              "    <tr>\n",
              "      <th>3</th>\n",
              "      <td>4</td>\n",
              "      <td>0.29</td>\n",
              "      <td>Premium</td>\n",
              "      <td>I</td>\n",
              "      <td>VS2</td>\n",
              "      <td>62.4</td>\n",
              "      <td>58.0</td>\n",
              "      <td>334</td>\n",
              "      <td>4.20</td>\n",
              "      <td>4.23</td>\n",
              "      <td>2.63</td>\n",
              "    </tr>\n",
              "    <tr>\n",
              "      <th>4</th>\n",
              "      <td>5</td>\n",
              "      <td>0.31</td>\n",
              "      <td>Good</td>\n",
              "      <td>J</td>\n",
              "      <td>SI2</td>\n",
              "      <td>63.3</td>\n",
              "      <td>58.0</td>\n",
              "      <td>335</td>\n",
              "      <td>4.34</td>\n",
              "      <td>4.35</td>\n",
              "      <td>2.75</td>\n",
              "    </tr>\n",
              "    <tr>\n",
              "      <th>...</th>\n",
              "      <td>...</td>\n",
              "      <td>...</td>\n",
              "      <td>...</td>\n",
              "      <td>...</td>\n",
              "      <td>...</td>\n",
              "      <td>...</td>\n",
              "      <td>...</td>\n",
              "      <td>...</td>\n",
              "      <td>...</td>\n",
              "      <td>...</td>\n",
              "      <td>...</td>\n",
              "    </tr>\n",
              "    <tr>\n",
              "      <th>53935</th>\n",
              "      <td>53936</td>\n",
              "      <td>0.72</td>\n",
              "      <td>Ideal</td>\n",
              "      <td>D</td>\n",
              "      <td>SI1</td>\n",
              "      <td>60.8</td>\n",
              "      <td>57.0</td>\n",
              "      <td>2757</td>\n",
              "      <td>5.75</td>\n",
              "      <td>5.76</td>\n",
              "      <td>3.50</td>\n",
              "    </tr>\n",
              "    <tr>\n",
              "      <th>53936</th>\n",
              "      <td>53937</td>\n",
              "      <td>0.72</td>\n",
              "      <td>Good</td>\n",
              "      <td>D</td>\n",
              "      <td>SI1</td>\n",
              "      <td>63.1</td>\n",
              "      <td>55.0</td>\n",
              "      <td>2757</td>\n",
              "      <td>5.69</td>\n",
              "      <td>5.75</td>\n",
              "      <td>3.61</td>\n",
              "    </tr>\n",
              "    <tr>\n",
              "      <th>53937</th>\n",
              "      <td>53938</td>\n",
              "      <td>0.70</td>\n",
              "      <td>Very Good</td>\n",
              "      <td>D</td>\n",
              "      <td>SI1</td>\n",
              "      <td>62.8</td>\n",
              "      <td>60.0</td>\n",
              "      <td>2757</td>\n",
              "      <td>5.66</td>\n",
              "      <td>5.68</td>\n",
              "      <td>3.56</td>\n",
              "    </tr>\n",
              "    <tr>\n",
              "      <th>53938</th>\n",
              "      <td>53939</td>\n",
              "      <td>0.86</td>\n",
              "      <td>Premium</td>\n",
              "      <td>H</td>\n",
              "      <td>SI2</td>\n",
              "      <td>61.0</td>\n",
              "      <td>58.0</td>\n",
              "      <td>2757</td>\n",
              "      <td>6.15</td>\n",
              "      <td>6.12</td>\n",
              "      <td>3.74</td>\n",
              "    </tr>\n",
              "    <tr>\n",
              "      <th>53939</th>\n",
              "      <td>53940</td>\n",
              "      <td>0.75</td>\n",
              "      <td>Ideal</td>\n",
              "      <td>D</td>\n",
              "      <td>SI2</td>\n",
              "      <td>62.2</td>\n",
              "      <td>55.0</td>\n",
              "      <td>2757</td>\n",
              "      <td>5.83</td>\n",
              "      <td>5.87</td>\n",
              "      <td>3.64</td>\n",
              "    </tr>\n",
              "  </tbody>\n",
              "</table>\n",
              "<p>53940 rows × 11 columns</p>\n",
              "</div>"
            ],
            "text/plain": [
              "       Unnamed: 0  carat        cut color  ... price     x     y     z\n",
              "0               1   0.23      Ideal     E  ...   326  3.95  3.98  2.43\n",
              "1               2   0.21    Premium     E  ...   326  3.89  3.84  2.31\n",
              "2               3   0.23       Good     E  ...   327  4.05  4.07  2.31\n",
              "3               4   0.29    Premium     I  ...   334  4.20  4.23  2.63\n",
              "4               5   0.31       Good     J  ...   335  4.34  4.35  2.75\n",
              "...           ...    ...        ...   ...  ...   ...   ...   ...   ...\n",
              "53935       53936   0.72      Ideal     D  ...  2757  5.75  5.76  3.50\n",
              "53936       53937   0.72       Good     D  ...  2757  5.69  5.75  3.61\n",
              "53937       53938   0.70  Very Good     D  ...  2757  5.66  5.68  3.56\n",
              "53938       53939   0.86    Premium     H  ...  2757  6.15  6.12  3.74\n",
              "53939       53940   0.75      Ideal     D  ...  2757  5.83  5.87  3.64\n",
              "\n",
              "[53940 rows x 11 columns]"
            ]
          },
          "metadata": {},
          "execution_count": 1
        }
      ]
    },
    {
      "cell_type": "code",
      "metadata": {
        "id": "fVEcBNdbXIqc",
        "colab": {
          "base_uri": "https://localhost:8080/"
        },
        "outputId": "5512dcbb-8656-4d17-a6c4-fde662ac256a"
      },
      "source": [
        "# code here\n",
        "# Dengan index\n",
        "df_from_csv['price'][[0]]\n",
        "# Dengan method loc\n",
        "df_from_csv.loc[0, ['price']]\n",
        "# Dengan method iloc\n",
        "df_from_csv['price'].iloc[[0]]\n",
        "# Dengan method head\n",
        "df_from_csv['price'].head(1)"
      ],
      "execution_count": 2,
      "outputs": [
        {
          "output_type": "execute_result",
          "data": {
            "text/plain": [
              "0    326\n",
              "Name: price, dtype: int64"
            ]
          },
          "metadata": {},
          "execution_count": 2
        }
      ]
    },
    {
      "cell_type": "code",
      "metadata": {
        "id": "PbqGtnJuXLl4",
        "colab": {
          "base_uri": "https://localhost:8080/"
        },
        "outputId": "b26e905b-f451-4e58-f54b-071e946cee6e"
      },
      "source": [
        "# Dengan index\n",
        "df_from_csv['color'][[len(df_from_csv)-1]]\n",
        "# Dengan method tail()\n",
        "df_from_csv['color'].tail(1)"
      ],
      "execution_count": 3,
      "outputs": [
        {
          "output_type": "execute_result",
          "data": {
            "text/plain": [
              "53939    D\n",
              "Name: color, dtype: object"
            ]
          },
          "metadata": {},
          "execution_count": 3
        }
      ]
    },
    {
      "cell_type": "markdown",
      "metadata": {
        "id": "vd0o2z22eGu9"
      },
      "source": [
        "## Row Selection"
      ]
    },
    {
      "cell_type": "markdown",
      "metadata": {
        "id": "cLg64MlrefDM"
      },
      "source": [
        "### Selection by Label"
      ]
    },
    {
      "cell_type": "code",
      "metadata": {
        "id": "E5VdtSofeJ9w",
        "colab": {
          "base_uri": "https://localhost:8080/"
        },
        "outputId": "cbcf513c-7f33-4b18-cc0d-2a43dc8483cd"
      },
      "source": [
        "# using loc[]\n",
        "import pandas as pd\n",
        "\n",
        "d = {'one' : pd.Series([1, 2, 3], index=['a', 'b', 'c']), \n",
        "   'two' : pd.Series([1, 2, 3, 4], index=['a', 'b', 'c', 'd'])}\n",
        "\n",
        "data_frame = pd.DataFrame(d)\n",
        "print(data_frame.loc['b'])"
      ],
      "execution_count": 4,
      "outputs": [
        {
          "output_type": "stream",
          "name": "stdout",
          "text": [
            "one    2.0\n",
            "two    2.0\n",
            "Name: b, dtype: float64\n"
          ]
        }
      ]
    },
    {
      "cell_type": "markdown",
      "metadata": {
        "id": "4o4JPyU9eglk"
      },
      "source": [
        "### Selection by integer location\n"
      ]
    },
    {
      "cell_type": "code",
      "metadata": {
        "id": "U2JNqh0YeX5R",
        "colab": {
          "base_uri": "https://localhost:8080/"
        },
        "outputId": "d68deab5-1ef9-4186-ea50-7b8dddeda058"
      },
      "source": [
        "# using iloc[]\n",
        "import pandas as pd\n",
        "\n",
        "d = {'one' : pd.Series([1, 2, 3], index=['a', 'b', 'c']),\n",
        "   'two' : pd.Series([1, 2, 3, 4], index=['a', 'b', 'c', 'd'])}\n",
        "\n",
        "df = pd.DataFrame(d)\n",
        "print(df.iloc[2])"
      ],
      "execution_count": 5,
      "outputs": [
        {
          "output_type": "stream",
          "name": "stdout",
          "text": [
            "one    3.0\n",
            "two    3.0\n",
            "Name: c, dtype: float64\n"
          ]
        }
      ]
    },
    {
      "cell_type": "markdown",
      "metadata": {
        "id": "gehrleObesLg"
      },
      "source": [
        "### Slice Rows\n",
        "Multiple rows can be selected using ‘ : ’ operator."
      ]
    },
    {
      "cell_type": "code",
      "metadata": {
        "id": "xzagG0JafQdn",
        "colab": {
          "base_uri": "https://localhost:8080/"
        },
        "outputId": "e4d109db-6b79-42eb-fb4a-c58bf466c792"
      },
      "source": [
        "# using [ : ] bukan [index]\n",
        "import pandas as pd\n",
        "\n",
        "d = {'one' : pd.Series([1, 2, 3], index=['a', 'b', 'c']), \n",
        "   'two' : pd.Series([1, 2, 3, 4], index=['a', 'b', 'c', 'd'])}\n",
        "\n",
        "df = pd.DataFrame(d)\n",
        "print(df[2:4])"
      ],
      "execution_count": 6,
      "outputs": [
        {
          "output_type": "stream",
          "name": "stdout",
          "text": [
            "   one  two\n",
            "c  3.0    3\n",
            "d  NaN    4\n"
          ]
        }
      ]
    },
    {
      "cell_type": "markdown",
      "metadata": {
        "id": "dI9IAMvGMzzw"
      },
      "source": [
        "# **Hierarchical indexing (MultiIndex)**\n",
        "\n",
        "There are various ways to create multiple indices. One of the simplest ways to create a multi index *Series* or *DataFrame* object is by passing a list of two or more arrays to the constructor:\n"
      ]
    },
    {
      "cell_type": "code",
      "metadata": {
        "id": "RH9bCXbFNAfR",
        "colab": {
          "base_uri": "https://localhost:8080/",
          "height": 172
        },
        "outputId": "59dd3366-84da-4d40-8fbb-80344c7034de"
      },
      "source": [
        "import numpy as np\n",
        "df = pd.DataFrame(np.random.rand(4,2),\n",
        "                  index = [['a', 'a', 'b', 'b'], [1, 2, 1, 2]],\n",
        "                  columns=['data1', 'data2'])\n",
        "df"
      ],
      "execution_count": 7,
      "outputs": [
        {
          "output_type": "execute_result",
          "data": {
            "text/html": [
              "<div>\n",
              "<style scoped>\n",
              "    .dataframe tbody tr th:only-of-type {\n",
              "        vertical-align: middle;\n",
              "    }\n",
              "\n",
              "    .dataframe tbody tr th {\n",
              "        vertical-align: top;\n",
              "    }\n",
              "\n",
              "    .dataframe thead th {\n",
              "        text-align: right;\n",
              "    }\n",
              "</style>\n",
              "<table border=\"1\" class=\"dataframe\">\n",
              "  <thead>\n",
              "    <tr style=\"text-align: right;\">\n",
              "      <th></th>\n",
              "      <th></th>\n",
              "      <th>data1</th>\n",
              "      <th>data2</th>\n",
              "    </tr>\n",
              "  </thead>\n",
              "  <tbody>\n",
              "    <tr>\n",
              "      <th rowspan=\"2\" valign=\"top\">a</th>\n",
              "      <th>1</th>\n",
              "      <td>0.402135</td>\n",
              "      <td>0.769638</td>\n",
              "    </tr>\n",
              "    <tr>\n",
              "      <th>2</th>\n",
              "      <td>0.684482</td>\n",
              "      <td>0.155040</td>\n",
              "    </tr>\n",
              "    <tr>\n",
              "      <th rowspan=\"2\" valign=\"top\">b</th>\n",
              "      <th>1</th>\n",
              "      <td>0.110074</td>\n",
              "      <td>0.666284</td>\n",
              "    </tr>\n",
              "    <tr>\n",
              "      <th>2</th>\n",
              "      <td>0.457973</td>\n",
              "      <td>0.305997</td>\n",
              "    </tr>\n",
              "  </tbody>\n",
              "</table>\n",
              "</div>"
            ],
            "text/plain": [
              "        data1     data2\n",
              "a 1  0.402135  0.769638\n",
              "  2  0.684482  0.155040\n",
              "b 1  0.110074  0.666284\n",
              "  2  0.457973  0.305997"
            ]
          },
          "metadata": {},
          "execution_count": 7
        }
      ]
    },
    {
      "cell_type": "markdown",
      "metadata": {
        "id": "uhGnd60wN7Bu"
      },
      "source": [
        "Other options include passing a dictionary where the keys are spelled out as tuples:"
      ]
    },
    {
      "cell_type": "code",
      "metadata": {
        "id": "Lk5h4DeEOrTC",
        "colab": {
          "base_uri": "https://localhost:8080/"
        },
        "outputId": "80de135c-b7be-49b1-bf18-fe7971095ed5"
      },
      "source": [
        "data = {\n",
        "    ('California', 2000):33871648,\n",
        "    ('California', 2010):37253956,\n",
        "    ('Texas', 2000):20851820,\n",
        "    ('Texas', 2010):25142261,\n",
        "    ('New York', 2000):1697657,\n",
        "    ('New York', 2010):1232345\n",
        "}\n",
        "\n",
        "pd.Series(data)"
      ],
      "execution_count": 8,
      "outputs": [
        {
          "output_type": "execute_result",
          "data": {
            "text/plain": [
              "California  2000    33871648\n",
              "            2010    37253956\n",
              "Texas       2000    20851820\n",
              "            2010    25142261\n",
              "New York    2000     1697657\n",
              "            2010     1232345\n",
              "dtype: int64"
            ]
          },
          "metadata": {},
          "execution_count": 8
        }
      ]
    },
    {
      "cell_type": "markdown",
      "metadata": {
        "id": "x12y1KQUSSl3"
      },
      "source": [
        "Finally, you can explicitly create a multi index by using the class method constructors available in the `pd.MultiIndex`:\n",
        "\n",
        "The `MultiIndex` object is the hierarchical analogue of the standard `Index` object which typically stores the axis labels in pandas objects. You can think of MultiIndex as an array of tuples where each tuple is unique. A *MultiIndex* can be created from a list of arrays (using `MultiIndex.from_arrays()`), an array of tuples (using `MultiIndex.from_tuples()`), a crossed set of iterables (using `MultiIndex.from_product()`), or a DataFrame (using `MultiIndex.from_frame()`). The *Index* constructor will attempt to return a *MultiIndex* when it is passed a list of tuples. The following examples demonstrate different ways to initialize MultiIndexes."
      ]
    },
    {
      "cell_type": "code",
      "metadata": {
        "id": "EOUoNv2RSQjy",
        "colab": {
          "base_uri": "https://localhost:8080/"
        },
        "outputId": "07f3c05c-958f-4c62-dc4c-157b89dc2b97"
      },
      "source": [
        "index = pd.MultiIndex.from_arrays([['a', 'a', 'b', 'b'], [1, 2, 1, 2]])\n",
        "index"
      ],
      "execution_count": 9,
      "outputs": [
        {
          "output_type": "execute_result",
          "data": {
            "text/plain": [
              "MultiIndex([('a', 1),\n",
              "            ('a', 2),\n",
              "            ('b', 1),\n",
              "            ('b', 2)],\n",
              "           )"
            ]
          },
          "metadata": {},
          "execution_count": 9
        }
      ]
    },
    {
      "cell_type": "code",
      "metadata": {
        "id": "RNJyn2mOfQsG",
        "colab": {
          "base_uri": "https://localhost:8080/",
          "height": 172
        },
        "outputId": "6d6c99d1-4d78-4e6a-d8cf-a92ee20cab6d"
      },
      "source": [
        "df = pd.DataFrame(np.random.randn(4, 2), index=index)\n",
        "df"
      ],
      "execution_count": 10,
      "outputs": [
        {
          "output_type": "execute_result",
          "data": {
            "text/html": [
              "<div>\n",
              "<style scoped>\n",
              "    .dataframe tbody tr th:only-of-type {\n",
              "        vertical-align: middle;\n",
              "    }\n",
              "\n",
              "    .dataframe tbody tr th {\n",
              "        vertical-align: top;\n",
              "    }\n",
              "\n",
              "    .dataframe thead th {\n",
              "        text-align: right;\n",
              "    }\n",
              "</style>\n",
              "<table border=\"1\" class=\"dataframe\">\n",
              "  <thead>\n",
              "    <tr style=\"text-align: right;\">\n",
              "      <th></th>\n",
              "      <th></th>\n",
              "      <th>0</th>\n",
              "      <th>1</th>\n",
              "    </tr>\n",
              "  </thead>\n",
              "  <tbody>\n",
              "    <tr>\n",
              "      <th rowspan=\"2\" valign=\"top\">a</th>\n",
              "      <th>1</th>\n",
              "      <td>-0.539993</td>\n",
              "      <td>-0.796116</td>\n",
              "    </tr>\n",
              "    <tr>\n",
              "      <th>2</th>\n",
              "      <td>0.989319</td>\n",
              "      <td>-0.192968</td>\n",
              "    </tr>\n",
              "    <tr>\n",
              "      <th rowspan=\"2\" valign=\"top\">b</th>\n",
              "      <th>1</th>\n",
              "      <td>-0.144493</td>\n",
              "      <td>0.513613</td>\n",
              "    </tr>\n",
              "    <tr>\n",
              "      <th>2</th>\n",
              "      <td>0.353693</td>\n",
              "      <td>1.184559</td>\n",
              "    </tr>\n",
              "  </tbody>\n",
              "</table>\n",
              "</div>"
            ],
            "text/plain": [
              "            0         1\n",
              "a 1 -0.539993 -0.796116\n",
              "  2  0.989319 -0.192968\n",
              "b 1 -0.144493  0.513613\n",
              "  2  0.353693  1.184559"
            ]
          },
          "metadata": {},
          "execution_count": 10
        }
      ]
    },
    {
      "cell_type": "code",
      "metadata": {
        "id": "s4zRbk2eZtRz",
        "colab": {
          "base_uri": "https://localhost:8080/"
        },
        "outputId": "942a94d8-ca5c-41a5-ebfd-4fb1bbe13bc7"
      },
      "source": [
        "arrays = [['bar', 'bar', 'baz', 'baz', 'foo', 'foo', 'qux', 'qux'],\n",
        "          ['one', 'two', 'one', 'two', 'one', 'two', 'one', 'two']]\n",
        "tuples = list(zip(*arrays))\n",
        "tuples"
      ],
      "execution_count": 11,
      "outputs": [
        {
          "output_type": "execute_result",
          "data": {
            "text/plain": [
              "[('bar', 'one'),\n",
              " ('bar', 'two'),\n",
              " ('baz', 'one'),\n",
              " ('baz', 'two'),\n",
              " ('foo', 'one'),\n",
              " ('foo', 'two'),\n",
              " ('qux', 'one'),\n",
              " ('qux', 'two')]"
            ]
          },
          "metadata": {},
          "execution_count": 11
        }
      ]
    },
    {
      "cell_type": "code",
      "metadata": {
        "id": "_0qDJP8yaAd8",
        "colab": {
          "base_uri": "https://localhost:8080/"
        },
        "outputId": "11982861-caf1-4da1-eb7e-1e60a4b242f6"
      },
      "source": [
        "index = pd.MultiIndex.from_tuples(tuples, names=['first', 'second'])\n",
        "index"
      ],
      "execution_count": 12,
      "outputs": [
        {
          "output_type": "execute_result",
          "data": {
            "text/plain": [
              "MultiIndex([('bar', 'one'),\n",
              "            ('bar', 'two'),\n",
              "            ('baz', 'one'),\n",
              "            ('baz', 'two'),\n",
              "            ('foo', 'one'),\n",
              "            ('foo', 'two'),\n",
              "            ('qux', 'one'),\n",
              "            ('qux', 'two')],\n",
              "           names=['first', 'second'])"
            ]
          },
          "metadata": {},
          "execution_count": 12
        }
      ]
    },
    {
      "cell_type": "code",
      "metadata": {
        "id": "B1119hUjaLvh",
        "colab": {
          "base_uri": "https://localhost:8080/"
        },
        "outputId": "82a3bbf9-118d-4e91-e33e-451c545cd53c"
      },
      "source": [
        "s = pd.Series(np.random.randn(8), index=index)\n",
        "s"
      ],
      "execution_count": 13,
      "outputs": [
        {
          "output_type": "execute_result",
          "data": {
            "text/plain": [
              "first  second\n",
              "bar    one      -0.639115\n",
              "       two       0.283018\n",
              "baz    one      -1.519789\n",
              "       two       0.393616\n",
              "foo    one       0.060709\n",
              "       two      -0.181996\n",
              "qux    one      -0.195794\n",
              "       two       1.265718\n",
              "dtype: float64"
            ]
          },
          "metadata": {},
          "execution_count": 13
        }
      ]
    },
    {
      "cell_type": "markdown",
      "metadata": {
        "id": "mAf5y-H7dOjA"
      },
      "source": [
        "When you want every pairing of the elements in two iterables, it can be easier to use the `MultiIndex.from_product()` method:"
      ]
    },
    {
      "cell_type": "code",
      "metadata": {
        "id": "BlgIi_y4dSDY",
        "colab": {
          "base_uri": "https://localhost:8080/"
        },
        "outputId": "225d6c10-8218-4ed0-f8e0-10e85b78d548"
      },
      "source": [
        "iterables = [['bar', 'baz', 'foo', 'qux'], ['one', 'two']]\n",
        "\n",
        "index = pd.MultiIndex.from_product(iterables, names=['first', 'second'])\n",
        "index"
      ],
      "execution_count": 14,
      "outputs": [
        {
          "output_type": "execute_result",
          "data": {
            "text/plain": [
              "MultiIndex([('bar', 'one'),\n",
              "            ('bar', 'two'),\n",
              "            ('baz', 'one'),\n",
              "            ('baz', 'two'),\n",
              "            ('foo', 'one'),\n",
              "            ('foo', 'two'),\n",
              "            ('qux', 'one'),\n",
              "            ('qux', 'two')],\n",
              "           names=['first', 'second'])"
            ]
          },
          "metadata": {},
          "execution_count": 14
        }
      ]
    },
    {
      "cell_type": "code",
      "metadata": {
        "id": "n4PDU11Ne146",
        "colab": {
          "base_uri": "https://localhost:8080/",
          "height": 326
        },
        "outputId": "e611a53f-f616-46ea-ed06-e43343aa1742"
      },
      "source": [
        "df = pd.DataFrame(np.random.randn(8, 2), index=index)\n",
        "df"
      ],
      "execution_count": 15,
      "outputs": [
        {
          "output_type": "execute_result",
          "data": {
            "text/html": [
              "<div>\n",
              "<style scoped>\n",
              "    .dataframe tbody tr th:only-of-type {\n",
              "        vertical-align: middle;\n",
              "    }\n",
              "\n",
              "    .dataframe tbody tr th {\n",
              "        vertical-align: top;\n",
              "    }\n",
              "\n",
              "    .dataframe thead th {\n",
              "        text-align: right;\n",
              "    }\n",
              "</style>\n",
              "<table border=\"1\" class=\"dataframe\">\n",
              "  <thead>\n",
              "    <tr style=\"text-align: right;\">\n",
              "      <th></th>\n",
              "      <th></th>\n",
              "      <th>0</th>\n",
              "      <th>1</th>\n",
              "    </tr>\n",
              "    <tr>\n",
              "      <th>first</th>\n",
              "      <th>second</th>\n",
              "      <th></th>\n",
              "      <th></th>\n",
              "    </tr>\n",
              "  </thead>\n",
              "  <tbody>\n",
              "    <tr>\n",
              "      <th rowspan=\"2\" valign=\"top\">bar</th>\n",
              "      <th>one</th>\n",
              "      <td>0.292375</td>\n",
              "      <td>-1.678403</td>\n",
              "    </tr>\n",
              "    <tr>\n",
              "      <th>two</th>\n",
              "      <td>-1.033846</td>\n",
              "      <td>-0.553606</td>\n",
              "    </tr>\n",
              "    <tr>\n",
              "      <th rowspan=\"2\" valign=\"top\">baz</th>\n",
              "      <th>one</th>\n",
              "      <td>0.533820</td>\n",
              "      <td>0.776791</td>\n",
              "    </tr>\n",
              "    <tr>\n",
              "      <th>two</th>\n",
              "      <td>-1.550881</td>\n",
              "      <td>0.015424</td>\n",
              "    </tr>\n",
              "    <tr>\n",
              "      <th rowspan=\"2\" valign=\"top\">foo</th>\n",
              "      <th>one</th>\n",
              "      <td>0.633699</td>\n",
              "      <td>-0.265827</td>\n",
              "    </tr>\n",
              "    <tr>\n",
              "      <th>two</th>\n",
              "      <td>-0.889071</td>\n",
              "      <td>-0.312364</td>\n",
              "    </tr>\n",
              "    <tr>\n",
              "      <th rowspan=\"2\" valign=\"top\">qux</th>\n",
              "      <th>one</th>\n",
              "      <td>-0.046777</td>\n",
              "      <td>0.612852</td>\n",
              "    </tr>\n",
              "    <tr>\n",
              "      <th>two</th>\n",
              "      <td>-1.060856</td>\n",
              "      <td>0.060644</td>\n",
              "    </tr>\n",
              "  </tbody>\n",
              "</table>\n",
              "</div>"
            ],
            "text/plain": [
              "                     0         1\n",
              "first second                    \n",
              "bar   one     0.292375 -1.678403\n",
              "      two    -1.033846 -0.553606\n",
              "baz   one     0.533820  0.776791\n",
              "      two    -1.550881  0.015424\n",
              "foo   one     0.633699 -0.265827\n",
              "      two    -0.889071 -0.312364\n",
              "qux   one    -0.046777  0.612852\n",
              "      two    -1.060856  0.060644"
            ]
          },
          "metadata": {},
          "execution_count": 15
        }
      ]
    },
    {
      "cell_type": "markdown",
      "metadata": {
        "id": "19gDoyEueDDs"
      },
      "source": [
        "You can also construct a *MultiIndex* from a *DataFrame* directly, using the method `MultiIndex.from_frame()`. This is a complementary method to `MultiIndex.to_frame()`."
      ]
    },
    {
      "cell_type": "code",
      "metadata": {
        "id": "K8KGrhtodmH7",
        "colab": {
          "base_uri": "https://localhost:8080/"
        },
        "outputId": "274f356f-7d44-41f1-8aaf-444952aae9f3"
      },
      "source": [
        "df = pd.DataFrame([['bar', 'one'], ['bar', 'two'],\n",
        "                    ['foo', 'one'], ['foo', 'two']],\n",
        "                   columns=['first', 'second'])\n",
        "index = pd.MultiIndex.from_frame(df)\n",
        "index"
      ],
      "execution_count": 16,
      "outputs": [
        {
          "output_type": "execute_result",
          "data": {
            "text/plain": [
              "MultiIndex([('bar', 'one'),\n",
              "            ('bar', 'two'),\n",
              "            ('foo', 'one'),\n",
              "            ('foo', 'two')],\n",
              "           names=['first', 'second'])"
            ]
          },
          "metadata": {},
          "execution_count": 16
        }
      ]
    },
    {
      "cell_type": "code",
      "metadata": {
        "id": "ysmH1KSrel-K",
        "colab": {
          "base_uri": "https://localhost:8080/",
          "height": 203
        },
        "outputId": "8115af65-a30f-4f11-a989-f0fc43f016a0"
      },
      "source": [
        "df = pd.DataFrame(np.random.randn(4, 4), index=index)\n",
        "df"
      ],
      "execution_count": 17,
      "outputs": [
        {
          "output_type": "execute_result",
          "data": {
            "text/html": [
              "<div>\n",
              "<style scoped>\n",
              "    .dataframe tbody tr th:only-of-type {\n",
              "        vertical-align: middle;\n",
              "    }\n",
              "\n",
              "    .dataframe tbody tr th {\n",
              "        vertical-align: top;\n",
              "    }\n",
              "\n",
              "    .dataframe thead th {\n",
              "        text-align: right;\n",
              "    }\n",
              "</style>\n",
              "<table border=\"1\" class=\"dataframe\">\n",
              "  <thead>\n",
              "    <tr style=\"text-align: right;\">\n",
              "      <th></th>\n",
              "      <th></th>\n",
              "      <th>0</th>\n",
              "      <th>1</th>\n",
              "      <th>2</th>\n",
              "      <th>3</th>\n",
              "    </tr>\n",
              "    <tr>\n",
              "      <th>first</th>\n",
              "      <th>second</th>\n",
              "      <th></th>\n",
              "      <th></th>\n",
              "      <th></th>\n",
              "      <th></th>\n",
              "    </tr>\n",
              "  </thead>\n",
              "  <tbody>\n",
              "    <tr>\n",
              "      <th rowspan=\"2\" valign=\"top\">bar</th>\n",
              "      <th>one</th>\n",
              "      <td>0.647387</td>\n",
              "      <td>0.000179</td>\n",
              "      <td>-0.685564</td>\n",
              "      <td>3.544519</td>\n",
              "    </tr>\n",
              "    <tr>\n",
              "      <th>two</th>\n",
              "      <td>0.778384</td>\n",
              "      <td>-2.191344</td>\n",
              "      <td>-0.263414</td>\n",
              "      <td>0.411047</td>\n",
              "    </tr>\n",
              "    <tr>\n",
              "      <th rowspan=\"2\" valign=\"top\">foo</th>\n",
              "      <th>one</th>\n",
              "      <td>-0.449428</td>\n",
              "      <td>0.089208</td>\n",
              "      <td>1.709236</td>\n",
              "      <td>-1.054647</td>\n",
              "    </tr>\n",
              "    <tr>\n",
              "      <th>two</th>\n",
              "      <td>0.885504</td>\n",
              "      <td>2.052394</td>\n",
              "      <td>-0.027762</td>\n",
              "      <td>0.508245</td>\n",
              "    </tr>\n",
              "  </tbody>\n",
              "</table>\n",
              "</div>"
            ],
            "text/plain": [
              "                     0         1         2         3\n",
              "first second                                        \n",
              "bar   one     0.647387  0.000179 -0.685564  3.544519\n",
              "      two     0.778384 -2.191344 -0.263414  0.411047\n",
              "foo   one    -0.449428  0.089208  1.709236 -1.054647\n",
              "      two     0.885504  2.052394 -0.027762  0.508245"
            ]
          },
          "metadata": {},
          "execution_count": 17
        }
      ]
    },
    {
      "cell_type": "markdown",
      "metadata": {
        "id": "QeDyuStDeXti"
      },
      "source": [
        "As a convenience, you can pass a list of arrays directly into Series or DataFrame to construct a MultiIndex automatically:"
      ]
    },
    {
      "cell_type": "code",
      "metadata": {
        "id": "vjYTLRx8ec4T",
        "colab": {
          "base_uri": "https://localhost:8080/"
        },
        "outputId": "e004ff10-138d-4295-a495-d0092eb25ff5"
      },
      "source": [
        "arrays = [np.array(['bar', 'bar', 'baz', 'baz', 'foo', 'foo', 'qux', 'qux']),\n",
        "           np.array(['one', 'two', 'one', 'two', 'one', 'two', 'one', 'two'])]\n",
        " \n",
        "\n",
        "s = pd.Series(np.random.randn(8), index=arrays)\n",
        "s"
      ],
      "execution_count": 18,
      "outputs": [
        {
          "output_type": "execute_result",
          "data": {
            "text/plain": [
              "bar  one    1.093461\n",
              "     two   -0.951932\n",
              "baz  one   -2.225610\n",
              "     two    0.056689\n",
              "foo  one    0.605289\n",
              "     two   -0.666322\n",
              "qux  one   -2.046728\n",
              "     two    0.008180\n",
              "dtype: float64"
            ]
          },
          "metadata": {},
          "execution_count": 18
        }
      ]
    },
    {
      "cell_type": "code",
      "metadata": {
        "id": "Pr36cXsteiTf",
        "colab": {
          "base_uri": "https://localhost:8080/",
          "height": 295
        },
        "outputId": "9b6568c0-9dac-4b72-8200-0d45427c2133"
      },
      "source": [
        "df = pd.DataFrame(np.random.randn(8, 4), index=arrays)\n",
        "df"
      ],
      "execution_count": 19,
      "outputs": [
        {
          "output_type": "execute_result",
          "data": {
            "text/html": [
              "<div>\n",
              "<style scoped>\n",
              "    .dataframe tbody tr th:only-of-type {\n",
              "        vertical-align: middle;\n",
              "    }\n",
              "\n",
              "    .dataframe tbody tr th {\n",
              "        vertical-align: top;\n",
              "    }\n",
              "\n",
              "    .dataframe thead th {\n",
              "        text-align: right;\n",
              "    }\n",
              "</style>\n",
              "<table border=\"1\" class=\"dataframe\">\n",
              "  <thead>\n",
              "    <tr style=\"text-align: right;\">\n",
              "      <th></th>\n",
              "      <th></th>\n",
              "      <th>0</th>\n",
              "      <th>1</th>\n",
              "      <th>2</th>\n",
              "      <th>3</th>\n",
              "    </tr>\n",
              "  </thead>\n",
              "  <tbody>\n",
              "    <tr>\n",
              "      <th rowspan=\"2\" valign=\"top\">bar</th>\n",
              "      <th>one</th>\n",
              "      <td>-0.006140</td>\n",
              "      <td>-0.973525</td>\n",
              "      <td>-1.553274</td>\n",
              "      <td>0.063404</td>\n",
              "    </tr>\n",
              "    <tr>\n",
              "      <th>two</th>\n",
              "      <td>-0.417082</td>\n",
              "      <td>0.062219</td>\n",
              "      <td>1.387019</td>\n",
              "      <td>-0.618363</td>\n",
              "    </tr>\n",
              "    <tr>\n",
              "      <th rowspan=\"2\" valign=\"top\">baz</th>\n",
              "      <th>one</th>\n",
              "      <td>0.479408</td>\n",
              "      <td>0.275253</td>\n",
              "      <td>0.476729</td>\n",
              "      <td>-1.132973</td>\n",
              "    </tr>\n",
              "    <tr>\n",
              "      <th>two</th>\n",
              "      <td>1.284865</td>\n",
              "      <td>0.369955</td>\n",
              "      <td>-1.175767</td>\n",
              "      <td>-0.631867</td>\n",
              "    </tr>\n",
              "    <tr>\n",
              "      <th rowspan=\"2\" valign=\"top\">foo</th>\n",
              "      <th>one</th>\n",
              "      <td>-1.307521</td>\n",
              "      <td>-2.433966</td>\n",
              "      <td>0.152099</td>\n",
              "      <td>1.402861</td>\n",
              "    </tr>\n",
              "    <tr>\n",
              "      <th>two</th>\n",
              "      <td>1.698164</td>\n",
              "      <td>1.828743</td>\n",
              "      <td>-0.044763</td>\n",
              "      <td>-0.576465</td>\n",
              "    </tr>\n",
              "    <tr>\n",
              "      <th rowspan=\"2\" valign=\"top\">qux</th>\n",
              "      <th>one</th>\n",
              "      <td>0.304747</td>\n",
              "      <td>0.696760</td>\n",
              "      <td>-0.302811</td>\n",
              "      <td>1.493813</td>\n",
              "    </tr>\n",
              "    <tr>\n",
              "      <th>two</th>\n",
              "      <td>-1.842204</td>\n",
              "      <td>-0.875389</td>\n",
              "      <td>-0.416975</td>\n",
              "      <td>-0.953548</td>\n",
              "    </tr>\n",
              "  </tbody>\n",
              "</table>\n",
              "</div>"
            ],
            "text/plain": [
              "                0         1         2         3\n",
              "bar one -0.006140 -0.973525 -1.553274  0.063404\n",
              "    two -0.417082  0.062219  1.387019 -0.618363\n",
              "baz one  0.479408  0.275253  0.476729 -1.132973\n",
              "    two  1.284865  0.369955 -1.175767 -0.631867\n",
              "foo one -1.307521 -2.433966  0.152099  1.402861\n",
              "    two  1.698164  1.828743 -0.044763 -0.576465\n",
              "qux one  0.304747  0.696760 -0.302811  1.493813\n",
              "    two -1.842204 -0.875389 -0.416975 -0.953548"
            ]
          },
          "metadata": {},
          "execution_count": 19
        }
      ]
    },
    {
      "cell_type": "code",
      "metadata": {
        "id": "qtwhTIWtVll3",
        "colab": {
          "base_uri": "https://localhost:8080/"
        },
        "outputId": "88827d95-73c3-481f-a20d-aada4830f582"
      },
      "source": [
        "index = pd.MultiIndex.from_tuples(tuples, names=['first', 'second'])\n",
        "index"
      ],
      "execution_count": 20,
      "outputs": [
        {
          "output_type": "execute_result",
          "data": {
            "text/plain": [
              "MultiIndex([('bar', 'one'),\n",
              "            ('bar', 'two'),\n",
              "            ('baz', 'one'),\n",
              "            ('baz', 'two'),\n",
              "            ('foo', 'one'),\n",
              "            ('foo', 'two'),\n",
              "            ('qux', 'one'),\n",
              "            ('qux', 'two')],\n",
              "           names=['first', 'second'])"
            ]
          },
          "metadata": {},
          "execution_count": 20
        }
      ]
    },
    {
      "cell_type": "code",
      "metadata": {
        "id": "rlPFFbXiVApx",
        "colab": {
          "base_uri": "https://localhost:8080/",
          "height": 192
        },
        "outputId": "b464d244-f3ef-4366-a710-01287c339f04"
      },
      "source": [
        "index = pd.MultiIndex.from_tuples(tuples, names=['first', 'second'])\n",
        "df = pd.DataFrame(np.random.randn(3, 8), index=['A', 'B', 'C'], columns=index)\n",
        "\n",
        "df"
      ],
      "execution_count": 21,
      "outputs": [
        {
          "output_type": "execute_result",
          "data": {
            "text/html": [
              "<div>\n",
              "<style scoped>\n",
              "    .dataframe tbody tr th:only-of-type {\n",
              "        vertical-align: middle;\n",
              "    }\n",
              "\n",
              "    .dataframe tbody tr th {\n",
              "        vertical-align: top;\n",
              "    }\n",
              "\n",
              "    .dataframe thead tr th {\n",
              "        text-align: left;\n",
              "    }\n",
              "</style>\n",
              "<table border=\"1\" class=\"dataframe\">\n",
              "  <thead>\n",
              "    <tr>\n",
              "      <th>first</th>\n",
              "      <th colspan=\"2\" halign=\"left\">bar</th>\n",
              "      <th colspan=\"2\" halign=\"left\">baz</th>\n",
              "      <th colspan=\"2\" halign=\"left\">foo</th>\n",
              "      <th colspan=\"2\" halign=\"left\">qux</th>\n",
              "    </tr>\n",
              "    <tr>\n",
              "      <th>second</th>\n",
              "      <th>one</th>\n",
              "      <th>two</th>\n",
              "      <th>one</th>\n",
              "      <th>two</th>\n",
              "      <th>one</th>\n",
              "      <th>two</th>\n",
              "      <th>one</th>\n",
              "      <th>two</th>\n",
              "    </tr>\n",
              "  </thead>\n",
              "  <tbody>\n",
              "    <tr>\n",
              "      <th>A</th>\n",
              "      <td>1.662161</td>\n",
              "      <td>-0.926316</td>\n",
              "      <td>-0.094421</td>\n",
              "      <td>-0.206932</td>\n",
              "      <td>-0.747878</td>\n",
              "      <td>-0.854901</td>\n",
              "      <td>0.529797</td>\n",
              "      <td>-1.287988</td>\n",
              "    </tr>\n",
              "    <tr>\n",
              "      <th>B</th>\n",
              "      <td>-0.432565</td>\n",
              "      <td>-1.019030</td>\n",
              "      <td>0.028014</td>\n",
              "      <td>-0.928437</td>\n",
              "      <td>0.913670</td>\n",
              "      <td>2.147137</td>\n",
              "      <td>-0.334100</td>\n",
              "      <td>0.197147</td>\n",
              "    </tr>\n",
              "    <tr>\n",
              "      <th>C</th>\n",
              "      <td>-0.249176</td>\n",
              "      <td>0.104195</td>\n",
              "      <td>-0.333314</td>\n",
              "      <td>0.826979</td>\n",
              "      <td>0.518616</td>\n",
              "      <td>-1.221091</td>\n",
              "      <td>2.751807</td>\n",
              "      <td>1.208724</td>\n",
              "    </tr>\n",
              "  </tbody>\n",
              "</table>\n",
              "</div>"
            ],
            "text/plain": [
              "first        bar                 baz  ...       foo       qux          \n",
              "second       one       two       one  ...       two       one       two\n",
              "A       1.662161 -0.926316 -0.094421  ... -0.854901  0.529797 -1.287988\n",
              "B      -0.432565 -1.019030  0.028014  ...  2.147137 -0.334100  0.197147\n",
              "C      -0.249176  0.104195 -0.333314  ... -1.221091  2.751807  1.208724\n",
              "\n",
              "[3 rows x 8 columns]"
            ]
          },
          "metadata": {},
          "execution_count": 21
        }
      ]
    },
    {
      "cell_type": "code",
      "metadata": {
        "id": "o_Oa5gLiVb_B",
        "colab": {
          "base_uri": "https://localhost:8080/",
          "height": 295
        },
        "outputId": "97015be6-0957-43ca-a7aa-e29be5b3a40a"
      },
      "source": [
        "pd.DataFrame(np.random.randn(6, 6), index=index[:6], columns=index[:6])"
      ],
      "execution_count": 22,
      "outputs": [
        {
          "output_type": "execute_result",
          "data": {
            "text/html": [
              "<div>\n",
              "<style scoped>\n",
              "    .dataframe tbody tr th:only-of-type {\n",
              "        vertical-align: middle;\n",
              "    }\n",
              "\n",
              "    .dataframe tbody tr th {\n",
              "        vertical-align: top;\n",
              "    }\n",
              "\n",
              "    .dataframe thead tr th {\n",
              "        text-align: left;\n",
              "    }\n",
              "\n",
              "    .dataframe thead tr:last-of-type th {\n",
              "        text-align: right;\n",
              "    }\n",
              "</style>\n",
              "<table border=\"1\" class=\"dataframe\">\n",
              "  <thead>\n",
              "    <tr>\n",
              "      <th></th>\n",
              "      <th>first</th>\n",
              "      <th colspan=\"2\" halign=\"left\">bar</th>\n",
              "      <th colspan=\"2\" halign=\"left\">baz</th>\n",
              "      <th colspan=\"2\" halign=\"left\">foo</th>\n",
              "    </tr>\n",
              "    <tr>\n",
              "      <th></th>\n",
              "      <th>second</th>\n",
              "      <th>one</th>\n",
              "      <th>two</th>\n",
              "      <th>one</th>\n",
              "      <th>two</th>\n",
              "      <th>one</th>\n",
              "      <th>two</th>\n",
              "    </tr>\n",
              "    <tr>\n",
              "      <th>first</th>\n",
              "      <th>second</th>\n",
              "      <th></th>\n",
              "      <th></th>\n",
              "      <th></th>\n",
              "      <th></th>\n",
              "      <th></th>\n",
              "      <th></th>\n",
              "    </tr>\n",
              "  </thead>\n",
              "  <tbody>\n",
              "    <tr>\n",
              "      <th rowspan=\"2\" valign=\"top\">bar</th>\n",
              "      <th>one</th>\n",
              "      <td>-0.627570</td>\n",
              "      <td>0.000128</td>\n",
              "      <td>-1.448372</td>\n",
              "      <td>2.827538</td>\n",
              "      <td>-0.999278</td>\n",
              "      <td>-1.092456</td>\n",
              "    </tr>\n",
              "    <tr>\n",
              "      <th>two</th>\n",
              "      <td>1.893961</td>\n",
              "      <td>-0.819289</td>\n",
              "      <td>0.186883</td>\n",
              "      <td>0.876870</td>\n",
              "      <td>0.376570</td>\n",
              "      <td>2.215069</td>\n",
              "    </tr>\n",
              "    <tr>\n",
              "      <th rowspan=\"2\" valign=\"top\">baz</th>\n",
              "      <th>one</th>\n",
              "      <td>-0.772546</td>\n",
              "      <td>0.808812</td>\n",
              "      <td>-1.604034</td>\n",
              "      <td>-1.250553</td>\n",
              "      <td>-1.208487</td>\n",
              "      <td>-1.212003</td>\n",
              "    </tr>\n",
              "    <tr>\n",
              "      <th>two</th>\n",
              "      <td>0.245088</td>\n",
              "      <td>-0.391731</td>\n",
              "      <td>1.921329</td>\n",
              "      <td>-1.132153</td>\n",
              "      <td>-0.312953</td>\n",
              "      <td>1.139057</td>\n",
              "    </tr>\n",
              "    <tr>\n",
              "      <th rowspan=\"2\" valign=\"top\">foo</th>\n",
              "      <th>one</th>\n",
              "      <td>-0.320765</td>\n",
              "      <td>-0.636973</td>\n",
              "      <td>2.499728</td>\n",
              "      <td>0.902578</td>\n",
              "      <td>-0.055609</td>\n",
              "      <td>0.846799</td>\n",
              "    </tr>\n",
              "    <tr>\n",
              "      <th>two</th>\n",
              "      <td>-0.317828</td>\n",
              "      <td>-0.142525</td>\n",
              "      <td>0.670275</td>\n",
              "      <td>0.022885</td>\n",
              "      <td>-0.782024</td>\n",
              "      <td>-0.070295</td>\n",
              "    </tr>\n",
              "  </tbody>\n",
              "</table>\n",
              "</div>"
            ],
            "text/plain": [
              "first              bar                 baz                 foo          \n",
              "second             one       two       one       two       one       two\n",
              "first second                                                            \n",
              "bar   one    -0.627570  0.000128 -1.448372  2.827538 -0.999278 -1.092456\n",
              "      two     1.893961 -0.819289  0.186883  0.876870  0.376570  2.215069\n",
              "baz   one    -0.772546  0.808812 -1.604034 -1.250553 -1.208487 -1.212003\n",
              "      two     0.245088 -0.391731  1.921329 -1.132153 -0.312953  1.139057\n",
              "foo   one    -0.320765 -0.636973  2.499728  0.902578 -0.055609  0.846799\n",
              "      two    -0.317828 -0.142525  0.670275  0.022885 -0.782024 -0.070295"
            ]
          },
          "metadata": {},
          "execution_count": 22
        }
      ]
    },
    {
      "cell_type": "markdown",
      "metadata": {
        "id": "IJuuClO-V45P"
      },
      "source": [
        "Reconstructing the level labels \n",
        "\n",
        "Defined levels"
      ]
    },
    {
      "cell_type": "code",
      "metadata": {
        "id": "X9j3zUdWV-XQ",
        "colab": {
          "base_uri": "https://localhost:8080/"
        },
        "outputId": "851821d8-c51c-4c3c-c671-0e4386309444"
      },
      "source": [
        "index.get_level_values(0)"
      ],
      "execution_count": 23,
      "outputs": [
        {
          "output_type": "execute_result",
          "data": {
            "text/plain": [
              "Index(['bar', 'bar', 'baz', 'baz', 'foo', 'foo', 'qux', 'qux'], dtype='object', name='first')"
            ]
          },
          "metadata": {},
          "execution_count": 23
        }
      ]
    },
    {
      "cell_type": "code",
      "metadata": {
        "id": "I1oy4glQWDtH",
        "colab": {
          "base_uri": "https://localhost:8080/"
        },
        "outputId": "4d510809-ff70-4927-d7a2-a0328be7c648"
      },
      "source": [
        "index.get_level_values(0)"
      ],
      "execution_count": 24,
      "outputs": [
        {
          "output_type": "execute_result",
          "data": {
            "text/plain": [
              "Index(['bar', 'bar', 'baz', 'baz', 'foo', 'foo', 'qux', 'qux'], dtype='object', name='first')"
            ]
          },
          "metadata": {},
          "execution_count": 24
        }
      ]
    },
    {
      "cell_type": "code",
      "metadata": {
        "id": "EpIMHr50W41B",
        "colab": {
          "base_uri": "https://localhost:8080/"
        },
        "outputId": "226692e6-5c77-4442-cca9-0e7d7e910ad1"
      },
      "source": [
        "df.columns.levels  # original MultiIndex"
      ],
      "execution_count": 25,
      "outputs": [
        {
          "output_type": "execute_result",
          "data": {
            "text/plain": [
              "FrozenList([['bar', 'baz', 'foo', 'qux'], ['one', 'two']])"
            ]
          },
          "metadata": {},
          "execution_count": 25
        }
      ]
    },
    {
      "cell_type": "code",
      "metadata": {
        "id": "GjSJLwnJW8fg",
        "colab": {
          "base_uri": "https://localhost:8080/"
        },
        "outputId": "ab95ccf7-e610-409b-a896-b2c3db6494e6"
      },
      "source": [
        "\n",
        "df[['foo','qux']].columns.levels  # sliced"
      ],
      "execution_count": 26,
      "outputs": [
        {
          "output_type": "execute_result",
          "data": {
            "text/plain": [
              "FrozenList([['bar', 'baz', 'foo', 'qux'], ['one', 'two']])"
            ]
          },
          "metadata": {},
          "execution_count": 26
        }
      ]
    },
    {
      "cell_type": "markdown",
      "metadata": {
        "id": "RqIMha_7Utyz"
      },
      "source": [
        "Basic indexing on axis with MultiIndex"
      ]
    },
    {
      "cell_type": "code",
      "metadata": {
        "id": "YopZSiNfWHh7",
        "colab": {
          "base_uri": "https://localhost:8080/",
          "height": 192
        },
        "outputId": "3d67cf4e-c7de-4e8c-ba46-0ac83b0790a6"
      },
      "source": [
        "index = pd.MultiIndex.from_tuples(tuples, names=['first', 'second'])\n",
        "df = pd.DataFrame(np.random.randn(3, 8), index=['A', 'B', 'C'], columns=index)\n",
        "\n",
        "df"
      ],
      "execution_count": 27,
      "outputs": [
        {
          "output_type": "execute_result",
          "data": {
            "text/html": [
              "<div>\n",
              "<style scoped>\n",
              "    .dataframe tbody tr th:only-of-type {\n",
              "        vertical-align: middle;\n",
              "    }\n",
              "\n",
              "    .dataframe tbody tr th {\n",
              "        vertical-align: top;\n",
              "    }\n",
              "\n",
              "    .dataframe thead tr th {\n",
              "        text-align: left;\n",
              "    }\n",
              "</style>\n",
              "<table border=\"1\" class=\"dataframe\">\n",
              "  <thead>\n",
              "    <tr>\n",
              "      <th>first</th>\n",
              "      <th colspan=\"2\" halign=\"left\">bar</th>\n",
              "      <th colspan=\"2\" halign=\"left\">baz</th>\n",
              "      <th colspan=\"2\" halign=\"left\">foo</th>\n",
              "      <th colspan=\"2\" halign=\"left\">qux</th>\n",
              "    </tr>\n",
              "    <tr>\n",
              "      <th>second</th>\n",
              "      <th>one</th>\n",
              "      <th>two</th>\n",
              "      <th>one</th>\n",
              "      <th>two</th>\n",
              "      <th>one</th>\n",
              "      <th>two</th>\n",
              "      <th>one</th>\n",
              "      <th>two</th>\n",
              "    </tr>\n",
              "  </thead>\n",
              "  <tbody>\n",
              "    <tr>\n",
              "      <th>A</th>\n",
              "      <td>-1.548855</td>\n",
              "      <td>-0.421488</td>\n",
              "      <td>-0.141978</td>\n",
              "      <td>-0.169572</td>\n",
              "      <td>-0.689118</td>\n",
              "      <td>1.239240</td>\n",
              "      <td>-0.770613</td>\n",
              "      <td>-0.154056</td>\n",
              "    </tr>\n",
              "    <tr>\n",
              "      <th>B</th>\n",
              "      <td>-0.444018</td>\n",
              "      <td>-0.452989</td>\n",
              "      <td>-0.700530</td>\n",
              "      <td>-0.054556</td>\n",
              "      <td>-0.050591</td>\n",
              "      <td>-0.246587</td>\n",
              "      <td>-0.500756</td>\n",
              "      <td>-0.150897</td>\n",
              "    </tr>\n",
              "    <tr>\n",
              "      <th>C</th>\n",
              "      <td>0.422429</td>\n",
              "      <td>0.615003</td>\n",
              "      <td>-0.151257</td>\n",
              "      <td>0.522434</td>\n",
              "      <td>0.221417</td>\n",
              "      <td>2.426643</td>\n",
              "      <td>-1.427324</td>\n",
              "      <td>0.249035</td>\n",
              "    </tr>\n",
              "  </tbody>\n",
              "</table>\n",
              "</div>"
            ],
            "text/plain": [
              "first        bar                 baz  ...       foo       qux          \n",
              "second       one       two       one  ...       two       one       two\n",
              "A      -1.548855 -0.421488 -0.141978  ...  1.239240 -0.770613 -0.154056\n",
              "B      -0.444018 -0.452989 -0.700530  ... -0.246587 -0.500756 -0.150897\n",
              "C       0.422429  0.615003 -0.151257  ...  2.426643 -1.427324  0.249035\n",
              "\n",
              "[3 rows x 8 columns]"
            ]
          },
          "metadata": {},
          "execution_count": 27
        }
      ]
    },
    {
      "cell_type": "code",
      "metadata": {
        "id": "KIRLn4f1UpgY",
        "colab": {
          "base_uri": "https://localhost:8080/",
          "height": 142
        },
        "outputId": "830ba143-3ad5-45a7-c59e-d78d001a10e5"
      },
      "source": [
        "df['bar']"
      ],
      "execution_count": 28,
      "outputs": [
        {
          "output_type": "execute_result",
          "data": {
            "text/html": [
              "<div>\n",
              "<style scoped>\n",
              "    .dataframe tbody tr th:only-of-type {\n",
              "        vertical-align: middle;\n",
              "    }\n",
              "\n",
              "    .dataframe tbody tr th {\n",
              "        vertical-align: top;\n",
              "    }\n",
              "\n",
              "    .dataframe thead th {\n",
              "        text-align: right;\n",
              "    }\n",
              "</style>\n",
              "<table border=\"1\" class=\"dataframe\">\n",
              "  <thead>\n",
              "    <tr style=\"text-align: right;\">\n",
              "      <th>second</th>\n",
              "      <th>one</th>\n",
              "      <th>two</th>\n",
              "    </tr>\n",
              "  </thead>\n",
              "  <tbody>\n",
              "    <tr>\n",
              "      <th>A</th>\n",
              "      <td>-1.548855</td>\n",
              "      <td>-0.421488</td>\n",
              "    </tr>\n",
              "    <tr>\n",
              "      <th>B</th>\n",
              "      <td>-0.444018</td>\n",
              "      <td>-0.452989</td>\n",
              "    </tr>\n",
              "    <tr>\n",
              "      <th>C</th>\n",
              "      <td>0.422429</td>\n",
              "      <td>0.615003</td>\n",
              "    </tr>\n",
              "  </tbody>\n",
              "</table>\n",
              "</div>"
            ],
            "text/plain": [
              "second       one       two\n",
              "A      -1.548855 -0.421488\n",
              "B      -0.444018 -0.452989\n",
              "C       0.422429  0.615003"
            ]
          },
          "metadata": {},
          "execution_count": 28
        }
      ]
    },
    {
      "cell_type": "code",
      "metadata": {
        "id": "oEQWIM3oWMNj",
        "colab": {
          "base_uri": "https://localhost:8080/"
        },
        "outputId": "614b5778-3837-4714-97af-5178a4428158"
      },
      "source": [
        "df['bar', 'one']"
      ],
      "execution_count": 29,
      "outputs": [
        {
          "output_type": "execute_result",
          "data": {
            "text/plain": [
              "A   -1.548855\n",
              "B   -0.444018\n",
              "C    0.422429\n",
              "Name: (bar, one), dtype: float64"
            ]
          },
          "metadata": {},
          "execution_count": 29
        }
      ]
    },
    {
      "cell_type": "code",
      "metadata": {
        "id": "vXLdUNm1WPEy",
        "colab": {
          "base_uri": "https://localhost:8080/"
        },
        "outputId": "50b12211-b32f-4167-c019-793da100df59"
      },
      "source": [
        "df['bar']['one']"
      ],
      "execution_count": 30,
      "outputs": [
        {
          "output_type": "execute_result",
          "data": {
            "text/plain": [
              "A   -1.548855\n",
              "B   -0.444018\n",
              "C    0.422429\n",
              "Name: one, dtype: float64"
            ]
          },
          "metadata": {},
          "execution_count": 30
        }
      ]
    },
    {
      "cell_type": "code",
      "metadata": {
        "id": "In_9rgdUXXtj",
        "colab": {
          "base_uri": "https://localhost:8080/",
          "height": 326
        },
        "outputId": "1f0e1ffd-e504-442b-866c-e75022be01ec"
      },
      "source": [
        "# Transfor DataFrame\n",
        "df = df.T \n",
        "df"
      ],
      "execution_count": 31,
      "outputs": [
        {
          "output_type": "execute_result",
          "data": {
            "text/html": [
              "<div>\n",
              "<style scoped>\n",
              "    .dataframe tbody tr th:only-of-type {\n",
              "        vertical-align: middle;\n",
              "    }\n",
              "\n",
              "    .dataframe tbody tr th {\n",
              "        vertical-align: top;\n",
              "    }\n",
              "\n",
              "    .dataframe thead th {\n",
              "        text-align: right;\n",
              "    }\n",
              "</style>\n",
              "<table border=\"1\" class=\"dataframe\">\n",
              "  <thead>\n",
              "    <tr style=\"text-align: right;\">\n",
              "      <th></th>\n",
              "      <th></th>\n",
              "      <th>A</th>\n",
              "      <th>B</th>\n",
              "      <th>C</th>\n",
              "    </tr>\n",
              "    <tr>\n",
              "      <th>first</th>\n",
              "      <th>second</th>\n",
              "      <th></th>\n",
              "      <th></th>\n",
              "      <th></th>\n",
              "    </tr>\n",
              "  </thead>\n",
              "  <tbody>\n",
              "    <tr>\n",
              "      <th rowspan=\"2\" valign=\"top\">bar</th>\n",
              "      <th>one</th>\n",
              "      <td>-1.548855</td>\n",
              "      <td>-0.444018</td>\n",
              "      <td>0.422429</td>\n",
              "    </tr>\n",
              "    <tr>\n",
              "      <th>two</th>\n",
              "      <td>-0.421488</td>\n",
              "      <td>-0.452989</td>\n",
              "      <td>0.615003</td>\n",
              "    </tr>\n",
              "    <tr>\n",
              "      <th rowspan=\"2\" valign=\"top\">baz</th>\n",
              "      <th>one</th>\n",
              "      <td>-0.141978</td>\n",
              "      <td>-0.700530</td>\n",
              "      <td>-0.151257</td>\n",
              "    </tr>\n",
              "    <tr>\n",
              "      <th>two</th>\n",
              "      <td>-0.169572</td>\n",
              "      <td>-0.054556</td>\n",
              "      <td>0.522434</td>\n",
              "    </tr>\n",
              "    <tr>\n",
              "      <th rowspan=\"2\" valign=\"top\">foo</th>\n",
              "      <th>one</th>\n",
              "      <td>-0.689118</td>\n",
              "      <td>-0.050591</td>\n",
              "      <td>0.221417</td>\n",
              "    </tr>\n",
              "    <tr>\n",
              "      <th>two</th>\n",
              "      <td>1.239240</td>\n",
              "      <td>-0.246587</td>\n",
              "      <td>2.426643</td>\n",
              "    </tr>\n",
              "    <tr>\n",
              "      <th rowspan=\"2\" valign=\"top\">qux</th>\n",
              "      <th>one</th>\n",
              "      <td>-0.770613</td>\n",
              "      <td>-0.500756</td>\n",
              "      <td>-1.427324</td>\n",
              "    </tr>\n",
              "    <tr>\n",
              "      <th>two</th>\n",
              "      <td>-0.154056</td>\n",
              "      <td>-0.150897</td>\n",
              "      <td>0.249035</td>\n",
              "    </tr>\n",
              "  </tbody>\n",
              "</table>\n",
              "</div>"
            ],
            "text/plain": [
              "                     A         B         C\n",
              "first second                              \n",
              "bar   one    -1.548855 -0.444018  0.422429\n",
              "      two    -0.421488 -0.452989  0.615003\n",
              "baz   one    -0.141978 -0.700530 -0.151257\n",
              "      two    -0.169572 -0.054556  0.522434\n",
              "foo   one    -0.689118 -0.050591  0.221417\n",
              "      two     1.239240 -0.246587  2.426643\n",
              "qux   one    -0.770613 -0.500756 -1.427324\n",
              "      two    -0.154056 -0.150897  0.249035"
            ]
          },
          "metadata": {},
          "execution_count": 31
        }
      ]
    },
    {
      "cell_type": "code",
      "metadata": {
        "id": "otsd9S5GXe41",
        "colab": {
          "base_uri": "https://localhost:8080/"
        },
        "outputId": "a136803c-ee81-48a0-c6f4-2ef8f2ac43ef"
      },
      "source": [
        "df.loc['bar', 'two']"
      ],
      "execution_count": 32,
      "outputs": [
        {
          "output_type": "execute_result",
          "data": {
            "text/plain": [
              "A   -0.421488\n",
              "B   -0.452989\n",
              "C    0.615003\n",
              "Name: (bar, two), dtype: float64"
            ]
          },
          "metadata": {},
          "execution_count": 32
        }
      ]
    },
    {
      "cell_type": "code",
      "metadata": {
        "id": "tZal4eXiXSAa",
        "colab": {
          "base_uri": "https://localhost:8080/"
        },
        "outputId": "185abce7-8b4c-449a-d00d-78fd07875bae"
      },
      "source": [
        "df.loc[('bar', 'two')]"
      ],
      "execution_count": 33,
      "outputs": [
        {
          "output_type": "execute_result",
          "data": {
            "text/plain": [
              "A   -0.421488\n",
              "B   -0.452989\n",
              "C    0.615003\n",
              "Name: (bar, two), dtype: float64"
            ]
          },
          "metadata": {},
          "execution_count": 33
        }
      ]
    },
    {
      "cell_type": "code",
      "metadata": {
        "id": "JF-RgV2-XLHf",
        "colab": {
          "base_uri": "https://localhost:8080/"
        },
        "outputId": "5a09871d-2800-4a94-8453-0acd38febc3c"
      },
      "source": [
        "df.loc[('bar', 'two'), 'A']"
      ],
      "execution_count": 34,
      "outputs": [
        {
          "output_type": "execute_result",
          "data": {
            "text/plain": [
              "-0.42148825287554376"
            ]
          },
          "metadata": {},
          "execution_count": 34
        }
      ]
    },
    {
      "cell_type": "code",
      "metadata": {
        "id": "r4evniDNX5Zy",
        "colab": {
          "base_uri": "https://localhost:8080/",
          "height": 203
        },
        "outputId": "858fdba3-255f-4920-8d6c-6e99b64f6f05"
      },
      "source": [
        "df.loc['baz':'foo']"
      ],
      "execution_count": 35,
      "outputs": [
        {
          "output_type": "execute_result",
          "data": {
            "text/html": [
              "<div>\n",
              "<style scoped>\n",
              "    .dataframe tbody tr th:only-of-type {\n",
              "        vertical-align: middle;\n",
              "    }\n",
              "\n",
              "    .dataframe tbody tr th {\n",
              "        vertical-align: top;\n",
              "    }\n",
              "\n",
              "    .dataframe thead th {\n",
              "        text-align: right;\n",
              "    }\n",
              "</style>\n",
              "<table border=\"1\" class=\"dataframe\">\n",
              "  <thead>\n",
              "    <tr style=\"text-align: right;\">\n",
              "      <th></th>\n",
              "      <th></th>\n",
              "      <th>A</th>\n",
              "      <th>B</th>\n",
              "      <th>C</th>\n",
              "    </tr>\n",
              "    <tr>\n",
              "      <th>first</th>\n",
              "      <th>second</th>\n",
              "      <th></th>\n",
              "      <th></th>\n",
              "      <th></th>\n",
              "    </tr>\n",
              "  </thead>\n",
              "  <tbody>\n",
              "    <tr>\n",
              "      <th rowspan=\"2\" valign=\"top\">baz</th>\n",
              "      <th>one</th>\n",
              "      <td>-0.141978</td>\n",
              "      <td>-0.700530</td>\n",
              "      <td>-0.151257</td>\n",
              "    </tr>\n",
              "    <tr>\n",
              "      <th>two</th>\n",
              "      <td>-0.169572</td>\n",
              "      <td>-0.054556</td>\n",
              "      <td>0.522434</td>\n",
              "    </tr>\n",
              "    <tr>\n",
              "      <th rowspan=\"2\" valign=\"top\">foo</th>\n",
              "      <th>one</th>\n",
              "      <td>-0.689118</td>\n",
              "      <td>-0.050591</td>\n",
              "      <td>0.221417</td>\n",
              "    </tr>\n",
              "    <tr>\n",
              "      <th>two</th>\n",
              "      <td>1.239240</td>\n",
              "      <td>-0.246587</td>\n",
              "      <td>2.426643</td>\n",
              "    </tr>\n",
              "  </tbody>\n",
              "</table>\n",
              "</div>"
            ],
            "text/plain": [
              "                     A         B         C\n",
              "first second                              \n",
              "baz   one    -0.141978 -0.700530 -0.151257\n",
              "      two    -0.169572 -0.054556  0.522434\n",
              "foo   one    -0.689118 -0.050591  0.221417\n",
              "      two     1.239240 -0.246587  2.426643"
            ]
          },
          "metadata": {},
          "execution_count": 35
        }
      ]
    },
    {
      "cell_type": "code",
      "metadata": {
        "id": "DBmSjqwUX8o-",
        "colab": {
          "base_uri": "https://localhost:8080/",
          "height": 203
        },
        "outputId": "415a6e94-c53f-4a6a-c714-5587ac121fb6"
      },
      "source": [
        "df.loc[('baz', 'two'):('qux', 'one')]"
      ],
      "execution_count": 36,
      "outputs": [
        {
          "output_type": "execute_result",
          "data": {
            "text/html": [
              "<div>\n",
              "<style scoped>\n",
              "    .dataframe tbody tr th:only-of-type {\n",
              "        vertical-align: middle;\n",
              "    }\n",
              "\n",
              "    .dataframe tbody tr th {\n",
              "        vertical-align: top;\n",
              "    }\n",
              "\n",
              "    .dataframe thead th {\n",
              "        text-align: right;\n",
              "    }\n",
              "</style>\n",
              "<table border=\"1\" class=\"dataframe\">\n",
              "  <thead>\n",
              "    <tr style=\"text-align: right;\">\n",
              "      <th></th>\n",
              "      <th></th>\n",
              "      <th>A</th>\n",
              "      <th>B</th>\n",
              "      <th>C</th>\n",
              "    </tr>\n",
              "    <tr>\n",
              "      <th>first</th>\n",
              "      <th>second</th>\n",
              "      <th></th>\n",
              "      <th></th>\n",
              "      <th></th>\n",
              "    </tr>\n",
              "  </thead>\n",
              "  <tbody>\n",
              "    <tr>\n",
              "      <th>baz</th>\n",
              "      <th>two</th>\n",
              "      <td>-0.169572</td>\n",
              "      <td>-0.054556</td>\n",
              "      <td>0.522434</td>\n",
              "    </tr>\n",
              "    <tr>\n",
              "      <th rowspan=\"2\" valign=\"top\">foo</th>\n",
              "      <th>one</th>\n",
              "      <td>-0.689118</td>\n",
              "      <td>-0.050591</td>\n",
              "      <td>0.221417</td>\n",
              "    </tr>\n",
              "    <tr>\n",
              "      <th>two</th>\n",
              "      <td>1.239240</td>\n",
              "      <td>-0.246587</td>\n",
              "      <td>2.426643</td>\n",
              "    </tr>\n",
              "    <tr>\n",
              "      <th>qux</th>\n",
              "      <th>one</th>\n",
              "      <td>-0.770613</td>\n",
              "      <td>-0.500756</td>\n",
              "      <td>-1.427324</td>\n",
              "    </tr>\n",
              "  </tbody>\n",
              "</table>\n",
              "</div>"
            ],
            "text/plain": [
              "                     A         B         C\n",
              "first second                              \n",
              "baz   two    -0.169572 -0.054556  0.522434\n",
              "foo   one    -0.689118 -0.050591  0.221417\n",
              "      two     1.239240 -0.246587  2.426643\n",
              "qux   one    -0.770613 -0.500756 -1.427324"
            ]
          },
          "metadata": {},
          "execution_count": 36
        }
      ]
    },
    {
      "cell_type": "code",
      "metadata": {
        "id": "qgOoNAzpYD7H",
        "colab": {
          "base_uri": "https://localhost:8080/",
          "height": 172
        },
        "outputId": "94d29dcf-d0b4-4b6e-99c9-803ef3593ef1"
      },
      "source": [
        "df.loc[('baz', 'two'):'foo']"
      ],
      "execution_count": 37,
      "outputs": [
        {
          "output_type": "execute_result",
          "data": {
            "text/html": [
              "<div>\n",
              "<style scoped>\n",
              "    .dataframe tbody tr th:only-of-type {\n",
              "        vertical-align: middle;\n",
              "    }\n",
              "\n",
              "    .dataframe tbody tr th {\n",
              "        vertical-align: top;\n",
              "    }\n",
              "\n",
              "    .dataframe thead th {\n",
              "        text-align: right;\n",
              "    }\n",
              "</style>\n",
              "<table border=\"1\" class=\"dataframe\">\n",
              "  <thead>\n",
              "    <tr style=\"text-align: right;\">\n",
              "      <th></th>\n",
              "      <th></th>\n",
              "      <th>A</th>\n",
              "      <th>B</th>\n",
              "      <th>C</th>\n",
              "    </tr>\n",
              "    <tr>\n",
              "      <th>first</th>\n",
              "      <th>second</th>\n",
              "      <th></th>\n",
              "      <th></th>\n",
              "      <th></th>\n",
              "    </tr>\n",
              "  </thead>\n",
              "  <tbody>\n",
              "    <tr>\n",
              "      <th>baz</th>\n",
              "      <th>two</th>\n",
              "      <td>-0.169572</td>\n",
              "      <td>-0.054556</td>\n",
              "      <td>0.522434</td>\n",
              "    </tr>\n",
              "    <tr>\n",
              "      <th rowspan=\"2\" valign=\"top\">foo</th>\n",
              "      <th>one</th>\n",
              "      <td>-0.689118</td>\n",
              "      <td>-0.050591</td>\n",
              "      <td>0.221417</td>\n",
              "    </tr>\n",
              "    <tr>\n",
              "      <th>two</th>\n",
              "      <td>1.239240</td>\n",
              "      <td>-0.246587</td>\n",
              "      <td>2.426643</td>\n",
              "    </tr>\n",
              "  </tbody>\n",
              "</table>\n",
              "</div>"
            ],
            "text/plain": [
              "                     A         B         C\n",
              "first second                              \n",
              "baz   two    -0.169572 -0.054556  0.522434\n",
              "foo   one    -0.689118 -0.050591  0.221417\n",
              "      two     1.239240 -0.246587  2.426643"
            ]
          },
          "metadata": {},
          "execution_count": 37
        }
      ]
    },
    {
      "cell_type": "code",
      "metadata": {
        "id": "IGfOihDVYGVa",
        "colab": {
          "base_uri": "https://localhost:8080/",
          "height": 142
        },
        "outputId": "27a5971a-95ab-4d49-b315-1eb5fe83000c"
      },
      "source": [
        "df.loc[[('bar', 'two'), ('qux', 'one')]]"
      ],
      "execution_count": 38,
      "outputs": [
        {
          "output_type": "execute_result",
          "data": {
            "text/html": [
              "<div>\n",
              "<style scoped>\n",
              "    .dataframe tbody tr th:only-of-type {\n",
              "        vertical-align: middle;\n",
              "    }\n",
              "\n",
              "    .dataframe tbody tr th {\n",
              "        vertical-align: top;\n",
              "    }\n",
              "\n",
              "    .dataframe thead th {\n",
              "        text-align: right;\n",
              "    }\n",
              "</style>\n",
              "<table border=\"1\" class=\"dataframe\">\n",
              "  <thead>\n",
              "    <tr style=\"text-align: right;\">\n",
              "      <th></th>\n",
              "      <th></th>\n",
              "      <th>A</th>\n",
              "      <th>B</th>\n",
              "      <th>C</th>\n",
              "    </tr>\n",
              "    <tr>\n",
              "      <th>first</th>\n",
              "      <th>second</th>\n",
              "      <th></th>\n",
              "      <th></th>\n",
              "      <th></th>\n",
              "    </tr>\n",
              "  </thead>\n",
              "  <tbody>\n",
              "    <tr>\n",
              "      <th>bar</th>\n",
              "      <th>two</th>\n",
              "      <td>-0.421488</td>\n",
              "      <td>-0.452989</td>\n",
              "      <td>0.615003</td>\n",
              "    </tr>\n",
              "    <tr>\n",
              "      <th>qux</th>\n",
              "      <th>one</th>\n",
              "      <td>-0.770613</td>\n",
              "      <td>-0.500756</td>\n",
              "      <td>-1.427324</td>\n",
              "    </tr>\n",
              "  </tbody>\n",
              "</table>\n",
              "</div>"
            ],
            "text/plain": [
              "                     A         B         C\n",
              "first second                              \n",
              "bar   two    -0.421488 -0.452989  0.615003\n",
              "qux   one    -0.770613 -0.500756 -1.427324"
            ]
          },
          "metadata": {},
          "execution_count": 38
        }
      ]
    },
    {
      "cell_type": "code",
      "metadata": {
        "id": "Vok1KSrhWVt7",
        "colab": {
          "base_uri": "https://localhost:8080/"
        },
        "outputId": "5d55a20d-6b28-4364-a275-21d29af97fce"
      },
      "source": [
        "arrays = [np.array(['bar', 'bar', 'baz', 'baz', 'foo', 'foo', 'qux', 'qux']),\n",
        "           np.array(['one', 'two', 'one', 'two', 'one', 'two', 'one', 'two'])]\n",
        " \n",
        "\n",
        "s = pd.Series(np.random.randn(8), index=arrays)\n",
        "s"
      ],
      "execution_count": 39,
      "outputs": [
        {
          "output_type": "execute_result",
          "data": {
            "text/plain": [
              "bar  one   -0.712047\n",
              "     two   -0.266859\n",
              "baz  one    1.168848\n",
              "     two   -2.489449\n",
              "foo  one    0.972739\n",
              "     two   -1.542257\n",
              "qux  one    1.562117\n",
              "     two    0.575460\n",
              "dtype: float64"
            ]
          },
          "metadata": {},
          "execution_count": 39
        }
      ]
    },
    {
      "cell_type": "code",
      "metadata": {
        "id": "zgRw3HE2WXWZ",
        "colab": {
          "base_uri": "https://localhost:8080/"
        },
        "outputId": "730d2754-d325-48dd-8c79-cbbb2580a9b9"
      },
      "source": [
        "s['qux']"
      ],
      "execution_count": 40,
      "outputs": [
        {
          "output_type": "execute_result",
          "data": {
            "text/plain": [
              "one    1.562117\n",
              "two    0.575460\n",
              "dtype: float64"
            ]
          },
          "metadata": {},
          "execution_count": 40
        }
      ]
    }
  ]
}